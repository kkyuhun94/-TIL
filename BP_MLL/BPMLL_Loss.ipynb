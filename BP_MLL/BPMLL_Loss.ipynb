{
 "cells": [
  {
   "cell_type": "code",
   "execution_count": 2,
   "metadata": {},
   "outputs": [],
   "source": [
    "import torch\n",
    "import torch.nn as nn"
   ]
  },
  {
   "cell_type": "code",
   "execution_count": 3,
   "metadata": {},
   "outputs": [],
   "source": [
    "class Model(nn.Module):\n",
    "    \n",
    "    def __init__(self, num_features, hid_dim, Q):\n",
    "        super().__init__()\n",
    "        self.layer1 = nn.Linear(num_features, hid_dim, )\n",
    "        self.layer2 = nn.Linear(hid_dim, Q)\n",
    "        \n",
    "    def forward(self, x):\n",
    "        out = torch.tanh(self.layer1(x))\n",
    "        return torch.tanh(self.layer2(out))"
   ]
  },
  {
   "cell_type": "code",
   "execution_count": 4,
   "metadata": {},
   "outputs": [],
   "source": [
    "model = Model(784, 128, 5)"
   ]
  },
  {
   "cell_type": "code",
   "execution_count": 5,
   "metadata": {},
   "outputs": [],
   "source": [
    "bsz = 32\n",
    "pred = model(torch.randn(32, 784))"
   ]
  },
  {
   "cell_type": "code",
   "execution_count": 6,
   "metadata": {},
   "outputs": [
    {
     "data": {
      "text/plain": [
       "tensor([ 0.0908, -0.4472, -0.3893,  0.0318, -0.1661], grad_fn=<SelectBackward>)"
      ]
     },
     "execution_count": 6,
     "metadata": {},
     "output_type": "execute_result"
    }
   ],
   "source": [
    "pred[0]"
   ]
  },
  {
   "cell_type": "code",
   "execution_count": 7,
   "metadata": {},
   "outputs": [],
   "source": [
    "target = torch.LongTensor(32, 5).random_(2)\n",
    "target[target == 0] = -1"
   ]
  },
  {
   "cell_type": "code",
   "execution_count": 8,
   "metadata": {},
   "outputs": [
    {
     "data": {
      "text/plain": [
       "tensor([ 1,  1,  1, -1, -1])"
      ]
     },
     "execution_count": 8,
     "metadata": {},
     "output_type": "execute_result"
    }
   ],
   "source": [
    "target[0]"
   ]
  },
  {
   "cell_type": "code",
   "execution_count": 9,
   "metadata": {},
   "outputs": [],
   "source": [
    "x = torch.LongTensor(32, 5).random_(10)"
   ]
  },
  {
   "cell_type": "code",
   "execution_count": 10,
   "metadata": {},
   "outputs": [
    {
     "data": {
      "text/plain": [
       "torch.Size([32, 5])"
      ]
     },
     "execution_count": 10,
     "metadata": {},
     "output_type": "execute_result"
    }
   ],
   "source": [
    "(target == 1).size()"
   ]
  },
  {
   "cell_type": "code",
   "execution_count": 11,
   "metadata": {},
   "outputs": [
    {
     "data": {
      "text/plain": [
       "tensor([ 0.0908, -0.4472, -0.3893,  0.0318, -0.1661], grad_fn=<SelectBackward>)"
      ]
     },
     "execution_count": 11,
     "metadata": {},
     "output_type": "execute_result"
    }
   ],
   "source": [
    "pred[0]"
   ]
  },
  {
   "cell_type": "code",
   "execution_count": 12,
   "metadata": {},
   "outputs": [
    {
     "data": {
      "text/plain": [
       "tensor([ 1,  1,  1, -1, -1])"
      ]
     },
     "execution_count": 12,
     "metadata": {},
     "output_type": "execute_result"
    }
   ],
   "source": [
    "target[0]"
   ]
  },
  {
   "cell_type": "code",
   "execution_count": 13,
   "metadata": {},
   "outputs": [
    {
     "data": {
      "text/plain": [
       "tensor([ 0.0908, -0.4472, -0.3893], grad_fn=<IndexBackward>)"
      ]
     },
     "execution_count": 13,
     "metadata": {},
     "output_type": "execute_result"
    }
   ],
   "source": [
    "Y = pred[0][target[0] == 1]\n",
    "Y"
   ]
  },
  {
   "cell_type": "code",
   "execution_count": 14,
   "metadata": {},
   "outputs": [
    {
     "data": {
      "text/plain": [
       "tensor([ 0.0318, -0.1661], grad_fn=<IndexBackward>)"
      ]
     },
     "execution_count": 14,
     "metadata": {},
     "output_type": "execute_result"
    }
   ],
   "source": [
    "Y_bar = pred[0][target[0] != 1]\n",
    "Y_bar"
   ]
  },
  {
   "cell_type": "code",
   "execution_count": 16,
   "metadata": {},
   "outputs": [],
   "source": [
    "import numpy as np"
   ]
  },
  {
   "cell_type": "code",
   "execution_count": 31,
   "metadata": {},
   "outputs": [
    {
     "data": {
      "text/plain": [
       "tensor([[ 0.0908,  0.0318],\n",
       "        [ 0.0908, -0.1661],\n",
       "        [-0.4472,  0.0318],\n",
       "        [-0.4472, -0.1661],\n",
       "        [-0.3893,  0.0318],\n",
       "        [-0.3893, -0.1661]], grad_fn=<StackBackward>)"
      ]
     },
     "execution_count": 31,
     "metadata": {},
     "output_type": "execute_result"
    }
   ],
   "source": [
    "torch.cartesian_prod(Y, Y_bar)"
   ]
  },
  {
   "cell_type": "code",
   "execution_count": 37,
   "metadata": {},
   "outputs": [
    {
     "data": {
      "text/plain": [
       "6"
      ]
     },
     "execution_count": 37,
     "metadata": {},
     "output_type": "execute_result"
    }
   ],
   "source": []
  },
  {
   "cell_type": "code",
   "execution_count": 39,
   "metadata": {},
   "outputs": [
    {
     "data": {
      "text/plain": [
       "tensor(0.8640, grad_fn=<DivBackward0>)"
      ]
     },
     "execution_count": 39,
     "metadata": {},
     "output_type": "execute_result"
    }
   ],
   "source": [
    "sum(torch.exp(torch.cartesian_prod(Y, -Y_bar).sum(dim=-1)))/ len(torch.cartesian_prod(Y, Y_bar))"
   ]
  },
  {
   "cell_type": "code",
   "execution_count": 40,
   "metadata": {
    "scrolled": true
   },
   "outputs": [
    {
     "data": {
      "text/plain": [
       "tensor([[ 1,  1,  1, -1, -1],\n",
       "        [-1,  1, -1, -1,  1],\n",
       "        [ 1, -1,  1,  1, -1],\n",
       "        [-1, -1,  1, -1,  1],\n",
       "        [-1, -1,  1,  1,  1],\n",
       "        [ 1,  1, -1, -1,  1],\n",
       "        [-1,  1, -1,  1,  1],\n",
       "        [-1, -1,  1,  1,  1],\n",
       "        [-1, -1,  1,  1, -1],\n",
       "        [-1,  1, -1,  1,  1],\n",
       "        [ 1,  1, -1, -1, -1],\n",
       "        [-1, -1,  1,  1,  1],\n",
       "        [-1,  1,  1, -1,  1],\n",
       "        [ 1, -1,  1, -1,  1],\n",
       "        [ 1,  1, -1,  1, -1],\n",
       "        [ 1, -1, -1, -1,  1],\n",
       "        [-1, -1,  1,  1, -1],\n",
       "        [-1, -1,  1, -1, -1],\n",
       "        [-1, -1, -1, -1,  1],\n",
       "        [ 1,  1,  1,  1, -1],\n",
       "        [-1,  1, -1, -1, -1],\n",
       "        [ 1, -1,  1, -1,  1],\n",
       "        [-1,  1, -1,  1,  1],\n",
       "        [ 1,  1, -1,  1,  1],\n",
       "        [ 1, -1,  1,  1,  1],\n",
       "        [ 1,  1,  1, -1,  1],\n",
       "        [-1, -1,  1,  1,  1],\n",
       "        [-1,  1,  1, -1,  1],\n",
       "        [ 1, -1, -1,  1,  1],\n",
       "        [-1,  1,  1,  1, -1],\n",
       "        [-1, -1, -1,  1, -1],\n",
       "        [-1,  1,  1, -1, -1]])"
      ]
     },
     "execution_count": 40,
     "metadata": {},
     "output_type": "execute_result"
    }
   ],
   "source": [
    "target"
   ]
  },
  {
   "cell_type": "code",
   "execution_count": 43,
   "metadata": {},
   "outputs": [
    {
     "data": {
      "text/plain": [
       "32"
      ]
     },
     "execution_count": 43,
     "metadata": {},
     "output_type": "execute_result"
    }
   ],
   "source": [
    "len(target)"
   ]
  },
  {
   "cell_type": "code",
   "execution_count": 49,
   "metadata": {},
   "outputs": [],
   "source": [
    "pred = model(torch.randn(32, 784))"
   ]
  },
  {
   "cell_type": "code",
   "execution_count": 60,
   "metadata": {},
   "outputs": [],
   "source": [
    "target = torch.LongTensor(32, 5).random_(2)\n",
    "target[target == 0] = -1\n",
    "\n",
    "# division zero 해결을 위한 전처리 offset\n",
    "target[:, -2] = 1\n",
    "target[:, -1] = -1"
   ]
  },
  {
   "cell_type": "code",
   "execution_count": 48,
   "metadata": {
    "scrolled": true
   },
   "outputs": [
    {
     "name": "stdout",
     "output_type": "stream",
     "text": [
      "tensor(0.8640, grad_fn=<DivBackward0>)\n",
      "tensor(1.0888, grad_fn=<DivBackward0>)\n",
      "tensor(0.6826, grad_fn=<DivBackward0>)\n",
      "tensor(0.8377, grad_fn=<DivBackward0>)\n",
      "tensor(1.5775, grad_fn=<DivBackward0>)\n",
      "tensor(1.0015, grad_fn=<DivBackward0>)\n",
      "tensor(1.2708, grad_fn=<DivBackward0>)\n",
      "tensor(0.6839, grad_fn=<DivBackward0>)\n",
      "tensor(1.0860, grad_fn=<DivBackward0>)\n",
      "tensor(0.7861, grad_fn=<DivBackward0>)\n",
      "tensor(0.9061, grad_fn=<DivBackward0>)\n",
      "tensor(1.0976, grad_fn=<DivBackward0>)\n",
      "tensor(0.7878, grad_fn=<DivBackward0>)\n",
      "tensor(1.4885, grad_fn=<DivBackward0>)\n",
      "tensor(1.0190, grad_fn=<DivBackward0>)\n",
      "tensor(0.9869, grad_fn=<DivBackward0>)\n",
      "tensor(1.5468, grad_fn=<DivBackward0>)\n",
      "tensor(0.7161, grad_fn=<DivBackward0>)\n",
      "tensor(0.6136, grad_fn=<DivBackward0>)\n",
      "tensor(0.9594, grad_fn=<DivBackward0>)\n",
      "tensor(0.7292, grad_fn=<DivBackward0>)\n",
      "tensor(0.8682, grad_fn=<DivBackward0>)\n",
      "tensor(1.0440, grad_fn=<DivBackward0>)\n",
      "tensor(0.9366, grad_fn=<DivBackward0>)\n",
      "tensor(1.5584, grad_fn=<DivBackward0>)\n",
      "tensor(0.8680, grad_fn=<DivBackward0>)\n",
      "tensor(1.1884, grad_fn=<DivBackward0>)\n",
      "tensor(0.9681, grad_fn=<DivBackward0>)\n",
      "tensor(1.0657, grad_fn=<DivBackward0>)\n",
      "tensor(0.7298, grad_fn=<DivBackward0>)\n",
      "tensor(1.1029, grad_fn=<DivBackward0>)\n",
      "tensor(1.1407, grad_fn=<DivBackward0>)\n",
      "loss :  tensor(32.2007, grad_fn=<AddBackward0>)\n"
     ]
    }
   ],
   "source": [
    "# BP_MLL loss \n",
    "loss_sum = 0\n",
    "for i in range(len(target)) : \n",
    "    Y = pred[i][target[i] == 1]\n",
    "    Y_bar = pred[i][target[i] != 1]\n",
    "    loss = sum(torch.exp(torch.cartesian_prod(Y, -Y_bar).sum(dim=-1)))/ len(torch.cartesian_prod(Y, Y_bar))\n",
    "    loss_sum += loss\n",
    "    print(loss)\n",
    "print('loss : ',loss_sum)"
   ]
  },
  {
   "cell_type": "code",
   "execution_count": 61,
   "metadata": {},
   "outputs": [],
   "source": [
    "class BPMLLLoss(nn.Module):\n",
    "\n",
    "    def __init__(self, size_average=None, reduce=None, reduction='mean'):\n",
    "        super().__init__()\n",
    "        if size_average is not None or reduce is not None:\n",
    "            self.reduction = _Reduction.legacy_get_string(size_average, reduce)\n",
    "        else:\n",
    "            self.reduction = reduction\n",
    "\n",
    "    def forward(self, input, target):\n",
    "        # https://cs.nju.edu.cn/zhouzh/zhouzh.files/publication/tkde06a.pdf\n",
    "        # input's shape is (bsz, Q)\n",
    "        # target's shape is (bsz, Q)\n",
    "        # target's unique value is in [-1, 1]\n",
    "        # \n",
    "        loss_sum = 0\n",
    "        for i in range(len(target)) : \n",
    "            Y = input[i][target[i] == 1]\n",
    "            Y_bar = input[i][target[i] != 1]\n",
    "            loss = sum(torch.exp(-torch.cartesian_prod(Y, -Y_bar).sum(dim=-1)))/ len(torch.cartesian_prod(Y, Y_bar))\n",
    "            loss_sum += loss\n",
    "        return loss_sum\n",
    "        "
   ]
  },
  {
   "cell_type": "code",
   "execution_count": 62,
   "metadata": {},
   "outputs": [],
   "source": [
    "criterion = BPMLLLoss()"
   ]
  },
  {
   "cell_type": "code",
   "execution_count": 63,
   "metadata": {
    "scrolled": true
   },
   "outputs": [
    {
     "data": {
      "text/plain": [
       "tensor(33.1967, grad_fn=<AddBackward0>)"
      ]
     },
     "execution_count": 63,
     "metadata": {},
     "output_type": "execute_result"
    }
   ],
   "source": [
    "criterion(pred, target)"
   ]
  },
  {
   "cell_type": "code",
   "execution_count": null,
   "metadata": {},
   "outputs": [],
   "source": []
  }
 ],
 "metadata": {
  "kernelspec": {
   "display_name": "Python 3",
   "language": "python",
   "name": "python3"
  },
  "language_info": {
   "codemirror_mode": {
    "name": "ipython",
    "version": 3
   },
   "file_extension": ".py",
   "mimetype": "text/x-python",
   "name": "python",
   "nbconvert_exporter": "python",
   "pygments_lexer": "ipython3",
   "version": "3.8.3"
  }
 },
 "nbformat": 4,
 "nbformat_minor": 2
}
