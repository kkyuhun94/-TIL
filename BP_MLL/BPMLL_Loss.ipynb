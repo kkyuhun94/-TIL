{
 "cells": [
  {
   "cell_type": "code",
   "execution_count": 1,
   "metadata": {},
   "outputs": [],
   "source": [
    "import torch\n",
    "import torch.nn as nn"
   ]
  },
  {
   "cell_type": "markdown",
   "metadata": {},
   "source": [
    "### "
   ]
  },
  {
   "cell_type": "code",
   "execution_count": 2,
   "metadata": {},
   "outputs": [],
   "source": [
    "# 모델은 Q개의 label을 출력\n",
    "# 논문 상에서 activate function은 tanh\n",
    "class Model(nn.Module):\n",
    "    \n",
    "    def __init__(self, num_features, hid_dim, Q):\n",
    "        super().__init__()\n",
    "        self.layer1 = nn.Linear(num_features, hid_dim, )\n",
    "        self.layer2 = nn.Linear(hid_dim, Q)\n",
    "        \n",
    "    def forward(self, x):\n",
    "        out = torch.tanh(self.layer1(x))\n",
    "        return torch.tanh(self.layer2(out))"
   ]
  },
  {
   "cell_type": "code",
   "execution_count": 8,
   "metadata": {},
   "outputs": [],
   "source": [
    "bsz = 32\n",
    "model = Model(784,100,5)"
   ]
  },
  {
   "cell_type": "markdown",
   "metadata": {},
   "source": [
    "### Sample data\n",
    "loss 구현을 위한 sample data 생성"
   ]
  },
  {
   "cell_type": "code",
   "execution_count": 11,
   "metadata": {},
   "outputs": [],
   "source": [
    "# pred는 -1~1사이의 실수(tanh이므로)\n",
    "pred = model(torch.randn(32, 784))\n",
    "pred.size()"
   ]
  },
  {
   "cell_type": "code",
   "execution_count": 13,
   "metadata": {},
   "outputs": [],
   "source": [
    "# target은 1과 -1로 이루어짐\n",
    "target = torch.LongTensor(32, 5).random_(2)\n",
    "target[target == 0] = -1"
   ]
  },
  {
   "cell_type": "code",
   "execution_count": 12,
   "metadata": {},
   "outputs": [
    {
     "data": {
      "text/plain": [
       "tensor([-2.2813e-01, -8.6457e-02, -2.6944e-04,  4.8055e-01,  1.1362e-03],\n",
       "       grad_fn=<SelectBackward>)"
      ]
     },
     "execution_count": 12,
     "metadata": {},
     "output_type": "execute_result"
    }
   ],
   "source": [
    "pred[0]"
   ]
  },
  {
   "cell_type": "code",
   "execution_count": 21,
   "metadata": {
    "scrolled": true
   },
   "outputs": [
    {
     "data": {
      "text/plain": [
       "tensor([-1, -1,  1, -1,  1])"
      ]
     },
     "execution_count": 21,
     "metadata": {},
     "output_type": "execute_result"
    }
   ],
   "source": [
    "target[0]"
   ]
  },
  {
   "cell_type": "code",
   "execution_count": 22,
   "metadata": {
    "scrolled": true
   },
   "outputs": [
    {
     "data": {
      "text/plain": [
       "torch.Size([32, 5])"
      ]
     },
     "execution_count": 22,
     "metadata": {},
     "output_type": "execute_result"
    }
   ],
   "source": [
    "(target == 1).size()"
   ]
  },
  {
   "cell_type": "markdown",
   "metadata": {},
   "source": [
    "## BP-MLL Loss  \n",
    "$E = \\sum_{i=1}^{m}{\\frac{1}{|Y_i||{\\bar Y}_i|}} $\n",
    "$\\sum_{(k,l)∈Y_i×\\bar Y_i}{exp(−(c_k^i − c_l^i))}$\n",
    " "
   ]
  },
  {
   "cell_type": "markdown",
   "metadata": {},
   "source": [
    "### 하나의 인스턴스로 일단 수식을 구현"
   ]
  },
  {
   "cell_type": "code",
   "execution_count": 23,
   "metadata": {},
   "outputs": [
    {
     "data": {
      "text/plain": [
       "tensor([-2.2813e-01, -8.6457e-02, -2.6944e-04,  4.8055e-01,  1.1362e-03],\n",
       "       grad_fn=<SelectBackward>)"
      ]
     },
     "execution_count": 23,
     "metadata": {},
     "output_type": "execute_result"
    }
   ],
   "source": [
    "# 첫번째 인스턴스\n",
    "pred[0]"
   ]
  },
  {
   "cell_type": "code",
   "execution_count": 24,
   "metadata": {},
   "outputs": [
    {
     "data": {
      "text/plain": [
       "tensor([-1, -1,  1, -1,  1])"
      ]
     },
     "execution_count": 24,
     "metadata": {},
     "output_type": "execute_result"
    }
   ],
   "source": [
    "target[0]"
   ]
  },
  {
   "cell_type": "code",
   "execution_count": 25,
   "metadata": {},
   "outputs": [
    {
     "data": {
      "text/plain": [
       "tensor([-0.0003,  0.0011], grad_fn=<IndexBackward>)"
      ]
     },
     "execution_count": 25,
     "metadata": {},
     "output_type": "execute_result"
    }
   ],
   "source": [
    "# Y는 target이 1인 것\n",
    "Y = pred[0][target[0] == 1]\n",
    "Y"
   ]
  },
  {
   "cell_type": "code",
   "execution_count": 26,
   "metadata": {},
   "outputs": [
    {
     "data": {
      "text/plain": [
       "tensor([-0.2281, -0.0865,  0.4805], grad_fn=<IndexBackward>)"
      ]
     },
     "execution_count": 26,
     "metadata": {},
     "output_type": "execute_result"
    }
   ],
   "source": [
    "# Y_bar는 target이 -1인 것 \n",
    "Y_bar = pred[0][target[0] != 1]\n",
    "Y_bar"
   ]
  },
  {
   "cell_type": "code",
   "execution_count": 27,
   "metadata": {},
   "outputs": [
    {
     "data": {
      "text/plain": [
       "tensor([[-2.6944e-04, -2.2813e-01],\n",
       "        [-2.6944e-04, -8.6457e-02],\n",
       "        [-2.6944e-04,  4.8055e-01],\n",
       "        [ 1.1362e-03, -2.2813e-01],\n",
       "        [ 1.1362e-03, -8.6457e-02],\n",
       "        [ 1.1362e-03,  4.8055e-01]], grad_fn=<StackBackward>)"
      ]
     },
     "execution_count": 27,
     "metadata": {},
     "output_type": "execute_result"
    }
   ],
   "source": [
    "# cartesian_product -> (ck,cl) 쌍을 생성 \n",
    "torch.cartesian_prod(Y, Y_bar)"
   ]
  },
  {
   "cell_type": "code",
   "execution_count": 31,
   "metadata": {},
   "outputs": [
    {
     "data": {
      "text/plain": [
       "tensor(5.9274, grad_fn=<AddBackward0>)"
      ]
     },
     "execution_count": 31,
     "metadata": {},
     "output_type": "execute_result"
    }
   ],
   "source": [
    "# Sum(exp(-(ck-cl)))\n",
    "sum(torch.exp(-torch.cartesian_prod(Y, Y_bar).sum(dim=-1)))"
   ]
  },
  {
   "cell_type": "code",
   "execution_count": 35,
   "metadata": {},
   "outputs": [
    {
     "data": {
      "text/plain": [
       "tensor(0.9888, grad_fn=<DivBackward0>)"
      ]
     },
     "execution_count": 35,
     "metadata": {},
     "output_type": "execute_result"
    }
   ],
   "source": [
    "# BP-MLL loss \n",
    "sum(torch.exp(torch.cartesian_prod(Y, -Y_bar).sum(dim=-1)))/len(torch.cartesian_prod(Y, Y_bar)) \n",
    "                                                                # 카르테지안의 경우의수가 |Y||Y_bar|"
   ]
  },
  {
   "cell_type": "markdown",
   "metadata": {},
   "source": [
    "### 전체 인스턴스를 계산할 수 있도록 loss 구현"
   ]
  },
  {
   "cell_type": "code",
   "execution_count": 37,
   "metadata": {},
   "outputs": [],
   "source": [
    "pred = model(torch.randn(32, 784))"
   ]
  },
  {
   "cell_type": "code",
   "execution_count": 38,
   "metadata": {},
   "outputs": [],
   "source": [
    "target = torch.LongTensor(32, 5).random_(2)\n",
    "target[target == 0] = -1\n",
    "\n",
    "# division zero 해결을 위한 전처리 offset. 강제로 각 인스턴스의 마지막에 -1과 1을 포함하도록 만듬..\n",
    "target[:, -2] = 1      \n",
    "target[:, -1] = -1"
   ]
  },
  {
   "cell_type": "code",
   "execution_count": 40,
   "metadata": {},
   "outputs": [
    {
     "data": {
      "text/plain": [
       "tensor([[-1,  1, -1,  1, -1],\n",
       "        [ 1, -1, -1,  1, -1],\n",
       "        [-1,  1, -1,  1, -1],\n",
       "        [ 1,  1, -1,  1, -1],\n",
       "        [-1, -1,  1,  1, -1],\n",
       "        [ 1,  1,  1,  1, -1],\n",
       "        [ 1, -1,  1,  1, -1],\n",
       "        [ 1, -1, -1,  1, -1],\n",
       "        [ 1,  1, -1,  1, -1],\n",
       "        [ 1, -1,  1,  1, -1],\n",
       "        [ 1,  1,  1,  1, -1],\n",
       "        [ 1, -1, -1,  1, -1],\n",
       "        [-1, -1,  1,  1, -1],\n",
       "        [ 1,  1,  1,  1, -1],\n",
       "        [-1, -1, -1,  1, -1],\n",
       "        [-1,  1,  1,  1, -1],\n",
       "        [-1,  1, -1,  1, -1],\n",
       "        [-1,  1, -1,  1, -1],\n",
       "        [ 1, -1, -1,  1, -1],\n",
       "        [ 1, -1,  1,  1, -1],\n",
       "        [ 1, -1,  1,  1, -1],\n",
       "        [ 1,  1,  1,  1, -1],\n",
       "        [-1, -1, -1,  1, -1],\n",
       "        [-1,  1, -1,  1, -1],\n",
       "        [-1, -1, -1,  1, -1],\n",
       "        [-1,  1, -1,  1, -1],\n",
       "        [ 1,  1,  1,  1, -1],\n",
       "        [-1, -1, -1,  1, -1],\n",
       "        [ 1, -1,  1,  1, -1],\n",
       "        [-1,  1, -1,  1, -1],\n",
       "        [-1,  1,  1,  1, -1],\n",
       "        [ 1,  1,  1,  1, -1]])"
      ]
     },
     "execution_count": 40,
     "metadata": {},
     "output_type": "execute_result"
    }
   ],
   "source": [
    "target"
   ]
  },
  {
   "cell_type": "code",
   "execution_count": 41,
   "metadata": {
    "scrolled": false
   },
   "outputs": [
    {
     "name": "stdout",
     "output_type": "stream",
     "text": [
      "tensor(1.1303, grad_fn=<DivBackward0>)\n",
      "tensor(0.7542, grad_fn=<DivBackward0>)\n",
      "tensor(1.0558, grad_fn=<DivBackward0>)\n",
      "tensor(1.2187, grad_fn=<DivBackward0>)\n",
      "tensor(0.6552, grad_fn=<DivBackward0>)\n",
      "tensor(0.8923, grad_fn=<DivBackward0>)\n",
      "tensor(1.1526, grad_fn=<DivBackward0>)\n",
      "tensor(0.7676, grad_fn=<DivBackward0>)\n",
      "tensor(0.7911, grad_fn=<DivBackward0>)\n",
      "tensor(1.1053, grad_fn=<DivBackward0>)\n",
      "tensor(1.1520, grad_fn=<DivBackward0>)\n",
      "tensor(0.8414, grad_fn=<DivBackward0>)\n",
      "tensor(1.2720, grad_fn=<DivBackward0>)\n",
      "tensor(1.0303, grad_fn=<DivBackward0>)\n",
      "tensor(1.3211, grad_fn=<DivBackward0>)\n",
      "tensor(1.1845, grad_fn=<DivBackward0>)\n",
      "tensor(1.0706, grad_fn=<DivBackward0>)\n",
      "tensor(0.6839, grad_fn=<DivBackward0>)\n",
      "tensor(1.0162, grad_fn=<DivBackward0>)\n",
      "tensor(1.0522, grad_fn=<DivBackward0>)\n",
      "tensor(0.7982, grad_fn=<DivBackward0>)\n",
      "tensor(0.5337, grad_fn=<DivBackward0>)\n",
      "tensor(1.1568, grad_fn=<DivBackward0>)\n",
      "tensor(1.3675, grad_fn=<DivBackward0>)\n",
      "tensor(1.3487, grad_fn=<DivBackward0>)\n",
      "tensor(1.0400, grad_fn=<DivBackward0>)\n",
      "tensor(1.5754, grad_fn=<DivBackward0>)\n",
      "tensor(0.7877, grad_fn=<DivBackward0>)\n",
      "tensor(1.0803, grad_fn=<DivBackward0>)\n",
      "tensor(1.0531, grad_fn=<DivBackward0>)\n",
      "tensor(1.2518, grad_fn=<DivBackward0>)\n",
      "tensor(1.4377, grad_fn=<DivBackward0>)\n",
      "BP_MLL loss :  tensor(33.5780, grad_fn=<AddBackward0>)\n"
     ]
    }
   ],
   "source": [
    "# BP_MLL loss \n",
    "loss_sum = 0\n",
    "for i in range(len(target)) : \n",
    "    Y = pred[i][target[i] == 1]\n",
    "    Y_bar = pred[i][target[i] != 1]\n",
    "    loss = sum(torch.exp(torch.cartesian_prod(Y, -Y_bar).sum(dim=-1)))/ len(torch.cartesian_prod(Y, Y_bar))\n",
    "    loss_sum += loss\n",
    "    print(loss)\n",
    "print('BP_MLL loss : ',loss_sum)"
   ]
  },
  {
   "cell_type": "markdown",
   "metadata": {},
   "source": [
    "### loss함수로 사용할 수 있도록 구현 "
   ]
  },
  {
   "cell_type": "code",
   "execution_count": 42,
   "metadata": {},
   "outputs": [],
   "source": [
    "class BPMLLLoss(nn.Module):\n",
    "\n",
    "    def __init__(self, size_average=None, reduce=None, reduction='mean'):\n",
    "        super().__init__()\n",
    "        if size_average is not None or reduce is not None:\n",
    "            self.reduction = _Reduction.legacy_get_string(size_average, reduce)\n",
    "        else:\n",
    "            self.reduction = reduction\n",
    "\n",
    "    def forward(self, input, target):\n",
    "        # https://cs.nju.edu.cn/zhouzh/zhouzh.files/publication/tkde06a.pdf\n",
    "        # input's shape is (bsz, Q)\n",
    "        # target's shape is (bsz, Q)\n",
    "        # target's unique value is in [-1, 1]\n",
    "    \n",
    "        loss_sum = 0\n",
    "        for i in range(len(target)) : \n",
    "            Y = input[i][target[i] == 1]\n",
    "            Y_bar = input[i][target[i] != 1]\n",
    "            loss = sum(torch.exp(-torch.cartesian_prod(Y, -Y_bar).sum(dim=-1)))/ len(torch.cartesian_prod(Y, Y_bar))\n",
    "            loss_sum += loss\n",
    "        return loss_sum\n",
    "        "
   ]
  },
  {
   "cell_type": "code",
   "execution_count": 43,
   "metadata": {},
   "outputs": [],
   "source": [
    "criterion = BPMLLLoss()"
   ]
  },
  {
   "cell_type": "code",
   "execution_count": 45,
   "metadata": {
    "scrolled": true
   },
   "outputs": [
    {
     "data": {
      "text/plain": [
       "tensor(35.0952, grad_fn=<AddBackward0>)"
      ]
     },
     "execution_count": 45,
     "metadata": {},
     "output_type": "execute_result"
    }
   ],
   "source": [
    "criterion(pred, target)"
   ]
  },
  {
   "cell_type": "code",
   "execution_count": null,
   "metadata": {},
   "outputs": [],
   "source": []
  }
 ],
 "metadata": {
  "kernelspec": {
   "display_name": "Python 3",
   "language": "python",
   "name": "python3"
  },
  "language_info": {
   "codemirror_mode": {
    "name": "ipython",
    "version": 3
   },
   "file_extension": ".py",
   "mimetype": "text/x-python",
   "name": "python",
   "nbconvert_exporter": "python",
   "pygments_lexer": "ipython3",
   "version": "3.8.3"
  }
 },
 "nbformat": 4,
 "nbformat_minor": 2
}
