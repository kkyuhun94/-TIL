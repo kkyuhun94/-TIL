{
 "cells": [
  {
   "cell_type": "code",
   "execution_count": 7,
   "metadata": {},
   "outputs": [],
   "source": [
    "import torch\n",
    "import torch.nn as nn\n",
    "import torch.optim as optim"
   ]
  },
  {
   "cell_type": "code",
   "execution_count": 2,
   "metadata": {},
   "outputs": [],
   "source": [
    "# 모델은 Q개의 label을 출력\n",
    "# 논문 상에서 activate function은 tanh\n",
    "class Model(nn.Module):\n",
    "    \n",
    "    def __init__(self, num_features, hid_dim, Q):\n",
    "        super().__init__()\n",
    "        self.layer1 = nn.Linear(num_features, hid_dim, )\n",
    "        self.layer2 = nn.Linear(hid_dim, Q)\n",
    "        \n",
    "    def forward(self, x):\n",
    "        out = torch.tanh(self.layer1(x))\n",
    "        return torch.tanh(self.layer2(out))"
   ]
  },
  {
   "cell_type": "code",
   "execution_count": 3,
   "metadata": {},
   "outputs": [],
   "source": [
    "class BPMLLLoss(nn.Module):\n",
    "\n",
    "    def __init__(self, size_average=None, reduce=None, reduction='mean'):\n",
    "        super().__init__()\n",
    "        if size_average is not None or reduce is not None:\n",
    "            self.reduction = _Reduction.legacy_get_string(size_average, reduce)\n",
    "        else:\n",
    "            self.reduction = reduction\n",
    "\n",
    "    def forward(self, input, target):\n",
    "        # https://cs.nju.edu.cn/zhouzh/zhouzh.files/publication/tkde06a.pdf\n",
    "        # input's shape is (bsz, Q)\n",
    "        # target's shape is (bsz, Q)\n",
    "        # target's unique value is in [-1, 1]\n",
    "    \n",
    "        loss_sum = 0\n",
    "        for i in range(len(target)) : \n",
    "            Y = input[i][target[i] == 1]\n",
    "            Y_bar = input[i][target[i] != 1]\n",
    "            loss = sum(torch.exp(-torch.cartesian_prod(Y, -Y_bar).sum(dim=-1)))/ len(torch.cartesian_prod(Y, Y_bar))\n",
    "            loss_sum += loss\n",
    "        return loss_sum\n",
    "        "
   ]
  },
  {
   "cell_type": "code",
   "execution_count": 5,
   "metadata": {},
   "outputs": [],
   "source": [
    "BPMLL_network = Model(784,100,5)"
   ]
  },
  {
   "cell_type": "code",
   "execution_count": 8,
   "metadata": {},
   "outputs": [],
   "source": [
    "# loss, optimizer\n",
    "criterion = BPMLLLoss() \n",
    "optimizer = optim.SGD(BPMLL_network.parameters(), lr=0.01)"
   ]
  },
  {
   "cell_type": "code",
   "execution_count": null,
   "metadata": {},
   "outputs": [],
   "source": []
  }
 ],
 "metadata": {
  "kernelspec": {
   "display_name": "Python 3",
   "language": "python",
   "name": "python3"
  },
  "language_info": {
   "codemirror_mode": {
    "name": "ipython",
    "version": 3
   },
   "file_extension": ".py",
   "mimetype": "text/x-python",
   "name": "python",
   "nbconvert_exporter": "python",
   "pygments_lexer": "ipython3",
   "version": "3.8.3"
  }
 },
 "nbformat": 4,
 "nbformat_minor": 4
}
