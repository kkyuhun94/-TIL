{
 "cells": [
  {
   "cell_type": "markdown",
   "metadata": {},
   "source": [
    "## 얼굴이미지 생성하기 \n",
    "\n",
    "* 풀컬러 이미지 훈련, 풀컬러 이미지를 생성\n",
    "* 사진의 훈련 데이터 셋을 이용해 좀 더 다양하고 그럴듯한 결과를 얻어내야 함\n",
    "\n",
    "### 컬러이미지\n",
    "* 디지털 이미지에서 색을 표현하는 방법 : RGB\n",
    "    * 빨강, 초록, 파랑 색깔이 크기가 같은 행렬에 저장\n",
    "    * 단색의 경우 28 x 28 이라면, 컬러의 경우 3 x 28 x 28 \n",
    "    \n",
    "### CelebA 데이터 셋 \n",
    "* 202599개의 유명인 얼굴 이미지 \n",
    "* 눈과 입의 위치가 비슷한 좌표에 위치하도록 어느정도 align된 이미지가 제공 \n",
    "* JPEG 파일 형태로 저장 -> 20000개만 추출하여 HDF5 파일로 묶어서 사용할 예정 \n",
    "\n",
    "\n",
    "### h5py : HDF5 파일 전처리\n",
    "* 파이썬 스럽게 HDF5 패키지를 이용할 수 있게 해주는 라이브러리 \n",
    "* 데이터 셋을 객체처럼 사용 가능 \n",
    "* HDF5 : Hierarchical Data Format\n",
    "    * HDF Group에 의해 관리되고 있는 대용량의 데이터를 저장하기 위한 파일 형식\n",
    "    * 많은 양의 데이터를 저장 가능\n",
    "    * 검색 속도가 빠름\n",
    "    * 병렬 입출력을 지원\n",
    "    * 데이터의 무작위 조회가 가능\n",
    "    * 20여년 이상 개발되어온 포맷, 안정적 \n",
    "    * 많은 언어와 오픈소스 라이브러리 API가 지원됨 \n"
   ]
  },
  {
   "cell_type": "code",
   "execution_count": 2,
   "metadata": {},
   "outputs": [],
   "source": [
    "import h5py\n",
    "\n",
    "import numpy\n",
    "import matplotlib.pyplot as plt"
   ]
  },
  {
   "cell_type": "code",
   "execution_count": null,
   "metadata": {},
   "outputs": [],
   "source": [
    "with"
   ]
  }
 ],
 "metadata": {
  "kernelspec": {
   "display_name": "Python 3",
   "language": "python",
   "name": "python3"
  },
  "language_info": {
   "codemirror_mode": {
    "name": "ipython",
    "version": 3
   },
   "file_extension": ".py",
   "mimetype": "text/x-python",
   "name": "python",
   "nbconvert_exporter": "python",
   "pygments_lexer": "ipython3",
   "version": "3.8.3"
  }
 },
 "nbformat": 4,
 "nbformat_minor": 4
}
