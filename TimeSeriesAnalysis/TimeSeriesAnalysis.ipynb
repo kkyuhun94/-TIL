{
 "cells": [
  {
   "cell_type": "markdown",
   "metadata": {},
   "source": [
    "# Time Series Analysis with Python\n",
    "## 학습 내용\n",
    "\n",
    "1. [Scipy 2019 tutorial Time Series Analysis - aileen Nersen](https://www.youtube.com/watch?v=v5ijNXvlC5A&t=1632s) 영상을 통해 학습\n",
    "2. 강의 코드 깃헙 : [https://github.com/AileenNielsen/TimeSeriesAnalysisWithPython](https://github.com/AileenNielsen/TimeSeriesAnalysisWithPython)\n",
    "\n",
    "#### PANDAS\n",
    "* Timestamp\n",
    "* DatetimeIndex\n",
    "* Period\n",
    "* PeriodIndex\n",
    "\n",
    "#### pre-prediction munging & stationarity\n",
    "* munging : 전처리,파싱,필터링등 데이터를 핸들링\n",
    "    * the process of changing data into another format (=arrangement) so that it can be used or processed\n",
    "\n",
    "* stationarity(통계적 일관성) : 시간이 변할 때 일정한 분포를 따르는 경우\n",
    "    * seasonality,trend 등등의 변화로 인해 보통 지켜지지 않음\n",
    "    * 눈으로 보기, 대략 반으로 쪼개서 앞의 평균과 뒤의 평균을 비교, 통계적 검정하기\n",
    "\n",
    "1. Differencing to create stationary time series\n",
    "\n",
    "2. remove the trend and seasonal elements before forecasting\n",
    "    * Most(interesting) data in the real world will show\n",
    "        * Trends\n",
    "        * seasonality\n",
    "    * Most models require data that shows neither of these properties to say something interesting\n",
    "        *  특히 stationary time series가 필요 \n",
    "    \n",
    "3. de-trend Data\n",
    "    * use local smoothing or a linear regression\n",
    "    "
   ]
  },
  {
   "cell_type": "code",
   "execution_count": null,
   "metadata": {},
   "outputs": [],
   "source": []
  }
 ],
 "metadata": {
  "kernelspec": {
   "display_name": "Python 3",
   "language": "python",
   "name": "python3"
  },
  "language_info": {
   "codemirror_mode": {
    "name": "ipython",
    "version": 3
   },
   "file_extension": ".py",
   "mimetype": "text/x-python",
   "name": "python",
   "nbconvert_exporter": "python",
   "pygments_lexer": "ipython3",
   "version": "3.8.3"
  }
 },
 "nbformat": 4,
 "nbformat_minor": 4
}
