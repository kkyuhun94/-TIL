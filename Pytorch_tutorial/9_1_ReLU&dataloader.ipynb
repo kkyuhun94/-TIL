{
 "cells": [
  {
   "cell_type": "markdown",
   "metadata": {},
   "source": [
    "## ReLU\n",
    "\n",
    "* Sigmoid의 문제점\n",
    "    * 역전파 단계 : Gradient계산\n",
    "    * 그래프 양끝의 sigmoid의 미분값이 아주 작아지고 소멸되는 현상이 발생(Vanishing Gradient)\n",
    "    * `torch.nn.sigmoid(x)`\n",
    "\n",
    "* ReLU : $f(x) = max(0,x)$ 0보다 크면 x을 출력, 0보다 작으면 0을 출력 \n",
    "    * 음수일 경우에는 마찬가지로 Vanishing Gradient가 발생하지만 양수 일 경우 문제 없음\n",
    "    * `torch.nn.relu(x)`\n",
    "    \n",
    "* 그 외의 Activation\n",
    "    * `torch.nn.tanh(x)`\n",
    "    * `torch.nn.leaky_relu(x,0.01)` : relu에서 음의 영역을 0값으로 넣지 않고 변형\n",
    "  \n",
    "* torch.optim에서 Optimizer를 사용가능 \n",
    "    * SGD\n",
    "    * Adam 등등\n",
    "\n",
    "* Optimizer : 오솔길을 찾는 방법에 비유 \n",
    "    * GD : 모든 자료를 다 검토, 내 위치의 산 기울기를 계산해서 방향을 찾음\n",
    "    * SGD : 전부 다 봐야 너무 오래 걸리니까 조금만 보고 빨리 판단. 같은 시간에 더 많이 감\n",
    "    * Adagrad : 안가본 곳은 성큼 빠르게 걷고, 많이 가본 곳은 잘 아니까 갈수록 보폭을 줄여 세밀히 탐색\n",
    "    * Momentum : 스텝 계산해서 움직인 후, 아까 내려오던 관성 방향 또 감\n",
    "    * RMSProp : 보폭을 줄이면서 맥락 상황까지 고려\n",
    "    * Adadelta : 보폭이 너무 작아져서 정지하는 것을 방지하자\n",
    "    * Adam : RMSProp + Momentum \n",
    " "
   ]
  },
  {
   "cell_type": "code",
   "execution_count": 12,
   "metadata": {},
   "outputs": [],
   "source": [
    "import torch\n",
    "import torchvision.datasets as dsets\n",
    "import torchvision.transforms as transforms\n",
    "import random"
   ]
  },
  {
   "cell_type": "code",
   "execution_count": 13,
   "metadata": {},
   "outputs": [],
   "source": [
    "device = 'cuda' if torch.cuda.is_available() else 'cpu'\n",
    "\n",
    "# for reproducibility\n",
    "random.seed(777)\n",
    "torch.manual_seed(777)\n",
    "if device == 'cuda':\n",
    "    torch.cuda.manual_seed_all(777)"
   ]
  },
  {
   "cell_type": "code",
   "execution_count": 14,
   "metadata": {},
   "outputs": [],
   "source": [
    "# parameters\n",
    "learning_rate = 0.001\n",
    "training_epochs = 15\n",
    "batch_size = 100"
   ]
  },
  {
   "cell_type": "code",
   "execution_count": 15,
   "metadata": {},
   "outputs": [],
   "source": [
    "# torchvision.datasets 패키지 사용\n",
    "mnist_train = dsets.MNIST(root='MNIST_data/', # 데이터를 어디에 저장을 할지 \n",
    "                          train=True,         # train set을 불러올지 \n",
    "                          transform=transforms.ToTensor(), # tensor \n",
    "                          download=True)\n",
    "\n",
    "mnist_test = dsets.MNIST(root='MNIST_data/',\n",
    "                         train=False,          # train set이 아님 : test set\n",
    "                         transform=transforms.ToTensor(),\n",
    "                         download=True)"
   ]
  },
  {
   "cell_type": "code",
   "execution_count": 16,
   "metadata": {},
   "outputs": [],
   "source": [
    "# dataset loader \n",
    "data_loader = torch.utils.data.DataLoader(dataset=mnist_train,   # mnist_train set\n",
    "                                          batch_size=batch_size, # 배치사이즈 100\n",
    "                                          shuffle=True,   # 섞을지 \n",
    "                                          drop_last=True) # 마지막 배치를 버릴지 말지 "
   ]
  },
  {
   "cell_type": "code",
   "execution_count": 17,
   "metadata": {},
   "outputs": [],
   "source": [
    "# MNIST data image of shape 28 * 28 = 784\n",
    "linear1 = torch.nn.Linear(784, 256, bias=True).to(device)\n",
    "linear2 = torch.nn.Linear(256, 256, bias=True).to(device)\n",
    "linear3 = torch.nn.Linear(256, 10, bias=True).to(device)\n",
    "relu = torch.nn.ReLU()"
   ]
  },
  {
   "cell_type": "code",
   "execution_count": 18,
   "metadata": {},
   "outputs": [
    {
     "data": {
      "text/plain": [
       "Parameter containing:\n",
       "tensor([[-0.6645,  0.6646,  0.7159,  ..., -0.3040, -0.8945, -0.7977],\n",
       "        [-1.2045,  2.4545, -1.8073,  ..., -1.7139, -0.0451,  0.3864],\n",
       "        [ 0.3414,  0.3114, -1.9218,  ..., -0.4525, -0.6849,  0.9663],\n",
       "        ...,\n",
       "        [ 1.3915, -0.4048,  0.2338,  ..., -0.8257, -0.8397,  1.9816],\n",
       "        [ 1.0414,  0.2130, -0.0417,  ...,  1.7541, -0.6454, -0.0821],\n",
       "        [-0.1162, -1.2692,  0.8201,  ..., -0.8303, -0.5022,  0.0583]],\n",
       "       requires_grad=True)"
      ]
     },
     "execution_count": 18,
     "metadata": {},
     "output_type": "execute_result"
    }
   ],
   "source": [
    "# Initialization\n",
    "torch.nn.init.normal_(linear1.weight)\n",
    "torch.nn.init.normal_(linear2.weight)\n",
    "torch.nn.init.normal_(linear3.weight)"
   ]
  },
  {
   "cell_type": "code",
   "execution_count": 19,
   "metadata": {},
   "outputs": [],
   "source": [
    "# model\n",
    "model = torch.nn.Sequential(linear1, relu, linear2, relu, linear3).to(device)"
   ]
  },
  {
   "cell_type": "code",
   "execution_count": 20,
   "metadata": {},
   "outputs": [],
   "source": [
    "# define cost/loss & optimizer\n",
    "criterion = torch.nn.CrossEntropyLoss().to(device)    # Softmax is internally computed.\n",
    "optimizer = torch.optim.Adam(model.parameters(), lr=learning_rate)"
   ]
  },
  {
   "cell_type": "code",
   "execution_count": 21,
   "metadata": {},
   "outputs": [
    {
     "name": "stdout",
     "output_type": "stream",
     "text": [
      "Epoch: 0001 cost = 130.154266357\n",
      "Epoch: 0002 cost = 36.310234070\n",
      "Epoch: 0003 cost = 22.885091782\n",
      "Epoch: 0004 cost = 15.922073364\n",
      "Epoch: 0005 cost = 11.547133446\n",
      "Epoch: 0006 cost = 8.626523972\n",
      "Epoch: 0007 cost = 6.448483944\n",
      "Epoch: 0008 cost = 4.804335117\n",
      "Epoch: 0009 cost = 3.676800728\n",
      "Epoch: 0010 cost = 2.644905806\n",
      "Epoch: 0011 cost = 1.990795493\n",
      "Epoch: 0012 cost = 1.596786976\n",
      "Epoch: 0013 cost = 1.220444679\n",
      "Epoch: 0014 cost = 0.993460000\n",
      "Epoch: 0015 cost = 0.814860165\n",
      "Learning finished\n"
     ]
    }
   ],
   "source": [
    "total_batch = len(data_loader)\n",
    "for epoch in range(training_epochs):\n",
    "    avg_cost = 0\n",
    "\n",
    "    for X, Y in data_loader:\n",
    "        # reshape input image into [batch_size by 784]\n",
    "        # label is not one-hot encoded\n",
    "        X = X.view(-1, 28 * 28).to(device)\n",
    "        Y = Y.to(device)\n",
    "\n",
    "        optimizer.zero_grad()\n",
    "        hypothesis = model(X)\n",
    "        cost = criterion(hypothesis, Y)\n",
    "        cost.backward()\n",
    "        optimizer.step()\n",
    "\n",
    "        avg_cost += cost / total_batch\n",
    "\n",
    "    print('Epoch:', '%04d' % (epoch + 1), 'cost =', '{:.9f}'.format(avg_cost))\n",
    "\n",
    "print('Learning finished')"
   ]
  },
  {
   "cell_type": "code",
   "execution_count": 22,
   "metadata": {},
   "outputs": [
    {
     "name": "stdout",
     "output_type": "stream",
     "text": [
      "Accuracy: 0.9470000267028809\n",
      "Label:  8\n",
      "Prediction:  5\n"
     ]
    }
   ],
   "source": [
    "# Test the model using test sets\n",
    "with torch.no_grad():\n",
    "    X_test = mnist_test.test_data.view(-1, 28 * 28).float().to(device)\n",
    "    Y_test = mnist_test.test_labels.to(device)\n",
    "\n",
    "    prediction = model(X_test)\n",
    "    correct_prediction = torch.argmax(prediction, 1) == Y_test\n",
    "    accuracy = correct_prediction.float().mean()\n",
    "    print('Accuracy:', accuracy.item())\n",
    "\n",
    "    # Get one and predict\n",
    "    r = random.randint(0, len(mnist_test) - 1)\n",
    "    X_single_data = mnist_test.test_data[r:r + 1].view(-1, 28 * 28).float().to(device)\n",
    "    Y_single_data = mnist_test.test_labels[r:r + 1].to(device)\n",
    "\n",
    "    print('Label: ', Y_single_data.item())\n",
    "    single_prediction = model(X_single_data)\n",
    "    print('Prediction: ', torch.argmax(single_prediction, 1).item())"
   ]
  },
  {
   "cell_type": "code",
   "execution_count": null,
   "metadata": {},
   "outputs": [],
   "source": []
  },
  {
   "cell_type": "code",
   "execution_count": null,
   "metadata": {},
   "outputs": [],
   "source": []
  },
  {
   "cell_type": "code",
   "execution_count": null,
   "metadata": {},
   "outputs": [],
   "source": []
  }
 ],
 "metadata": {
  "kernelspec": {
   "display_name": "Python 3",
   "language": "python",
   "name": "python3"
  },
  "language_info": {
   "codemirror_mode": {
    "name": "ipython",
    "version": 3
   },
   "file_extension": ".py",
   "mimetype": "text/x-python",
   "name": "python",
   "nbconvert_exporter": "python",
   "pygments_lexer": "ipython3",
   "version": "3.8.3"
  }
 },
 "nbformat": 4,
 "nbformat_minor": 4
}
