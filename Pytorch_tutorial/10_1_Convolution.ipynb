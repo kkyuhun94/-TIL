{
 "cells": [
  {
   "cell_type": "markdown",
   "metadata": {},
   "source": [
    "## Convolution\n",
    "* 이미지 위에서 stride 값 만큼 filter(kernel)을 이동시키면서 겹쳐지는 부분의 각 원소의 값을 굽해서 모두 더한 값을 출력으로 하는 연산\n",
    "* stride : filter를 한번에 얼마나 이동할 것인가\n",
    "* padding : zero-padding (0으로 둘러쌈) \n",
    "\n",
    "\n",
    "\n",
    "* torch.nn.Conv2d(in_channels, out_channels, kernel_size, stride=1, padding=0, dilation=1, groups=1, bias=True)\n",
    "    * kernel_size = (axb) 원하는 형태로 만들수 있음 \n",
    "        * kernel_size = 3 -> 3x3 filter\n",
    "    * channel : rgb는 3채널\n",
    "    \n",
    "    \n",
    "### 입력의 형태\n",
    "* input type: torch.Tensor\n",
    "* input shape : (N x C x H x W) (batch_size, channel, height, width)\n",
    "\n",
    "* Convolution output의 크기\n",
    "    * $output size = \\frac{input size -filter size + (2*padding)}{Stride} + 1$\n",
    "    * input size가 정사각형이 아닐때도 (a,b)를 각각 계산\n",
    "\n",
    "* Pooling\n",
    "    * Max Pooling -> 크기를 줄이면서 각 파트별로 max값만 남김\n",
    "    * Average Pooling -> 크기를 줄이면서 각 파트마다 평균값만 남김\n",
    "\n",
    "\n",
    "* nn.Conv2d에 입력\n",
    "* filter size 변경(size = 1x1, 3x3, 5x5)\n",
    "* bias\n",
    "* stride\n",
    "* padding\n",
    "\n",
    "### Cross-correlation vs Convolution\n",
    "* 뒤집고 계산하면 Convolution\n",
    "* 안 뒤집고 계산하면 Cross-Correlation\n",
    "* 크게 중요하지 않음"
   ]
  },
  {
   "cell_type": "code",
   "execution_count": 3,
   "metadata": {},
   "outputs": [],
   "source": [
    "import torch\n",
    "import torch.nn as nn"
   ]
  },
  {
   "cell_type": "code",
   "execution_count": 13,
   "metadata": {},
   "outputs": [],
   "source": [
    "# input image size : 227 x 227\n",
    "# filter size = 11 x 11\n",
    "# stride =4\n",
    "# padding = 0\n",
    "\n",
    "conv = nn.Conv2d(1,1,11, stride=4, padding=0)"
   ]
  },
  {
   "cell_type": "code",
   "execution_count": 14,
   "metadata": {},
   "outputs": [
    {
     "data": {
      "text/plain": [
       "Conv2d(1, 1, kernel_size=(11, 11), stride=(4, 4))"
      ]
     },
     "execution_count": 14,
     "metadata": {},
     "output_type": "execute_result"
    }
   ],
   "source": [
    "conv"
   ]
  },
  {
   "cell_type": "code",
   "execution_count": 15,
   "metadata": {},
   "outputs": [],
   "source": [
    "inputs = torch.Tensor(1,1,227,227)"
   ]
  },
  {
   "cell_type": "code",
   "execution_count": 11,
   "metadata": {},
   "outputs": [
    {
     "data": {
      "text/plain": [
       "torch.Size([1, 1, 227, 227])"
      ]
     },
     "execution_count": 11,
     "metadata": {},
     "output_type": "execute_result"
    }
   ],
   "source": [
    "inputs.shape"
   ]
  },
  {
   "cell_type": "code",
   "execution_count": 18,
   "metadata": {},
   "outputs": [
    {
     "data": {
      "text/plain": [
       "tensor([[[[-0.0852, -0.0852, -0.0852,  ..., -0.0852, -0.0852, -0.0852],\n",
       "          [-0.0852, -0.0852, -0.0852,  ..., -0.0852, -0.0852, -0.0852],\n",
       "          [-0.0852, -0.0852, -0.0852,  ..., -0.0852, -0.0852, -0.0852],\n",
       "          ...,\n",
       "          [-0.0852, -0.0852, -0.0852,  ..., -0.0852, -0.0852, -0.0852],\n",
       "          [-0.0852, -0.0852, -0.0852,  ..., -0.0852, -0.0852, -0.0852],\n",
       "          [-0.0852, -0.0852, -0.0852,  ..., -0.0852, -0.0852, -0.0852]]]],\n",
       "       grad_fn=<MkldnnConvolutionBackward>)"
      ]
     },
     "execution_count": 18,
     "metadata": {},
     "output_type": "execute_result"
    }
   ],
   "source": [
    "out = conv(inputs)\n",
    "out"
   ]
  },
  {
   "cell_type": "code",
   "execution_count": 17,
   "metadata": {},
   "outputs": [
    {
     "data": {
      "text/plain": [
       "torch.Size([1, 1, 55, 55])"
      ]
     },
     "execution_count": 17,
     "metadata": {},
     "output_type": "execute_result"
    }
   ],
   "source": [
    "out.shape"
   ]
  },
  {
   "cell_type": "code",
   "execution_count": 21,
   "metadata": {},
   "outputs": [
    {
     "data": {
      "text/plain": [
       "torch.Size([1, 1, 28, 12])"
      ]
     },
     "execution_count": 21,
     "metadata": {},
     "output_type": "execute_result"
    }
   ],
   "source": [
    "# input image size : 64 x 32\n",
    "# filter size = 11 x 11\n",
    "# stride = 2\n",
    "# padding = 1\n",
    "conv = nn.Conv2d(1,1,11, stride=2, padding=1)\n",
    "inputs = torch.Tensor(1,1,64,32)\n",
    "conv(inputs).shape"
   ]
  },
  {
   "cell_type": "code",
   "execution_count": 23,
   "metadata": {},
   "outputs": [
    {
     "name": "stdout",
     "output_type": "stream",
     "text": [
      "torch.Size([1, 5, 24, 24])\n",
      "torch.Size([1, 5, 12, 12])\n"
     ]
    }
   ],
   "source": [
    "inputs = torch.Tensor(1,1,28,28)\n",
    "conv1 = nn.Conv2d(1,5,5)\n",
    "pool = nn.MaxPool2d(2) # 최대값 Pooling\n",
    "out = conv1(inputs)\n",
    "out2 = pool(out)\n",
    "print(out.size())\n",
    "print(out2.size())"
   ]
  },
  {
   "cell_type": "code",
   "execution_count": null,
   "metadata": {},
   "outputs": [],
   "source": []
  }
 ],
 "metadata": {
  "kernelspec": {
   "display_name": "Python 3",
   "language": "python",
   "name": "python3"
  },
  "language_info": {
   "codemirror_mode": {
    "name": "ipython",
    "version": 3
   },
   "file_extension": ".py",
   "mimetype": "text/x-python",
   "name": "python",
   "nbconvert_exporter": "python",
   "pygments_lexer": "ipython3",
   "version": "3.8.3"
  }
 },
 "nbformat": 4,
 "nbformat_minor": 4
}
