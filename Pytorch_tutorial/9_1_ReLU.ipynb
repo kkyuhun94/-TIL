{
 "cells": [
  {
   "cell_type": "markdown",
   "metadata": {},
   "source": [
    "## ReLU\n",
    "\n",
    "* Sigmoid의 문제점\n",
    "    * 역전파 단계 : Gradient계산\n",
    "    * 그래프 양끝의 sigmoid의 미분값이 아주 작아지고 소멸되는 현상이 발생(Vanishing Gradient)\n",
    "    * `torch.nn.sigmoid(x)`\n",
    "\n",
    "* ReLU : $f(x) = max(0,x) 0보다 크면 x을 출력, 0보다 작으면 0을 출력 $\n",
    "    * 음수일 경우에는 마찬가지로 Vanishing Gradient가 발생하지만 양수 일 경우 문제 없음\n",
    "    * `torch.nn.relu(x)`\n",
    "    \n",
    "* 그 외의 Activation\n",
    "    * `torch.nn.tanh(x)`\n",
    "    * `torch.nn.leaky_relu(x,0.01)` : relu에서 음의 영역을 0값으로 넣지 않고 변형\n",
    "  \n",
    "* torch.optim에서 Optimizer를 사용가능 \n",
    "    * SGD\n",
    "    * Adam 등등\n",
    "\n",
    "* Optimizer : 오솔길을 찾는 방법에 비유 \n",
    "    * GD : 모든 자료를 다 검토, 내 위치의 산 기울기를 계산해서 방향을 찾음\n",
    "    * SGD : 전부 다 봐야 너무 오래 걸리니까 조금만 보고 빨리 판단. 같은 시간에 더 많이 감\n",
    "    * Adagrad : 안가본 곳은 성큼 빠르게 걷고, 많이 가본 곳은 잘 아니까 갈수록 보폭을 줄여 세밀히 탐색\n",
    "    * Momentum : 스텝 계산해서 움직인 후, 아까 내려오던 관성 방향 또 감\n",
    "    * RMSProp : 보폭을 줄이면서 맥락 상황까지 고려\n",
    "    * Adadelta : 보폭이 너무 작아져서 정지하는 것을 방지하자\n",
    "    * Adam : RMSProp + Momentum \n",
    " "
   ]
  },
  {
   "cell_type": "code",
   "execution_count": null,
   "metadata": {},
   "outputs": [],
   "source": [
    "import torchvision.datasets as dset # mnist \n"
   ]
  }
 ],
 "metadata": {
  "kernelspec": {
   "display_name": "Python 3",
   "language": "python",
   "name": "python3"
  },
  "language_info": {
   "codemirror_mode": {
    "name": "ipython",
    "version": 3
   },
   "file_extension": ".py",
   "mimetype": "text/x-python",
   "name": "python",
   "nbconvert_exporter": "python",
   "pygments_lexer": "ipython3",
   "version": "3.8.3"
  }
 },
 "nbformat": 4,
 "nbformat_minor": 4
}
