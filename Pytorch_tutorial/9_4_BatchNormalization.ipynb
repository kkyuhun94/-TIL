{
 "cells": [
  {
   "cell_type": "markdown",
   "metadata": {},
   "source": [
    "## BatchNormalization\n",
    "* Gradient Vanishing\n",
    "    * 그래디언트가 너무 작아져서 학습에 문제가 생김\n",
    "    \n",
    "* Gradient Exploding\n",
    "    * 그래디언트가 너무 커져서 학습에 문제가 생김\n",
    "\n",
    "* Gradient Vanishing, Exploding 간접적인 해결 방법\n",
    "    * Change activation function : sigmoid -> relu\n",
    "    * Careful initialization : weight initialization (He, Xavier..)\n",
    "    * Small learning rate : learning rate를 줄여서 최대한 exploding을 줄일 수 있음 \n",
    "\n",
    "* Batch Normalization : 직접적인 해결방법 \n",
    "    * Gradient Vanishing, Exploding 해결\n",
    "    * 학습과정이 전반적으로 안정화\n",
    "    * Dropout과 같은 regulation 효과\n",
    "\n",
    "* Internal Covariate Shift : Gradient Vanishing과 Exploding을 만드는 요소 \n",
    "    * train셋과 test셋의 분포의 차이로 학습에 문제가 생김\n",
    "    * deep learning의 경우 각각의 layer를 거칠때마다 Covariate Shift가 발생 : internal Covariate Shift\n",
    "    \n",
    "    \n",
    "\n",
    "* Code: mnist_batchnorm\n"
   ]
  },
  {
   "cell_type": "code",
   "execution_count": null,
   "metadata": {},
   "outputs": [],
   "source": []
  }
 ],
 "metadata": {
  "kernelspec": {
   "display_name": "Python 3",
   "language": "python",
   "name": "python3"
  },
  "language_info": {
   "codemirror_mode": {
    "name": "ipython",
    "version": 3
   },
   "file_extension": ".py",
   "mimetype": "text/x-python",
   "name": "python",
   "nbconvert_exporter": "python",
   "pygments_lexer": "ipython3",
   "version": "3.8.3"
  }
 },
 "nbformat": 4,
 "nbformat_minor": 4
}
