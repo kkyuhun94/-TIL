{
 "cells": [
  {
   "cell_type": "markdown",
   "metadata": {},
   "source": [
    "1. 나만의 데이터 셋 준비\n",
    "2. torchvision.datasets.ImageFolder로 불러오기\n",
    "3. transforms 적용하여 저장 "
   ]
  },
  {
   "cell_type": "code",
   "execution_count": 21,
   "metadata": {},
   "outputs": [],
   "source": [
    "import torchvision\n",
    "from torchvision import transforms\n",
    "\n",
    "from torch.utils.data import DataLoader\n",
    "import torch.optim as optim\n",
    "\n",
    "import torch\n",
    "import torch.nn as nn\n",
    "import torch.nn.functional as F\n",
    "\n"
   ]
  },
  {
   "cell_type": "code",
   "execution_count": 2,
   "metadata": {},
   "outputs": [],
   "source": [
    "from matplotlib.pyplot import imshow\n",
    "%matplotlib inline"
   ]
  },
  {
   "cell_type": "code",
   "execution_count": 36,
   "metadata": {},
   "outputs": [],
   "source": [
    "device = 'cuda' if torch.cuda.is_available() else 'cpu'\n",
    "\n",
    "torch.manual_seed(777)\n",
    "if device =='cuda':\n",
    "    torch.cuda.manual_seed_all(777)"
   ]
  },
  {
   "cell_type": "code",
   "execution_count": 50,
   "metadata": {},
   "outputs": [],
   "source": [
    "trans = transforms.Compose([\n",
    "    transforms.Resize((64,128)),\n",
    "    transforms.ToTensor() # 텐서로 바꿔야 학습에 사용가능 \n",
    "])"
   ]
  },
  {
   "cell_type": "code",
   "execution_count": 51,
   "metadata": {},
   "outputs": [
    {
     "name": "stdout",
     "output_type": "stream",
     "text": [
      "\u001b[34mn02085620-Chihuahua\u001b[m\u001b[m\r\n",
      "\u001b[34mn02085782-Japanese_spaniel\u001b[m\u001b[m\r\n",
      "\u001b[34mn02085936-Maltese_dog\u001b[m\u001b[m\r\n",
      "\u001b[34mn02086079-Pekinese\u001b[m\u001b[m\r\n",
      "\u001b[34mn02086240-Shih-Tzu\u001b[m\u001b[m\r\n",
      "\u001b[34mn02086646-Blenheim_spaniel\u001b[m\u001b[m\r\n",
      "\u001b[34mn02086910-papillon\u001b[m\u001b[m\r\n",
      "\u001b[34mn02087046-toy_terrier\u001b[m\u001b[m\r\n",
      "\u001b[34mn02087394-Rhodesian_ridgeback\u001b[m\u001b[m\r\n",
      "\u001b[34mn02088094-Afghan_hound\u001b[m\u001b[m\r\n",
      "\u001b[34mn02088238-basset\u001b[m\u001b[m\r\n",
      "\u001b[34mn02088364-beagle\u001b[m\u001b[m\r\n",
      "\u001b[34mn02088466-bloodhound\u001b[m\u001b[m\r\n",
      "\u001b[34mn02088632-bluetick\u001b[m\u001b[m\r\n",
      "\u001b[34mn02089078-black-and-tan_coonhound\u001b[m\u001b[m\r\n",
      "\u001b[34mn02089867-Walker_hound\u001b[m\u001b[m\r\n",
      "\u001b[34mn02089973-English_foxhound\u001b[m\u001b[m\r\n",
      "\u001b[34mn02090379-redbone\u001b[m\u001b[m\r\n",
      "\u001b[34mn02090622-borzoi\u001b[m\u001b[m\r\n",
      "\u001b[34mn02090721-Irish_wolfhound\u001b[m\u001b[m\r\n",
      "\u001b[34mn02091032-Italian_greyhound\u001b[m\u001b[m\r\n",
      "\u001b[34mn02091134-whippet\u001b[m\u001b[m\r\n",
      "\u001b[34mn02091244-Ibizan_hound\u001b[m\u001b[m\r\n",
      "\u001b[34mn02091467-Norwegian_elkhound\u001b[m\u001b[m\r\n",
      "\u001b[34mn02091635-otterhound\u001b[m\u001b[m\r\n",
      "\u001b[34mn02091831-Saluki\u001b[m\u001b[m\r\n",
      "\u001b[34mn02092002-Scottish_deerhound\u001b[m\u001b[m\r\n",
      "\u001b[34mn02092339-Weimaraner\u001b[m\u001b[m\r\n",
      "\u001b[34mn02093256-Staffordshire_bullterrier\u001b[m\u001b[m\r\n",
      "\u001b[34mn02093428-American_Staffordshire_terrier\u001b[m\u001b[m\r\n",
      "\u001b[34mn02093647-Bedlington_terrier\u001b[m\u001b[m\r\n",
      "\u001b[34mn02093754-Border_terrier\u001b[m\u001b[m\r\n",
      "\u001b[34mn02093859-Kerry_blue_terrier\u001b[m\u001b[m\r\n",
      "\u001b[34mn02093991-Irish_terrier\u001b[m\u001b[m\r\n",
      "\u001b[34mn02094114-Norfolk_terrier\u001b[m\u001b[m\r\n",
      "\u001b[34mn02094258-Norwich_terrier\u001b[m\u001b[m\r\n",
      "\u001b[34mn02094433-Yorkshire_terrier\u001b[m\u001b[m\r\n",
      "\u001b[34mn02095314-wire-haired_fox_terrier\u001b[m\u001b[m\r\n",
      "\u001b[34mn02095570-Lakeland_terrier\u001b[m\u001b[m\r\n",
      "\u001b[34mn02095889-Sealyham_terrier\u001b[m\u001b[m\r\n",
      "\u001b[34mn02096051-Airedale\u001b[m\u001b[m\r\n",
      "\u001b[34mn02096177-cairn\u001b[m\u001b[m\r\n",
      "\u001b[34mn02096294-Australian_terrier\u001b[m\u001b[m\r\n",
      "\u001b[34mn02096437-Dandie_Dinmont\u001b[m\u001b[m\r\n",
      "\u001b[34mn02096585-Boston_bull\u001b[m\u001b[m\r\n",
      "\u001b[34mn02097047-miniature_schnauzer\u001b[m\u001b[m\r\n",
      "\u001b[34mn02097130-giant_schnauzer\u001b[m\u001b[m\r\n",
      "\u001b[34mn02097209-standard_schnauzer\u001b[m\u001b[m\r\n",
      "\u001b[34mn02097298-Scotch_terrier\u001b[m\u001b[m\r\n",
      "\u001b[34mn02097474-Tibetan_terrier\u001b[m\u001b[m\r\n",
      "\u001b[34mn02097658-silky_terrier\u001b[m\u001b[m\r\n",
      "\u001b[34mn02098105-soft-coated_wheaten_terrier\u001b[m\u001b[m\r\n",
      "\u001b[34mn02098286-West_Highland_white_terrier\u001b[m\u001b[m\r\n",
      "\u001b[34mn02098413-Lhasa\u001b[m\u001b[m\r\n",
      "\u001b[34mn02099267-flat-coated_retriever\u001b[m\u001b[m\r\n",
      "\u001b[34mn02099429-curly-coated_retriever\u001b[m\u001b[m\r\n",
      "\u001b[34mn02099601-golden_retriever\u001b[m\u001b[m\r\n",
      "\u001b[34mn02099712-Labrador_retriever\u001b[m\u001b[m\r\n",
      "\u001b[34mn02099849-Chesapeake_Bay_retriever\u001b[m\u001b[m\r\n",
      "\u001b[34mn02100236-German_short-haired_pointer\u001b[m\u001b[m\r\n",
      "\u001b[34mn02100583-vizsla\u001b[m\u001b[m\r\n",
      "\u001b[34mn02100735-English_setter\u001b[m\u001b[m\r\n",
      "\u001b[34mn02100877-Irish_setter\u001b[m\u001b[m\r\n",
      "\u001b[34mn02101006-Gordon_setter\u001b[m\u001b[m\r\n",
      "\u001b[34mn02101388-Brittany_spaniel\u001b[m\u001b[m\r\n",
      "\u001b[34mn02101556-clumber\u001b[m\u001b[m\r\n",
      "\u001b[34mn02102040-English_springer\u001b[m\u001b[m\r\n",
      "\u001b[34mn02102177-Welsh_springer_spaniel\u001b[m\u001b[m\r\n",
      "\u001b[34mn02102318-cocker_spaniel\u001b[m\u001b[m\r\n",
      "\u001b[34mn02102480-Sussex_spaniel\u001b[m\u001b[m\r\n",
      "\u001b[34mn02102973-Irish_water_spaniel\u001b[m\u001b[m\r\n",
      "\u001b[34mn02104029-kuvasz\u001b[m\u001b[m\r\n",
      "\u001b[34mn02104365-schipperke\u001b[m\u001b[m\r\n",
      "\u001b[34mn02105056-groenendael\u001b[m\u001b[m\r\n",
      "\u001b[34mn02105162-malinois\u001b[m\u001b[m\r\n",
      "\u001b[34mn02105251-briard\u001b[m\u001b[m\r\n",
      "\u001b[34mn02105412-kelpie\u001b[m\u001b[m\r\n",
      "\u001b[34mn02105505-komondor\u001b[m\u001b[m\r\n",
      "\u001b[34mn02105641-Old_English_sheepdog\u001b[m\u001b[m\r\n",
      "\u001b[34mn02105855-Shetland_sheepdog\u001b[m\u001b[m\r\n",
      "\u001b[34mn02106030-collie\u001b[m\u001b[m\r\n",
      "\u001b[34mn02106166-Border_collie\u001b[m\u001b[m\r\n",
      "\u001b[34mn02106382-Bouvier_des_Flandres\u001b[m\u001b[m\r\n",
      "\u001b[34mn02106550-Rottweiler\u001b[m\u001b[m\r\n",
      "\u001b[34mn02106662-German_shepherd\u001b[m\u001b[m\r\n",
      "\u001b[34mn02107142-Doberman\u001b[m\u001b[m\r\n",
      "\u001b[34mn02107312-miniature_pinscher\u001b[m\u001b[m\r\n",
      "\u001b[34mn02107574-Greater_Swiss_Mountain_dog\u001b[m\u001b[m\r\n",
      "\u001b[34mn02107683-Bernese_mountain_dog\u001b[m\u001b[m\r\n",
      "\u001b[34mn02107908-Appenzeller\u001b[m\u001b[m\r\n",
      "\u001b[34mn02108000-EntleBucher\u001b[m\u001b[m\r\n",
      "\u001b[34mn02108089-boxer\u001b[m\u001b[m\r\n",
      "\u001b[34mn02108422-bull_mastiff\u001b[m\u001b[m\r\n",
      "\u001b[34mn02108551-Tibetan_mastiff\u001b[m\u001b[m\r\n",
      "\u001b[34mn02108915-French_bulldog\u001b[m\u001b[m\r\n",
      "\u001b[34mn02109047-Great_Dane\u001b[m\u001b[m\r\n",
      "\u001b[34mn02109525-Saint_Bernard\u001b[m\u001b[m\r\n",
      "\u001b[34mn02109961-Eskimo_dog\u001b[m\u001b[m\r\n",
      "\u001b[34mn02110063-malamute\u001b[m\u001b[m\r\n",
      "\u001b[34mn02110185-Siberian_husky\u001b[m\u001b[m\r\n",
      "\u001b[34mn02110627-affenpinscher\u001b[m\u001b[m\r\n",
      "\u001b[34mn02110806-basenji\u001b[m\u001b[m\r\n",
      "\u001b[34mn02110958-pug\u001b[m\u001b[m\r\n",
      "\u001b[34mn02111129-Leonberg\u001b[m\u001b[m\r\n",
      "\u001b[34mn02111277-Newfoundland\u001b[m\u001b[m\r\n",
      "\u001b[34mn02111500-Great_Pyrenees\u001b[m\u001b[m\r\n",
      "\u001b[34mn02111889-Samoyed\u001b[m\u001b[m\r\n",
      "\u001b[34mn02112018-Pomeranian\u001b[m\u001b[m\r\n",
      "\u001b[34mn02112137-chow\u001b[m\u001b[m\r\n",
      "\u001b[34mn02112350-keeshond\u001b[m\u001b[m\r\n",
      "\u001b[34mn02112706-Brabancon_griffon\u001b[m\u001b[m\r\n",
      "\u001b[34mn02113023-Pembroke\u001b[m\u001b[m\r\n",
      "\u001b[34mn02113186-Cardigan\u001b[m\u001b[m\r\n",
      "\u001b[34mn02113624-toy_poodle\u001b[m\u001b[m\r\n",
      "\u001b[34mn02113712-miniature_poodle\u001b[m\u001b[m\r\n",
      "\u001b[34mn02113799-standard_poodle\u001b[m\u001b[m\r\n",
      "\u001b[34mn02113978-Mexican_hairless\u001b[m\u001b[m\r\n",
      "\u001b[34mn02115641-dingo\u001b[m\u001b[m\r\n",
      "\u001b[34mn02115913-dhole\u001b[m\u001b[m\r\n",
      "\u001b[34mn02116738-African_hunting_dog\u001b[m\u001b[m\r\n"
     ]
    }
   ],
   "source": [
    "!ls Dog_Images/"
   ]
  },
  {
   "cell_type": "code",
   "execution_count": 52,
   "metadata": {},
   "outputs": [],
   "source": [
    "train_data = torchvision.datasets.ImageFolder(root = \"Dog_Images/\", transform=trans)"
   ]
  },
  {
   "cell_type": "code",
   "execution_count": 25,
   "metadata": {
    "scrolled": true
   },
   "outputs": [
    {
     "name": "stdout",
     "output_type": "stream",
     "text": [
      "0 tensor([[[0.0353, 0.0235, 0.0157,  ..., 0.3529, 0.4784, 0.5098],\n",
      "         [0.0353, 0.0314, 0.0196,  ..., 0.3882, 0.3569, 0.3922],\n",
      "         [0.0353, 0.0353, 0.0314,  ..., 0.3647, 0.3608, 0.3725],\n",
      "         ...,\n",
      "         [1.0000, 1.0000, 1.0000,  ..., 0.0275, 0.0314, 0.0275],\n",
      "         [1.0000, 1.0000, 1.0000,  ..., 0.0275, 0.0314, 0.0275],\n",
      "         [1.0000, 1.0000, 1.0000,  ..., 0.0275, 0.0235, 0.0235]],\n",
      "\n",
      "        [[0.0314, 0.0275, 0.0314,  ..., 0.4549, 0.5843, 0.6039],\n",
      "         [0.0353, 0.0392, 0.0353,  ..., 0.4588, 0.4431, 0.4863],\n",
      "         [0.0353, 0.0431, 0.0392,  ..., 0.4235, 0.4314, 0.4549],\n",
      "         ...,\n",
      "         [1.0000, 1.0000, 1.0000,  ..., 0.0275, 0.0314, 0.0275],\n",
      "         [1.0000, 1.0000, 1.0000,  ..., 0.0275, 0.0314, 0.0275],\n",
      "         [1.0000, 1.0000, 1.0000,  ..., 0.0275, 0.0235, 0.0235]],\n",
      "\n",
      "        [[0.0510, 0.0392, 0.0314,  ..., 0.2549, 0.3882, 0.4157],\n",
      "         [0.0431, 0.0431, 0.0275,  ..., 0.2118, 0.1686, 0.1922],\n",
      "         [0.0353, 0.0353, 0.0275,  ..., 0.1216, 0.1059, 0.1059],\n",
      "         ...,\n",
      "         [1.0000, 1.0000, 1.0000,  ..., 0.0275, 0.0314, 0.0275],\n",
      "         [1.0000, 1.0000, 1.0000,  ..., 0.0275, 0.0314, 0.0275],\n",
      "         [1.0000, 1.0000, 1.0000,  ..., 0.0275, 0.0235, 0.0235]]]) 0\n"
     ]
    },
    {
     "ename": "TypeError",
     "evalue": "Invalid shape (3, 128, 128) for image data",
     "output_type": "error",
     "traceback": [
      "\u001b[0;31m---------------------------------------------------------------------------\u001b[0m",
      "\u001b[0;31mTypeError\u001b[0m                                 Traceback (most recent call last)",
      "\u001b[0;32m<ipython-input-25-c840c6a5c611>\u001b[0m in \u001b[0;36m<module>\u001b[0;34m\u001b[0m\n\u001b[1;32m      3\u001b[0m     \u001b[0mprint\u001b[0m\u001b[0;34m(\u001b[0m\u001b[0mnum\u001b[0m\u001b[0;34m,\u001b[0m \u001b[0mdata\u001b[0m\u001b[0;34m,\u001b[0m \u001b[0mlabel\u001b[0m\u001b[0;34m)\u001b[0m\u001b[0;34m\u001b[0m\u001b[0;34m\u001b[0m\u001b[0m\n\u001b[1;32m      4\u001b[0m \u001b[0;34m\u001b[0m\u001b[0m\n\u001b[0;32m----> 5\u001b[0;31m     \u001b[0mimshow\u001b[0m\u001b[0;34m(\u001b[0m\u001b[0mdata\u001b[0m\u001b[0;34m)\u001b[0m\u001b[0;34m\u001b[0m\u001b[0;34m\u001b[0m\u001b[0m\n\u001b[0m\u001b[1;32m      6\u001b[0m     \u001b[0;32mbreak\u001b[0m\u001b[0;34m\u001b[0m\u001b[0;34m\u001b[0m\u001b[0m\n",
      "\u001b[0;32m~/opt/anaconda3/lib/python3.8/site-packages/matplotlib/pyplot.py\u001b[0m in \u001b[0;36mimshow\u001b[0;34m(X, cmap, norm, aspect, interpolation, alpha, vmin, vmax, origin, extent, shape, filternorm, filterrad, imlim, resample, url, data, **kwargs)\u001b[0m\n\u001b[1;32m   2643\u001b[0m         \u001b[0mfilterrad\u001b[0m\u001b[0;34m=\u001b[0m\u001b[0;36m4.0\u001b[0m\u001b[0;34m,\u001b[0m \u001b[0mimlim\u001b[0m\u001b[0;34m=\u001b[0m\u001b[0mcbook\u001b[0m\u001b[0;34m.\u001b[0m\u001b[0mdeprecation\u001b[0m\u001b[0;34m.\u001b[0m\u001b[0m_deprecated_parameter\u001b[0m\u001b[0;34m,\u001b[0m\u001b[0;34m\u001b[0m\u001b[0;34m\u001b[0m\u001b[0m\n\u001b[1;32m   2644\u001b[0m         resample=None, url=None, *, data=None, **kwargs):\n\u001b[0;32m-> 2645\u001b[0;31m     __ret = gca().imshow(\n\u001b[0m\u001b[1;32m   2646\u001b[0m         \u001b[0mX\u001b[0m\u001b[0;34m,\u001b[0m \u001b[0mcmap\u001b[0m\u001b[0;34m=\u001b[0m\u001b[0mcmap\u001b[0m\u001b[0;34m,\u001b[0m \u001b[0mnorm\u001b[0m\u001b[0;34m=\u001b[0m\u001b[0mnorm\u001b[0m\u001b[0;34m,\u001b[0m \u001b[0maspect\u001b[0m\u001b[0;34m=\u001b[0m\u001b[0maspect\u001b[0m\u001b[0;34m,\u001b[0m\u001b[0;34m\u001b[0m\u001b[0;34m\u001b[0m\u001b[0m\n\u001b[1;32m   2647\u001b[0m         \u001b[0minterpolation\u001b[0m\u001b[0;34m=\u001b[0m\u001b[0minterpolation\u001b[0m\u001b[0;34m,\u001b[0m \u001b[0malpha\u001b[0m\u001b[0;34m=\u001b[0m\u001b[0malpha\u001b[0m\u001b[0;34m,\u001b[0m \u001b[0mvmin\u001b[0m\u001b[0;34m=\u001b[0m\u001b[0mvmin\u001b[0m\u001b[0;34m,\u001b[0m\u001b[0;34m\u001b[0m\u001b[0;34m\u001b[0m\u001b[0m\n",
      "\u001b[0;32m~/opt/anaconda3/lib/python3.8/site-packages/matplotlib/__init__.py\u001b[0m in \u001b[0;36minner\u001b[0;34m(ax, data, *args, **kwargs)\u001b[0m\n\u001b[1;32m   1563\u001b[0m     \u001b[0;32mdef\u001b[0m \u001b[0minner\u001b[0m\u001b[0;34m(\u001b[0m\u001b[0max\u001b[0m\u001b[0;34m,\u001b[0m \u001b[0;34m*\u001b[0m\u001b[0margs\u001b[0m\u001b[0;34m,\u001b[0m \u001b[0mdata\u001b[0m\u001b[0;34m=\u001b[0m\u001b[0;32mNone\u001b[0m\u001b[0;34m,\u001b[0m \u001b[0;34m**\u001b[0m\u001b[0mkwargs\u001b[0m\u001b[0;34m)\u001b[0m\u001b[0;34m:\u001b[0m\u001b[0;34m\u001b[0m\u001b[0;34m\u001b[0m\u001b[0m\n\u001b[1;32m   1564\u001b[0m         \u001b[0;32mif\u001b[0m \u001b[0mdata\u001b[0m \u001b[0;32mis\u001b[0m \u001b[0;32mNone\u001b[0m\u001b[0;34m:\u001b[0m\u001b[0;34m\u001b[0m\u001b[0;34m\u001b[0m\u001b[0m\n\u001b[0;32m-> 1565\u001b[0;31m             \u001b[0;32mreturn\u001b[0m \u001b[0mfunc\u001b[0m\u001b[0;34m(\u001b[0m\u001b[0max\u001b[0m\u001b[0;34m,\u001b[0m \u001b[0;34m*\u001b[0m\u001b[0mmap\u001b[0m\u001b[0;34m(\u001b[0m\u001b[0msanitize_sequence\u001b[0m\u001b[0;34m,\u001b[0m \u001b[0margs\u001b[0m\u001b[0;34m)\u001b[0m\u001b[0;34m,\u001b[0m \u001b[0;34m**\u001b[0m\u001b[0mkwargs\u001b[0m\u001b[0;34m)\u001b[0m\u001b[0;34m\u001b[0m\u001b[0;34m\u001b[0m\u001b[0m\n\u001b[0m\u001b[1;32m   1566\u001b[0m \u001b[0;34m\u001b[0m\u001b[0m\n\u001b[1;32m   1567\u001b[0m         \u001b[0mbound\u001b[0m \u001b[0;34m=\u001b[0m \u001b[0mnew_sig\u001b[0m\u001b[0;34m.\u001b[0m\u001b[0mbind\u001b[0m\u001b[0;34m(\u001b[0m\u001b[0max\u001b[0m\u001b[0;34m,\u001b[0m \u001b[0;34m*\u001b[0m\u001b[0margs\u001b[0m\u001b[0;34m,\u001b[0m \u001b[0;34m**\u001b[0m\u001b[0mkwargs\u001b[0m\u001b[0;34m)\u001b[0m\u001b[0;34m\u001b[0m\u001b[0;34m\u001b[0m\u001b[0m\n",
      "\u001b[0;32m~/opt/anaconda3/lib/python3.8/site-packages/matplotlib/cbook/deprecation.py\u001b[0m in \u001b[0;36mwrapper\u001b[0;34m(*args, **kwargs)\u001b[0m\n\u001b[1;32m    356\u001b[0m                 \u001b[0;34mf\"%(removal)s.  If any parameter follows {name!r}, they \"\u001b[0m\u001b[0;34m\u001b[0m\u001b[0;34m\u001b[0m\u001b[0m\n\u001b[1;32m    357\u001b[0m                 f\"should be pass as keyword, not positionally.\")\n\u001b[0;32m--> 358\u001b[0;31m         \u001b[0;32mreturn\u001b[0m \u001b[0mfunc\u001b[0m\u001b[0;34m(\u001b[0m\u001b[0;34m*\u001b[0m\u001b[0margs\u001b[0m\u001b[0;34m,\u001b[0m \u001b[0;34m**\u001b[0m\u001b[0mkwargs\u001b[0m\u001b[0;34m)\u001b[0m\u001b[0;34m\u001b[0m\u001b[0;34m\u001b[0m\u001b[0m\n\u001b[0m\u001b[1;32m    359\u001b[0m \u001b[0;34m\u001b[0m\u001b[0m\n\u001b[1;32m    360\u001b[0m     \u001b[0;32mreturn\u001b[0m \u001b[0mwrapper\u001b[0m\u001b[0;34m\u001b[0m\u001b[0;34m\u001b[0m\u001b[0m\n",
      "\u001b[0;32m~/opt/anaconda3/lib/python3.8/site-packages/matplotlib/cbook/deprecation.py\u001b[0m in \u001b[0;36mwrapper\u001b[0;34m(*args, **kwargs)\u001b[0m\n\u001b[1;32m    356\u001b[0m                 \u001b[0;34mf\"%(removal)s.  If any parameter follows {name!r}, they \"\u001b[0m\u001b[0;34m\u001b[0m\u001b[0;34m\u001b[0m\u001b[0m\n\u001b[1;32m    357\u001b[0m                 f\"should be pass as keyword, not positionally.\")\n\u001b[0;32m--> 358\u001b[0;31m         \u001b[0;32mreturn\u001b[0m \u001b[0mfunc\u001b[0m\u001b[0;34m(\u001b[0m\u001b[0;34m*\u001b[0m\u001b[0margs\u001b[0m\u001b[0;34m,\u001b[0m \u001b[0;34m**\u001b[0m\u001b[0mkwargs\u001b[0m\u001b[0;34m)\u001b[0m\u001b[0;34m\u001b[0m\u001b[0;34m\u001b[0m\u001b[0m\n\u001b[0m\u001b[1;32m    359\u001b[0m \u001b[0;34m\u001b[0m\u001b[0m\n\u001b[1;32m    360\u001b[0m     \u001b[0;32mreturn\u001b[0m \u001b[0mwrapper\u001b[0m\u001b[0;34m\u001b[0m\u001b[0;34m\u001b[0m\u001b[0m\n",
      "\u001b[0;32m~/opt/anaconda3/lib/python3.8/site-packages/matplotlib/axes/_axes.py\u001b[0m in \u001b[0;36mimshow\u001b[0;34m(self, X, cmap, norm, aspect, interpolation, alpha, vmin, vmax, origin, extent, shape, filternorm, filterrad, imlim, resample, url, **kwargs)\u001b[0m\n\u001b[1;32m   5624\u001b[0m                               resample=resample, **kwargs)\n\u001b[1;32m   5625\u001b[0m \u001b[0;34m\u001b[0m\u001b[0m\n\u001b[0;32m-> 5626\u001b[0;31m         \u001b[0mim\u001b[0m\u001b[0;34m.\u001b[0m\u001b[0mset_data\u001b[0m\u001b[0;34m(\u001b[0m\u001b[0mX\u001b[0m\u001b[0;34m)\u001b[0m\u001b[0;34m\u001b[0m\u001b[0;34m\u001b[0m\u001b[0m\n\u001b[0m\u001b[1;32m   5627\u001b[0m         \u001b[0mim\u001b[0m\u001b[0;34m.\u001b[0m\u001b[0mset_alpha\u001b[0m\u001b[0;34m(\u001b[0m\u001b[0malpha\u001b[0m\u001b[0;34m)\u001b[0m\u001b[0;34m\u001b[0m\u001b[0;34m\u001b[0m\u001b[0m\n\u001b[1;32m   5628\u001b[0m         \u001b[0;32mif\u001b[0m \u001b[0mim\u001b[0m\u001b[0;34m.\u001b[0m\u001b[0mget_clip_path\u001b[0m\u001b[0;34m(\u001b[0m\u001b[0;34m)\u001b[0m \u001b[0;32mis\u001b[0m \u001b[0;32mNone\u001b[0m\u001b[0;34m:\u001b[0m\u001b[0;34m\u001b[0m\u001b[0;34m\u001b[0m\u001b[0m\n",
      "\u001b[0;32m~/opt/anaconda3/lib/python3.8/site-packages/matplotlib/image.py\u001b[0m in \u001b[0;36mset_data\u001b[0;34m(self, A)\u001b[0m\n\u001b[1;32m    696\u001b[0m         if not (self._A.ndim == 2\n\u001b[1;32m    697\u001b[0m                 or self._A.ndim == 3 and self._A.shape[-1] in [3, 4]):\n\u001b[0;32m--> 698\u001b[0;31m             raise TypeError(\"Invalid shape {} for image data\"\n\u001b[0m\u001b[1;32m    699\u001b[0m                             .format(self._A.shape))\n\u001b[1;32m    700\u001b[0m \u001b[0;34m\u001b[0m\u001b[0m\n",
      "\u001b[0;31mTypeError\u001b[0m: Invalid shape (3, 128, 128) for image data"
     ]
    },
    {
     "data": {
      "image/png": "[encoded data removed]",
      "text/plain": [
       "<Figure size 432x288 with 1 Axes>"
      ]
     },
     "metadata": {
      "needs_background": "light"
     },
     "output_type": "display_data"
    }
   ],
   "source": [
    "# tensor 가 아닐때 출력해서 확인할수 있음\n",
    "for num, value in enumerate(train_data) :\n",
    "    data, label = value\n",
    "    print(num, data, label)\n",
    "    \n",
    "    imshow(data)\n",
    "    break"
   ]
  },
  {
   "cell_type": "code",
   "execution_count": 53,
   "metadata": {},
   "outputs": [],
   "source": [
    "data_loader = DataLoader(dataset = train_data, batch_size = 8, shuffle = True)"
   ]
  },
  {
   "cell_type": "code",
   "execution_count": 61,
   "metadata": {},
   "outputs": [],
   "source": [
    "class CNN(nn.Module):\n",
    "    def __init__(self):\n",
    "        super(CNN, self).__init__()\n",
    "        self.layer1 = nn.Sequential(\n",
    "            nn.Conv2d(3,6,5),    # i_c,o_c,kernelsize = 3,6,5\n",
    "            nn.ReLU(),\n",
    "            nn.MaxPool2d(2),\n",
    "        )\n",
    "        self.layer2 = nn.Sequential(\n",
    "            nn.Conv2d(6,16,5),\n",
    "            nn.ReLU(),\n",
    "            nn.MaxPool2d(2),\n",
    "        )\n",
    "        self.layer3 = nn.Sequential(\n",
    "            nn.Linear(16*13*29, 120),\n",
    "            nn.ReLU(),\n",
    "            nn.Linear(120,120)\n",
    "        )\n",
    "        \n",
    "    def forward(self, x):\n",
    "        out = self.layer1(x)\n",
    "#         print(out.shape)\n",
    "        out = self.layer2(out)\n",
    "#         print(out.shape)\n",
    "        out = out.view(out.shape[0], -1)\n",
    "#         print(out.shape)\n",
    "        out = self.layer3(out)\n",
    "        return out"
   ]
  },
  {
   "cell_type": "code",
   "execution_count": 79,
   "metadata": {},
   "outputs": [],
   "source": [
    "net = CNN()\n",
    "test_input = (torch.Tensor(3,3,64,128)).to(device)\n",
    "test_out = net(test_input)"
   ]
  },
  {
   "cell_type": "code",
   "execution_count": 63,
   "metadata": {},
   "outputs": [
    {
     "data": {
      "text/plain": [
       "6032"
      ]
     },
     "execution_count": 63,
     "metadata": {},
     "output_type": "execute_result"
    }
   ],
   "source": [
    "16*13*29"
   ]
  },
  {
   "cell_type": "code",
   "execution_count": 89,
   "metadata": {},
   "outputs": [],
   "source": [
    "optimizer = optim.Adam(net.parameters(), lr = 0.00005)\n",
    "loss_func = nn.CrossEntropyLoss().to(device)"
   ]
  },
  {
   "cell_type": "code",
   "execution_count": 90,
   "metadata": {},
   "outputs": [
    {
     "name": "stdout",
     "output_type": "stream",
     "text": [
      "[Epoch:1] cost = 4.785822868347168\n",
      "[Epoch:2] cost = 4.785381317138672\n",
      "[Epoch:3] cost = 4.784940719604492\n",
      "[Epoch:4] cost = 4.784607410430908\n",
      "[Epoch:5] cost = 4.784209251403809\n",
      "[Epoch:6] cost = 4.783833980560303\n",
      "[Epoch:7] cost = 4.783501148223877\n",
      "[Epoch:8] cost = 4.78322172164917\n",
      "[Epoch:9] cost = 4.782961845397949\n",
      "[Epoch:10] cost = 4.782684803009033\n",
      "Learning Finished!\n"
     ]
    }
   ],
   "source": [
    "total_batch = len(data_loader)\n",
    "\n",
    "epochs = 10\n",
    "for epoch in range(epochs) :\n",
    "    avg_cost = 0.0\n",
    "    for num,data in enumerate(data_loader) :\n",
    "        imgs, labels = data\n",
    "        imgs = imgs.to(device)\n",
    "        labels = labels.to(device)\n",
    "        optimizer.zero_grad()\n",
    "        out = net(imgs)\n",
    "        loss = loss_func(out, labels)\n",
    "        loss.backward()\n",
    "        optimizer.step()\n",
    "        \n",
    "        avg_cost += loss / total_batch\n",
    "        \n",
    "    print('[Epoch:{}] cost = {}'.format(epoch+1, avg_cost))\n",
    "print('Learning Finished!')"
   ]
  },
  {
   "cell_type": "code",
   "execution_count": 91,
   "metadata": {},
   "outputs": [],
   "source": [
    "# 학습시킨 모델을 저장해놓는 방법, 불필요한 학습을 줄일 수 있다 \n",
    "torch.save(net.state_dict(),\"Dog_Images/model.pth\")"
   ]
  },
  {
   "cell_type": "code",
   "execution_count": 92,
   "metadata": {},
   "outputs": [],
   "source": [
    "new_net = CNN().to(device)"
   ]
  },
  {
   "cell_type": "code",
   "execution_count": 93,
   "metadata": {},
   "outputs": [
    {
     "data": {
      "text/plain": [
       "<All keys matched successfully>"
      ]
     },
     "execution_count": 93,
     "metadata": {},
     "output_type": "execute_result"
    }
   ],
   "source": [
    "new_net.load_state_dict(torch.load(\"Dog_Images/model.pth\"))"
   ]
  },
  {
   "cell_type": "code",
   "execution_count": 94,
   "metadata": {},
   "outputs": [
    {
     "name": "stdout",
     "output_type": "stream",
     "text": [
      "Conv2d(3, 6, kernel_size=(5, 5), stride=(1, 1))\n",
      "Conv2d(3, 6, kernel_size=(5, 5), stride=(1, 1))\n",
      "tensor([ 0.0160, -0.0453,  0.0408,  0.0486, -0.1033], grad_fn=<SelectBackward>)\n",
      "tensor([ 0.0160, -0.0453,  0.0408,  0.0486, -0.1033], grad_fn=<SelectBackward>)\n"
     ]
    },
    {
     "data": {
      "text/plain": [
       "tensor([[[True, True, True, True, True],\n",
       "         [True, True, True, True, True],\n",
       "         [True, True, True, True, True],\n",
       "         [True, True, True, True, True],\n",
       "         [True, True, True, True, True]],\n",
       "\n",
       "        [[True, True, True, True, True],\n",
       "         [True, True, True, True, True],\n",
       "         [True, True, True, True, True],\n",
       "         [True, True, True, True, True],\n",
       "         [True, True, True, True, True]],\n",
       "\n",
       "        [[True, True, True, True, True],\n",
       "         [True, True, True, True, True],\n",
       "         [True, True, True, True, True],\n",
       "         [True, True, True, True, True],\n",
       "         [True, True, True, True, True]]])"
      ]
     },
     "execution_count": 94,
     "metadata": {},
     "output_type": "execute_result"
    }
   ],
   "source": [
    "print(net.layer1[0])\n",
    "print(new_net.layer1[0])\n",
    "\n",
    "print(net.layer1[0].weight[0][0][0])\n",
    "print(new_net.layer1[0].weight[0][0][0])\n",
    "\n",
    "net.layer1[0].weight[0] == new_net.layer1[0].weight[0]"
   ]
  },
  {
   "cell_type": "code",
   "execution_count": 95,
   "metadata": {},
   "outputs": [],
   "source": [
    "trans=torchvision.transforms.Compose([\n",
    "    transforms.Resize((64,128)),\n",
    "    transforms.ToTensor()\n",
    "])\n",
    "test_data = torchvision.datasets.ImageFolder(root=\"Dog_Images/\", transform=trans)"
   ]
  },
  {
   "cell_type": "code",
   "execution_count": 96,
   "metadata": {},
   "outputs": [],
   "source": [
    "test_set = DataLoader(dataset = test_data, batch_size = len(test_data))"
   ]
  },
  {
   "cell_type": "code",
   "execution_count": 97,
   "metadata": {},
   "outputs": [
    {
     "name": "stdout",
     "output_type": "stream",
     "text": [
      "Accuracy: 0.01224489789456129\n"
     ]
    }
   ],
   "source": [
    "with torch.no_grad():\n",
    "    for num, data in enumerate(test_set):\n",
    "        imgs, label = data\n",
    "        imgs = imgs.to(device)\n",
    "        label = label.to(device)\n",
    "        \n",
    "        prediction = net(imgs)\n",
    "        \n",
    "        correct_prediction = torch.argmax(prediction, 1) == label\n",
    "        \n",
    "        accuracy = correct_prediction.float().mean()\n",
    "        print('Accuracy:', accuracy.item())"
   ]
  },
  {
   "cell_type": "code",
   "execution_count": null,
   "metadata": {},
   "outputs": [],
   "source": []
  },
  {
   "cell_type": "code",
   "execution_count": null,
   "metadata": {},
   "outputs": [],
   "source": []
  }
 ],
 "metadata": {
  "kernelspec": {
   "display_name": "Python 3",
   "language": "python",
   "name": "python3"
  },
  "language_info": {
   "codemirror_mode": {
    "name": "ipython",
    "version": 3
   },
   "file_extension": ".py",
   "mimetype": "text/x-python",
   "name": "python",
   "nbconvert_exporter": "python",
   "pygments_lexer": "ipython3",
   "version": "3.8.3"
  }
 },
 "nbformat": 4,
 "nbformat_minor": 4
}
