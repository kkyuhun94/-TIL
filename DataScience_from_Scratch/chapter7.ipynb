{
 "cells": [
  {
   "cell_type": "markdown",
   "metadata": {},
   "source": [
    "## 학습정리\n",
    "### 7장. 가설과 추론 \n",
    "* 주어진 데이터와 데이터를 발생시킨 현상에 대한 가설을 세우고 검정\n",
    "\n",
    "#### 7.1 통계적 가설 검정\n",
    "* 특정 가설이 사실인지 아닌지 검정해 보고 싶은 경우\n",
    "    * 가설(hypothesis) : 주장. 데이터 통계치에 대한 이야기로 변환될 수 있음\n",
    "        * 다양한 가정하에서 특정 분포에 대한 확률변수의 관측치로 이해가능\n",
    "        * 가정들의 타당성을 확인 가능\n",
    "* 귀무가설($H_0,null hypothesis$) : 기본 입장\n",
    "* 대립가설($H_1, alternative hypothesis$) : 기본 입장에 대립\n",
    "    * 통계적으로 비교후 귀무가설을 기각할지 말지 결정\n",
    "    \n",
    "#### 7.2 예시 : 동전 던지기\n",
    "* 동전이 공평한 동전인지 아닌지 검정\n",
    "    * 귀무가설 : $p = 0.5$\n",
    "    * 대립가설 : $p \\neq 0.5$\n",
    "    * 동전을 n번 던져서 앞면이 나온 횟수 X\n",
    "        * 동전 던지기는 각각 베르누이 분포를 따름\n",
    "        * X가 이항분포를 따르는 확률변수\n",
    "            * 이항분포는 정규분포로 근사가능\n",
    "\n",
    "#### 7.3 p-value\n",
    "\n",
    "#### 7.4 신뢰구간\n",
    "#### 7.5 p 해킹\n",
    "#### 7.6 예시 : A/B test 해보기\n",
    "#### 7.7 베이즈 추론\n",
    "#### 7.8 더 공부해 보고 싶다면\n"
   ]
  },
  {
   "cell_type": "markdown",
   "metadata": {},
   "source": [
    "## code"
   ]
  },
  {
   "cell_type": "code",
   "execution_count": 2,
   "metadata": {},
   "outputs": [],
   "source": [
    "from typing import Tuple\n",
    "import math\n",
    "\n",
    "\n",
    "def normal_approximation_to_binomial(n: int, p:float) -> Tuple[float,float] :\n",
    "    \"\"\"Binomial(n,p)에 해당되는 mu(평균)와 sigma(표준편차) 계산\"\"\"\n",
    "    mu = p*n\n",
    "    sigma = math.sqrt(p*(1-p)*n)\n",
    "    return mu,sigma\n"
   ]
  },
  {
   "cell_type": "code",
   "execution_count": 9,
   "metadata": {},
   "outputs": [],
   "source": [
    "from scipy.stats import norm\n",
    "\n",
    "# 누적 분포 함수는 확률변수가 특정 값보다 작을 확률을 나타냄\n",
    "normal_probability_below = norm.cdf\n",
    "\n",
    "# 만약 확률변수가 특정 값보다 작지 않다면, 특정 값보다 크다는 것을 의미\n",
    "def normal_probability_above(lo : float,\n",
    "                            mu : float = 0,\n",
    "                            sigma : float = 1) -> float :\n",
    "    \"\"\"mu(평균)와 sigma(표준편차)를 따르는 정규분포가 lo보다 클 확률\"\"\"\n",
    "    return 1 - norm.cdf(lo,mu,sigma)\n",
    "\n",
    "# 만약 확률변수가 hi보다 작고 lo보다 작지 않다면 확률변수는 hi와 lo사이에 존재\n",
    "def normal_probability_between(lo : float,\n",
    "                              hi : float,\n",
    "                              mu : float = 0,\n",
    "                              sigma : float = 1) -> float :\n",
    "    \"\"\"mu(평균)와 sigma(표준편차)를 따르는 정규분포가 lo와 hi사이에 있을 확률\"\"\"\n",
    "    return norm.cdf(hi,mu,sigma) - norm.cdf(lo,mu,sigma)\n",
    "\n",
    "# 만약 확률변수가 범위 밖에 존재한다면 범위 안에 존재하지 않다는 것을 의미한다.\n",
    "def normal_probability_outside(lo : float,\n",
    "                              hi : float,\n",
    "                              mu : float = 0,\n",
    "                              sigma : float = 1) -> float :\n",
    "    \"\"\"mu(평균)와 sigma(표준편차)를 따르는 정규분포가 lo와 hi의 사이에 없을 확률\"\"\"\n",
    "    return 1 - normal_probability_between(lo, hi, mu, sigma)\n",
    "    "
   ]
  },
  {
   "cell_type": "code",
   "execution_count": 5,
   "metadata": {},
   "outputs": [
    {
     "data": {
      "text/plain": [
       "<bound method rv_continuous.cdf of <scipy.stats._continuous_distns.norm_gen object at 0x124d22bb0>>"
      ]
     },
     "execution_count": 5,
     "metadata": {},
     "output_type": "execute_result"
    }
   ],
   "source": [
    "invnorm.cdf(x,mu,loc=0,scale=1)"
   ]
  }
 ],
 "metadata": {
  "kernelspec": {
   "display_name": "Python 3",
   "language": "python",
   "name": "python3"
  },
  "language_info": {
   "codemirror_mode": {
    "name": "ipython",
    "version": 3
   },
   "file_extension": ".py",
   "mimetype": "text/x-python",
   "name": "python",
   "nbconvert_exporter": "python",
   "pygments_lexer": "ipython3",
   "version": "3.8.3"
  }
 },
 "nbformat": 4,
 "nbformat_minor": 4
}
