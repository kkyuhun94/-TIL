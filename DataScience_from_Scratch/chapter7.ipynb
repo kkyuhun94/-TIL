{
 "cells": [
  {
   "cell_type": "markdown",
   "metadata": {},
   "source": [
    "## 학습정리\n",
    "### 7장. 가설과 추론 \n",
    "\n",
    "#### 7.1 통계적 가설 검정\n",
    "\n",
    "#### 7.2 예시 : 동전 던지기\n",
    "#### 7.3 p-value \n",
    "#### 7.4 신뢰구간\n",
    "#### 7.5 p 해킹\n",
    "#### 7.6 예시 : A/B test 해보기\n",
    "#### 7.7 베이즈 추론\n",
    "#### 7.8 더 공부해 보고 싶다면\n"
   ]
  }
 ],
 "metadata": {
  "kernelspec": {
   "display_name": "Python 3",
   "language": "python",
   "name": "python3"
  },
  "language_info": {
   "codemirror_mode": {
    "name": "ipython",
    "version": 3
   },
   "file_extension": ".py",
   "mimetype": "text/x-python",
   "name": "python",
   "nbconvert_exporter": "python",
   "pygments_lexer": "ipython3",
   "version": "3.8.3"
  }
 },
 "nbformat": 4,
 "nbformat_minor": 4
}
