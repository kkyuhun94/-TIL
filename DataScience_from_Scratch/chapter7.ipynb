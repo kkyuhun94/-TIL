{
 "cells": [
  {
   "cell_type": "markdown",
   "metadata": {},
   "source": [
    "## 학습정리\n",
    "### 7장. 가설과 추론 \n",
    "* 주어진 데이터와 데이터를 발생시킨 현상에 대한 가설을 세우고 검정\n",
    "\n",
    "#### 7.1 통계적 가설 검정\n",
    "* 특정 가설이 사실인지 아닌지 검정해 보고 싶은 경우\n",
    "    * 가설(hypothesis) : 주장. 데이터 통계치에 대한 이야기로 변환될 수 있음\n",
    "        * 다양한 가정하에서 특정 분포에 대한 확률변수의 관측치로 이해가능\n",
    "        * 가정들의 타당성을 확인 가능\n",
    "* 귀무가설($H_0,null hypothesis$) : 기본 입장\n",
    "* 대립가설($H_1, alternative hypothesis$) : 기본 입장에 대립\n",
    "    * 통계적으로 비교후 귀무가설을 기각할지 말지 결정\n",
    "    \n",
    "#### 7.2 예시 : 동전 던지기\n",
    "* 동전이 공평한 동전인지 아닌지 검정\n",
    "    * 귀무가설 : $p = 0.5$\n",
    "    * 대립가설 : $p \\neq 0.5$\n",
    "    * 동전을 n번 던져서 앞면이 나온 횟수 X\n",
    "        * 동전 던지기는 각각 베르누이 분포를 따름\n",
    "        * X가 이항분포를 따르는 확률변수\n",
    "            * 이항분포는 정규분포로 근사가능\n",
    "* 1종 오류 : 비록 $H_0$이 참이지만 $H_0$을 기각하는 flase positive(FP)오류 \n",
    "    * 유의수준(significance) : 1종 오류를 얼마나 허용해 줄 것인지를 의미\n",
    "        * 일반적으로 5%나 1%로 설정\n",
    "* 2종 오류 : $H_0$이 거짓이지만 $H_0$를 기각하지 않는 오류\n",
    "    * 검정력(power) : 제2종 오류를 범하지 않을 확률\n",
    "    \n",
    "#### 7.3 p-value\n",
    "* p-value : 어떤 확률값을 기준으로 구간을 선택하는 대신 $H_0$가 참이라고 가정하고 실제로 관측된 값보다 더 극단적인 값이 나올 확률을 구함\n",
    "    * 양측 검정\n",
    "        * p-value >= 5% : 귀무가설 채택\n",
    "        * p-value <  5% : 귀무가설 기각\n",
    "    * p-value를 계산하기 전에 주어진 데이터가 정규분포를 따르는 지 확인\n",
    "        * 데이터가 정규분포를 따르지 않는다면 무의미\n",
    "        * 시각화로 간단히 확인 가능\n",
    "\n",
    "* from scipy import stats\n",
    "    * stats.chisquare(x,y) : 카이제곱 검정 통계량, p-value 반환\n",
    "    * stats.ttest_1samp(one_sample) : 한 집단 평균 t검정통계량, p-value 반환\n",
    "    * stats.ttest_rel(x,y) : 대응 두 집단 t검정통계량, p-value 반환\n",
    "        \n",
    "#### 7.4 신뢰구간\n",
    "* 신뢰구간(confidence interval) \n",
    "    * 추정한 p의 값의 신뢰구간에 포함될 것이라고 몇% 확신\n",
    "    \n",
    "#### 7.5 p 해킹\n",
    "* 귀무가설을 잘못 기각하는 경우가 5%인 가설검정 : 모든 경우의 5%에서 귀무가설을 잘못 기각\n",
    "* 적절한 이상치를 제거하면 5%이하의 p-value를 구할 수 있음\n",
    "* 지켜야 할 것\n",
    "    1. 가설은 데이터를 보기 전에 세운다.\n",
    "    2. 데이터를 전처리할 때는 세워둔 가설을 잠시 잊는다.\n",
    "    3. p-value가 전부는 아니다 (대안 : 베이즈추론)\n",
    "    \n",
    "#### 7.6 예시 : A/B test 해보기\n",
    "* A/B test : A와 B를 실험을 통해서 더 나은것을 선택 \n",
    "    * 둘다 효과적일 경우 큰 차이가 발생할 확률은 매우 적다.\n",
    "\n",
    "#### 7.7 베이즈 추론\n",
    "* 알려지지 않은 파라미터를 확률변수로 보는 방법\n",
    "    1. 파라미터에 대한 사전분포가 주어짐\n",
    "        * 사전분포로는 주로 베타분포를 사용\n",
    "            * 베타분포 : 모든 확률 값이 0과 1사이에서 정의\n",
    "        * 관측 데이터가 많아질 수록 사전분포는 점점 의미가 없어짐 : 거의 동일한 사후분포가 계산됨\n",
    "    2. 관측된 데이터와 베이즈 정리를 사용하여 사후분포를 갱신\n",
    "    3. 파라미터에 대해 확률적으로 결론\n",
    "\n",
    "* 베이즈 추론으로 가설검정을 하는 것은 논란의 여지가 있음\n",
    "    * 수학적으로 복잡\n",
    "    * 사전분포를 선택하는 것이 주관적\n",
    "\n",
    "#### 7.8 더 공부해 보고 싶다면\n"
   ]
  },
  {
   "cell_type": "markdown",
   "metadata": {},
   "source": [
    "## code"
   ]
  },
  {
   "cell_type": "code",
   "execution_count": 2,
   "metadata": {},
   "outputs": [],
   "source": [
    "from typing import Tuple\n",
    "import math\n",
    "\n",
    "\n",
    "def normal_approximation_to_binomial(n: int, p:float) -> Tuple[float,float] :\n",
    "    \"\"\"Binomial(n,p)에 해당되는 mu(평균)와 sigma(표준편차) 계산\"\"\"\n",
    "    mu = p*n\n",
    "    sigma = math.sqrt(p*(1-p)*n)\n",
    "    return mu,sigma\n"
   ]
  },
  {
   "cell_type": "code",
   "execution_count": 3,
   "metadata": {},
   "outputs": [],
   "source": [
    "from scipy.stats import norm\n",
    "\n",
    "# 누적 분포 함수는 확률변수가 특정 값보다 작을 확률을 나타냄\n",
    "normal_probability_below = norm.cdf\n",
    "\n",
    "# 만약 확률변수가 특정 값보다 작지 않다면, 특정 값보다 크다는 것을 의미\n",
    "def normal_probability_above(lo : float,\n",
    "                            mu : float = 0,\n",
    "                            sigma : float = 1) -> float :\n",
    "    \"\"\"mu(평균)와 sigma(표준편차)를 따르는 정규분포가 lo보다 클 확률\"\"\"\n",
    "    return 1 - norm.cdf(lo,mu,sigma)\n",
    "\n",
    "# 만약 확률변수가 hi보다 작고 lo보다 작지 않다면 확률변수는 hi와 lo사이에 존재\n",
    "def normal_probability_between(lo : float,\n",
    "                              hi : float,\n",
    "                              mu : float = 0,\n",
    "                              sigma : float = 1) -> float :\n",
    "    \"\"\"mu(평균)와 sigma(표준편차)를 따르는 정규분포가 lo와 hi사이에 있을 확률\"\"\"\n",
    "    return norm.cdf(hi,mu,sigma) - norm.cdf(lo,mu,sigma)\n",
    "\n",
    "# 만약 확률변수가 범위 밖에 존재한다면 범위 안에 존재하지 않다는 것을 의미한다.\n",
    "def normal_probability_outside(lo : float,\n",
    "                              hi : float,\n",
    "                              mu : float = 0,\n",
    "                              sigma : float = 1) -> float :\n",
    "    \"\"\"mu(평균)와 sigma(표준편차)를 따르는 정규분포가 lo와 hi의 사이에 없을 확률\"\"\"\n",
    "    return 1 - normal_probability_between(lo, hi, mu, sigma)\n",
    "    "
   ]
  },
  {
   "cell_type": "code",
   "execution_count": 6,
   "metadata": {},
   "outputs": [
    {
     "ename": "NameError",
     "evalue": "name 'x' is not defined",
     "output_type": "error",
     "traceback": [
      "\u001b[0;31m---------------------------------------------------------------------------\u001b[0m",
      "\u001b[0;31mNameError\u001b[0m                                 Traceback (most recent call last)",
      "\u001b[0;32m<ipython-input-6-14a7ec610bf0>\u001b[0m in \u001b[0;36m<module>\u001b[0;34m\u001b[0m\n\u001b[0;32m----> 1\u001b[0;31m \u001b[0mnorm\u001b[0m\u001b[0;34m.\u001b[0m\u001b[0mppf\u001b[0m\u001b[0;34m(\u001b[0m\u001b[0mx\u001b[0m\u001b[0;34m,\u001b[0m\u001b[0mmu\u001b[0m\u001b[0;34m,\u001b[0m\u001b[0mloc\u001b[0m\u001b[0;34m=\u001b[0m\u001b[0;36m0\u001b[0m\u001b[0;34m,\u001b[0m\u001b[0mscale\u001b[0m\u001b[0;34m=\u001b[0m\u001b[0;36m1\u001b[0m\u001b[0;34m)\u001b[0m\u001b[0;34m\u001b[0m\u001b[0;34m\u001b[0m\u001b[0m\n\u001b[0m",
      "\u001b[0;31mNameError\u001b[0m: name 'x' is not defined"
     ]
    }
   ],
   "source": [
    "norm.ppf(x,mu,loc=0,scale=1)"
   ]
  }
 ],
 "metadata": {
  "kernelspec": {
   "display_name": "Python 3",
   "language": "python",
   "name": "python3"
  },
  "language_info": {
   "codemirror_mode": {
    "name": "ipython",
    "version": 3
   },
   "file_extension": ".py",
   "mimetype": "text/x-python",
   "name": "python",
   "nbconvert_exporter": "python",
   "pygments_lexer": "ipython3",
   "version": "3.8.3"
  }
 },
 "nbformat": 4,
 "nbformat_minor": 4
}
