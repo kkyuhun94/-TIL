{
 "cells": [
  {
   "cell_type": "markdown",
   "metadata": {},
   "source": [
    "## 학습정리\n",
    "\n",
    "### 15장. 다중 회귀 분석\n",
    " \n",
    "####  15.1 모델\n",
    "####  15.2 최소자승법에 대한 몇 가지 추가 가정\n",
    "####  15.3 모델 학습하기\n",
    "####  15.4 모델 해석하기\n",
    "####  15.5 적합성(Goodness of fit)\n",
    "####  15.6 여담 : 부트스트랩\n",
    "####  15.7 계수의 표준 오차\n",
    "####  15.8 Regularization\n",
    "####  15.9 더 공부해 보고 싶다면"
   ]
  }
 ],
 "metadata": {
  "kernelspec": {
   "display_name": "Python 3",
   "language": "python",
   "name": "python3"
  },
  "language_info": {
   "codemirror_mode": {
    "name": "ipython",
    "version": 3
   },
   "file_extension": ".py",
   "mimetype": "text/x-python",
   "name": "python",
   "nbconvert_exporter": "python",
   "pygments_lexer": "ipython3",
   "version": "3.8.3"
  }
 },
 "nbformat": 4,
 "nbformat_minor": 4
}
