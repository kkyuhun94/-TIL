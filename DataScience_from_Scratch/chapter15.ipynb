{
 "cells": [
  {
   "cell_type": "markdown",
   "metadata": {},
   "source": [
    "## 학습정리\n",
    "\n",
    "### 15장. 다중 회귀 분석\n",
    "* 더 많은 독립변수를 사용하는 선형 모델\n",
    "* 가변수(dummy variable) : 숫자 데이터가 아닌 것을 1과 0으로 표현\n",
    "####  15.1 모델\n",
    "* 단순 회귀 분석에서 입력값 $x_i$하나\n",
    "* 다중 회귀 모델(multiple regression) : $y_i = \\alpha + \\beta_1x_{i1}+...+\\beta_kx_{ik}+\\varepsilon_i$\n",
    "    * $\\beta$ : 파라미터 벡터\n",
    "    \n",
    "####  15.2 최소자승법에 대한 몇 가지 추가 가정\n",
    "* 다중 회귀 모델이 의미가 있기 위한 추가적인 가정\n",
    "    1. x의 열은 서로 선형독립(linear independence)\n",
    "        * 선형독립 : 어떤 벡터도 다른 벡터의 선형 결합으로 만들어질 수 없음\n",
    "        * 이 가정이 성립하지 않으면 베타를 추정할 수 없음\n",
    "    2. 오류 x의 모든 열은 오류 $\\varepsilon$ 과 아무런 상관관계가 없다\n",
    "        * 위의 가정이 성립 하지 않으면 베타를 잘못된 값으로 추정\n",
    "        * 단일 변수 모델의 오류를 줄이기 위해서는 추정된 베타값을 줄여야 함\n",
    "\n",
    "####  15.3 모델 학습하기\n",
    "* 단순 회귀 분석 모델처럼 오류를 제곱한 값의 합을 최소화 해주는 beta를 찾음\n",
    "    * 손으로 직접 정확한 값을 계산하는 것은 쉽지 않기 때문에 경사하강법을 사용\n",
    "* 실제로는 경사 하강법으로 선형 회귀 모델을 추정하지 않음\n",
    "* 선형대수 기법을 사용하면 정확한 계수를 구할 수 있다\n",
    "\n",
    "####  15.4 모델 해석하기\n",
    "* 모델의 계수는 다른 모든 것이 동일할 때 해당 항목의 영향력을 나타냄\n",
    "    * 변수간의 관계를 직접적으로 설명해 주지 못함\n",
    "    * ex. 친구의 수가 많은 사용자의 근무시간, 적은 사용자들의 근무시간은 서로 다른 방식으로 동작\n",
    "        * 대안 : (친구 수 x 근무시간) 새로운 변수를 도입\n",
    "    * 친구수가 증가할 수록 사이트에서 보내는 시간이 증가하다가 어느 수준 이상부터 감소 : 친구수를 제곱 \n",
    "    * 변수 끼리 곱한값, log값, 변수의 제곱 값 등 수 많은 새로운 변수 추가가능\n",
    "        \n",
    "####  15.5 적합성(Goodness of fit)\n",
    "* R제곱 값 \n",
    "    * 회귀 분석 모델에 새로운 변수를 추가하면 R제곱 값이 어쩔 수 없이 증가할 수밖에 없음\n",
    "    * 최적의 다중 회귀 분석 모델은 언제나 단순 회귀 분석 모델보다 같거나 작은 오류값을 가짐\n",
    "    * 다중 회귀 분석 모델에서는 각 계수의 표준 오차(standard errors)를 살펴봐야 함\n",
    "        * 계수의 표준 오차는 추정된 베타의 계수가 얼마나 확실한지 알려줌\n",
    "        * 모델 자체는 주어진 데이터에 적합(fit)할 수도 있지만, 몇몇 독립변수 간에 어떠한 상관관계가 있다면 변수들의 계수는 무의미\n",
    "    * 오차 측정의 일반적인 방법 : 각 오류는 독립, 평균:0, 편차는 $\\sigma$인 정규분포의 확률변수라는 가정\n",
    "        * 선형대수를 이용해서 표준 오차 계산 \n",
    "        * 표준 오차가 클수록 모델이 해당 계수에 대해 확신을 갖지 못한다는 것을 의미\n",
    "    \n",
    "####  15.6 여담 : 부트스트랩\n",
    "* 알 수 없는 분포에서 생성된 표본 데이터 n개가 주어졌다고 상상\n",
    "    * 중앙 값을 분포 자체의 중앙값에 대한 추정치로 사용 가능하지만 신뢰하기 힘듬\n",
    "    * 새로운 표본을 계속 얻을 수 있다면 각 표본의 중앙값을 계산해 보고 값들의 분포를 살펴볼 수 있다.\n",
    "* 부트스트랩(bootstrap) : 새로운 표본 데이터를 만드는 기법\n",
    "    * 기존의 데이터에서 중복이 허용된 재추출을 통해 새로운 n개의 데이터를 생성\n",
    "    * 그리고 만들어진 인공 데이터로 중앙값을 계산 가능\n",
    "    \n",
    "####  15.7 계수의 표준 오차\n",
    "* 계수의 표준 오차 추정에도 부트스트랩을 적용할 수 있음\n",
    "    * 주어진 데이터를 bootstrap_sample함수에 반복적으로 넣어서 표본생성, 각각의 표본으로부터 beta를 추정 가능\n",
    "    * 계수가 표본에 다라 크게 변한다면 추정된 계수를 신뢰하기 힘듬\n",
    "    * 데이터에 속하는 x와 y를 zip으로 묶어서 짝이 되는 독립 변수와 종속 변수가 함께 추출될 수 있게 해줘야 함\n",
    "        * bootstrap_sample이 (x_i,y_i)형태의 리스트를 반환\n",
    "        * 반환된 데이터를 x_sample,y_sample로 다시 나눠줘야 함\n",
    "* from scipy import stats \n",
    "    * stats.chisquare(x,y) : 검정통계량,p-value를 반환\n",
    "    \n",
    "####  15.8 Regularization\n",
    "* 변수가 많이 발생할 때 발생하는 문제\n",
    "    1. 모델이 학습 데이터에 오버피팅하기 쉬워짐\n",
    "    2. 0이 아닌 계수가 많아질수록 모델을 해석하기 어려워짐\n",
    "        * 어떠한 현상 설명이 목표라면 작은 모델을 만드는 것이더 효과적\n",
    "* Regularization : beta가 커지면 커질수록 해당 모델에게 페널티를 주는 방법\n",
    "    * 리지 회귀(ridge regression) : 상수인 beta_0을 제외한 beta_i의 각각을 제곱한 값의 합에 비례하는 페널티 추가\n",
    "        * from sklearn.linear_model import Ridge\n",
    "        * ridgeReg = Ridge(alpha = 0.05, normalize = True)\n",
    "        * ridgeReg.fit(x_train, y_train)\n",
    "        * pred = ridgeReg.predict(x_cv)\n",
    "        * mse = np.mean((pred_cv - y_cv) ** 2)\n",
    "        * alpha를 증가시킬수록 적합성은 감소하고 beta의 크기도 감소\n",
    "    * 라쏘 회귀(lasso regression) : 계수의 값을 0으로 강제하는 효과가 있음\n",
    "        * 보다 희소한(sparse)모델을 학습하는데 사용하기 좋음\n",
    "    \n",
    "####  15.9 더 공부해 보고 싶다면\n",
    "* 회귀 분석에는 탄탄한 이론적 배경이 존재 \n",
    "* scikit-learn : 다양한 regularization방식 모듈을 지원\n",
    "* Statsmodels : 여러 모델 제공"
   ]
  },
  {
   "cell_type": "markdown",
   "metadata": {},
   "source": [
    "## code"
   ]
  },
  {
   "cell_type": "code",
   "execution_count": 2,
   "metadata": {},
   "outputs": [],
   "source": [
    "from typing import List\n",
    "import numpy as np\n",
    "import scipy\n",
    "Vector = List[float]\n",
    "\n",
    "beta = [1, 7, 2, 0]\n",
    "# 독립변수 x \n",
    "x_i = [1, 7, 2, 0]\n",
    "\n",
    "# model\n",
    "def predict(x: Vector, beta: Vector) -> float :\n",
    "    \"\"\"각 x_i의 첫번째 항목은 1이라고 가정\"\"\"\n",
    "    return np.dot(x,beta)\n"
   ]
  },
  {
   "cell_type": "code",
   "execution_count": 5,
   "metadata": {},
   "outputs": [],
   "source": [
    "# 모델 학습하기\n",
    "from typing import List\n",
    "Vector = List[float]\n",
    "\n",
    "def error(x: Vector, y: float, beta: Vector) -> float :\n",
    "    return predict(x,beta) - y\n",
    "\n",
    "def squared_error(x : Vector, y: float, beta: Vector) -> float :\n",
    "    return error(x, y, beta)**2\n"
   ]
  },
  {
   "cell_type": "code",
   "execution_count": 4,
   "metadata": {},
   "outputs": [],
   "source": [
    "x = [1,2,3]\n",
    "y = 30\n",
    "beta = [4,4,4] # 그러므로 예측 결과 = 4+8+12 =24"
   ]
  },
  {
   "cell_type": "code",
   "execution_count": 6,
   "metadata": {},
   "outputs": [
    {
     "data": {
      "text/plain": [
       "-6"
      ]
     },
     "execution_count": 6,
     "metadata": {},
     "output_type": "execute_result"
    }
   ],
   "source": [
    "error(x, y, beta)"
   ]
  },
  {
   "cell_type": "code",
   "execution_count": 8,
   "metadata": {},
   "outputs": [
    {
     "data": {
      "text/plain": [
       "36"
      ]
     },
     "execution_count": 8,
     "metadata": {},
     "output_type": "execute_result"
    }
   ],
   "source": [
    "squared_error(x, y, beta) "
   ]
  },
  {
   "cell_type": "code",
   "execution_count": 9,
   "metadata": {},
   "outputs": [],
   "source": [
    "# error 제곱의 미분 \n",
    "def sqerror_gradient(x: Vector, y: float, beta:Vector) -> Vector :\n",
    "    err = error(x, y, beta)\n",
    "    return [2*err*x_i for x_i in x]\n"
   ]
  },
  {
   "cell_type": "code",
   "execution_count": 10,
   "metadata": {},
   "outputs": [
    {
     "data": {
      "text/plain": [
       "[-12, -24, -36]"
      ]
     },
     "execution_count": 10,
     "metadata": {},
     "output_type": "execute_result"
    }
   ],
   "source": [
    "sqerror_gradient(x, y, beta)"
   ]
  },
  {
   "cell_type": "code",
   "execution_count": 11,
   "metadata": {},
   "outputs": [],
   "source": [
    "def gradient_step(v: Vector, gradient: Vector, step_size : float) -> Vector :\n",
    "    \"\"\"v에서 step_size만큼 이동하기\"\"\"\n",
    "    assert len(v) == len(gradient)\n",
    "    step = np.dot(step_size, gradient)\n",
    "    return add(v, step)"
   ]
  },
  {
   "cell_type": "code",
   "execution_count": 12,
   "metadata": {},
   "outputs": [],
   "source": [
    "# 임의의 데이터를 다룰 수 있는 least_squares_fit\n",
    "import random\n",
    "import tqdm\n",
    "\n",
    "def least_squares_fit(xs : List[Vector], ys : List[float], learning_rate : float = 0.001, num_steps : int = 1000, batch_size : int = 1) -> Vector :\n",
    "    \"\"\"오류의 제곱 합을 최소화 하는 beta를 찾음. 모델 : y = np.dot(x,beta)라 가정\"\"\"\n",
    "    # 임의의 위치에서 출발\n",
    "    guess = [random.random() for _ in xs[0]]\n",
    "    for _ in tqdm.trange(num_steps, desc = \"least squares fit\") :\n",
    "        for start in range(0, len(xs), batch_size) :\n",
    "            batch_xs = xs[start:start+batch_size]\n",
    "            batch_ys = ys[start:start+batch_size]\n",
    "            \n",
    "            gradient = np.mean([sqerror_gradient(x, y, guess) for x,y in zip(batch_xs, batch_ys )], axis = 0 )\n",
    "            \n",
    "            guess = gradient_step(guess, gradient, -learning_rate)\n",
    "    \n",
    "    return guess"
   ]
  },
  {
   "cell_type": "code",
   "execution_count": 13,
   "metadata": {},
   "outputs": [
    {
     "ename": "NameError",
     "evalue": "name 'inputs' is not defined",
     "output_type": "error",
     "traceback": [
      "\u001b[0;31m---------------------------------------------------------------------------\u001b[0m",
      "\u001b[0;31mNameError\u001b[0m                                 Traceback (most recent call last)",
      "\u001b[0;32m<ipython-input-13-94c46cab0e63>\u001b[0m in \u001b[0;36m<module>\u001b[0;34m\u001b[0m\n\u001b[1;32m      2\u001b[0m \u001b[0;31m# 시행착오를 통해 Num_iters와 step_size를 선택\u001b[0m\u001b[0;34m\u001b[0m\u001b[0;34m\u001b[0m\u001b[0;34m\u001b[0m\u001b[0m\n\u001b[1;32m      3\u001b[0m \u001b[0mlearning_rate\u001b[0m \u001b[0;34m=\u001b[0m \u001b[0;36m0.01\u001b[0m\u001b[0;34m\u001b[0m\u001b[0;34m\u001b[0m\u001b[0m\n\u001b[0;32m----> 4\u001b[0;31m \u001b[0mbeta\u001b[0m \u001b[0;34m=\u001b[0m \u001b[0mleast_squares_fit\u001b[0m\u001b[0;34m(\u001b[0m\u001b[0minputs\u001b[0m\u001b[0;34m,\u001b[0m \u001b[0mdaily_minutes_good\u001b[0m\u001b[0;34m,\u001b[0m \u001b[0mlearning_rate\u001b[0m\u001b[0;34m,\u001b[0m \u001b[0;36m5000\u001b[0m\u001b[0;34m,\u001b[0m \u001b[0;36m25\u001b[0m\u001b[0;34m)\u001b[0m\u001b[0;34m\u001b[0m\u001b[0;34m\u001b[0m\u001b[0m\n\u001b[0m",
      "\u001b[0;31mNameError\u001b[0m: name 'inputs' is not defined"
     ]
    }
   ],
   "source": [
    "random.seed(0)\n",
    "# 시행착오를 통해 Num_iters와 step_size를 선택\n",
    "learning_rate = 0.01\n",
    "beta = least_squares_fit(inputs, daily_minutes_good, learning_rate, 5000, 25)"
   ]
  },
  {
   "cell_type": "code",
   "execution_count": 14,
   "metadata": {},
   "outputs": [
    {
     "ename": "NameError",
     "evalue": "name 'get_sample' is not defined",
     "output_type": "error",
     "traceback": [
      "\u001b[0;31m---------------------------------------------------------------------------\u001b[0m",
      "\u001b[0;31mNameError\u001b[0m                                 Traceback (most recent call last)",
      "\u001b[0;32m<ipython-input-14-62d8e36ef565>\u001b[0m in \u001b[0;36m<module>\u001b[0;34m\u001b[0m\n\u001b[0;32m----> 1\u001b[0;31m \u001b[0mdata\u001b[0m \u001b[0;34m=\u001b[0m \u001b[0mget_sample\u001b[0m\u001b[0;34m(\u001b[0m\u001b[0mnump_points\u001b[0m\u001b[0;34m=\u001b[0m\u001b[0mn\u001b[0m\u001b[0;34m)\u001b[0m\u001b[0;34m\u001b[0m\u001b[0;34m\u001b[0m\u001b[0m\n\u001b[0m",
      "\u001b[0;31mNameError\u001b[0m: name 'get_sample' is not defined"
     ]
    }
   ],
   "source": [
    "# 알 수 없는 분포에서 생성된 표본 데이터 n개 \n",
    "data = get_sample(nump_points=n)"
   ]
  },
  {
   "cell_type": "code",
   "execution_count": 15,
   "metadata": {},
   "outputs": [],
   "source": [
    "# bootstrap\n",
    "from typing import TypeVar, Callable\n",
    "\n",
    "X = TypeVar('X')\n",
    "Stat = TypeVar('Stat') # 통계치\n",
    "\n",
    "def bootstrap_sample(data : List[X]) -> List[X] :\n",
    "    \"\"\"len(data)개의 항목을 중복을 허용한 무작위 재추출\"\"\"\n",
    "    return [random.choice(data) for _ in data]\n",
    "\n",
    "def bootstrap_statistic(data : List[X], stats_fn : Callable[[List[X]],Stat],num_samples : int) -> List[Stat] :\n",
    "    \"\"\"num_samples개의 부트스트랩된 표본에 대해 stats_fn을 적용\"\"\"\n",
    "    return [stats_fn(bootstrap_sample(data)) for _ in range(num_samples)]\n"
   ]
  },
  {
   "cell_type": "code",
   "execution_count": 19,
   "metadata": {},
   "outputs": [],
   "source": [
    "# 101개의 데이터가 모두 100에 인접\n",
    "close_to_100 = [99.5 + random.random() for _ in range(101)]\n",
    "\n",
    "# 101개의 데이터가 모두 100에 인접\n",
    "far_from_100 = ([99.5 + random.random()] \n",
    "                + [random.random() for _ in range(50)] \n",
    "                + [200 + random.random() for _ in range(50)])\n",
    "\n",
    "#두 데이터의 중앙값을 계산해 보면 둘다 대략 100에 가까움\n",
    "\n",
    "medians_close = bootstrap_statistic(close_to_100,np.median,100)\n",
    "medians_far = bootstrap_statistic(far_from_100,np.median,100)"
   ]
  },
  {
   "cell_type": "code",
   "execution_count": 18,
   "metadata": {
    "scrolled": true
   },
   "outputs": [
    {
     "data": {
      "text/plain": [
       "[100.07565101416489,\n",
       " 100.08980118353116,\n",
       " 100.10318562796138,\n",
       " 100.11277317986861,\n",
       " 100.09628686158311,\n",
       " 100.1127831050407,\n",
       " 100.07565101416489,\n",
       " 100.28379858903477,\n",
       " 100.08338203945503,\n",
       " 100.11277317986861,\n",
       " 100.16024537862239,\n",
       " 100.15665938898962,\n",
       " 100.07969501074561,\n",
       " 100.10318562796138,\n",
       " 100.08338203945503,\n",
       " 100.13014734041147,\n",
       " 100.1127831050407,\n",
       " 100.08338203945503,\n",
       " 100.09628686158311,\n",
       " 100.08761706417543,\n",
       " 100.15665938898962,\n",
       " 100.07565101416489,\n",
       " 100.1127831050407,\n",
       " 100.06751074062068,\n",
       " 100.08980118353116,\n",
       " 100.07969501074561,\n",
       " 100.13014734041147,\n",
       " 100.16024537862239,\n",
       " 100.11836899667533,\n",
       " 100.1108869734438,\n",
       " 100.08338203945503,\n",
       " 100.08980118353116,\n",
       " 100.15665938898962,\n",
       " 100.07565101416489,\n",
       " 100.09628686158311,\n",
       " 100.10318562796138,\n",
       " 100.07565101416489,\n",
       " 100.05126724609055,\n",
       " 100.09628686158311,\n",
       " 100.06751074062068,\n",
       " 100.11836899667533,\n",
       " 100.1127831050407,\n",
       " 100.08980118353116,\n",
       " 100.04869930383559,\n",
       " 100.10318562796138,\n",
       " 100.13014734041147,\n",
       " 100.09628686158311,\n",
       " 100.08980118353116,\n",
       " 100.2065614098669,\n",
       " 100.08338203945503,\n",
       " 100.11277317986861,\n",
       " 100.1108869734438,\n",
       " 100.07565101416489,\n",
       " 100.11277317986861,\n",
       " 100.10318562796138,\n",
       " 100.11836899667533,\n",
       " 100.11836899667533,\n",
       " 100.07969501074561,\n",
       " 100.08761706417543,\n",
       " 100.16815320123185,\n",
       " 100.00794064252058,\n",
       " 100.1108869734438,\n",
       " 100.1108869734438,\n",
       " 100.07565101416489,\n",
       " 100.08761706417543,\n",
       " 100.1108869734438,\n",
       " 100.08761706417543,\n",
       " 100.08338203945503,\n",
       " 100.10318562796138,\n",
       " 100.06751074062068,\n",
       " 100.06751074062068,\n",
       " 100.1108869734438,\n",
       " 100.07565101416489,\n",
       " 100.04869930383559,\n",
       " 100.08761706417543,\n",
       " 100.07565101416489,\n",
       " 100.06751074062068,\n",
       " 100.1108869734438,\n",
       " 100.13014734041147,\n",
       " 100.08338203945503,\n",
       " 100.08761706417543,\n",
       " 100.1108869734438,\n",
       " 100.10318562796138,\n",
       " 100.11277317986861,\n",
       " 100.08980118353116,\n",
       " 100.04059992494805,\n",
       " 100.10318562796138,\n",
       " 100.16815320123185,\n",
       " 100.16815320123185,\n",
       " 100.11836899667533,\n",
       " 100.08338203945503,\n",
       " 100.11277317986861,\n",
       " 100.08761706417543,\n",
       " 100.08338203945503,\n",
       " 100.07969501074561,\n",
       " 100.1127831050407,\n",
       " 100.08980118353116,\n",
       " 100.1108869734438,\n",
       " 100.08761706417543,\n",
       " 100.08761706417543]"
      ]
     },
     "execution_count": 18,
     "metadata": {},
     "output_type": "execute_result"
    }
   ],
   "source": [
    "median_close"
   ]
  },
  {
   "cell_type": "code",
   "execution_count": 20,
   "metadata": {
    "scrolled": true
   },
   "outputs": [
    {
     "data": {
      "text/plain": [
       "[200.1287266819066,\n",
       " 0.9760425696983783,\n",
       " 0.9760425696983783,\n",
       " 200.10959367553605,\n",
       " 0.9530128615600687,\n",
       " 200.17801399215216,\n",
       " 200.2051726060806,\n",
       " 200.17027001850138,\n",
       " 100.28659518125816,\n",
       " 0.9530128615600687,\n",
       " 200.1287266819066,\n",
       " 0.9560559477266909,\n",
       " 0.9760425696983783,\n",
       " 200.1498434896277,\n",
       " 0.9560559477266909,\n",
       " 0.9530128615600687,\n",
       " 0.9233186292804269,\n",
       " 200.1287266819066,\n",
       " 200.19452206050659,\n",
       " 0.9233186292804269,\n",
       " 0.9760425696983783,\n",
       " 200.1287266819066,\n",
       " 0.9459861529866523,\n",
       " 100.28659518125816,\n",
       " 0.7934091284137018,\n",
       " 200.17801399215216,\n",
       " 0.9233186292804269,\n",
       " 200.22811454204293,\n",
       " 0.8762488966905752,\n",
       " 200.10959367553605,\n",
       " 0.9948714782092585,\n",
       " 0.9560559477266909,\n",
       " 200.10959367553605,\n",
       " 0.9459861529866523,\n",
       " 0.9060637234060837,\n",
       " 100.28659518125816,\n",
       " 200.1287266819066,\n",
       " 0.9560559477266909,\n",
       " 200.1498434896277,\n",
       " 0.9459861529866523,\n",
       " 200.1498434896277,\n",
       " 200.10959367553605,\n",
       " 200.2051726060806,\n",
       " 0.9948714782092585,\n",
       " 0.9530128615600687,\n",
       " 200.1498434896277,\n",
       " 200.1287266819066,\n",
       " 200.1498434896277,\n",
       " 0.8960930323101582,\n",
       " 0.9948714782092585,\n",
       " 100.28659518125816,\n",
       " 0.9948714782092585,\n",
       " 100.28659518125816,\n",
       " 200.17801399215216,\n",
       " 0.9948714782092585,\n",
       " 200.26786494530143,\n",
       " 0.9760425696983783,\n",
       " 0.9560559477266909,\n",
       " 100.28659518125816,\n",
       " 200.10959367553605,\n",
       " 0.9061304378820908,\n",
       " 0.9760425696983783,\n",
       " 0.9560559477266909,\n",
       " 200.1498434896277,\n",
       " 0.9530128615600687,\n",
       " 0.9948714782092585,\n",
       " 0.9530128615600687,\n",
       " 0.9530128615600687,\n",
       " 200.24961835713566,\n",
       " 0.9560559477266909,\n",
       " 0.9530128615600687,\n",
       " 200.17801399215216,\n",
       " 0.9560559477266909,\n",
       " 200.1154986039241,\n",
       " 200.19452206050659,\n",
       " 0.9560559477266909,\n",
       " 200.1287266819066,\n",
       " 0.9560559477266909,\n",
       " 200.10959367553605,\n",
       " 200.1154986039241,\n",
       " 200.19452206050659,\n",
       " 200.10959367553605,\n",
       " 200.19452206050659,\n",
       " 0.9948714782092585,\n",
       " 200.2085055819938,\n",
       " 200.1154986039241,\n",
       " 200.1287266819066,\n",
       " 200.1154986039241,\n",
       " 200.17801399215216,\n",
       " 200.19452206050659,\n",
       " 200.17027001850138,\n",
       " 200.1287266819066,\n",
       " 100.28659518125816,\n",
       " 200.1287266819066,\n",
       " 200.10959367553605,\n",
       " 0.9061304378820908,\n",
       " 0.9760425696983783,\n",
       " 200.24961835713566,\n",
       " 200.17027001850138,\n",
       " 0.9948714782092585]"
      ]
     },
     "execution_count": 20,
     "metadata": {},
     "output_type": "execute_result"
    }
   ],
   "source": [
    "medians_far"
   ]
  },
  {
   "cell_type": "code",
   "execution_count": 21,
   "metadata": {},
   "outputs": [
    {
     "data": {
      "text/plain": [
       "0.04537106622723276"
      ]
     },
     "execution_count": 21,
     "metadata": {},
     "output_type": "execute_result"
    }
   ],
   "source": [
    "np.std(medians_close)"
   ]
  },
  {
   "cell_type": "code",
   "execution_count": 22,
   "metadata": {},
   "outputs": [
    {
     "data": {
      "text/plain": [
       "96.00676598793528"
      ]
     },
     "execution_count": 22,
     "metadata": {},
     "output_type": "execute_result"
    }
   ],
   "source": [
    "np.std(medians_far)"
   ]
  },
  {
   "cell_type": "code",
   "execution_count": 23,
   "metadata": {},
   "outputs": [],
   "source": [
    "# 계수의 표준 오차\n",
    "from typing import Tuple\n",
    "import datetime\n",
    "\n",
    "def estimate_sample_beta(pairs : List[Tuple[Vector, float]]) :\n",
    "    x_sample = [x for x, _ in pairs]\n",
    "    y_sample = [y for _, y in pairs]\n",
    "    beta = least_squares_fit(x_sample, y_sample, learning_rate, 5000, 25)\n",
    "    print(\"bootstrap sample\", beta)\n",
    "    return beta"
   ]
  },
  {
   "cell_type": "code",
   "execution_count": 24,
   "metadata": {},
   "outputs": [
    {
     "ename": "NameError",
     "evalue": "name 'inputs' is not defined",
     "output_type": "error",
     "traceback": [
      "\u001b[0;31m---------------------------------------------------------------------------\u001b[0m",
      "\u001b[0;31mNameError\u001b[0m                                 Traceback (most recent call last)",
      "\u001b[0;32m<ipython-input-24-2029d02ce424>\u001b[0m in \u001b[0;36m<module>\u001b[0;34m\u001b[0m\n\u001b[1;32m      1\u001b[0m \u001b[0mrandom\u001b[0m\u001b[0;34m.\u001b[0m\u001b[0mseed\u001b[0m\u001b[0;34m(\u001b[0m\u001b[0;36m0\u001b[0m\u001b[0;34m)\u001b[0m \u001b[0;31m# so that you get the same results as me\u001b[0m\u001b[0;34m\u001b[0m\u001b[0;34m\u001b[0m\u001b[0m\n\u001b[1;32m      2\u001b[0m \u001b[0;31m# 몇분 걸림\u001b[0m\u001b[0;34m\u001b[0m\u001b[0;34m\u001b[0m\u001b[0;34m\u001b[0m\u001b[0m\n\u001b[0;32m----> 3\u001b[0;31m bootstrap_betas = bootstrap_statistic(list(zip(inputs,daily_minutes_good)),\n\u001b[0m\u001b[1;32m      4\u001b[0m                                      \u001b[0mestimate_sample_beta\u001b[0m\u001b[0;34m,\u001b[0m\u001b[0;34m\u001b[0m\u001b[0;34m\u001b[0m\u001b[0m\n\u001b[1;32m      5\u001b[0m                                      100)\n",
      "\u001b[0;31mNameError\u001b[0m: name 'inputs' is not defined"
     ]
    }
   ],
   "source": [
    "random.seed(0) # so that you get the same results as me\n",
    "# 몇분 걸림\n",
    "bootstrap_betas = bootstrap_statistic(list(zip(inputs,daily_minutes_good)),\n",
    "                                     estimate_sample_beta,\n",
    "                                     100)"
   ]
  },
  {
   "cell_type": "code",
   "execution_count": null,
   "metadata": {},
   "outputs": [],
   "source": [
    "bootstrap_standard_errors = [np.std([beta[i] for beta in bootstrap_betas]) for i in range(4)]\n",
    "print(bootstrap_standard_errors)\n"
   ]
  }
 ],
 "metadata": {
  "kernelspec": {
   "display_name": "Python 3",
   "language": "python",
   "name": "python3"
  },
  "language_info": {
   "codemirror_mode": {
    "name": "ipython",
    "version": 3
   },
   "file_extension": ".py",
   "mimetype": "text/x-python",
   "name": "python",
   "nbconvert_exporter": "python",
   "pygments_lexer": "ipython3",
   "version": "3.8.3"
  }
 },
 "nbformat": 4,
 "nbformat_minor": 4
}
