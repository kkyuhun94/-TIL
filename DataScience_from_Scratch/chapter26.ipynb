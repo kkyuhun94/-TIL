{
 "cells": [
  {
   "cell_type": "markdown",
   "metadata": {},
   "source": [
    "## 학습정리\n",
    "\n",
    "### 26장. 데이터 윤리\n",
    "* 정성적인 특징\n",
    "####  26.1 데이터 윤리란 무엇인가?\n",
    "####  26.2 아니, 진짜로, 데이터 윤리가 뭔데?\n",
    "####  26.3 데이터 윤리에 대해 신경 써야 할까?\n",
    "####  26.4 나쁜 데이터 제품 만들기\n",
    "####  26.5 정확도와 공정함의 균형을 유지\n",
    "####  26.6 협력\n",
    "####  26.7 해석 가능성\n",
    "####  26.8 추천\n",
    "####  26.9 편향된 데이터\n",
    "####  26.10 데이터 보호\n",
    "####  26.11 요약\n",
    "####  26.12 더 공부해 보고 싶다면"
   ]
  }
 ],
 "metadata": {
  "kernelspec": {
   "display_name": "Python 3",
   "language": "python",
   "name": "python3"
  },
  "language_info": {
   "codemirror_mode": {
    "name": "ipython",
    "version": 3
   },
   "file_extension": ".py",
   "mimetype": "text/x-python",
   "name": "python",
   "nbconvert_exporter": "python",
   "pygments_lexer": "ipython3",
   "version": "3.8.3"
  }
 },
 "nbformat": 4,
 "nbformat_minor": 4
}
