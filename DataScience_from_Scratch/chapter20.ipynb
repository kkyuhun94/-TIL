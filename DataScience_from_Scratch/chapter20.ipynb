{
 "cells": [
  {
   "cell_type": "markdown",
   "metadata": {},
   "source": [
    "## 학습정리\n",
    "\n",
    "### 20장. 군집화\n",
    "* 지도 학습(supervised learning) : 레이블이 있는 데이터로 모델을 학습해서 레이블이 없는 데이터의 레이블을 예측\n",
    "* 비지도 학습(unsupervised learning) : 레이블이 없는 데이터를 사용하거나 있더라도 사용하지 않는 학습\n",
    "    * 군집화(clustering) : 비지도 학습의 일종\n",
    "\n",
    "####  20.1 군집화 감 잡기\n",
    "* 군집화 : 대부분의 데이터는 군집(cluster)를 이룬다\n",
    "    * 군집화를 할 때는 '정답'이라는 것이 없다 \n",
    "    * 군집 평가에 사용되는 지수에 따라 최적인지를 판단\n",
    "    * 데이터를 하나하나 개별적으로 들여다 보며 직접 레이블을 달아야 한다 \n",
    "    \n",
    "####  20.2 모델\n",
    "* 각 입력값 : 숫자로 구성된 d-차원 공간의 벡터\n",
    "* 목표 : 유사한 입력값끼리 묶어서 군집을 찾고, 군집에 맞는 대푯값을 찾는다\n",
    "    * ex) 블로그 포스트 제목 군집화, RGB컬러 이미지의 색을 줄이기 위한 군집화\n",
    "    \n",
    "* k-means : 군집의 개수 k를 미리 정해두는 군집화 방법\n",
    "    * 각 데이터 포인트가 속한 군집의 중심점(mean)과의 거리의 제곱 합을 최소화 시키며 데이터를 $S_1,...,S_k$군집으로 나눈다.\n",
    "    * 군집으로 할당하는 방법\n",
    "        1. d-차원의 공간에서 임의의 점 k개를 찍고, 이들을 각 군집의 중심점으로 간주\n",
    "        2. 각 데이터 포인트에서 가장 가까운 중심점을 기준으로 군집을 정한다.\n",
    "        3. 소속된 군집이 바뀐 데이터 포인트가 하나도 없다면 군집을 기록하고 종료.\n",
    "        4. 소속된 군집이 바뀐 데이터 포인트가 하나라도 있다면 중심점을 다시 계산 하고 2단계로 돌아감 \n",
    "    * 좌표상 차이를 측정하는 함수 : 학습에 사용\n",
    "    \n",
    "\n",
    "####  20.3 예시 : 오프라인 모임\n",
    "####  20.4 k 값 선택하기\n",
    "####  20.5 예시 : 색 군집화하기\n",
    "####  20.6 상향식 계층 군집화\n",
    "####  20.7 더 공부해 보고 싶다면 \n"
   ]
  },
  {
   "cell_type": "markdown",
   "metadata": {},
   "source": [
    "## Code"
   ]
  }
 ],
 "metadata": {
  "kernelspec": {
   "display_name": "Python 3",
   "language": "python",
   "name": "python3"
  },
  "language_info": {
   "codemirror_mode": {
    "name": "ipython",
    "version": 3
   },
   "file_extension": ".py",
   "mimetype": "text/x-python",
   "name": "python",
   "nbconvert_exporter": "python",
   "pygments_lexer": "ipython3",
   "version": "3.8.3"
  }
 },
 "nbformat": 4,
 "nbformat_minor": 4
}
