{
 "cells": [
  {
   "cell_type": "markdown",
   "metadata": {},
   "source": [
    "## 학습정리\n",
    "\n",
    "### 20장. 군집화\n",
    "* 정성적인 특징\n",
    "####  20.1 군집화 감 잡기\n",
    "####  20.2 모델\n",
    "####  20.3 예시 : 오프라인 모임\n",
    "####  20.4 k 값 선택하기\n",
    "####  20.5 예시 : 색 군집화하기\n",
    "####  20.6 상향식 계층 군집화\n",
    "####  20.7 더 공부해 보고 싶다면 \n"
   ]
  }
 ],
 "metadata": {
  "kernelspec": {
   "display_name": "Python 3",
   "language": "python",
   "name": "python3"
  },
  "language_info": {
   "codemirror_mode": {
    "name": "ipython",
    "version": 3
   },
   "file_extension": ".py",
   "mimetype": "text/x-python",
   "name": "python",
   "nbconvert_exporter": "python",
   "pygments_lexer": "ipython3",
   "version": "3.8.3"
  }
 },
 "nbformat": 4,
 "nbformat_minor": 4
}
