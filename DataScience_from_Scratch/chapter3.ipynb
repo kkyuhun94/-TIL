{
 "cells": [
  {
   "cell_type": "markdown",
   "metadata": {},
   "source": [
    "## 학습정리\n",
    "\n",
    "### 3장. 데이터 시각화 \n",
    "\n",
    "#### 3.1 matplotlib\n",
    "* 데이터 시각화의 목적 \n",
    "    1. 데이터 탐색(exploration)\n",
    "    2. 데이터 전달(communication)\n",
    "    \n",
    "* 데이터 시각화를 하기위한 도구 : matplotlib\n",
    "    * pyplot\n",
    "       * 시각화를 단계별로 간편하게 만들 수 있는 구조\n",
    "       * savefig() : 저장\n",
    "       * show() : 출력\n",
    "\n",
    "#### 3.2 막대 그래프\n",
    "* 막대 그래프(bar chart)\n",
    "    * 이산적인(discrete) 항목들에 대한 변화를 보여줄 때 사용\n",
    "* 히스토그램(histogram)\n",
    "    * 정해진 구간에 해당되는 항목의 개수를 보여주어 값의 분포를 관찰 할때 사용\n",
    "* plt.xticks()\n",
    "\n",
    "\n",
    "#### 3.3 선 그래프\n",
    "* 선 그래프(line chart)\n",
    "    * 어떤 경향을 보여줄 때 사용\n",
    "* plt.plot()\n",
    "\n",
    "#### 3.4 산점도\n",
    "* 산점도(scatterplot)\n",
    "    * 두 변수 간의 연관 관계를 보여주고 싶을 때 적합\n",
    "* plt.scatter()\n",
    "    * 변수들끼리 비교할 대 자동으로 축의 범위를 설정하게 하면 공정한 비교를 하지 못함\n",
    "        * plt.axis(\"equal\")사용\n",
    "\n",
    "#### 3.5 더 공부해 보고 싶다면\n",
    "* matplotlib 갤러리\n",
    "* seaborn : matplotlib를 발전 시킴\n",
    "* Altair : 선언형 시각화(declarative visualization) 파이썬 라이브러리\n",
    "* D3.js : 웹을 위한 인터랙티브 시각화를 만드는데 사용되는 자바스크립트 라이브러리\n",
    "* Bokeh : D3.js스타일의 시각화를 파이썬에서 만들 수 있게 해주는 라이브러리\n",
    "\n",
    "    "
   ]
  },
  {
   "cell_type": "markdown",
   "metadata": {},
   "source": [
    "## 코드정리"
   ]
  }
 ],
 "metadata": {
  "kernelspec": {
   "display_name": "Python 3",
   "language": "python",
   "name": "python3"
  },
  "language_info": {
   "codemirror_mode": {
    "name": "ipython",
    "version": 3
   },
   "file_extension": ".py",
   "mimetype": "text/x-python",
   "name": "python",
   "nbconvert_exporter": "python",
   "pygments_lexer": "ipython3",
   "version": "3.8.3"
  }
 },
 "nbformat": 4,
 "nbformat_minor": 4
}
