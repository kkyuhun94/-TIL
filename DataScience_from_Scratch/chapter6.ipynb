{
 "cells": [
  {
   "cell_type": "markdown",
   "metadata": {},
   "source": [
    "## 학습정리\n",
    "\n",
    "### 6장. 확률\n",
    "\n",
    "#### 6.1 종속성과 독립성\n",
    "#### 6.2 조건부 확률\n",
    "#### 6.3 베이즈 정리\n",
    "#### 6.4 확률변수\n",
    "#### 6.5 연속분포\n",
    "#### 6.6 정규분포\n",
    "#### 6.7 중심극한정리\n",
    "#### 6.8 더 공부해 보고 싶다면"
   ]
  }
 ],
 "metadata": {
  "kernelspec": {
   "display_name": "Python 3",
   "language": "python",
   "name": "python3"
  },
  "language_info": {
   "codemirror_mode": {
    "name": "ipython",
    "version": 3
   },
   "file_extension": ".py",
   "mimetype": "text/x-python",
   "name": "python",
   "nbconvert_exporter": "python",
   "pygments_lexer": "ipython3",
   "version": "3.8.3"
  }
 },
 "nbformat": 4,
 "nbformat_minor": 4
}
