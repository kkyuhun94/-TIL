{
 "cells": [
  {
   "cell_type": "markdown",
   "metadata": {},
   "source": [
    "## 학습정리\n",
    "\n",
    "### 25장. 맵리듀스\n",
    "* 정성적인 특징\n",
    "####  25.1 예시 : 단어 수 세기\n",
    "####  25.2 왜 맵리듀스인가?\n",
    "####  25.3 맵리듀스 일반화하기\n",
    "####  25.4 예시 : 사용자의 글 분석하기\n",
    "####  25.5 행렬 곱셈\n",
    "####  25.6 Combiner\n",
    "####  25.7 더 공부해 보고 싶다면"
   ]
  }
 ],
 "metadata": {
  "kernelspec": {
   "display_name": "Python 3",
   "language": "python",
   "name": "python3"
  },
  "language_info": {
   "codemirror_mode": {
    "name": "ipython",
    "version": 3
   },
   "file_extension": ".py",
   "mimetype": "text/x-python",
   "name": "python",
   "nbconvert_exporter": "python",
   "pygments_lexer": "ipython3",
   "version": "3.8.3"
  }
 },
 "nbformat": 4,
 "nbformat_minor": 4
}
