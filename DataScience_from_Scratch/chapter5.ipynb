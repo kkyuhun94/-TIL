{
 "cells": [
  {
   "cell_type": "markdown",
   "metadata": {},
   "source": [
    "## 학습정리\n",
    "\n",
    "### 5장. 통계\n",
    "* 통계 : 데이터를 이해하는 바탕이 되는 수리적 기법 \n",
    "    * 데이터 셋이 작을때는 직접 보여주는 것으로 설명이 가능\n",
    "\n",
    "#### 5.1 데이터셋 설명하기\n",
    "\n",
    "* 데이터가 많을 때 통계를 사용해서 중요한 정보만 전달 가능\n",
    "    * 가장 간단한 통계치  \n",
    "        * 데이터 포인트의 개수 : len\n",
    "        * 최댓값 : max \n",
    "        * 최솟값 : min\n",
    "    * 정렬된 리스트의 특정 위치에 있는 값을 구하는 문제로 해석 : sotred\n",
    "        * min : sorted_value[0]  \n",
    "        * max : sorted_value[-1]\n",
    "        \n",
    "* 중심 경향성(central tendency)\n",
    "    * 데이터의 중심이 어디 있는지를 나타냄\n",
    "    * 평균(average) : 총합 / 개수\n",
    "    * 중앙값(median) : \n",
    "    \n",
    "\n",
    "* 산포도\n",
    "\n",
    "#### 5.2 상관관계\n",
    "#### 5.3 심슨의 역설\n",
    "#### 5.4 상관관계에 대한 추가적인 경고 사항\n",
    "#### 5.5 상관관계와 인과관계\n",
    "#### 5.6 더 공부해 보고 싶다면"
   ]
  },
  {
   "cell_type": "markdown",
   "metadata": {},
   "source": [
    "## code"
   ]
  },
  {
   "cell_type": "code",
   "execution_count": 18,
   "metadata": {},
   "outputs": [],
   "source": [
    "import random\n",
    "import numpy as np\n",
    "# dataset\n",
    "num_friends = [ random.randrange(1,100,1) for i in range(100) ]"
   ]
  },
  {
   "cell_type": "code",
   "execution_count": 19,
   "metadata": {},
   "outputs": [
    {
     "data": {
      "image/png": "[encoded data removed]",
      "text/plain": [
       "<Figure size 432x288 with 1 Axes>"
      ]
     },
     "metadata": {
      "needs_background": "light"
     },
     "output_type": "display_data"
    }
   ],
   "source": [
    "from collections import Counter\n",
    "import matplotlib.pyplot as plt\n",
    "\n",
    "friend_counts = Counter(num_friends)\n",
    "xs = range(101)\n",
    "ys = [friend_counts[x] for x in xs]\n",
    "plt.bar(xs, ys)\n",
    "plt.axis([0, 101, 0, 25])\n",
    "plt.title(\"Histogram of Friend Counts\")\n",
    "plt.xlabel(\"# of friends\")\n",
    "plt.ylabel(\"# of people\")\n",
    "plt.show()"
   ]
  },
  {
   "cell_type": "code",
   "execution_count": null,
   "metadata": {},
   "outputs": [],
   "source": []
  }
 ],
 "metadata": {
  "kernelspec": {
   "display_name": "Python 3",
   "language": "python",
   "name": "python3"
  },
  "language_info": {
   "codemirror_mode": {
    "name": "ipython",
    "version": 3
   },
   "file_extension": ".py",
   "mimetype": "text/x-python",
   "name": "python",
   "nbconvert_exporter": "python",
   "pygments_lexer": "ipython3",
   "version": "3.8.3"
  }
 },
 "nbformat": 4,
 "nbformat_minor": 4
}
