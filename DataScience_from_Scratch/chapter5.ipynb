{
 "cells": [
  {
   "cell_type": "markdown",
   "metadata": {},
   "source": [
    "## 학습정리\n",
    "\n",
    "### 5장. 통계\n",
    "\n",
    "#### 5.1 데이터셋 설명하기\n",
    "* 중심 경향성\n",
    "* 산포도\n",
    "#### 5.2 상관관계\n",
    "#### 5.3 심슨의 역설\n",
    "#### 5.4 상관관계에 대한 추가적인 경고 사항\n",
    "#### 5.5 상관관계와 인과관계\n",
    "#### 5.6 더 공부해 보고 싶다면"
   ]
  }
 ],
 "metadata": {
  "kernelspec": {
   "display_name": "Python 3",
   "language": "python",
   "name": "python3"
  },
  "language_info": {
   "codemirror_mode": {
    "name": "ipython",
    "version": 3
   },
   "file_extension": ".py",
   "mimetype": "text/x-python",
   "name": "python",
   "nbconvert_exporter": "python",
   "pygments_lexer": "ipython3",
   "version": "3.8.3"
  }
 },
 "nbformat": 4,
 "nbformat_minor": 4
}
