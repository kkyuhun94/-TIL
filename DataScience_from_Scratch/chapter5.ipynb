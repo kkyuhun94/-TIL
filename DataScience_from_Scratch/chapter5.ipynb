{
 "cells": [
  {
   "cell_type": "markdown",
   "metadata": {},
   "source": [
    "## 학습정리\n",
    "\n",
    "### 5장. 통계\n",
    "* 통계 : 데이터를 이해하는 바탕이 되는 수리적 기법 \n",
    "    * 데이터 셋이 작을때는 직접 보여주는 것으로 설명이 가능\n",
    "\n",
    "#### 5.1 데이터셋 설명하기\n",
    "\n",
    "* 데이터가 많을 때 통계를 사용해서 중요한 정보만 전달 가능\n",
    "    * 가장 간단한 통계치  \n",
    "        * 데이터 포인트의 개수 : len\n",
    "        * 최댓값 : max \n",
    "        * 최솟값 : min\n",
    "    * 정렬된 리스트의 특정 위치에 있는 값을 구하는 문제로 해석 : sotred\n",
    "        * min : sorted_value[0]  \n",
    "        * max : sorted_value[-1]\n",
    "        \n",
    "* 중심 경향성(central tendency)\n",
    "    * 데이터의 중심이 어디 있는지를 나타냄\n",
    "    * 평균(average) : 총합 / 개수\n",
    "        * 중앙값보다 계산하기 간편, 데이터가 바뀌어도 값의 변화가 부드러움 : 다양한 미적분 기법을 적용가능\n",
    "        * 이상치(outlier)에 민감\n",
    "    * 중앙값(median) : 전체 데이터에서 가장 중앙에 있는 데이터 / 두 데이터의 평균(전체 개수가 짝수인 경우)\n",
    "        * 중앙값을 찾기 위해서는 주어진 데이터를 정렬 해야함 \n",
    "        * 가장 큰 데이터가 더 커져도 값은 변하지 않음 : 이상치에 둔감\n",
    "    * 분위(quantile) : 특정 백분위 보다 낮은 분위에 속하는 데이터 (중앙값을 포괄하는 개념)\n",
    "    * 최빈값(mode) : 데이터에서 가장 자주 나오는 값 \n",
    "   \n",
    "        \n",
    "* 산포도(dispersion)\n",
    "    * 데이터가 얼마나 퍼져 있는지를 나타냄\n",
    "        * 0과 근접할 수록 거의 퍼져있지 않음, 커질수록 많이 퍼져 있다\n",
    "        * 이상치에 민감하게 반응\n",
    "            * 안정적인 방법 : 상위 25% - 하위 25%를 사용해 이상치의 영향을 일부 제거 \n",
    "    * 범위(range) : 가장 큰 값과 작은 값의 차. 산포도를 나타내는 가장 간단한 통계치\n",
    "        * min,max가 동일한 경우 : 0\n",
    "        * 범위가 크면 min에 비해 max가 훨씬 크다는 것을 의미 : 데이터가 더 퍼져있다\n",
    "        * 데이터 전체에 의존하지 않고 min,max에 의해서만 변화\n",
    "    * 분산(variance) : 편차(데이터에서 평균을 뺀값)의 제곱의 평균\n",
    "        * 기존 단위의 제곱\n",
    "    * 표준 편차(standard deviation) : 분산의 제곱근\n",
    "        * 기존 단위\n",
    "\n",
    "#### 5.2 상관관계\n",
    "* 공분산(covariance) : 두 변수가 각각의 평균에서 얼마나 멀리 떨어져 있는지 확인\n",
    "    * cov(x,y)  \n",
    "        * x, y 모두 각각의 평균보다 크거나 작은 경우, 양수\n",
    "        * 둘 중 하나는 평균보다 크고 다른 하나는 평균보다 작을 경우, 음수\n",
    "    * 공분산을 해석하는 것이 쉽지 않은 이유\n",
    "        * 공분산의 단위는 입력 변수의 단위들을 곱해서 계산되어 이해하기 어려움\n",
    "        * 공분산의 절대적인 값만으로 변수의 관계를 판단하기 어렵다\n",
    "\n",
    "* 상관관계(correlation) : 공분산에서 각각의 표준편차를 나눠준 값\n",
    "    * 단위가 없음 : 항상 -1(완벽한 음의 상관관계) ~ +1(완벽한 양의 상관관계)\n",
    "    * 이상치를 제거하면 더 강력한 상관관계를 찾을 수 있음\n",
    "\n",
    "#### 5.3 심슨의 역설\n",
    "* Simpson's paradox : 혼재변수(confounding variables)가 누락되어 상관관계가 잘못 계산됨\n",
    "    * 상관관계 : 다른 모든 것이 동일할 때 두 변수의 관계를 나타내는 것\n",
    "        * 데이터에 어떠한 패턴이 존재한다면 다른 모든것이 동일하다는 가정은 성립되지 않음\n",
    "    * solution : 데이터를 이해하고 변수에 영향을 주는 모든 요인을 확인하는 방법이 유일\n",
    "    \n",
    "#### 5.4 상관관계에 대한 추가적인 경고 사항\n",
    "* 상관관계가 0이라는 것은 두 변수 사이에 선형적인 관계가 없다는 것을 의미\n",
    "    * 선형적이지 않은 다른 종류의 관계가 존재할 수도 있음\n",
    "\n",
    "* 상관관계는 연관성이 얼마나 크고 작은지 설명해 주지 않음\n",
    "\n",
    "#### 5.5 상관관계와 인과관계\n",
    "* 상관관계는 인과관계를 의미하지 않는다(correlation is not causation)\n",
    "    * x와 y가 강한 상관관계를 보임 \n",
    "        * x가 y를 ,또는 y가 x를,또는 서로 동시에 발생시켰다고 볼 수 있지만 아무런 인과관계가 없을 수 도 있음\n",
    "\n",
    "* 인과관계를 확인해 보는 방법 \n",
    "    * 데이터 포인트를 무작위로 선택해서 확인\n",
    "        * 사용자를 비슷한 조건과 성질의 두 그룹으로 나누고 한 그룹에만 다른 요인을 적용해서 해당 요인과 결과의 인과관계를 확인 가능\n",
    "    \n",
    "#### 5.6 더 공부해 보고 싶다면\n",
    "* SciPy, pandas, Statsmodels 모두 다양한 통계 관련 함수를 포함\n",
    "\n",
    "* 통계학 무료 온라인 교과서\n",
    "    * Introductory Statistics\n",
    "    * OnlineStatBook\n",
    "    * OpenStax Introductory Statistics\n",
    " "
   ]
  },
  {
   "cell_type": "markdown",
   "metadata": {},
   "source": [
    "## code"
   ]
  },
  {
   "cell_type": "code",
   "execution_count": 10,
   "metadata": {},
   "outputs": [],
   "source": [
    "from typing import Callable,List,Tuple"
   ]
  },
  {
   "cell_type": "code",
   "execution_count": 11,
   "metadata": {},
   "outputs": [],
   "source": [
    "import random\n",
    "import numpy as np\n",
    "# dataset\n",
    "num_friends = [ random.randrange(1,100,1) for i in range(100) ]"
   ]
  },
  {
   "cell_type": "code",
   "execution_count": 12,
   "metadata": {
    "scrolled": true
   },
   "outputs": [
    {
     "data": {
      "image/png": "[encoded data removed]",
      "text/plain": [
       "<Figure size 432x288 with 1 Axes>"
      ]
     },
     "metadata": {
      "needs_background": "light"
     },
     "output_type": "display_data"
    }
   ],
   "source": [
    "from collections import Counter\n",
    "import matplotlib.pyplot as plt\n",
    "\n",
    "friend_counts = Counter(num_friends)\n",
    "xs = range(101)\n",
    "ys = [friend_counts[x] for x in xs]\n",
    "plt.bar(xs, ys)\n",
    "plt.axis([0, 101, 0, 25])\n",
    "plt.title(\"Histogram of Friend Counts\")\n",
    "plt.xlabel(\"# of friends\")\n",
    "plt.ylabel(\"# of people\")\n",
    "plt.show()"
   ]
  },
  {
   "cell_type": "code",
   "execution_count": 13,
   "metadata": {},
   "outputs": [
    {
     "data": {
      "text/plain": [
       "53.36"
      ]
     },
     "execution_count": 13,
     "metadata": {},
     "output_type": "execute_result"
    }
   ],
   "source": [
    "# 평균 \n",
    "def mean(xs : List[float]) -> float :\n",
    "    return sum(xs) / len(xs)\n",
    "\n",
    "mean(num_friends)"
   ]
  },
  {
   "cell_type": "code",
   "execution_count": 14,
   "metadata": {},
   "outputs": [],
   "source": [
    "# median \n",
    "def _median_odd(xs : List[float]) -> float :\n",
    "    \"\"\"len(xs)가 홀수면 중앙값을 반환\"\"\"\n",
    "    return sorted(xs)[len(xs)//2]\n",
    "\n",
    "def _median_even(xs: List[float]) -> float :\n",
    "    \"\"\"len(xs)가 짝수면 두 중앙값의 평균을 반환\"\"\"\n",
    "    sorted_xs = sorted(xs)\n",
    "    hi_midpoint = len(xs) // 2 # e.g length 4 => hi_midpoint 2\n",
    "    return (sorted_xs[hi_midpoint - 1] + sorted_xs[hi_midpoint]) / 2\n",
    "\n",
    "def median(v: List[float]) -> float :\n",
    "    \"\"\"v의 중앙값을 계산\"\"\"\n",
    "    return _median_even(v) if len(v) % 2 == 0 else _median_odd(v)\n",
    "\n",
    "assert median([1, 10, 2, 9, 5]) == 5\n",
    "assert median([1, 9, 2, 10]) == (2 + 9) / 2\n"
   ]
  },
  {
   "cell_type": "code",
   "execution_count": 15,
   "metadata": {},
   "outputs": [
    {
     "name": "stdout",
     "output_type": "stream",
     "text": [
      "9\n",
      "28\n",
      "80\n",
      "93\n"
     ]
    }
   ],
   "source": [
    "# 분위 \n",
    "\n",
    "def quantile(xs : List[float], p : float) -> float :\n",
    "    \"\"\"x의 p분위에 속하는 값을 반환\"\"\"\n",
    "    p_index = int(p * len(xs))\n",
    "    return sorted(xs)[p_index]\n",
    "\n",
    "print (quantile(num_friends, 0.10))\n",
    "print (quantile(num_friends, 0.25)) \n",
    "print (quantile(num_friends, 0.75)) \n",
    "print (quantile(num_friends, 0.90)) \n"
   ]
  },
  {
   "cell_type": "code",
   "execution_count": 16,
   "metadata": {},
   "outputs": [
    {
     "name": "stdout",
     "output_type": "stream",
     "text": [
      "[79]\n"
     ]
    }
   ],
   "source": [
    "# mode\n",
    "def mode(x: List[float]) -> List[float] :\n",
    "    \"\"\"최빈값이 하나보다 많을수 도 있으니 결과를 리스트로 반환\"\"\"\n",
    "    counts = Counter(x)\n",
    "    max_count = max(counts.values())\n",
    "    return [x_i for x_i, count in counts.items()\n",
    "           if count == max_count]\n",
    "\n",
    "print(mode(num_friends))\n"
   ]
  },
  {
   "cell_type": "code",
   "execution_count": 17,
   "metadata": {},
   "outputs": [],
   "source": [
    "# Q3-Q1\n",
    "def interquartie_range(xs : List[float]) -> float :\n",
    "    \"\"\"상위 25% - 하위 25%\"\"\"\n",
    "    return quantile(xs, 0.75) - quantile(xs, 0.25)\n"
   ]
  },
  {
   "cell_type": "code",
   "execution_count": 18,
   "metadata": {},
   "outputs": [],
   "source": [
    "# 공분산\n",
    "def covariance(xs : List[float], ys : List[float]) -> float :\n",
    "    assert len(xs) == len(ys), \"xs and ys must have same number of elements\"\n",
    "    \n",
    "    return np.dot(np.mean(xs), np.mean(ys)) / (len(xs)-1)\n"
   ]
  },
  {
   "cell_type": "code",
   "execution_count": 19,
   "metadata": {
    "scrolled": true
   },
   "outputs": [
    {
     "data": {
      "text/plain": [
       "22.5"
      ]
     },
     "execution_count": 19,
     "metadata": {},
     "output_type": "execute_result"
    }
   ],
   "source": [
    "covariance([1,2,3,4,5],[10,20,30,40,50])"
   ]
  },
  {
   "cell_type": "code",
   "execution_count": 20,
   "metadata": {},
   "outputs": [],
   "source": [
    "# 상관관계\n",
    "def correlation(xs: List[float], ys: List[float]) -> float :\n",
    "    \"\"\"xs와 ys의 값이 각각의 평균에서 얼마나 멀리 떨어져 있는지 계산\"\"\"\n",
    "    stdev_x = np.std(xs)\n",
    "    stdev_y = np.std(ys)\n",
    "    if stdev_x > 0 and stdev_y > 0 :\n",
    "        return covariance(xs,ys) / stdev_x / stdev_y\n",
    "    else : \n",
    "        return 0 # 편차가 존재하지 않는다면 상관관계 0\n"
   ]
  },
  {
   "cell_type": "code",
   "execution_count": 21,
   "metadata": {},
   "outputs": [
    {
     "data": {
      "text/plain": [
       "1.1344910772598082"
      ]
     },
     "execution_count": 21,
     "metadata": {},
     "output_type": "execute_result"
    }
   ],
   "source": [
    "correlation([1,2,3,4,5],[12,24,35,47,59])"
   ]
  },
  {
   "cell_type": "code",
   "execution_count": 22,
   "metadata": {},
   "outputs": [
    {
     "data": {
      "text/plain": [
       "array([[1., 1.],\n",
       "       [1., 1.]])"
      ]
     },
     "execution_count": 22,
     "metadata": {},
     "output_type": "execute_result"
    }
   ],
   "source": [
    "import numpy as np\n",
    "\n",
    "np.corrcoef([1,2,3,4,5],[10,20,30,40,50])"
   ]
  },
  {
   "cell_type": "code",
   "execution_count": 24,
   "metadata": {},
   "outputs": [
    {
     "data": {
      "text/plain": [
       "array([-2., -1.,  0.,  1.,  2.])"
      ]
     },
     "execution_count": 24,
     "metadata": {},
     "output_type": "execute_result"
    }
   ],
   "source": [
    "x = [1,2,3,4,5]\n",
    "(x-np.mean(x))"
   ]
  }
 ],
 "metadata": {
  "kernelspec": {
   "display_name": "Python 3",
   "language": "python",
   "name": "python3"
  },
  "language_info": {
   "codemirror_mode": {
    "name": "ipython",
    "version": 3
   },
   "file_extension": ".py",
   "mimetype": "text/x-python",
   "name": "python",
   "nbconvert_exporter": "python",
   "pygments_lexer": "ipython3",
   "version": "3.8.3"
  }
 },
 "nbformat": 4,
 "nbformat_minor": 4
}
