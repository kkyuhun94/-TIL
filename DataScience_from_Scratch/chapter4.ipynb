{
 "cells": [
  {
   "cell_type": "markdown",
   "metadata": {},
   "source": [
    "## 학습정리\n",
    "\n",
    "### 4장. 선형대수 \n",
    "\n",
    "#### 4.1 벡터\n",
    "* python에서 가장 간단하게 표현 하는 법 : 리스트\n",
    "    * Vector : float 객체를 갖고 있는 리스트 타입으로 명시\n",
    "    * python리스트는 벡터가 아니어서 벡터 연산을 해주는 기본적인 도구가 없음\n",
    "        * 벡터 덧셈 : 같은 위치의 성분끼리 더하는 것 : zip사용\n",
    "        * 벡터 곱셈 : 각 원소 마다 스칼라를 곱해 줘야 함 \n",
    "        * 벡터 내적(dot product) : 각 성분별 곱한 값을 더해준 값\n",
    "            * 내적을 이용한 각 성분 제곱의 합 : 같은 벡터를 내적\n",
    "            * 벡터의 크기 : 제곱합의 제곱근  \n",
    "        * 두 벡터 간의 거리 : (두 벡터의 차)의 제곱합의 제곱근 \n",
    "        \n",
    "#### 4.2 행렬\n",
    "* 행렬(matrix) : 2차원으로 구성된 숫자의 집합, 리스트의 리스트로 표현 가능\n",
    "    * 리스트 안의 리스트 : 행렬의 행을 나타냄 , 모두 같은 길이를 가짐\n",
    "    * 행렬A : 행 = len(A) , 열 = len(A[0])\n",
    "* 행렬의 사용\n",
    "    1. 여러 벡터로 구성된 데이터 셋을 표현\n",
    "    2. k차원의 벡터를 n차원 벡터로 변환해주는 선형 함수를 n x k행렬로 표현\n",
    "    3. 행렬로 이진 관계(binary relationship)를 표현\n",
    "        * 네트워크의 엣지(edge)들을 (i,j)쌍의 집합으로 표현\n",
    "        \n",
    "#### 4.3 더 공부해 보고 싶다면\n",
    "* 세인트 마이클스 칼리지에서 제공하는 선형대수 교과서\n",
    "* UC Davis 대학교에서 제공하는 선형대수 교과서\n",
    "* Linear Algebra Done Wrong\n",
    "* Numpy를 사용하면 더 편하게 함수 사용가능"
   ]
  },
  {
   "cell_type": "markdown",
   "metadata": {},
   "source": [
    "## 코드 정리"
   ]
  },
  {
   "cell_type": "code",
   "execution_count": 3,
   "metadata": {},
   "outputs": [],
   "source": [
    "from typing import List\n",
    "\n",
    "# Vector : float 객체를 갖고 있는 리스트 타입으로 명시\n",
    "Vector = List[float]\n",
    "\n",
    "height_weight_age = [70,\n",
    "                    170,\n",
    "                    40]\n",
    "grades = [95,\n",
    "          80,\n",
    "          75,\n",
    "          62]\n"
   ]
  },
  {
   "cell_type": "code",
   "execution_count": 4,
   "metadata": {},
   "outputs": [],
   "source": [
    "# 벡터 덧셈 : 같은 위치의 성분끼리 더하는 것 : zip사용\n",
    "def add(v: Vector, w: Vector) -> Vector :\n",
    "    \"\"\"각 성분끼리 더함\"\"\"\n",
    "    assert len(v) == len(w), \"vectors must be the same length\" # v,w의 길이가 같아야 함\n",
    "    return [v_i + w_i for v_i,w_i in zip(v,w)]\n",
    "\n",
    "assert add([1,2,3],[4,5,6]) == [5,7,9] # 성립 "
   ]
  },
  {
   "cell_type": "code",
   "execution_count": 6,
   "metadata": {},
   "outputs": [],
   "source": [
    "# 벡터 뻴셈 : 같은 위치의 성분끼리 빼는 것 : zip사용\n",
    "def subtract(v: Vector, w: Vector) -> Vector :\n",
    "    \"\"\"각 성분끼리 뺀다.\"\"\"\n",
    "    assert len(v) == len(w), \"vectors must be the same length\"\n",
    "    return [v_i - w_i for v_i,w_i in zip(v,w)]\n",
    "\n",
    "assert subtract([5,7,9],[4,5,6]) == [1,2,3]"
   ]
  },
  {
   "cell_type": "code",
   "execution_count": 11,
   "metadata": {},
   "outputs": [],
   "source": [
    "# vector의 리스트를 인자로 받음\n",
    "def vector_sum(vectors : List[Vector]) -> Vector :\n",
    "    \"\"\"모든 벡터의 각 성분들 끼리 더함\"\"\"\n",
    "    # vectors가 비어있는지 확인\n",
    "    assert vectors, \"no vectors provided!\"\n",
    "    \n",
    "    # 모든 벡터의 길이가 동일한지 확인 \n",
    "    num_elements = len(vectors[0])\n",
    "    assert all(len(v) == num_elements for v in vectors), \"diffrent sizes!\" #첫 번째 벡터의 길이와 나머지 길이들을 비교\n",
    "    \n",
    "    # i번째 결괏값은 모든 벡터의 i번째 성분을 더한 값\n",
    "    return [sum(vector[i] for vector in vectors)\n",
    "           for i in range(num_elements)]\n",
    "\n",
    "assert vector_sum([[1,2],[3,4],[5,6],[7,8]]) == [16,20]\n",
    " "
   ]
  },
  {
   "cell_type": "code",
   "execution_count": 9,
   "metadata": {},
   "outputs": [
    {
     "data": {
      "text/plain": [
       "array([16, 20])"
      ]
     },
     "execution_count": 9,
     "metadata": {},
     "output_type": "execute_result"
    }
   ],
   "source": [
    "# np.sum( , axis = 0)\n",
    "np.sum([[1,2],[3,4],[5,6],[7,8]], axis = 0)"
   ]
  },
  {
   "cell_type": "code",
   "execution_count": 16,
   "metadata": {},
   "outputs": [],
   "source": [
    "# 벡터 곱셈 : 각 원소 마다 스칼라를 곱해 줘야 함\n",
    "def scalar_multiply(c:float, v: Vector)-> Vector :\n",
    "    \"\"\"모든 성분을 c로 곱하기\"\"\"\n",
    "    return [c*v_i for v_i in v]\n",
    "\n",
    "assert scalar_multiply(2,[1,2,3]) == [2,4,6]"
   ]
  },
  {
   "cell_type": "code",
   "execution_count": 18,
   "metadata": {},
   "outputs": [],
   "source": [
    "def vector_mean(vectors: List[Vector])-> Vector:\n",
    "    \"\"\"각 성분별 평균을 계산\"\"\"\n",
    "    n = len(vectors)\n",
    "    return scalar_multiply(1/n, vector_sum(vectors)) # 모든 성분에 1/벡터길이 곱하기\n",
    "\n",
    "assert vector_mean([[1,2],[3,4],[5,6]]) == [3,4]"
   ]
  },
  {
   "cell_type": "code",
   "execution_count": 7,
   "metadata": {},
   "outputs": [
    {
     "data": {
      "text/plain": [
       "array([3., 4.])"
      ]
     },
     "execution_count": 7,
     "metadata": {},
     "output_type": "execute_result"
    }
   ],
   "source": [
    "# vector mean\n",
    "import numpy as np\n",
    "np.mean([[1,2],[3,4],[5,6]], axis=0)"
   ]
  },
  {
   "cell_type": "code",
   "execution_count": 22,
   "metadata": {},
   "outputs": [],
   "source": [
    "# 벡터 내적(dot product) : 각 성분별 곱한 값을 더해준 값\n",
    "def dot(v: Vector, w: Vector) -> float :\n",
    "    \"\"\"v_1*w_1+++++v_n*w_n\"\"\"\n",
    "    assert len(v) == len(w), \"vectors must be same length\" # 벡터끼리 길이가 같아야 내적가능\n",
    "    \n",
    "    return sum(v_i*w_i for v_i,w_i in zip(v,w))\n",
    "\n",
    "assert dot([1,2,3],[4,5,6]) == 32"
   ]
  },
  {
   "cell_type": "code",
   "execution_count": 10,
   "metadata": {},
   "outputs": [
    {
     "data": {
      "text/plain": [
       "32"
      ]
     },
     "execution_count": 10,
     "metadata": {},
     "output_type": "execute_result"
    }
   ],
   "source": [
    "np.dot([1,2,3],[4,5,6])"
   ]
  },
  {
   "cell_type": "code",
   "execution_count": 23,
   "metadata": {},
   "outputs": [],
   "source": [
    "# 벡터 제곱합\n",
    "def sum_of_squares(v: Vector) -> float :\n",
    "    \"\"\"v_1*v_1+...+v_n*v_n\"\"\"\n",
    "    return dot(v,v)\n",
    "\n",
    "assert sum_of_squares([1,2,3]) == 14 # 1*1 + 2*2 + 3*3"
   ]
  },
  {
   "cell_type": "code",
   "execution_count": 24,
   "metadata": {},
   "outputs": [],
   "source": [
    "# 벡터의 크기\n",
    "import math # math.sqrt : 제곱근\n",
    "\n",
    "def magnitude(v:Vector) -> float :\n",
    "    \"\"\"벡터 v의 크기를 반환\"\"\"\n",
    "    return math.sqrt(sum_of_squares(v))\n",
    "\n",
    "assert magnitude([3,4]) == 5"
   ]
  },
  {
   "cell_type": "code",
   "execution_count": 25,
   "metadata": {},
   "outputs": [],
   "source": [
    "# 두 벡터간의 거리\n",
    "\n",
    "def squared_distance(v: Vector, w: Vector) -> float :\n",
    "    \"\"\"(v_1 - w_1) ** 2 +...+ (v_n - w_n) ** 2 \"\"\"\n",
    "    return sum_of_squares(subtract(v,w))\n",
    "\n",
    "def distance(v: Vector, w: Vector) -> float :\n",
    "    \"\"\"벡터 v와 w간의 거리를 계산\"\"\"\n",
    "    return math.sqrt(squared_distance(v,w))\n"
   ]
  },
  {
   "cell_type": "code",
   "execution_count": 26,
   "metadata": {},
   "outputs": [],
   "source": [
    "# 벡터 끼리 차의 크기 = 거리 \n",
    "def distance(v: Vector, w:Vector) -> float :\n",
    "    return magnitude(subtract(v,w))\n",
    "    "
   ]
  },
  {
   "cell_type": "code",
   "execution_count": 27,
   "metadata": {},
   "outputs": [],
   "source": [
    "# 행렬 = 리스트 안의 리스트 : 행렬의 행을 나타냄 , 모두 같은 길이를 가짐\n",
    "Matrix = List[List[float]] # 타입 명시\n",
    "\n",
    "A = [[1,2,3], # A는 2개의 행과 3개의 열로 구성되어 있다.\n",
    "     [4,5,6]] \n",
    "\n",
    "B = [[1,2], # B는 3개의 행과 2개의 열로 구성되어 있다. \n",
    "     [3,4],\n",
    "     [5,6]]\n"
   ]
  },
  {
   "cell_type": "code",
   "execution_count": 28,
   "metadata": {},
   "outputs": [],
   "source": [
    "from typing import Tuple\n",
    "\n",
    "def shape(A : Matrix) -> Tuple[int, int] :\n",
    "    \"\"\"(행의 개수,열의 개수)반환\"\"\"\n",
    "    num_rows = len(A)\n",
    "    num_cols = len(A[0]) if A else 0 # 첫 번째 행의 원소의 개수\n",
    "    return num_rows, num_cols\n",
    "\n",
    "assert shape([[1,2,3],[4,5,6]]) == (2,3) # 2행 , 3열"
   ]
  },
  {
   "cell_type": "code",
   "execution_count": 31,
   "metadata": {},
   "outputs": [],
   "source": [
    "def get_row(A : Matrix, i :int)-> Vector : \n",
    "    \"\"\"A의 i번째 행을 반환\"\"\"\n",
    "    return A[i]\n",
    "\n",
    "def get_column(A : Matrix, j : int) -> Vector :\n",
    "    \"\"\"A의 j번째 열을 반환\"\"\"\n",
    "    return [A_i[j] for A_i in A]\n"
   ]
  },
  {
   "cell_type": "code",
   "execution_count": 33,
   "metadata": {},
   "outputs": [
    {
     "data": {
      "text/plain": [
       "(2, 3)"
      ]
     },
     "execution_count": 33,
     "metadata": {},
     "output_type": "execute_result"
    }
   ],
   "source": [
    "shape(A)"
   ]
  },
  {
   "cell_type": "code",
   "execution_count": 36,
   "metadata": {},
   "outputs": [
    {
     "name": "stdout",
     "output_type": "stream",
     "text": [
      "[[1, 2, 3], [4, 5, 6]]\n"
     ]
    },
    {
     "data": {
      "text/plain": [
       "[4, 5, 6]"
      ]
     },
     "execution_count": 36,
     "metadata": {},
     "output_type": "execute_result"
    }
   ],
   "source": [
    "print(A)\n",
    "get_row(A,1)"
   ]
  },
  {
   "cell_type": "code",
   "execution_count": 37,
   "metadata": {},
   "outputs": [],
   "source": [
    "# 형태가 주어졌을 때 형태에 맞는 행렬 생성하는 함수\n",
    "from typing import Callable\n",
    "\n",
    "def make_matrix(num_rows : int,\n",
    "               num_cols : int,\n",
    "               entry_fn : Callable[[int,int],float]) -> Matrix :\n",
    "    \"\"\"\n",
    "    (i,j)번쨰 원소가 entry_fn(i,j)인 num_row x num_cols 리스트를 반환\n",
    "    \"\"\"\n",
    "    return [[entry_fn(i,j)\n",
    "            for j in range(num_cols)]\n",
    "           for i in range(num_rows)]"
   ]
  },
  {
   "cell_type": "code",
   "execution_count": 39,
   "metadata": {},
   "outputs": [],
   "source": [
    "def identity_matrix(n : int)-> Matrix :\n",
    "    \"\"\"n x n 단위 행렬을 반환 \"\"\"\n",
    "    return make_matrix(n, n, lambda i,j : 1 if i == j else 0) # 대각 행렬만 1\n"
   ]
  },
  {
   "cell_type": "code",
   "execution_count": 3,
   "metadata": {},
   "outputs": [],
   "source": [
    "# 네트워크 표현 예제\n",
    "friendships = [(0,1),(0,2),(1,2),(1,3),(2,3),(3,4),(4,5),(5,6),(5,7),(6,8),(7,8),(8,9)]\n",
    "\n",
    "         # 사용자  0 1 2 3 4 5 6 7 8 9  \n",
    "friend_matrix = [[0,1,1,0,0,0,0,0,0,0], # 사용자 0\n",
    "                 [1,0,1,1,0,0,0,0,0,0], # 사용자 1\n",
    "                 [1,1,0,1,0,0,0,0,0,0], # 사용자 2\n",
    "                 [0,1,1,0,1,0,0,0,0,0], # 사용자 3\n",
    "                 [0,0,0,1,0,1,0,0,0,0], # 사용자 4\n",
    "                 [0,0,0,0,1,0,1,1,0,0], # 사용자 5\n",
    "                 [0,0,0,0,0,1,0,0,1,0], # 사용자 6\n",
    "                 [0,0,0,0,0,1,0,0,1,0], # 사용자 7\n",
    "                 [0,0,0,0,0,0,1,1,0,1], # 사용자 8\n",
    "                 [0,0,0,0,0,0,0,0,1,0]] # 사용자 9\n",
    "\n",
    "# 네트워크 안에 연결된 사용자의 수가 적다면 행렬은 수많은 0을 저장해야 하므로 비효율적\n",
    "# 하지만 두사용자가 연결되어 있는지 훨씬 빠르게 확인 가능\n",
    "assert friend_matrix[0][2] == 1 , \"참, 사용자 0과 2는 친구다\"\n",
    "assert friend_matrix[0][8] == 0 , \"거짓, 사용자 0과 8은 친구가 아니다\"                "
   ]
  },
  {
   "cell_type": "code",
   "execution_count": 5,
   "metadata": {},
   "outputs": [
    {
     "data": {
      "text/plain": [
       "[4, 6, 7]"
      ]
     },
     "execution_count": 5,
     "metadata": {},
     "output_type": "execute_result"
    }
   ],
   "source": [
    "# 하나의 행만 살펴보면 된다\n",
    "friends_of_five = [i for i, is_friend in enumerate(friend_matrix[5])\n",
    "                  if is_friend]\n",
    "friends_of_five\n",
    "    \n",
    "    \n",
    "    "
   ]
  }
 ],
 "metadata": {
  "kernelspec": {
   "display_name": "Python 3",
   "language": "python",
   "name": "python3"
  },
  "language_info": {
   "codemirror_mode": {
    "name": "ipython",
    "version": 3
   },
   "file_extension": ".py",
   "mimetype": "text/x-python",
   "name": "python",
   "nbconvert_exporter": "python",
   "pygments_lexer": "ipython3",
   "version": "3.8.3"
  }
 },
 "nbformat": 4,
 "nbformat_minor": 4
}
