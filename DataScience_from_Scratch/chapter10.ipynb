{
 "cells": [
  {
   "cell_type": "markdown",
   "metadata": {},
   "source": [
    "## 학습정리\n",
    "\n",
    "### 10장. 데이터 다루기\n",
    " \n",
    "#### 10.1 데이터 탐색하기\n",
    "* 데이터 탐색 : 가장 우선적으로 해야할 일\n",
    "* 1차원 데이터 탐색하기                                                                                                     \n",
    "    * 가장 간단한 경우 : 단순히 숫자로만 구성된 1차원 데이터\n",
    "        1. 요약 통계치(summary statistics)계산\n",
    "        2. 히스토그램 확인 : 범위를 몇 개의 구간으로 나누고 데이터의 개수를 살펴봄\n",
    "        3. \n",
    "* 2차원 데이터\n",
    "* 다차원 데이터\n",
    "\n",
    "#### 10.2 namedtuple 사용하기\n",
    "#### 10.3 Dataclasses\n",
    "#### 10.4 정제하고 합치기\n",
    "#### 10.5 데이터 처리\n",
    "#### 10.6 척도 조절\n",
    "#### 10.7 한편으로 : tqdm\n",
    "#### 10.8 차원 축소\n",
    "#### 10.9 더 공부해 보고 싶다면\n"
   ]
  },
  {
   "cell_type": "code",
   "execution_count": null,
   "metadata": {},
   "outputs": [],
   "source": []
  }
 ],
 "metadata": {
  "kernelspec": {
   "display_name": "Python 3",
   "language": "python",
   "name": "python3"
  },
  "language_info": {
   "codemirror_mode": {
    "name": "ipython",
    "version": 3
   },
   "file_extension": ".py",
   "mimetype": "text/x-python",
   "name": "python",
   "nbconvert_exporter": "python",
   "pygments_lexer": "ipython3",
   "version": "3.8.3"
  }
 },
 "nbformat": 4,
 "nbformat_minor": 4
}
