{
 "cells": [
  {
   "cell_type": "markdown",
   "metadata": {},
   "source": [
    "## 학습정리\n",
    "\n",
    "### 19장. 딥러닝\n",
    "*\n",
    "####  19.1 텐서\n",
    "####  19.2 층 추상화\n",
    "####  19.3 선형 층\n",
    "####  19.4 순차적인 층으로 구성된 신경망\n",
    "####  19.5 손실 함수와 최적화\n",
    "####  19.6 예시 : XOR문제 다시 풀어 보기\n",
    "####  19.7 다른 활성화 함수\n",
    "####  19.8 예시 : Fizz Buzz 다시 풀어보기\n",
    "####  19.9 Softmax와 Cross-Entropy\n",
    "####  19.10 드롭아웃\n",
    "####  19.11 예시 : MNIST\n",
    "####  19.12 모델 저장 및 불러오기\n",
    "#### 19.13 더 공부해 보고 싶다면"
   ]
  }
 ],
 "metadata": {
  "kernelspec": {
   "display_name": "Python 3",
   "language": "python",
   "name": "python3"
  },
  "language_info": {
   "codemirror_mode": {
    "name": "ipython",
    "version": 3
   },
   "file_extension": ".py",
   "mimetype": "text/x-python",
   "name": "python",
   "nbconvert_exporter": "python",
   "pygments_lexer": "ipython3",
   "version": "3.8.3"
  }
 },
 "nbformat": 4,
 "nbformat_minor": 4
}
