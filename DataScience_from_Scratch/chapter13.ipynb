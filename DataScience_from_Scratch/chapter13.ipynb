{
 "cells": [
  {
   "cell_type": "markdown",
   "metadata": {},
   "source": [
    "## 학습정리\n",
    "\n",
    "### 13장. 나이브 베이즈\n",
    " \n",
    "#### 13.1 바보 스팸 필터\n",
    "#### 13.2 조금 더 똑똑한 스팸 필터\n",
    "#### 13.3 구현하기\n",
    "#### 13.4 모델 검증하기\n",
    "#### 13.5 모델 사용하기\n",
    "#### 13.6 더 공부해 보고 싶다면"
   ]
  }
 ],
 "metadata": {
  "kernelspec": {
   "display_name": "Python 3",
   "language": "python",
   "name": "python3"
  },
  "language_info": {
   "codemirror_mode": {
    "name": "ipython",
    "version": 3
   },
   "file_extension": ".py",
   "mimetype": "text/x-python",
   "name": "python",
   "nbconvert_exporter": "python",
   "pygments_lexer": "ipython3",
   "version": "3.8.3"
  }
 },
 "nbformat": 4,
 "nbformat_minor": 4
}
