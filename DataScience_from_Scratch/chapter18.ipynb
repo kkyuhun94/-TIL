{
 "cells": [
  {
   "cell_type": "markdown",
   "metadata": {},
   "source": [
    "## 학습정리\n",
    "\n",
    "### 18장. 신경망\n",
    "* 정성적인 특징\n",
    "####  18.1 퍼셉트론\n",
    "####  18.2 순방향 신경망\n",
    "####  18.3 역전파\n",
    "####  18.4 예시 : Fizz Buzz\n",
    "####  18.5 더 공부해 보고 싶다면 "
   ]
  }
 ],
 "metadata": {
  "kernelspec": {
   "display_name": "Python 3",
   "language": "python",
   "name": "python3"
  },
  "language_info": {
   "codemirror_mode": {
    "name": "ipython",
    "version": 3
   },
   "file_extension": ".py",
   "mimetype": "text/x-python",
   "name": "python",
   "nbconvert_exporter": "python",
   "pygments_lexer": "ipython3",
   "version": "3.8.3"
  }
 },
 "nbformat": 4,
 "nbformat_minor": 4
}
