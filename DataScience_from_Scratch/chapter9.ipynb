{
 "cells": [
  {
   "cell_type": "markdown",
   "metadata": {},
   "source": [
    "## 학습정리\n",
    "### 9장. 파이썬으로 데이터 수집하기 \n",
    "\n",
    "#### 9.1 stdin과 stdout\n",
    "#### 9.2 파일 읽기\n",
    "* 텍스트 파일의 기본    \n",
    "* 구분자가 있는 파일\n",
    "#### 9.3 웹 스크래핑\n",
    "* HTML과 파싱\n",
    "* ex)의회 감시하기\n",
    "#### 9.4 API 사용하기\n",
    "* JSON과 XML\n",
    "* 인증이 필요하지 않은 API 사용하기\n",
    "* API 찾기\n",
    "#### 9.5 예시 : 트위터 API 사용하기 \n",
    "* 인증 받기\n",
    "#### 9.6 더 공부해 보고 싶다면 \n",
    "\n"
   ]
  }
 ],
 "metadata": {
  "kernelspec": {
   "display_name": "Python 3",
   "language": "python",
   "name": "python3"
  },
  "language_info": {
   "codemirror_mode": {
    "name": "ipython",
    "version": 3
   },
   "file_extension": ".py",
   "mimetype": "text/x-python",
   "name": "python",
   "nbconvert_exporter": "python",
   "pygments_lexer": "ipython3",
   "version": "3.8.3"
  }
 },
 "nbformat": 4,
 "nbformat_minor": 4
}
