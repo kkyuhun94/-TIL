{
 "cells": [
  {
   "cell_type": "markdown",
   "metadata": {},
   "source": [
    "## 학습정리\n",
    "\n",
    "### 21장. 자연어 처리\n",
    "* 정성적인 특징\n",
    "####  21.1 워드 클라우드\n",
    "####  21.2 n-그램 언어모델\n",
    "####  21.3 문법 규칙\n",
    "####  21.4 여담 : 깁스 샘플링\n",
    "####  21.5 토픽 모델링\n",
    "####  21.6 단어 벡터\n",
    "####  21.7 재귀 신경망\n",
    "####  21.8 예시 : 문자 단위의 RNN 사용하기\n",
    "####  21.9 더 공부해 보고 싶다면\n"
   ]
  }
 ],
 "metadata": {
  "kernelspec": {
   "display_name": "Python 3",
   "language": "python",
   "name": "python3"
  },
  "language_info": {
   "codemirror_mode": {
    "name": "ipython",
    "version": 3
   },
   "file_extension": ".py",
   "mimetype": "text/x-python",
   "name": "python",
   "nbconvert_exporter": "python",
   "pygments_lexer": "ipython3",
   "version": "3.8.3"
  }
 },
 "nbformat": 4,
 "nbformat_minor": 4
}
