{
 "cells": [
  {
   "cell_type": "markdown",
   "metadata": {},
   "source": [
    "## 학습정리\n",
    "\n",
    "### 24장. 데이터베이스와 SQL\n",
    "* 정성적인 특징\n",
    "####  24.1 CREATE TABLE, INSERT\n",
    "####  24.2 UPDATE\n",
    "####  24.3 DELETE\n",
    "####  24.4 SELECT\n",
    "####  24.5 GROUP BY\n",
    "####  24.6 ORDER BY\n",
    "####  24.7 JOIN\n",
    "####  24.8 서브 쿼리\n",
    "####  24.9 인덱스\n",
    "####  24.10 쿼리 최적화\n",
    "####  24.11 NoSQL\n",
    "####  24.12 더 공부해 보고 싶다면"
   ]
  }
 ],
 "metadata": {
  "kernelspec": {
   "display_name": "Python 3",
   "language": "python",
   "name": "python3"
  },
  "language_info": {
   "codemirror_mode": {
    "name": "ipython",
    "version": 3
   },
   "file_extension": ".py",
   "mimetype": "text/x-python",
   "name": "python",
   "nbconvert_exporter": "python",
   "pygments_lexer": "ipython3",
   "version": "3.8.3"
  }
 },
 "nbformat": 4,
 "nbformat_minor": 4
}
