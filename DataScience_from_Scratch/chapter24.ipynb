{
 "cells": [
  {
   "cell_type": "markdown",
   "metadata": {},
   "source": [
    "## 학습정리\n",
    "\n",
    "### 24장. 데이터베이스와 SQL\n",
    "* 데이터는 종종 데이터베이스(database)에 저장되어 제공\n",
    "    * 데이터 베이스(database) : 데이터를 효과적으로 저장, 질의, 또는 쿼리(query)하기 위한 시스템\n",
    "        * 관계형 데이터 베이스(relational database) : SQL로 쿼리하는 데이터 베이스(ex. PostgreSQL, MySQL, SQL Server)\n",
    "        * SQL(structured query language) : 데이터를 테이블에 저장하고 조작할 수 있는 선언적(declarative)언어\n",
    "\n",
    "####  24.1 CREATE TABLE, INSERT\n",
    "* 관계형 데이터베이스 : 여러 테이블의 집합(과 그들간의 관계)\n",
    "* 테이블 : 행의 집합.행렬과 크게 다르지 않음\n",
    "    * 행렬과의 차이점 : 테이블에는 열의 이름과 데이터 타입(data type)이 명시된 스키마(schema)가 추가\n",
    "    \n",
    "####  24.2 UPDATE\n",
    "* 데이터를 수정 또는 업데이트를 하기 위해 명시해야 하는 것 \n",
    "    1. 어떤 테이블을 업데이트 할 것인가\n",
    "    2. 어떤 행을 업데이트 할 것인가\n",
    "    3. 어떤 필드를 업데이트 할 것인가\n",
    "    4. 어떤 값으로 치환할 것인가 \n",
    "    \n",
    "####  24.3 DELETE\n",
    "* 테이블의 행을 지우는 방법\n",
    "    1. 테이블의 모든 행을 지움 : 위험\n",
    "    2. 특정 조건을 만족하는 행만 WHERE절을 추가하여 제거 : 덜 위험\n",
    "    \n",
    "####  24.4 SELECT\n",
    "* SELECT문을 이용해서 필요한 몇가지 행만 선택해서 보기 \n",
    "    \n",
    "####  24.5 GROUP BY\n",
    "* GROUP BY : 지정된 열에서 동일한 값을 가진 행을 묶어서 MIN,MAX,COUNT\n",
    "* WHERE절 : 병합을 하기 전에 행을 필터링\n",
    "* HAVING절 : 병합된 결과를 필터링 \n",
    "\n",
    "####  24.6 ORDER BY\n",
    "* ORDER BY : 결과값을 정렬 \n",
    "    * ASC : 오름차순\n",
    "    * DESC : 내림차순\n",
    "\n",
    "####  24.7 JOIN\n",
    "* INNER JOIN : 매칭 조건에 맞는 조합만을 반환\n",
    "* LEFT JOIN : 매칭 조건에 맞는 조합뿐 아니라 매칭되지 않은 왼쪽 테이블의 행까지 모두 반환\n",
    "* RIGHT JOIN : 매칭되지 않은 오른쪽 테이블의 행을 보존\n",
    "* FULL OUTER JOIN : 양쪽 테이블 모두 매칭되지 않는 행을 모두 보존 \n",
    "\n",
    "####  24.8 서브 쿼리\n",
    "* 서브 쿼리(subquery) : 쿼리의 결과물을 마치 또 다른 테이블인 것처럼 간주\n",
    "\n",
    "####  24.9 인덱스\n",
    "* 인덱스(index)의 사용\n",
    "    * 특정 값을 가진 행을 찾을 때 테이블의 모든 행을 훑으면 시간의 소모가 큼\n",
    "    * join 알고리즘도 비효율적\n",
    "        * 전체 테이블을 훑어보지 않고도 매칭되는 행을 찾을 수 있게 됨 \n",
    "    * 열에 제약 조건을 주고 싶을 때\n",
    "        * 인덱스에 unique조건이 걸려 있다면, 중복된 값을 생성하려고 할 때 에러가 발생하도록 만들 수 있음\n",
    "\n",
    "####  24.10 쿼리 최적화\n",
    "* 필터링을 한 후 JOIN\n",
    "    * 더 적은 수의 행에 JOIN을 하는 방법이 효율적 \n",
    "* JOIN을 한 후 필터링\n",
    "* SQL상에서는 쿼리 엔진이 알아서 판단하고 실행 \n",
    "    \n",
    "####  24.11 NoSQL\n",
    "* NoSQL : 데이터베이스의 최근 트렌드 \n",
    "    * 비관계형(nonrelational) 데이터 베이스\n",
    "    * ex. MongoDB : 스키마와 행을 사용하지 않고 JSON 문서의 형태로 데이터를 표현하는 데이터베이스\n",
    "\n",
    "* 컬럼형 데이터 베이스 : 행 대신 열에 데이터를 저장하는 데이터 베이스 \n",
    "    \n",
    "####  24.12 더 공부해 보고 싶다면\n",
    "* 관계형 데이터 베이스를 간단히 사용해 보고 싶다면\n",
    "    * SQLite\n",
    "    * MySQL\n",
    "    * PostgreSQL\n",
    "* NoSQL\n",
    "    * MongoDB\n",
    "    * NoSQL 위키피디아 페이지 \n",
    "    "
   ]
  },
  {
   "cell_type": "markdown",
   "metadata": {},
   "source": [
    "## code"
   ]
  },
  {
   "cell_type": "code",
   "execution_count": 1,
   "metadata": {},
   "outputs": [],
   "source": [
    "# users 데이터 셋 , user_id, name, num_friends\n",
    "users = [[0, \"Hero\", 0],\n",
    "         [1, \"Dunn\", 2],\n",
    "         [2, \"Sue\", 3],\n",
    "         [3, \"Chi\", 3]]\n"
   ]
  },
  {
   "cell_type": "markdown",
   "metadata": {},
   "source": [
    "### SQL문\n",
    "### 테이블 생성 \n",
    "\n",
    "CREATE TABLE users (\n",
    "    \n",
    "    user_id INT NOT NULL,\n",
    "    \n",
    "    name VARCHAR(200),\n",
    "    \n",
    "    num_friends INT) ;\n",
    "\n",
    "INSERT INTO users (user_id, name, num_friends) VALUES (0, 'Hero', 0);\n",
    "\n"
   ]
  },
  {
   "cell_type": "code",
   "execution_count": 15,
   "metadata": {},
   "outputs": [],
   "source": [
    "from typing import Tuple, Sequence, List, Any, Callable, Dict, Iterator\n",
    "from collections import defaultdict\n",
    "\n",
    "# 이후에 사용할 타입 별칭\n",
    "Row = Dict[str, Any]                        # 데이터 베이스 행\n",
    "WhereClause = Callable[[Row], bool]         # 단일 행을 위한 술어\n",
    "HavingClause = Callable[[List[Row]], bool]  # 여러 행에 대한 술어\n"
   ]
  },
  {
   "cell_type": "code",
   "execution_count": 80,
   "metadata": {},
   "outputs": [],
   "source": [
    "# 생성자 \n",
    "\n",
    "class Table :\n",
    "    \n",
    "    def __init__(self, columns: List[str], types: List[type]) -> None :\n",
    "        assert len(columns) == len(types), \"# of columns must == # of types\"\n",
    "        \n",
    "        self.columns = columns # 열의 이름\n",
    "        self.types = types # 열의 데이터 타입 \n",
    "        self.rows : List[Row] = [] # 아직 데이터 없음\n",
    "            \n",
    "    # 열의 타입을 받기 위한 도우미 메서드 추가 \n",
    "    def col2type(self, col: str) -> type :\n",
    "        idx = self.columns.index(col) # 열의 인덱스를 찾고 \n",
    "        return self.types[idx] # 해당 타입을 반환 \n",
    "    \n",
    "    # 추가 되는 값이 올바른지 확인해주는 insert 메서드 추가 \n",
    "    # 맞는 개수의 값을 제공. 각각 올바른 타입이어야 함 \n",
    "    def insert(self, values: list) -> None :\n",
    "        # 값이 올바른 개수인지 확인\n",
    "        if len(values) != len(self.types) :\n",
    "            raise ValueError(f\"You need to provide {len(self.types)} values\")\n",
    "            \n",
    "        # 값의 타입이 맞는지 확인\n",
    "        for value, typ3 in zip(values, self.types) :\n",
    "            if not isinstance(value, typ3) and value is not None :\n",
    "                raise TypeError(f\"Expected type {typ3} but got {value}\")\n",
    "        \n",
    "        # 대응되는 딕셔너리를 하나의 행으로 추가\n",
    "        self.rows.append(dict(zip(self.columns, values)))\n",
    "    \n",
    "    def __getitem__(self, idx: int) -> Row:\n",
    "        return self.rows[idx]\n",
    "    \n",
    "    def __iter__(self) -> Iterator[Row] :\n",
    "        return iter(self.rows)\n",
    "    \n",
    "    def __len__(self) -> int :\n",
    "        return len(self.rows)\n",
    "    \n",
    "    def __repr__(self) :\n",
    "        \"\"\"테이블을 예쁘게 표현하자: 열 이후에 행\"\"\"\n",
    "        rows = \"\\n\".join(str(row) for row in self.rows)\n",
    "        \n",
    "        return f\"{self.columns}\\n{rows}\"\n",
    "    \n",
    "    # update함수 : 데이터 수정 및 업데이트 \n",
    "    def update(self, updates: Dict[str, Any], predicate: WhereClause = lambda row: True) :\n",
    "        # 일단 updates가 올바른 이름과 타입을 지녔는지 확인 \n",
    "        for column, new_value in updates.items() :\n",
    "            if column not in self.columns :\n",
    "                raise ValueError(f\"invalid column: {column}\")\n",
    "                \n",
    "            typ3 = self.col2type(column)\n",
    "            if not isinstance(new_value, typ3) and new_value is not None :\n",
    "                raise TypeError(f\"expected type {typ3}, but got {new_value}\")\n",
    "        \n",
    "        # 이제 업데이트\n",
    "        for row in self.rows :\n",
    "            if predicate(row) :\n",
    "                for column, new_value in updates.items() :\n",
    "                    row[column] = new_value\n",
    "                    \n",
    "    # delete함수 \n",
    "    def delete(self, predicate: WhereClause = lambda row: True) -> None :\n",
    "        \"\"\"predicate(술부)에 해당하는 모든 행을 제거\"\"\"\n",
    "        self.rows = [row for row in self.rows if not predicate(row)]\n",
    "    \n",
    "    # select 함수\n",
    "    def select(self, keep_columns : List[str] = None, additional_columns: Dict[str, Callable] = None) -> 'Table' :\n",
    "        if keep_columns is None : # 만약 특정 열이 명시되지 않는다면 \n",
    "            keep_columns = self.columns # 모든 열을 반환\n",
    "        \n",
    "        if additional_columns is None :\n",
    "            additional_columns = {}\n",
    "        \n",
    "        # 새 열 이름과 타입\n",
    "        new_columns = keep_columns + list(additional_columns.keys())\n",
    "        keep_types = [self.col2type(col) for col in keep_columns]\n",
    "        \n",
    "        # 타입 어노테이션으로 부터 반환 타입을 알아 내는 방법은 다음과 같다.\n",
    "        # 만약 calcualtion에 반환 타입이 없다면 코드가 멈춰버림 \n",
    "        add_types = [calculation.__annotations__['return'] for calculation in additional_columns.values()]\n",
    "        \n",
    "        # 결과를 저장하기 위한 새로운 테이블 \n",
    "        new_table = Table(new_columns, keep_types + add_types)\n",
    "        \n",
    "        for row in self.rows :\n",
    "            new_row = [row[column] for column in keep_columns]\n",
    "            for column_name, calculation in additional_columns.items() :\n",
    "                new_row.append(calculation(row))\n",
    "            new_table.insert(new_row)\n",
    "        \n",
    "        return new_table\n",
    "    \n",
    "    # where절 메서드\n",
    "    def where(self, predicate : WhereClause = lambda row: True) -> 'Table' :\n",
    "        \"\"\"주어진 predicate에 해당하는 행만 반환\"\"\"\n",
    "        where_table = Table(self.columns, self.types)\n",
    "        for row in self.rows :\n",
    "            if predicate(row) :\n",
    "                values = [row[column] for column in self.columns]\n",
    "                where_table.insert(values)\n",
    "            return where_table\n",
    "    \n",
    "    # limit 메서드\n",
    "    def limit(self, num_rows: int) -> 'Table' :\n",
    "        \"\"\"첫 num_rows만큼의 행만 반환\"\"\"\n",
    "        limit_table = Table(self.columns, self.types)\n",
    "        for i, row in enumerate(self.rows) :\n",
    "            if i >= num_rows :\n",
    "                break\n",
    "            values = [row[column] for column in self.columns]\n",
    "            limit_table.insert(values)\n",
    "        return limit_table\n",
    "    \n",
    "    # GROUP BY\n",
    "    def group_by(self, group_by_columns : List[str],\n",
    "                 aggregates: Dict[str, Callable],\n",
    "                 having: HavingClause = lambda group: True) -> 'Table' :\n",
    "        \n",
    "        grouped_rows = defaultdict(list)\n",
    "        \n",
    "        # 그룹을 채워 넣는다.\n",
    "        for row in self.rows :\n",
    "            key = tuple(row[column] for column in group_by_columns)\n",
    "            grouped_rows[key].append(row)\n",
    "        \n",
    "        # 결과 테이블은 group_by열과 병합된 열들로 구성\n",
    "        new_columns = group_by_columns + list(aggregates.keys())\n",
    "        group_by_types = [self.col2type(col) for col in group_by_columns]\n",
    "        aggregate_types = [agg.__annotations__['return']\n",
    "                           for agg in aggregates.values()]\n",
    "        result_table = Table(new_columns, group_by_types + aggregate_types)\n",
    "        \n",
    "        for key, rows in grouped_rows.items() :\n",
    "            if having(rows) :\n",
    "                new_row = list(key)\n",
    "                for aggregate_name, aggregate_fn in aggregates.items() :\n",
    "                    new_row.append(aggregate_fn(rows))\n",
    "                result_table.insert(new_row)\n",
    "            \n",
    "            return result_table\n",
    "    \n",
    "    # ORDER BY\n",
    "    def order_by(self, order: Callable[[Row], Any]) -> 'Table' :\n",
    "        new_table = self.select() # 기존 테이블 복사\n",
    "        new_table.rows.sort(key = order)\n",
    "        return new_table\n",
    "        \n",
    "    \n",
    "    def join(self, other_table: 'Table', left_join: bool = False) -> 'Table' :\n",
    "        \n",
    "        join_on_columns = [c for c in self.columns if c in other_table.columns] # 양쪽테이블이 모두 포함하는 열\n",
    "        \n",
    "        additional_columns = [c for c in other_table.columns if c not in join_on_columns] # 오른쪽 테이블에만 존재하는 열\n",
    "        \n",
    "        # 왼쪽 테이블의 모든 열 + 오른쪽 테이블의 추가적인 열 \n",
    "        new_columns = self.columns + additional_columns\n",
    "        new_types = self.types + [other_table.col2type(col) for col in additional_columns]\n",
    "        \n",
    "        join_table = Table(new_columns, new_types)\n",
    "        \n",
    "        for row in self.rows :\n",
    "            def is_join(other_row) :\n",
    "                return all(other_row[c] == row[c] for c in join_on_columns)\n",
    "            \n",
    "            other_rows = other_table.where(is_join).rows\n",
    "            \n",
    "            # 반환되는 테이블의 각 행을 현재 행과 일치하는 행으로 구성\n",
    "            for other_row in other_rows :\n",
    "                join_table.insert([row[c] for c in self.columns] + [other_row[c] for c in additional_columns])\n",
    "                \n",
    "            # 만약 일치하는 행이 없다면 left join을 의미하며 None을 포함하는 테이블을 반환\n",
    "            if left_join and not other_rows :\n",
    "                join_table.insert([row[c] for c in self.columns] + [None for c in additional_columns])\n",
    "            \n",
    "        return join_table"
   ]
  },
  {
   "cell_type": "code",
   "execution_count": 81,
   "metadata": {},
   "outputs": [],
   "source": [
    "# User 테이블을 생성\n",
    "users = Table(['user_id', 'name', 'num_friends'], [int, str, int]) \n",
    "users.insert([0, \"Hero\", 0]) \n",
    "users.insert([1, \"Dunn\", 2]) \n",
    "users.insert([2, \"Sue\", 3]) \n",
    "users.insert([3, \"Chi\", 3]) \n",
    "users.insert([4, \"Thor\", 3]) \n",
    "users.insert([5, \"Clive\", 2]) \n",
    "users.insert([6, \"Hicks\", 3]) \n",
    "users.insert([7, \"Devin\", 2]) \n",
    "users.insert([8, \"Kate\", 2]) \n",
    "users.insert([9, \"Klein\", 3]) \n",
    "users.insert([10, \"Jen\", 1])\n"
   ]
  },
  {
   "cell_type": "code",
   "execution_count": 31,
   "metadata": {},
   "outputs": [
    {
     "data": {
      "text/plain": [
       "'Dunn'"
      ]
     },
     "execution_count": 31,
     "metadata": {},
     "output_type": "execute_result"
    }
   ],
   "source": [
    "users[1]['name']"
   ]
  },
  {
   "cell_type": "markdown",
   "metadata": {},
   "source": [
    "### SQL\n",
    "UPDATE users \n",
    "\n",
    "SET num_friends = 3\n",
    "\n",
    "WHERE user_id = 1;"
   ]
  },
  {
   "cell_type": "code",
   "execution_count": 41,
   "metadata": {},
   "outputs": [
    {
     "data": {
      "text/plain": [
       "2"
      ]
     },
     "execution_count": 41,
     "metadata": {},
     "output_type": "execute_result"
    }
   ],
   "source": [
    "# 기존값\n",
    "users[1]['num_friends']"
   ]
  },
  {
   "cell_type": "code",
   "execution_count": 42,
   "metadata": {},
   "outputs": [
    {
     "data": {
      "text/plain": [
       "3"
      ]
     },
     "execution_count": 42,
     "metadata": {},
     "output_type": "execute_result"
    }
   ],
   "source": [
    "# update후 값\n",
    "users.update({'num_friends' : 3}, lambda row : row['user_id'] == 1)\n",
    "users[1]['num_friends']"
   ]
  },
  {
   "cell_type": "markdown",
   "metadata": {},
   "source": [
    "### SQL\n",
    "DELETE FROM users;\n",
    "\n",
    "DELETE FROM users WHERE user_id = 1;"
   ]
  },
  {
   "cell_type": "code",
   "execution_count": 39,
   "metadata": {},
   "outputs": [
    {
     "data": {
      "text/plain": [
       "<bound method Table.delete of ['user_id', 'name', 'num_friends']\n",
       "{'user_id': 0, 'name': 'Hero', 'num_friends': 0}\n",
       "{'user_id': 1, 'name': 'Dunn', 'num_friends': 2}\n",
       "{'user_id': 2, 'name': 'Sue', 'num_friends': 3}\n",
       "{'user_id': 3, 'name': 'Chi', 'num_friends': 3}\n",
       "{'user_id': 4, 'name': 'Thor', 'num_friends': 3}\n",
       "{'user_id': 5, 'name': 'Clive', 'num_friends': 2}\n",
       "{'user_id': 6, 'name': 'Hicks', 'num_friends': 3}\n",
       "{'user_id': 7, 'name': 'Devin', 'num_friends': 2}\n",
       "{'user_id': 8, 'name': 'Kate', 'num_friends': 2}\n",
       "{'user_id': 9, 'name': 'Klein', 'num_friends': 3}\n",
       "{'user_id': 10, 'name': 'Jen', 'num_friends': 1}>"
      ]
     },
     "execution_count": 39,
     "metadata": {},
     "output_type": "execute_result"
    }
   ],
   "source": [
    "# 삭제 코드\n",
    "users.delete(lambda row: row[\"user_id\"] == 1) # user 1인 행을 삭제 \n",
    "users.delete() # 모든 행을 삭제 "
   ]
  },
  {
   "cell_type": "markdown",
   "metadata": {},
   "source": [
    "### SQL\n",
    "\n",
    "SELECSELECT * FROM users;\n",
    "\n",
    "SELECT * FROM users LIMIT 2;\n",
    "\n",
    "SELECT user_id FROM users;\n",
    "\n",
    "SELECT user_id FROM users WHERE name = 'Dunn';\n",
    "\n"
   ]
  },
  {
   "cell_type": "code",
   "execution_count": 82,
   "metadata": {},
   "outputs": [
    {
     "name": "stdout",
     "output_type": "stream",
     "text": [
      "11\n",
      "2\n",
      "['user_id']\n",
      "['user_id']\n",
      "\n",
      "4\n"
     ]
    }
   ],
   "source": [
    "# SELECSELECT * FROM users;\n",
    "all_users = users.select()\n",
    "print(len(all_users))\n",
    "\n",
    "# SELECT * FROM users LIMIT 2;\n",
    "two_users = users.limit(2)\n",
    "print(len(two_users))\n",
    "\n",
    "# SELECT user_id FROM users;\n",
    "just_ids = users.select(keep_columns=['user_id'])\n",
    "print(just_ids.columns)\n",
    "\n",
    "# SELECT user_id FROM users WHERE name = 'Dunn';\n",
    "dunn_ids = (users.where(lambda row : row[\"name\"] == \"Dunn\").select(keep_columns=[\"user_id\"]))\n",
    "print(dunn_ids)\n",
    "\n",
    "# SELECT LENGTH(name) AS name_length FROM users;\n",
    "def name_length(row) -> int: return len(row[\"name\"])\n",
    "\n",
    "name_lengths = users.select(keep_columns = [], additional_columns = {\"name_length\" : name_length})\n",
    "print(name_lengths[0]['name_length'])"
   ]
  },
  {
   "cell_type": "markdown",
   "metadata": {},
   "source": [
    "### SQL\n",
    "SELECT LENGTH(name) as name_length,\n",
    "    \n",
    "    MIN(user_id) AS min_user_id,\n",
    "    \n",
    "    COUNT(*) AS num_users\n",
    "    \n",
    "    FROM users\n",
    "    \n",
    "    GROUP BY LENGTH(name);\n",
    "    "
   ]
  },
  {
   "cell_type": "code",
   "execution_count": 83,
   "metadata": {},
   "outputs": [],
   "source": [
    "def min_user_id(rows) -> int :\n",
    "    return min(row[\"user_id\"] for row in rows)\n",
    "\n",
    "def length(rows) -> int :\n",
    "    return len(rows)\n",
    "    \n",
    "stats_by_length = (\n",
    "    users\n",
    "    .select(additional_columns = {\"name_length\" : name_length})\n",
    "    .group_by(group_by_columns = [\"name_length\"], \n",
    "              aggregates = {\"min_user_id\" : min_user_id,\n",
    "                            \"num_users\" : length})\n",
    ")\n"
   ]
  },
  {
   "cell_type": "code",
   "execution_count": 84,
   "metadata": {},
   "outputs": [],
   "source": [
    "def first_letter_of_name(row: Row) -> str :\n",
    "    return row[\"name\"][0] if row[\"name\"] else \"\"\n",
    "\n",
    "def average_num_friends(rows : List[Row]) -> float :\n",
    "    return sum(row[\"num_friends\"] for row in rows) / len(rows)\n",
    "\n",
    "def enough_friends(rows : List[Row]) -> bool :\n",
    "    return average_num_friends(rows) > 1\n",
    "\n",
    "avg_friends_by_letter = (\n",
    "    users\n",
    "    .select(additional_columns={'first_letter' : first_letter_of_name})\n",
    "    .group_by(group_by_columns=['first_letter'], \n",
    "              aggregates = {\"avg_num_friends\" : average_num_friends}, \n",
    "              having = enough_friends)\n",
    ")\n",
    "\n",
    "def sum_user_ids(rows: List[Row]) -> int :\n",
    "    return sum(row[\"user_id\"] for row in rows)\n",
    "\n",
    "user_id_sum =(\n",
    "    users\n",
    "    .where(lambda row: row[\"user_id\"] > 1)\n",
    "    .group_by(group_by_columns = [], \n",
    "              aggregates = {\"user_id_sum\" : sum_user_ids })\n",
    ")"
   ]
  },
  {
   "cell_type": "markdown",
   "metadata": {},
   "source": [
    "### SQL\n",
    "\n",
    "SELECT * FROM users\n",
    "\n",
    "ORDER BY name\n",
    "\n",
    "LIMIT 2;"
   ]
  },
  {
   "cell_type": "code",
   "execution_count": 85,
   "metadata": {},
   "outputs": [],
   "source": [
    "friendliest_letters = (\n",
    "    avg_friends_by_letter\n",
    "    .order_by(lambda row: -row[\"avg_num_friends\"])\n",
    "    .limit(4))\n"
   ]
  },
  {
   "cell_type": "code",
   "execution_count": 86,
   "metadata": {},
   "outputs": [
    {
     "data": {
      "text/plain": [
       "['first_letter', 'avg_num_friends']\n",
       "{'first_letter': 'H', 'avg_num_friends': 1.5}"
      ]
     },
     "execution_count": 86,
     "metadata": {},
     "output_type": "execute_result"
    }
   ],
   "source": [
    "friendliest_letters"
   ]
  },
  {
   "cell_type": "markdown",
   "metadata": {},
   "source": [
    "### SQL\n",
    "\n",
    "CREATE TABLE user_interests (\n",
    "    \n",
    "    user_id INT NOT NULL,\n",
    "    \n",
    "    interest VARCHAR(!00) NOT NULL\n",
    "\n",
    ");"
   ]
  },
  {
   "cell_type": "code",
   "execution_count": 87,
   "metadata": {},
   "outputs": [],
   "source": [
    "# 테이블 생성\n",
    "user_interests = Table(['user_id', 'interest'], [int, str])\n",
    "user_interests.insert([0, \"SQL\"])\n",
    "user_interests.insert([0, \"NoSQL\"])\n",
    "user_interests.insert([2, \"SQL\"])\n",
    "user_interests.insert([2, \"MySQL\"])"
   ]
  },
  {
   "cell_type": "markdown",
   "metadata": {},
   "source": [
    "### SQL\n",
    "#### INNER JOIN : SQL에 관심 있는 사용자 목록을 얻고 싶다면 \n",
    "\n",
    "SELECT users.name\n",
    "\n",
    "FROM users\n",
    "\n",
    "JOIN user_interests\n",
    "\n",
    "ON users.user_id = user_interests.user_id\n",
    "\n",
    "WHERE user_interests.interest = 'SQL'\n",
    "\n",
    "#### LEFT JOIN\n",
    "\n",
    "SELECT users.id, COUNT(user_interests.interest) AS num_interests\n",
    "\n",
    "FROM users\n",
    "\n",
    "LEFT JOIN user_interests\n",
    "\n",
    "ON users.user_id = user\n"
   ]
  },
  {
   "cell_type": "code",
   "execution_count": 88,
   "metadata": {},
   "outputs": [],
   "source": [
    "# SQL에 관심있는 사용자들을 찾기\n",
    "\n",
    "sql_users = (\n",
    "    users\n",
    "    .join(user_interests)\n",
    "    .where(lambda row: row[\"interest\"] == \"SQL\")\n",
    "    .select(keep_columns = [\"name\"])\n",
    ")"
   ]
  },
  {
   "cell_type": "code",
   "execution_count": 89,
   "metadata": {},
   "outputs": [
    {
     "data": {
      "text/plain": [
       "['name']\n",
       "{'name': 'Hero'}"
      ]
     },
     "execution_count": 89,
     "metadata": {},
     "output_type": "execute_result"
    }
   ],
   "source": [
    "sql_users"
   ]
  },
  {
   "cell_type": "code",
   "execution_count": 90,
   "metadata": {},
   "outputs": [],
   "source": [
    "def count_interests(rows : List[Row]) -> int :\n",
    "    \"\"\"None이 아닌 관심사의 개수를 세어 준다\"\"\"\n",
    "    return len([row for row in rows if row[\"interest\"] is not None])\n",
    "\n",
    "user_interest_count = (\n",
    "    users\n",
    "    .join(user_interests, left_join = True)\n",
    "    .group_by(group_by_columns=[\"user_id\"],\n",
    "             aggregates={\"num_interests\" : count_interests})\n",
    ")"
   ]
  },
  {
   "cell_type": "markdown",
   "metadata": {},
   "source": [
    "### SQL\n",
    "#### SUBQUERY \n",
    "\n",
    "SELECT MIN(user_id) AS min_user_id FROM\n",
    "\n",
    "(SELECT user_id FROM user_interests WHERE interest = 'SQL') sql_interests;\n"
   ]
  },
  {
   "cell_type": "code",
   "execution_count": 92,
   "metadata": {},
   "outputs": [
    {
     "data": {
      "text/plain": [
       "['min_user_id']\n",
       "{'min_user_id': 0}"
      ]
     },
     "execution_count": 92,
     "metadata": {},
     "output_type": "execute_result"
    }
   ],
   "source": [
    "# 서브쿼리 : 쿼리의 결과가 실제로 테이블\n",
    "likes_sql_user_ids = (\n",
    "    user_interests\n",
    "    .where(lambda row: row[\"interest\"] == 'SQL')\n",
    "    .select(keep_columns=['user_id'])\n",
    ")\n",
    "likes_sql_user_ids.group_by(group_by_columns = [],\n",
    "                            aggregates = {\"min_user_id\" : min_user_id })\n"
   ]
  },
  {
   "cell_type": "code",
   "execution_count": null,
   "metadata": {},
   "outputs": [],
   "source": []
  }
 ],
 "metadata": {
  "kernelspec": {
   "display_name": "Python 3",
   "language": "python",
   "name": "python3"
  },
  "language_info": {
   "codemirror_mode": {
    "name": "ipython",
    "version": 3
   },
   "file_extension": ".py",
   "mimetype": "text/x-python",
   "name": "python",
   "nbconvert_exporter": "python",
   "pygments_lexer": "ipython3",
   "version": "3.8.3"
  }
 },
 "nbformat": 4,
 "nbformat_minor": 4
}
