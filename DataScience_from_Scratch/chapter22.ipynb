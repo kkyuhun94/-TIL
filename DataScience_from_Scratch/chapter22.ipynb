{
 "cells": [
  {
   "cell_type": "markdown",
   "metadata": {},
   "source": [
    "## 학습정리\n",
    "\n",
    "### 22장. 네트워크 분석\n",
    "* 네트워크(network) : 노드(node)와 그 사이를 연결하는 엣지(edge)로 구성\n",
    "    * ex. 노드 - 엣지\n",
    "        * 사용자 - 친구관계 : 방향이 없다(undirected)\n",
    "        * 웹페이지 - 하이퍼링크 : 방향성 네트워크(directed network)\n",
    "        \n",
    "####  22.1 매개 중심성\n",
    "* 연결 중심성(degree centrality) : 핵심인물이 직관이 일치하지 않는 경우 발생\n",
    "* 매개 중심성(betweenness centality) : 임의의 두 사람 사이의 최단 경로상에 얼마나 자주 등장하는지를 보는 지수\n",
    "    * 노드 i의 매개 중심성 : 다른 모든 노드 j,k쌍 사이의 최단 경로 중에, i를 거치는 경로의 비율로 계산\n",
    "    * ex. Thor의 매개 중심성을 구하려면 Thor가 아닌 다른 모든 사람간의 최단 경로를 구해야함\n",
    "        * 그 중 어떤 경로들이 Thor를 거쳐가는지 확인 \n",
    "    * 최단 경로 : 임의의 두사람이 주어졌을 때 최단경로를 구할 수 있어야 함 \n",
    "        * 너비 우선 탐색(breadth-first search) 적용 \n",
    "            1. from_user를 받아서 다른 모든 사용자까지의 최단 경로를 계산해주는 함수를 생성\n",
    "            2. 각 경로는 사용자 ID의 리스트로 표현, 리스트의 길이는 경로의 길이를 나타냄 \n",
    "            3. shortest_paths_to : 사용자 ID를 키(key)로 사용하고, 해당 사용자에 도달할 때까지 경로를 나타내는 리스트를 값으로 사용하는 딕셔너리 \n",
    "            4. frontier : 살펴보고 싶은 사용자의 순서를 볼때 사용하기위한 큐(queue)\n",
    "                * 큐 : 항목을 추가 할 때는 뒤에, 제거할 때는 앞에서부터 제거하는 자료 구조 \n",
    "            5. 네트워크를 살펴보면서 최단 경로를 모르는 새로운 이웃이 보이면 현재 사용자를 prev_user로 설정, 새로운 이웃을 큐에 추가\n",
    "            6. 특정 사용자까지의 최단 경로를 계산하지 않더라도 사용자가 큐에서 제거되면 해당 사용자에 도달할 수 있는 최단 경로를 찾았다는 것을 알 수 있음 \n",
    "            7. 큐에서 사용자를 제거할 때 해당 사용자까지의 최단 경로를 이미 계산 했다면, 새로운 경로를 찾았다는 것을 의미. 찾은 경로가 최단일 때 추가.\n",
    "            8. 만약 큐에 더 이상 사용자가 남아있지 않다면 네트워크 전체를 살펴 봤다는 것을 의미. 종료\n",
    "    * ex) 0,9가 다른 사용자 사이의 최단 경로 위에 존재 하지 않는 다면 매개 중심성은 0\n",
    "        * 최단 경로 상에 빈번하게 위치할 경우 높은 매개 중심성을 가짐 \n",
    "* 근접 중심성(closeness centrality) : 원접성(farness)을 이용해 구할수 있음 \n",
    "    * 원접성(farness) : 어떤 사용자와 다른 모든 사용자의 최단 경로를 합한 값\n",
    "    * 근접 중심성의 편차는 훨씬 적음 : 네트워크 중심에 있는 노드도 외곽에 위치한 노드들로부터 멀리 떨어져 있기 때문\n",
    "* 일반 적으로는 쉽게 계산 가능한 고유벡터 중심성(eigenvector centrality)를 자주 사용 \n",
    "\n",
    "####  22.2 고유 벡터 중심성\n",
    "* 행렬 곱셈\n",
    "    * 내적\n",
    "        * m차원 벡터를 (m,1)행렬로 생각 할때, 이를 (n,m) 행렬과 곱하여 n차원 벡터로 간주할 수 있는 (n,1)행렬을 얻을 수 있음\n",
    "        * (n,m)행렬을,m차원 벡터를 n차원 벡터로 변환하는 선형사상(linear mapping)\n",
    "    * 고유벡터(eigenvector) : $Av = \\lambda v$를 만족하는 벡터 $v$ \n",
    "    * 고윳값(eigenvalue) : $\\lambda$값 \n",
    "        * 고유 벡터를 찾는 방법 : 임의의 벡터 v를 골라 matrix_times_vector를 수행, 결과값의 크기가 1이 되게 재조정하는 과정을 반복 수행 \n",
    "\n",
    "    \n",
    "* 중심성\n",
    "\n",
    "####  22.3 방향성 그래프와 페이지랭크\n",
    "####  22.4 더 공부해 보고 싶다면"
   ]
  },
  {
   "cell_type": "markdown",
   "metadata": {},
   "source": [
    "## code"
   ]
  },
  {
   "cell_type": "code",
   "execution_count": 11,
   "metadata": {},
   "outputs": [],
   "source": [
    "# NamedTuple을 사용해서 데이터를 다루기 \n",
    "from typing import NamedTuple\n",
    "\n",
    "class User(NamedTuple) :\n",
    "    id : int\n",
    "    name : str\n",
    "\n",
    "users = [User(0,\"Hero\"), User(1,\"Dunn\"), User(2,\"Sue\"), User(3,\"Chi\"),\n",
    "         User(4,\"Thor\"), User(5,\"Clive\"), User(6,\"Hicks\"), User(7,\"Devin\"), User(8,\"Kate\"), User(9,\"Klein\")]\n",
    "\n",
    "friend_pairs = [(0,1),(0,2),(1,2),(1,3),(2,3),(3,4),(4,5),(5,6),(5,7),(6,8),(7,8),(8,9)]\n"
   ]
  },
  {
   "cell_type": "code",
   "execution_count": 12,
   "metadata": {},
   "outputs": [],
   "source": [
    "from typing import Dict, List\n",
    "\n",
    "# 친구 관계를 유지하기 위한 type alias\n",
    "Friendships = Dict[int, List[int]]\n",
    "\n",
    "friendships : Friendships = {user.id : [] for user in users}\n",
    "\n",
    "for i,j in friend_pairs:\n",
    "    friendships[i].append(j)\n",
    "    friendships[j].append(i)\n",
    "    "
   ]
  },
  {
   "cell_type": "code",
   "execution_count": 13,
   "metadata": {},
   "outputs": [
    {
     "data": {
      "text/plain": [
       "[3, 5]"
      ]
     },
     "execution_count": 13,
     "metadata": {},
     "output_type": "execute_result"
    }
   ],
   "source": [
    "friendships[4]"
   ]
  },
  {
   "cell_type": "code",
   "execution_count": 14,
   "metadata": {},
   "outputs": [],
   "source": [
    "# 매개 중심성을 구하기 위한 최단거리 모델\n",
    "# 너비 우선 탐색 \n",
    "from collections import deque\n",
    "\n",
    "Path = List[int]\n",
    "\n",
    "def shortest_paths_from(from_user_id: int, friendships: Friendships) -> Dict[int, List[Path]] :\n",
    "    # 특정 사용자로부터 다른 사용자까지의 모든 최단 경로를 포함하는 dict \n",
    "    shortest_paths_to : Dict[int, List[Path]] = {from_user_id: [[]]}\n",
    "    \n",
    "    # 확인해야 하는 (이전 사용자, 다음사용자) 큐\n",
    "    # 모든 (from_user, from_user의 친구) 쌍으로 시작\n",
    "    frontier = deque((from_user_id, friend_id) for friend_id in friendships[from_user_id])\n",
    "    \n",
    "    # 큐가 빌 때까지 반복\n",
    "    while frontier :\n",
    "        # 큐의 첫 번째 사용자를 제거\n",
    "        prev_user_id, user_id = frontier.popleft()\n",
    "        \n",
    "        # 큐에 사용자를 추가하는 방법을 고려해 보면 \n",
    "        # prev_user까지의 최단 경로의 몇 개를 이미 알고 있다.\n",
    "        paths_to_prev_user = shortest_paths_to[prev_user_id]\n",
    "        new_paths_to_user = [path + [user_id] for path in paths_to_prev_user]\n",
    "        \n",
    "        # 만약 최단 경로를 이미 알고 있다면 \n",
    "        old_paths_to_user = shortest_paths_to.get(user_id, [])\n",
    "        \n",
    "        # 지금까지의 최단 경로는 무엇일까?\n",
    "        if old_paths_to_user :\n",
    "            min_path_length = len(old_paths_to_user[0])\n",
    "        else :\n",
    "            min_path_length = float('inf')\n",
    "        \n",
    "        # 길지 않은 새로운 경로만 저장\n",
    "        new_paths_to_user = [path for path in new_paths_to_user \n",
    "                             if len(path) <= min_path_length and path not in old_paths_to_user]\n",
    "        \n",
    "        shortest_paths_to[user_id] = old_paths_to_user + new_paths_to_user\n",
    "        \n",
    "        # 아직 한 번도 보지 못한 이웃을 frontier에 추가\n",
    "        frontier.extend((user_id, friend_id) for friend_id in friendships[user_id]\n",
    "                       if friend_id not in shortest_paths_to)\n",
    "        \n",
    "        return shortest_paths_to\n",
    "            "
   ]
  },
  {
   "cell_type": "code",
   "execution_count": 15,
   "metadata": {},
   "outputs": [],
   "source": [
    "# 최단거리 계산\n",
    "# 각 from_user에서 각 to_user까지 최단 경로 리스트를 반환\n",
    "shortest_paths = {user.id: shortest_paths_from(user.id, friendships) for user in users}\n"
   ]
  },
  {
   "cell_type": "code",
   "execution_count": 16,
   "metadata": {},
   "outputs": [],
   "source": [
    "# 최단 경로에 포함되는 각 노드의 매개 중심성에 1/n을 더해줌\n",
    "\n",
    "betweenness_centrality = {user.id: 0.0 for user in users}\n",
    "\n",
    "for source in users :\n",
    "    for target_id, paths in shortest_paths[source.id].items() :\n",
    "        if source.id < target_id :               # 잘못해서 두 번 세지 않도록 주의\n",
    "            num_paths = len(paths)               # 최단 경로가 몇개 존재?\n",
    "            contrib = 1/num_paths                # 중심성에 기여하는 값\n",
    "            for path in paths :\n",
    "                for between_id in path :\n",
    "                    if between_id not in [source.id, target_id] :\n",
    "                        betweenness_centrality[between_id] += contrib"
   ]
  },
  {
   "cell_type": "code",
   "execution_count": 17,
   "metadata": {},
   "outputs": [
    {
     "data": {
      "text/plain": [
       "{0: 0.0,\n",
       " 1: 0.0,\n",
       " 2: 0.0,\n",
       " 3: 0.0,\n",
       " 4: 0.0,\n",
       " 5: 0.0,\n",
       " 6: 0.0,\n",
       " 7: 0.0,\n",
       " 8: 0.0,\n",
       " 9: 0.0}"
      ]
     },
     "execution_count": 17,
     "metadata": {},
     "output_type": "execute_result"
    }
   ],
   "source": [
    "betweenness_centrality"
   ]
  },
  {
   "cell_type": "code",
   "execution_count": 18,
   "metadata": {},
   "outputs": [],
   "source": [
    "# 원접성 \n",
    "def farness(user_id: int) -> float :\n",
    "    \"\"\"모든 사용자와의 최단 거리 합\"\"\"\n",
    "    return sum(len(paths[0]) for paths in shortest_paths[user_id].values())"
   ]
  },
  {
   "cell_type": "code",
   "execution_count": 22,
   "metadata": {},
   "outputs": [
    {
     "data": {
      "text/plain": [
       "{0: 1.0,\n",
       " 1: 1.0,\n",
       " 2: 1.0,\n",
       " 3: 1.0,\n",
       " 4: 1.0,\n",
       " 5: 1.0,\n",
       " 6: 1.0,\n",
       " 7: 1.0,\n",
       " 8: 1.0,\n",
       " 9: 1.0}"
      ]
     },
     "execution_count": 22,
     "metadata": {},
     "output_type": "execute_result"
    }
   ],
   "source": [
    "closeness_centrality = {user.id : 1 / farness(user.id) for user in users}\n",
    "closeness_centrality"
   ]
  },
  {
   "cell_type": "code",
   "execution_count": 4,
   "metadata": {},
   "outputs": [],
   "source": [
    "# 내적\n",
    "from typing import Callable, Tuple, List\n",
    "\n",
    "Matrix = List[List[float]]\n",
    "\n",
    "def make_matrix(num_rows : int,\n",
    "               num_cols : int,\n",
    "               entry_fn : Callable[[int,int],float]) -> Matrix :\n",
    "    \"\"\"\n",
    "    (i,j)번쨰 원소가 entry_fn(i,j)인 num_row x num_cols 리스트를 반환\n",
    "    \"\"\"\n",
    "    return [[entry_fn(i,j)\n",
    "            for j in range(num_cols)]\n",
    "           for i in range(num_rows)]\n",
    "\n",
    "def shape(A : Matrix) -> Tuple[int, int] :\n",
    "    \"\"\"(행의 개수,열의 개수)반환\"\"\"\n",
    "    num_rows = len(A)\n",
    "    num_cols = len(A[0]) if A else 0 # 첫 번째 행의 원소의 개수\n",
    "    return num_rows, num_cols"
   ]
  },
  {
   "cell_type": "code",
   "execution_count": 5,
   "metadata": {},
   "outputs": [],
   "source": [
    "def matrix_times_matrix(m1: Matrix, m2: Matrix) -> Matrix :\n",
    "    nr1, nc2 = shape(m1)\n",
    "    nr2, nc2 = shape(m2)\n",
    "    assert nc1 == nr2, \"must have (# of columns in m1) == (# of rows in m2)\"\n",
    "    \n",
    "    def entry_fn(i : int, j: int) -> float :\n",
    "        \"\"\"m1의 i번째 행과 m2의 j번째 열의 내적 \"\"\"\n",
    "        return sum(m1[i][k] * m2[k][j] for k in range(nc1))\n",
    "    \n",
    "    return make_matrix(nr1, nc2, entry_fn)"
   ]
  },
  {
   "cell_type": "code",
   "execution_count": 7,
   "metadata": {},
   "outputs": [],
   "source": [
    "# 선형 사상\n",
    "\n",
    "Vector = List[float]\n",
    "\n",
    "\n",
    "def matrix_times_vector(m : Matrix, v: Vector) -> Vector :\n",
    "    nr,nc = shape(m)\n",
    "    n = len(v)\n",
    "    assert nc == n, \"must have (# of cols in m) == (# of elements in v)\"\n",
    "    \n",
    "    return [np.dot(row,v) for row in m] # output has length nr \n"
   ]
  },
  {
   "cell_type": "code",
   "execution_count": 9,
   "metadata": {},
   "outputs": [
    {
     "ename": "SyntaxError",
     "evalue": "invalid syntax (<ipython-input-9-0107cc30faf6>, line 30)",
     "output_type": "error",
     "traceback": [
      "\u001b[0;36m  File \u001b[0;32m\"<ipython-input-9-0107cc30faf6>\"\u001b[0;36m, line \u001b[0;32m30\u001b[0m\n\u001b[0;31m    if distance(guess)\u001b[0m\n\u001b[0m                      ^\u001b[0m\n\u001b[0;31mSyntaxError\u001b[0m\u001b[0;31m:\u001b[0m invalid syntax\n"
     ]
    }
   ],
   "source": [
    "# 고유벡터 \n",
    "from typing import Tuple\n",
    "import random\n",
    "# from scratch.linear_algebra import magnitude,distance\n",
    "import math # math.sqrt : 제곱근\n",
    "\n",
    "def magnitude(v:Vector) -> float :\n",
    "    \"\"\"벡터 v의 크기를 반환\"\"\"\n",
    "    return math.sqrt(sum_of_squares(v))\n",
    "\n",
    "def squared_distance(v: Vector, w: Vector) -> float :\n",
    "    \"\"\"(v_1 - w_1) ** 2 +...+ (v_n - w_n) ** 2 \"\"\"\n",
    "    return sum_of_squares(subtract(v,w))\n",
    "\n",
    "def distance(v: Vector, w: Vector) -> float :\n",
    "    \"\"\"벡터 v와 w간의 거리를 계산\"\"\"\n",
    "    return math.sqrt(squared_distance(v,w))\n",
    "\n",
    "\n",
    "\n",
    "\n",
    "def find_eigenvector(m : Matrix, tolerance : float =0.00001) -> Tuple[Vector, float] :\n",
    "    guess = [random.random() for _ in m]\n",
    "    \n",
    "    while True :\n",
    "        result = matrix_times_vector(m, guess) # guess 반환\n",
    "        norm = magnitude(result)               # 크기를 계산\n",
    "        next_guess = [x / norm for x in result] # 재조정\n",
    "        \n",
    "        if distance(guess, next_guess) < tolerance :\n",
    "            # 수렴했으니 (고유벡터, 고윳값)을 반환\n",
    "            return next_guess, norm \n",
    "        \n",
    "        guess = next_guess"
   ]
  },
  {
   "cell_type": "code",
   "execution_count": null,
   "metadata": {},
   "outputs": [],
   "source": []
  }
 ],
 "metadata": {
  "kernelspec": {
   "display_name": "Python 3",
   "language": "python",
   "name": "python3"
  },
  "language_info": {
   "codemirror_mode": {
    "name": "ipython",
    "version": 3
   },
   "file_extension": ".py",
   "mimetype": "text/x-python",
   "name": "python",
   "nbconvert_exporter": "python",
   "pygments_lexer": "ipython3",
   "version": "3.8.3"
  }
 },
 "nbformat": 4,
 "nbformat_minor": 4
}
