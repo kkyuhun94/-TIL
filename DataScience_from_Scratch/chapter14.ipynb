{
 "cells": [
  {
   "cell_type": "markdown",
   "metadata": {},
   "source": [
    "## 학습정리\n",
    "\n",
    "### 14장. 단순 회귀 분석\n",
    "* correlation : 두 변수의 선형관계를 갖고 있는지 확인 가능\n",
    "* 선형관계의 존재 여부를 확인하는 것 외에도 더욱 자세히 살펴볼 필요가 있음\n",
    "\n",
    "####  14.1 모델\n",
    "* $y_i = \\beta x_i+\\alpha + \\varepsilon _i$\n",
    "####  14.2 경사 하강법 사용하기\n",
    "####  14.3 최대가능도 추정법\n",
    "####  14.4 더 공부해 보고 싶다면 \n"
   ]
  }
 ],
 "metadata": {
  "kernelspec": {
   "display_name": "Python 3",
   "language": "python",
   "name": "python3"
  },
  "language_info": {
   "codemirror_mode": {
    "name": "ipython",
    "version": 3
   },
   "file_extension": ".py",
   "mimetype": "text/x-python",
   "name": "python",
   "nbconvert_exporter": "python",
   "pygments_lexer": "ipython3",
   "version": "3.8.3"
  }
 },
 "nbformat": 4,
 "nbformat_minor": 4
}
