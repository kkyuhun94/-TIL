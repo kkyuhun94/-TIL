{
 "cells": [
  {
   "cell_type": "markdown",
   "metadata": {},
   "source": [
    "## 학습정리\n",
    "\n",
    "### 27장. 본격적으로 데이터 과학하기\n",
    "\n",
    "####  27.1 IPython\n",
    "* 기본 파이썬 셸에 비해 magic function과 같은 훨씬 다양한 기능을 제공\n",
    "    * 코드를 복사하고 붙여넣을 때 기본 파이썬 셸을 사용하면 포맷팅이 깨질 수 있지만 쉽게 해결해줌 \n",
    "\n",
    "####  27.2 수학\n",
    "* 좋은 데이터 과학자가 되기 위해서 더욱 잘 알아야 한다.\n",
    "    * 선형대수\n",
    "    * 통계\n",
    "    * 확률 \n",
    "\n",
    "####  27.3 밑바닥부터 시작하지 않는 방법\n",
    "* Numpy (Numeric Python) : 배열(array),행렬(matrix)등 관련 각종 함수 제공\n",
    "* pandas : DataFrame으로 데이터셋을 다루는데 매우 유용\n",
    "* scikit-learn : 파이썬 머신러닝 라이브러리 중에 가장 인기 있는 라이브러리, 많은 상황에 따른 예시와 설명이 문서에 포함\n",
    "* 시각화\n",
    "    * matplotlib : 깔끔하고 기능적\n",
    "    * seaborn : matplotlib을 더욱 매력적으로 만들어 준다\n",
    "    * D3.js : 자바스크립트 라이브러리, js를 거의 몰라도 예시들을 응용 가능\n",
    "    * Bokeh : D3의 기능을 파이썬으로 가져온 것\n",
    "* R : 많은 데이터 과학 프로젝트에서 사용하기 때문에 익숙해지면 좋다.\n",
    "* 딥러닝 : 가장 인기 있는 파이썬 딥러닝 프레임워크 : 구글-텐서플로(TensorFlow), 페이스북-파이토치(PyToch)\n",
    "    * 파이토치 : 초보자에게는 더 친숙하게 느껴질 것\n",
    "    \n",
    "####  27.4 데이터 찾기\n",
    "* 데이터를 구할 만한 좋은 출발점\n",
    "    * Data.gov : 미국 행정부\n",
    "    * reddit.com : 데이터를 찾거나 질문할 수 있는 포럼\n",
    "    * amazon.com : 공개 데이터셋을 모아서 공개\n",
    "    * Robb Seaton : 블로그에 몇가지 유용한 데이터 셋을 정리\n",
    "    * Kaggle : 데이터 과학 관련 대회\n",
    "    * 구글 Dataset Search\n",
    "    \n",
    "####  27.5 데이터 과학하기\n",
    "* 저자가 생각하는 가장 뛰어난 프로젝트 : 실행활의 문제를 개선하는 것\n",
    "    * 해커 뉴스(Hacker News) : 기술 관련 뉴스가 모이고 토론이 이루어지는 사이트.\n",
    "        * 특정 기사에 대한 관심 여부를 예측할 수 있는 기사 분류기(나이브 베이즈 분류기)\n",
    "    * 소방차 : Realtime911 웹사이트에서 실제 화재발생 시간, 장소에 대한 데이터, 소방차에 대한 데이터 수집가능\n",
    "        * 소방차들 간의 네트워크 분석 : 소방차의 입장에서 중심성(centrality)의 개념인지를 개발, TruckRank라고 명명\n",
    "    * 티셔츠 : 남아와 여아의 티셔츠들 간의 차이를 모델링\n",
    "        * 수백 장의 티셔츠이미지를 수집, 같은 사이즈로 변환, 색 정보를 벡터로 변환, 로지스틱 회귀 분석으로 티셔츠들을 분류\n",
    "        * 각 티셔츠 안에 어떤 색이 있는지를 분석\n",
    "            * 이미지 벡터들에 대한 주성분(principal component)10개를 구해서 eigenshirt로 그려지는 10차원 공간을 활용\n",
    "    * 지구본 위의 트윗\n",
    "        * 회전하는 지구본 시각화 (자바스크립트)\n",
    "    * 그리고 여러분은?\n",
    "        * 관심있는 데이터를 찾아보고 스크래핑을 해보며 찾아보고 분석 해보자 "
   ]
  }
 ],
 "metadata": {
  "kernelspec": {
   "display_name": "Python 3",
   "language": "python",
   "name": "python3"
  },
  "language_info": {
   "codemirror_mode": {
    "name": "ipython",
    "version": 3
   },
   "file_extension": ".py",
   "mimetype": "text/x-python",
   "name": "python",
   "nbconvert_exporter": "python",
   "pygments_lexer": "ipython3",
   "version": "3.8.3"
  }
 },
 "nbformat": 4,
 "nbformat_minor": 4
}
