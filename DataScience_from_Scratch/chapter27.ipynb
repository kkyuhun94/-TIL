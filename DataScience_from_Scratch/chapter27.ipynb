{
 "cells": [
  {
   "cell_type": "markdown",
   "metadata": {},
   "source": [
    "## 학습정리\n",
    "\n",
    "### 27장. 본격적으로 데이터 과학하기\n",
    "* 정성적인 특징\n",
    "####  27.1 IPython\n",
    "####  27.2 수학\n",
    "####  27.3 밑바닥부터 시작하지 않는 방법\n",
    "* Numpy\n",
    "* pandas\n",
    "* scikit-learn\n",
    "* 시각화\n",
    "* R \n",
    "* 딥러닝\n",
    "####  27.4 데이터 찾기\n",
    "####  27.5 데이터 과학하기\n",
    "* 해커 뉴스\n",
    "* 소방차\n",
    "* 티셔츠\n",
    "* 지구본 위의 트윗\n",
    "* 그리고 여러분은?"
   ]
  }
 ],
 "metadata": {
  "kernelspec": {
   "display_name": "Python 3",
   "language": "python",
   "name": "python3"
  },
  "language_info": {
   "codemirror_mode": {
    "name": "ipython",
    "version": 3
   },
   "file_extension": ".py",
   "mimetype": "text/x-python",
   "name": "python",
   "nbconvert_exporter": "python",
   "pygments_lexer": "ipython3",
   "version": "3.8.3"
  }
 },
 "nbformat": 4,
 "nbformat_minor": 4
}
