{
 "cells": [
  {
   "cell_type": "markdown",
   "metadata": {},
   "source": [
    "## 학습정리\n",
    "\n",
    "### 2장. 파이썬 속성 강좌 \n",
    "\n",
    "#### 2.1 기본기 다지기\n",
    "* the Zen of python, by Tim Peters : 파이썬 인터프리터에서 \"import this\"를 입력하면 출력되는 파이썬의 '교리' \n",
    "    * 어떤 일이든 명확한-바람직하고 유일한-방법이 존재한다. \n",
    "    * 아름다움이 추함보다 좋다. 명시가 암시보다 좋다. 단순함이 복잡함보다 좋다.\n",
    "\n",
    "#### 2.2 파이썬 설치\n",
    "\n",
    "#### 2.3 가상환경\n",
    "* 가상환경 생성 conda create -n thename python=3.6\n",
    "    * 이름이 thename인 가상환경 생성\n",
    "* 가상환경 활성화 : source activate thename\n",
    "* 가상환경 비활성화 : source deactivate\n",
    "\n",
    "#### 2.4 들여쓰기\n",
    "* tab,space를 혼용하면 오류가 발생, 항상 스페이스 키로 사용할 것.\n",
    "* 공백문자(whitespace) : (),$[]$안에서 무시되기 때문에 가독성을 위해 유용하게 사용.\n",
    "* 역슬래쉬\\ : 코드가 다음 줄로 이어지는 것을 명시\n",
    "\n",
    "#### 2.5 모듈\n",
    "* import : 모듈호출\n",
    "* 모듈의 별칭(alias)를 관습적으로 사용\n",
    "    * re - as regex\n",
    "    * matplotlib - as plt\n",
    "* 모듈하나에서 특정 기능만 명시해서 사용\n",
    "    * from\n",
    "    * 모듈의 기능을 통째로 불러오면 기존의 변수들을 덮어쓸수 있음\n",
    "\n",
    "#### 2.6 함수\n",
    "* 함수 : 0개 혹은 그 이상의 인자를 입력 받아 결과를 반환하는 규칙\n",
    "    * def로 정의.\n",
    "* 1급 함수(first-class) : 변수로 할당되거나 함수의 인자로 전달할 수 있다.\n",
    "* 람다 함수(lambda function)\n",
    "* 함수의 인자에 기본값을 할당 가능\n",
    "* 인자의 이름 명시 해주면 편리    \n",
    "\n",
    "#### 2.7 문자열\n",
    "* 'string',\"string\"\n",
    "* \"\\t\" : 탭을 의미하는 string\n",
    "* raw string(r) : r\"\\t\" - 가공되지 않은 문자열 \"\\t\", 탭이 아님\n",
    "* 문자열 합치기 \n",
    "    * \"abc\"+\"bcd\"\n",
    "    * .format 사용 : \"{0}{1}\".format(\"abc\",\"bcd\")\n",
    "    * f-string : f\"{\"abc\"}{bcd}\"\n",
    "    \n",
    "#### 2.8 예외 처리\n",
    "* 예외를 제대로 처리해 주지 않으면 프로그램이 죽음 : try , except\n",
    "\n",
    "#### 2.9 리스트\n",
    "* 파이썬의 가장 기본적인 데이터 구조\n",
    "* 순서가 있는 자료의 집합(collection)\n",
    "* 슬라이싱\n",
    "* in 연산자 : 존재여부 확인(True,False)\n",
    "* list1.extend(list2) : list1에 list2를 추가\n",
    "* list.append(0): list에 항목 하나씩 추가\n",
    "* 항목의 개수를 알 경우 리스트를 풀수있다.\n",
    "\n",
    "#### 2.10 튜플\n",
    "* 튜플 : 변경할 수 없는 리스트 \n",
    "* 리스트에서 수정을 제외한 모든 기능을 적용할 수 있다. \n",
    "* 튜플은 괄호를 사용, 또는 아무런 기호 없이 정의\n",
    "* 튜플과 리스트는 다중할당을 지원\n",
    "\n",
    "#### 2.11 딕셔너리\n",
    "* dict : 파이썬의 또 다른 기본적인 데이터 구조\n",
    "    * 특정 값(vlaue), 연관된 키(key)를 연결 $\\to$빠르게 검색 가능 \n",
    "    * 존재하지 않는 키를 입력하면 keyError 발생 \n",
    "    * 연산자 in 으로 존재 여부 확인 가능\n",
    "    * .get 메소드 이용 : 입력한 키가 없어도 에러없이 기본값을 반환해줌\n",
    "    * 정형화된 데이터를 간단하게 나타낼 때 주로 사용\n",
    "    * .keys() .values() .items()\n",
    "    * 딕셔너리의 키는 수정할 수 없으며 리스트를 키로 사용할 수 없다 $\\to$ 문자열이나 튜플은 가능.\n",
    "\n",
    "* defaultdict \n",
    "    * 문서에서 단어의 빈도수를 세어 볼때\n",
    "        1. 가장 직관적인 방법 : 단어를 key, 빈도수를 vlaues\n",
    "            * 각 단어가 딕셔너리에 이미 존재하면 값을 증가, 존재하지 않는다면 새로운 키와 값을 추가 \n",
    "        2. 예외를 처리하면서 딕셔너리를 생성\n",
    "        3. 존재하지 않는 키를 적절하게 처리해주는 get을 사용해서 딕셔너리를 생성 \n",
    "        4. defaultdict\n",
    "              * 만약 존재하지 않는 키가 주어질 때 키와 인자에서 주어진 값으로 dict에 새로운 항목을 추가해줌.\n",
    "              * collection 모듈에서 defaultdict 호출\n",
    "              * 리스트, 딕셔너리 혹은 직접 만든 함수를 인자에 넣어줄 수 있다.\n",
    "              * 키를 사용해서 어떤 결과 수집할 때 : 매번 키가 존재하는지 확인할 필요없이 딕셔너리 생성가능.\n",
    "        \n",
    "#### 2.12 Counter\n",
    "* Counter : 연속된 값을 defaultdict(int)와 유사한 객체로 변환, key,value의 빈도를 연결.\n",
    "    * 특정 문서에서 단어의 개수를 셀 때 유용\n",
    "    * most_common 함수가 유용하게 쓰임\n",
    "\n",
    "#### 2.13 Set\n",
    "* Set(집합) : 파이썬의 데이터 구조 중 유일한 항목의 집합을 나타내는 구조\n",
    "    * 빈 set을 만들때는 {}를 사용하면 dict를 의미하기 때문에 set()을 사용\n",
    "    * 장점1 : 존재 여부를 확인하는 \"in\"은 set에서 리스트보다 빠르게 작동함. \n",
    "    * 장점2 : 중복된 원소를 제거해준다. \n",
    "\n",
    "#### 2.14 흐름제어\n",
    "* if를 사용하면 조건에 따라 코드제어 가능\n",
    "* 삼항 연산자(ternary operator) : if-then-else\n",
    "* while 보다는 for와 in을 더 자주 사용\n",
    "    * 복잡한 논리 체계 일 경우 continue,break를 사용 \n",
    "    * continue : 다음 경우로 넘어감\n",
    "    * break : for문 전체를 끝냄 \n",
    "\n",
    "#### 2.15 True / False\n",
    "* 불(boolean)타입 : 항상 대문자로 시작 (True False None)\n",
    "* None : 존재하지않는 값(null)\n",
    "* 빈 리스트, 빈 딕셔너리, 빈 문자열, 빈 집합, None 모두 False를 의미\n",
    "* all 함수 : 모든 항목이 참이라면 True를 반환 \n",
    "* any 함수 : 적어도 하나의 항목이 참이라면 True를 반환\n",
    "\n",
    "#### 2.16 정렬\n",
    "* 모든 리스트에는 자동으로 정렬해 주는 sort 메서드가 whswo\n",
    "* sorted 함수\n",
    "    * 새롭게 정렬된 리스트를 생성 - 독립적 \n",
    "    * 내림차순 : reverse = True\n",
    "    * 절대값 : key = abs\n",
    "    * 빈도 : key = lambda word_and_count : word_and_count$[1]$\n",
    "    \n",
    "#### 2.17 List Comprehension\n",
    "* 기존의 리스트에서 특정 항목을 선택,변환 시킨 결과를 새로운 리스트에 저장\n",
    "* list comprehension : 가장 파이썬스럽게 처리하는 방법\n",
    "    * $[ x for x in A if x == a ]$\n",
    "        * A안에 있는 x 중 x == a를 만족하는 모든 x를 리스트에 저장\n",
    "    * {x : y for x in A} : 딕셔너리로 변환 가능\n",
    "    * {x for x in A if x == a} : set으로 변환 가능 \n",
    "    * 불필요한 값은 밑줄로 표기\n",
    "    * 여러개의 for 사용가능\n",
    "        * 뒤에 나오는 for는 앞에 나온 결과에 대해 반복\n",
    "    \n",
    "#### 2.18 자동 테스트와 assert\n",
    "* type, automated test(자동테스트)를 통해 코드가 제대로 작성되었는지 확인 가능\n",
    "* assert : 지정된 조건이 충족되지 않는다면 Assertion Error를 반환\n",
    "    * 함수안에서 인자를 검증하는 방법도 있음 \n",
    "     \n",
    "#### 2.19 객체 지향 프로그래밍\n",
    "* class를 사용한 객체 지향 프로그래밍 : 데이터와 관련 함수를 하나로 묶어줄 수 있다.                                                   \n",
    "    * 코드를 더 깔끔하고 간단하게 작성할 때 사용\n",
    "* 예제 : CountingClicker 클래스\n",
    "* 클래스를 정의하기 위해서 class뒤에 파스칼케이스(PascalCase)로 클래스의 이름 표기\n",
    "    * class CountingClicker:\n",
    "* 클래스에서도 주석 추가가능 : \"\"\"주석\"\"\"\n",
    "* 앞뒤로 밑줄표시 두개 : double-UNDERscire method. 특별한 기능을 가지는 메서드\n",
    "\n",
    "#### 2.20 이터레이터 / 제너레이터\n",
    "* 리스트는 순서나 인덱스만 알고 있으면 쉽게 특정 항목을 가져올 수 있다.\n",
    "    * 데이터가 너무 많은 경우 항목을 한 개씩 처리하고 싶은데 전체 리스트를 가지고 있을 필요가 없다.\n",
    "* 제너레이터(generator)\n",
    "    * 주로 for문을 통해 반복할 수 있으며, generator의 각 항목은 필요한 순간에 그때그때 생성된다. \n",
    "    * 생성 방법\n",
    "        * yield를 활용해서 제너레이터 생성\n",
    "        * 괄호 안에 for문을 추가하는 방법으로 제너레이터 생성\n",
    "        \n",
    "#### 2.21 난수 생성\n",
    "* \n",
    "\n",
    "#### 2.22 정규표현식\n",
    "\n",
    "#### 2.23 함수형 도구\n",
    "\n",
    "#### 2.24 zip과 인자 언패킹\n",
    "\n",
    "#### 2.25 args / kwargs\n",
    "\n",
    "#### 2.26 타입 어노테이션\n",
    "\n",
    "#### 2.27 데이텀에 오신것을 환영합니다\n",
    "\n",
    "#### 2.28 더 공부해 보고 싶다면\n",
    "\n",
    "\n"
   ]
  },
  {
   "cell_type": "markdown",
   "metadata": {},
   "source": [
    "## 코드정리"
   ]
  },
  {
   "cell_type": "markdown",
   "metadata": {},
   "source": [
    "> ### 2.6 함수"
   ]
  },
  {
   "cell_type": "code",
   "execution_count": 2,
   "metadata": {},
   "outputs": [],
   "source": [
    "# 2.6 함수\n",
    "\n",
    "def double(x) :\n",
    "    \"\"\"\n",
    "    함수에 대한 설명을 적어 놓는 공간\n",
    "    \"\"\"\n",
    "    return x * 2\n",
    "\n",
    "def apply_to_one(f) :\n",
    "    \"\"\"\n",
    "    인자가 1인 함수 f를 호출\n",
    "    \"\"\"\n",
    "    return f(1)"
   ]
  },
  {
   "cell_type": "code",
   "execution_count": 5,
   "metadata": {},
   "outputs": [
    {
     "data": {
      "text/plain": [
       "(2, 5)"
      ]
     },
     "execution_count": 5,
     "metadata": {},
     "output_type": "execute_result"
    }
   ],
   "source": [
    "my_double = double #함수를 변수로 할당\n",
    "x = apply_to_one(my_double) #함수를 인자로 전달\n",
    "y = apply_to_one(lambda x : x + 4) #람다함수\n",
    "\n",
    "x,y"
   ]
  },
  {
   "cell_type": "code",
   "execution_count": 7,
   "metadata": {},
   "outputs": [
    {
     "name": "stdout",
     "output_type": "stream",
     "text": [
      "my default message\n",
      "Hello\n"
     ]
    }
   ],
   "source": [
    "# 함수의 인자에 기본값 할당\n",
    "def my_print(message = \"my default message\") :\n",
    "    print(message)\n",
    "\n",
    "my_print() #기본값 출력\n",
    "my_print(\"Hello\")"
   ]
  },
  {
   "cell_type": "code",
   "execution_count": 13,
   "metadata": {},
   "outputs": [],
   "source": [
    "# 함수의 인자의 이름을 명시 \n",
    "def full_name(first =\"what-his-name\", last =\"Something\"):\n",
    "    return first +\" \"+last"
   ]
  },
  {
   "cell_type": "code",
   "execution_count": 15,
   "metadata": {},
   "outputs": [
    {
     "name": "stdout",
     "output_type": "stream",
     "text": [
      "Joel Grus\n",
      "Joel Something\n",
      "what-his-name Grus\n"
     ]
    }
   ],
   "source": [
    "print(full_name(\"Joel\",\"Grus\"))\n",
    "print(full_name(\"Joel\"))\n",
    "print(full_name(last =\"Grus\"))"
   ]
  },
  {
   "cell_type": "code",
   "execution_count": 1,
   "metadata": {},
   "outputs": [
    {
     "name": "stdout",
     "output_type": "stream",
     "text": [
      "cannot divide by zero\n"
     ]
    }
   ],
   "source": [
    "# 2.8 예외처리\n",
    "try : \n",
    "    print(0/0)\n",
    "except ZeroDivisionError :\n",
    "    print(\"cannot divide by zero\")\n",
    "    "
   ]
  },
  {
   "cell_type": "code",
   "execution_count": 3,
   "metadata": {},
   "outputs": [
    {
     "name": "stdout",
     "output_type": "stream",
     "text": [
      "1\n",
      "2\n",
      "2\n"
     ]
    }
   ],
   "source": [
    "# 2.9 리스트 풀기 : 개수를 알 때 가능\n",
    "x,y = [1,2]\n",
    "print(x)\n",
    "print(y)\n",
    "_,x =[1,2] # 버릴항목은 _ \n",
    "print(x)\n"
   ]
  },
  {
   "cell_type": "code",
   "execution_count": 4,
   "metadata": {},
   "outputs": [
    {
     "name": "stdout",
     "output_type": "stream",
     "text": [
      "1\n",
      "2\n",
      "2\n",
      "1\n"
     ]
    }
   ],
   "source": [
    "# 2.10 튜플 : 다중할당\n",
    "x,y = 1,2\n",
    "print(x)\n",
    "print(y)\n",
    "x,y = y,x # 파이썬스럽게 변수를 교환.\n",
    "print(x)\n",
    "print(y)"
   ]
  },
  {
   "cell_type": "code",
   "execution_count": 9,
   "metadata": {},
   "outputs": [
    {
     "data": {
      "text/plain": [
       "80"
      ]
     },
     "execution_count": 9,
     "metadata": {},
     "output_type": "execute_result"
    }
   ],
   "source": [
    "# 2.11 딕트\n",
    "empty_dict = {} # 가장 파이썬 스럽게 딕셔너리 생성\n",
    "empty_dict2 = dict() # 딕셔너리 생성\n",
    "grades = {\"Joel\":80,\"Tim\":95} # 딕셔너리 예시\n",
    "joels_grade = grades[\"Joel\"]\n",
    "joels_grade"
   ]
  },
  {
   "cell_type": "code",
   "execution_count": 11,
   "metadata": {},
   "outputs": [
    {
     "name": "stdout",
     "output_type": "stream",
     "text": [
      "80\n",
      "0\n",
      "None\n"
     ]
    }
   ],
   "source": [
    "# get method\n",
    "joels_grade = grades.get(\"Joel\",0) #default : 0 ,key : Joel, values : 80\n",
    "print(joels_grade)\n",
    "kates_grade = grades.get(\"Kate\",0) #default : 0\n",
    "print(kates_grade)\n",
    "no_ones_grade = grades.get(\"No One\") #default : None\n",
    "print(no_ones_grade)"
   ]
  },
  {
   "cell_type": "code",
   "execution_count": 14,
   "metadata": {},
   "outputs": [
    {
     "data": {
      "text/plain": [
       "3"
      ]
     },
     "execution_count": 14,
     "metadata": {},
     "output_type": "execute_result"
    }
   ],
   "source": [
    "grades[\"Tim\"] = 99 #value 수정\n",
    "grades[\"Kate\"] = 100 #세번째 항목 key,value추가\n",
    "num_students = len(grades)\n",
    "num_students"
   ]
  },
  {
   "cell_type": "code",
   "execution_count": 18,
   "metadata": {},
   "outputs": [
    {
     "name": "stdout",
     "output_type": "stream",
     "text": [
      "dict_keys(['Joel', 'Tim', 'Kate']) dict_values([80, 99, 100]) dict_items([('Joel', 80), ('Tim', 99), ('Kate', 100)])\n"
     ]
    }
   ],
   "source": [
    "grades_key = grades.keys()\n",
    "grades_values = grades.values()\n",
    "grades_items = grades.items() # item : (key,value)튜플의 리스트\n",
    "print(grades_key , grades_values ,grades_items)"
   ]
  },
  {
   "cell_type": "code",
   "execution_count": null,
   "metadata": {},
   "outputs": [],
   "source": [
    "# 1.document문서에서 word가 포함되는지 빈도수를 각 word마다 카운트 \n",
    "word_cnts = {}\n",
    "for word in document : \n",
    "    if word in word_cnts :\n",
    "        word_cnts[word] +=1\n",
    "    else :\n",
    "        word_cnts[word] = 1"
   ]
  },
  {
   "cell_type": "code",
   "execution_count": null,
   "metadata": {},
   "outputs": [],
   "source": [
    "# 2.document문서에서 word가 포함되지 않으면 word_cnt가 1로 예외처리  \n",
    "word_cnts = {}\n",
    "for word in document : \n",
    "    try :\n",
    "        word_cnts[word] +=1\n",
    "    except KeyError :\n",
    "        word_cnts[word] = 1"
   ]
  },
  {
   "cell_type": "code",
   "execution_count": null,
   "metadata": {},
   "outputs": [],
   "source": [
    "# 3.존재하지 않는 키를 적절하게 처리해 주는 get 사용\n",
    "word_cnts = {}\n",
    "for word in document :\n",
    "    precious_cnt = word_cnts.get(word,0)\n",
    "    word_cnts[word] = previous_count + 1"
   ]
  },
  {
   "cell_type": "code",
   "execution_count": 23,
   "metadata": {},
   "outputs": [],
   "source": [
    "from collections import defaultdict"
   ]
  },
  {
   "cell_type": "code",
   "execution_count": null,
   "metadata": {},
   "outputs": [],
   "source": [
    "# 4.defaultdict.\n",
    "word_cnts = defaultdict(int) # int()는 0을 생성\n",
    "for word in document:\n",
    "    word_cnts[word] += 1 "
   ]
  },
  {
   "cell_type": "code",
   "execution_count": 24,
   "metadata": {},
   "outputs": [
    {
     "data": {
      "text/plain": [
       "defaultdict(list, {2: [1]})"
      ]
     },
     "execution_count": 24,
     "metadata": {},
     "output_type": "execute_result"
    }
   ],
   "source": [
    "dd_list = defaultdict(list) # list()빈 리스트를 생성\n",
    "dd_list[2].append(1)\n",
    "dd_list"
   ]
  },
  {
   "cell_type": "code",
   "execution_count": 25,
   "metadata": {},
   "outputs": [
    {
     "data": {
      "text/plain": [
       "defaultdict(dict, {'Joel': {'City': 'Seattle'}})"
      ]
     },
     "execution_count": 25,
     "metadata": {},
     "output_type": "execute_result"
    }
   ],
   "source": [
    "dd_dict = defaultdict(dict)\n",
    "dd_dict[\"Joel\"][\"City\"] = \"Seattle\"\n",
    "dd_dict"
   ]
  },
  {
   "cell_type": "code",
   "execution_count": 28,
   "metadata": {},
   "outputs": [
    {
     "name": "stdout",
     "output_type": "stream",
     "text": [
      "defaultdict(<function <lambda> at 0x1085bf1f0>, {})\n",
      "defaultdict(<function <lambda> at 0x1085bf1f0>, {2: [0, 1]})\n"
     ]
    }
   ],
   "source": [
    "dd_pair = defaultdict(lambda:[0,0]) \n",
    "print(dd_pair)\n",
    "dd_pair[2][1] = 1 \n",
    "print(dd_pair)"
   ]
  },
  {
   "cell_type": "code",
   "execution_count": 2,
   "metadata": {},
   "outputs": [
    {
     "data": {
      "text/plain": [
       "Counter({0: 2, 1: 1, 2: 1})"
      ]
     },
     "execution_count": 2,
     "metadata": {},
     "output_type": "execute_result"
    }
   ],
   "source": [
    "# 2.12 Counter\n",
    "from collections import Counter\n",
    "c = Counter([0,1,2,0]) #각 원소의 개수를 dict형태로 연결\n",
    "c"
   ]
  },
  {
   "cell_type": "code",
   "execution_count": null,
   "metadata": {},
   "outputs": [],
   "source": [
    "# 단어의 개수 셀 때 유용\n",
    "# document가 단어의 리스트일때\n",
    "word_cnt = Counter(document)"
   ]
  },
  {
   "cell_type": "code",
   "execution_count": 4,
   "metadata": {},
   "outputs": [
    {
     "data": {
      "text/plain": [
       "Counter({0: 4, 1: 7, 2: 2, 3: 5, 4: 1, 5: 1, 6: 1, 7: 1, 8: 1, 11: 1})"
      ]
     },
     "execution_count": 4,
     "metadata": {},
     "output_type": "execute_result"
    }
   ],
   "source": [
    "# most_common(n) 함수 : 가장 자주나오는 단어 상위 n개의 빈도수 출력. Counter에 사용가능\n",
    "document = [0,1,2,3,0,0,3,4,5,6,7,8,3,2,3,3,1,1,1,1,1,11,1,0]\n",
    "word_cnt = Counter(document)\n",
    "word_cnt #딕트형으로 키:원소 , value : 개수 "
   ]
  },
  {
   "cell_type": "code",
   "execution_count": 5,
   "metadata": {},
   "outputs": [
    {
     "data": {
      "text/plain": [
       "[(1, 7), (3, 5), (0, 4)]"
      ]
     },
     "execution_count": 5,
     "metadata": {},
     "output_type": "execute_result"
    }
   ],
   "source": [
    "word_cnt.most_common(3) # 1이 7개,3이 5개, 0이4개 top3"
   ]
  },
  {
   "cell_type": "code",
   "execution_count": 11,
   "metadata": {},
   "outputs": [
    {
     "data": {
      "text/plain": [
       "set"
      ]
     },
     "execution_count": 11,
     "metadata": {},
     "output_type": "execute_result"
    }
   ],
   "source": [
    "# 2.13 Set\n",
    "primes_below_10 = {2,3,5,7}\n",
    "type(primes_below_10)"
   ]
  },
  {
   "cell_type": "code",
   "execution_count": 12,
   "metadata": {},
   "outputs": [
    {
     "name": "stdout",
     "output_type": "stream",
     "text": [
      "set()\n",
      "{1}\n",
      "{1, 2}\n",
      "2\n",
      "True\n",
      "False\n"
     ]
    }
   ],
   "source": [
    "# 중복 된 것은 추가되지 않는다. \n",
    "s = set()\n",
    "print(s)\n",
    "s.add(1)\n",
    "print(s)\n",
    "s.add(2)\n",
    "print(s)\n",
    "s.add(2)\n",
    "print(len(s))\n",
    "print(2 in s)\n",
    "print(3 in s)"
   ]
  },
  {
   "cell_type": "code",
   "execution_count": 15,
   "metadata": {},
   "outputs": [
    {
     "data": {
      "text/plain": [
       "False"
      ]
     },
     "execution_count": 15,
     "metadata": {},
     "output_type": "execute_result"
    }
   ],
   "source": [
    "# list in\n",
    "stopwords_list = [\"a\",\"an\",\"at\"] \n",
    "\"zip\" in stopwords_list\n"
   ]
  },
  {
   "cell_type": "code",
   "execution_count": 16,
   "metadata": {},
   "outputs": [
    {
     "data": {
      "text/plain": [
       "False"
      ]
     },
     "execution_count": 16,
     "metadata": {},
     "output_type": "execute_result"
    }
   ],
   "source": [
    "# set in : list보다 빠르게 검색가능\n",
    "stopwords_set = set(stopwords_list)\n",
    "\"zip\" in stopwords_set"
   ]
  },
  {
   "cell_type": "code",
   "execution_count": 19,
   "metadata": {},
   "outputs": [
    {
     "name": "stdout",
     "output_type": "stream",
     "text": [
      "[1, 2, 3, 4, 2, 3, 2, 1]\n",
      "{1, 2, 3, 4}\n",
      "[1, 2, 3, 4]\n"
     ]
    }
   ],
   "source": [
    "# 중복제거 \n",
    "item_list = [1,2,3,4,2,3,2,1]\n",
    "print(item_list) #중복존재\n",
    "print(set(item_list)) #중복제거 : set\n",
    "print(list(set(item_list))) #중복제거 : list"
   ]
  },
  {
   "cell_type": "code",
   "execution_count": 1,
   "metadata": {},
   "outputs": [
    {
     "data": {
      "text/plain": [
       "(True, False, False, True)"
      ]
     },
     "execution_count": 1,
     "metadata": {},
     "output_type": "execute_result"
    }
   ],
   "source": [
    "# 2.15 \n",
    "# all함수,any함수 \n",
    "a = all([True,1,{3}])\n",
    "b = all([True,1,{}])\n",
    "c = all([True,1,[]])\n",
    "d = any([True,1,{}])\n",
    "a,b,c,d"
   ]
  },
  {
   "cell_type": "code",
   "execution_count": 5,
   "metadata": {},
   "outputs": [
    {
     "data": {
      "text/plain": [
       "([1, 2, 3, 4], [1, 2, 3, 4])"
      ]
     },
     "execution_count": 5,
     "metadata": {},
     "output_type": "execute_result"
    }
   ],
   "source": [
    "# sorted, sort\n",
    "x = [4, 1, 2, 3]\n",
    "y = sorted(x) # x의 값 유지, 새로운 리스트 \n",
    "x.sort() # x의 값 자체를 변환\n",
    "x,y"
   ]
  },
  {
   "cell_type": "code",
   "execution_count": 6,
   "metadata": {},
   "outputs": [
    {
     "data": {
      "text/plain": [
       "[-4, 3, -2, 1]"
      ]
     },
     "execution_count": 6,
     "metadata": {},
     "output_type": "execute_result"
    }
   ],
   "source": [
    "# sorted key,reverse\n",
    "x = sorted([-4,1,-2,3], key=abs , reverse = True)\n",
    "x"
   ]
  },
  {
   "cell_type": "code",
   "execution_count": 9,
   "metadata": {
    "scrolled": true
   },
   "outputs": [
    {
     "name": "stdout",
     "output_type": "stream",
     "text": [
      "[3, 4]\n",
      "{3: 9, 4: 16}\n",
      "{16, 9}\n",
      "[0, 0]\n",
      "[(0, 0), (0, 1), (0, 2), (0, 3), (0, 4), (0, 5), (0, 6), (0, 7), (0, 8), (0, 9), (1, 0), (1, 1), (1, 2), (1, 3), (1, 4), (1, 5), (1, 6), (1, 7), (1, 8), (1, 9), (2, 0), (2, 1), (2, 2), (2, 3), (2, 4), (2, 5), (2, 6), (2, 7), (2, 8), (2, 9), (3, 0), (3, 1), (3, 2), (3, 3), (3, 4), (3, 5), (3, 6), (3, 7), (3, 8), (3, 9), (4, 0), (4, 1), (4, 2), (4, 3), (4, 4), (4, 5), (4, 6), (4, 7), (4, 8), (4, 9), (5, 0), (5, 1), (5, 2), (5, 3), (5, 4), (5, 5), (5, 6), (5, 7), (5, 8), (5, 9), (6, 0), (6, 1), (6, 2), (6, 3), (6, 4), (6, 5), (6, 6), (6, 7), (6, 8), (6, 9), (7, 0), (7, 1), (7, 2), (7, 3), (7, 4), (7, 5), (7, 6), (7, 7), (7, 8), (7, 9), (8, 0), (8, 1), (8, 2), (8, 3), (8, 4), (8, 5), (8, 6), (8, 7), (8, 8), (8, 9), (9, 0), (9, 1), (9, 2), (9, 3), (9, 4), (9, 5), (9, 6), (9, 7), (9, 8), (9, 9)]\n"
     ]
    }
   ],
   "source": [
    "# 2.17 list comprehension\n",
    "# 기본\n",
    "square = [x for x in range(5) if x >2]\n",
    "print(square)\n",
    "# 딕트\n",
    "square_dict = {x : x*x for x in range(5) if x>2}\n",
    "print(square_dict)\n",
    "# set\n",
    "square_set = {x*x for x in range(5) if x>2}\n",
    "print(square_set)\n",
    "# 불필요한 것 밑줄 square 길이만큼 0\n",
    "zeros = [0 for _ in square]\n",
    "print(zeros)\n",
    "# for문 여러개\n",
    "pairs = [(x,y)\n",
    "    for x in range(10)\n",
    "    for y in range(10)\n",
    "]\n",
    "print(pairs)\n"
   ]
  },
  {
   "cell_type": "code",
   "execution_count": 2,
   "metadata": {},
   "outputs": [
    {
     "ename": "AssertionError",
     "evalue": "1+1 should equal 2 but didn't",
     "output_type": "error",
     "traceback": [
      "\u001b[0;31m---------------------------------------------------------------------------\u001b[0m",
      "\u001b[0;31mAssertionError\u001b[0m                            Traceback (most recent call last)",
      "\u001b[0;32m<ipython-input-2-d05187d92ee1>\u001b[0m in \u001b[0;36m<module>\u001b[0;34m\u001b[0m\n\u001b[1;32m      1\u001b[0m \u001b[0;31m# 2.18 assert\u001b[0m\u001b[0;34m\u001b[0m\u001b[0;34m\u001b[0m\u001b[0;34m\u001b[0m\u001b[0m\n\u001b[0;32m----> 2\u001b[0;31m \u001b[0;32massert\u001b[0m \u001b[0;36m1\u001b[0m\u001b[0;34m+\u001b[0m\u001b[0;36m2\u001b[0m \u001b[0;34m==\u001b[0m \u001b[0;36m2\u001b[0m\u001b[0;34m,\u001b[0m \u001b[0;34m\"1+1 should equal 2 but didn't\"\u001b[0m\u001b[0;34m\u001b[0m\u001b[0;34m\u001b[0m\u001b[0m\n\u001b[0m",
      "\u001b[0;31mAssertionError\u001b[0m: 1+1 should equal 2 but didn't"
     ]
    }
   ],
   "source": [
    "# 2.18 assert : Assertion Error 출력, 에러 문구 출력  \n",
    "assert 1+2 == 2, \"1+1 should equal 2 but didn't\"\n"
   ]
  },
  {
   "cell_type": "code",
   "execution_count": 3,
   "metadata": {},
   "outputs": [],
   "source": [
    "# assert를 이용한 함수 테스팅\n",
    "def smallest_item(xs):\n",
    "    return min(xs)"
   ]
  },
  {
   "cell_type": "code",
   "execution_count": 7,
   "metadata": {},
   "outputs": [
    {
     "ename": "AssertionError",
     "evalue": "not 5",
     "output_type": "error",
     "traceback": [
      "\u001b[0;31m---------------------------------------------------------------------------\u001b[0m",
      "\u001b[0;31mAssertionError\u001b[0m                            Traceback (most recent call last)",
      "\u001b[0;32m<ipython-input-7-8fdebcc6ccf8>\u001b[0m in \u001b[0;36m<module>\u001b[0;34m\u001b[0m\n\u001b[0;32m----> 1\u001b[0;31m \u001b[0;32massert\u001b[0m \u001b[0msmallest_item\u001b[0m\u001b[0;34m(\u001b[0m\u001b[0;34m[\u001b[0m\u001b[0;36m10\u001b[0m\u001b[0;34m,\u001b[0m\u001b[0;36m20\u001b[0m\u001b[0;34m,\u001b[0m\u001b[0;36m6\u001b[0m\u001b[0;34m,\u001b[0m\u001b[0;36m40\u001b[0m\u001b[0;34m]\u001b[0m\u001b[0;34m)\u001b[0m \u001b[0;34m==\u001b[0m \u001b[0;36m5\u001b[0m \u001b[0;34m,\u001b[0m\u001b[0;34m\"not 5\"\u001b[0m\u001b[0;34m\u001b[0m\u001b[0;34m\u001b[0m\u001b[0m\n\u001b[0m",
      "\u001b[0;31mAssertionError\u001b[0m: not 5"
     ]
    }
   ],
   "source": [
    "assert smallest_item([10,20,6,40]) == 5 ,\"not 5\""
   ]
  },
  {
   "cell_type": "code",
   "execution_count": 6,
   "metadata": {},
   "outputs": [],
   "source": [
    "assert smallest_item([1,0,-1,2]) == -1 ,\"not minus 1\""
   ]
  },
  {
   "cell_type": "code",
   "execution_count": 8,
   "metadata": {},
   "outputs": [],
   "source": [
    "# assert로 함수의 인자 검증\n",
    "def smallest_item(xs) :\n",
    "    assert xs , \"empty list has no smallest item\"\n",
    "    return min(xs)"
   ]
  },
  {
   "cell_type": "code",
   "execution_count": 9,
   "metadata": {},
   "outputs": [
    {
     "ename": "AssertionError",
     "evalue": "empty list has no smallest item",
     "output_type": "error",
     "traceback": [
      "\u001b[0;31m---------------------------------------------------------------------------\u001b[0m",
      "\u001b[0;31mAssertionError\u001b[0m                            Traceback (most recent call last)",
      "\u001b[0;32m<ipython-input-9-b3e736932245>\u001b[0m in \u001b[0;36m<module>\u001b[0;34m\u001b[0m\n\u001b[0;32m----> 1\u001b[0;31m \u001b[0msmallest_item\u001b[0m\u001b[0;34m(\u001b[0m\u001b[0;34m[\u001b[0m\u001b[0;34m]\u001b[0m\u001b[0;34m)\u001b[0m\u001b[0;34m\u001b[0m\u001b[0;34m\u001b[0m\u001b[0m\n\u001b[0m",
      "\u001b[0;32m<ipython-input-8-caddae9ad94a>\u001b[0m in \u001b[0;36msmallest_item\u001b[0;34m(xs)\u001b[0m\n\u001b[1;32m      1\u001b[0m \u001b[0;31m# assert로 함수의 인자 검증\u001b[0m\u001b[0;34m\u001b[0m\u001b[0;34m\u001b[0m\u001b[0;34m\u001b[0m\u001b[0m\n\u001b[1;32m      2\u001b[0m \u001b[0;32mdef\u001b[0m \u001b[0msmallest_item\u001b[0m\u001b[0;34m(\u001b[0m\u001b[0mxs\u001b[0m\u001b[0;34m)\u001b[0m \u001b[0;34m:\u001b[0m\u001b[0;34m\u001b[0m\u001b[0;34m\u001b[0m\u001b[0m\n\u001b[0;32m----> 3\u001b[0;31m     \u001b[0;32massert\u001b[0m \u001b[0mxs\u001b[0m \u001b[0;34m,\u001b[0m \u001b[0;34m\"empty list has no smallest item\"\u001b[0m\u001b[0;34m\u001b[0m\u001b[0;34m\u001b[0m\u001b[0m\n\u001b[0m\u001b[1;32m      4\u001b[0m     \u001b[0;32mreturn\u001b[0m \u001b[0mmin\u001b[0m\u001b[0;34m(\u001b[0m\u001b[0mxs\u001b[0m\u001b[0;34m)\u001b[0m\u001b[0;34m\u001b[0m\u001b[0;34m\u001b[0m\u001b[0m\n",
      "\u001b[0;31mAssertionError\u001b[0m: empty list has no smallest item"
     ]
    }
   ],
   "source": [
    "smallest_item([])"
   ]
  },
  {
   "cell_type": "code",
   "execution_count": 10,
   "metadata": {
    "scrolled": false
   },
   "outputs": [
    {
     "data": {
      "text/plain": [
       "2"
      ]
     },
     "execution_count": 10,
     "metadata": {},
     "output_type": "execute_result"
    }
   ],
   "source": [
    "smallest_item([2,3,4])"
   ]
  },
  {
   "cell_type": "code",
   "execution_count": 11,
   "metadata": {},
   "outputs": [],
   "source": [
    "# 모임에 몇 명이 참여했는지 확인해주는 클래스 \n",
    "# 예제 : CounterClicker 클래스\n",
    "# 참석자수 : count, count증가 :click, 현재 count반환 :read, count0 :reset"
   ]
  },
  {
   "cell_type": "code",
   "execution_count": null,
   "metadata": {},
   "outputs": [],
   "source": [
    "# 클래스 이름 : PascalCase\n",
    "class CountingClicker :\n",
    "\n"
   ]
  },
  {
   "cell_type": "code",
   "execution_count": null,
   "metadata": {},
   "outputs": [],
   "source": [
    "# 클래스는 0개이상의 멤버 함수를 포함. 멤버 함수의 첫번째 인자는 해당 클래스의 인스턴스를 의미하는 self로 정의 \n",
    "# 앞뒤로 밑줄표시 두개 : double-UNDERscire method. 특별한 기능을 가짐 \n",
    "def __init__(self,count = 0):\n",
    "    self.count = count "
   ]
  },
  {
   "cell_type": "code",
   "execution_count": null,
   "metadata": {},
   "outputs": [],
   "source": [
    "# 클래스의 이름으로 클래스의 인스턴스를 생성할 수 있다.\n",
    "clicker1 = CountingClicker() # count=0으로 생성된 인스턴스\n",
    "clicker2 = CountingClicker(100) # count=100으로 생성\n",
    "clicker3 = CountingClicker(count = 100) # count=100으로 생성 동일 "
   ]
  },
  {
   "cell_type": "code",
   "execution_count": null,
   "metadata": {},
   "outputs": [],
   "source": [
    "# 클래스 인스턴스를 문자열 형태로 반환해주는 dunder 메서드\n",
    "def __repr__(self) :\n",
    "    return f\"CountingClicker(count={self.count})\""
   ]
  },
  {
   "cell_type": "code",
   "execution_count": null,
   "metadata": {},
   "outputs": [],
   "source": [
    "# 클래스를 활용할 수 있도록 퍼블릭 API 생성\n",
    "def click(self, num_times = 1): #한 번 실행할 때마다 num_times만큼 count증가\n",
    "    self.count =+ num_times\n",
    "\n",
    "def read(self) :\n",
    "    return self.count\n",
    "\n",
    "def reset(self):\n",
    "    self.count = 0"
   ]
  },
  {
   "cell_type": "code",
   "execution_count": 44,
   "metadata": {},
   "outputs": [],
   "source": [
    "# 종합\n",
    "class CountingClicker :\n",
    "    \n",
    "    def __init__(self,count = 0):\n",
    "        self.count = count\n",
    "    \n",
    "    def __repr__(self) :\n",
    "        return f\"CountingClicker(count={self.count})\"\n",
    "    \n",
    "    def click(self, num_times = 1): \n",
    "        self.count += num_times\n",
    "\n",
    "    def read(self) :\n",
    "        return self.count\n",
    "\n",
    "    def reset(self):\n",
    "        self.count = 0"
   ]
  },
  {
   "cell_type": "code",
   "execution_count": 45,
   "metadata": {
    "scrolled": true
   },
   "outputs": [],
   "source": [
    "# assert를 사용하여 테스트 조건 생성\n",
    "clicker = CountingClicker() \n",
    "assert clicker.read() == 0, \"clicker should start with count 0\"\n",
    "clicker.click()\n",
    "clicker.click()\n",
    "assert clicker.read() == 2, \"after two clicks, clicker should have count 2\"\n",
    "clicker.reset()\n",
    "assert clicker.read() == 0, \"after reset, clicker should be back to 0\"\n"
   ]
  },
  {
   "cell_type": "code",
   "execution_count": 46,
   "metadata": {},
   "outputs": [
    {
     "name": "stdout",
     "output_type": "stream",
     "text": [
      "0\n",
      "1\n",
      "2\n"
     ]
    }
   ],
   "source": [
    "# 왜 숫자가 안오름? click()하는데?\n",
    "clicker = CountingClicker() \n",
    "print(clicker.read())\n",
    "clicker.click()\n",
    "print(clicker.read())\n",
    "clicker.click()\n",
    "print(clicker.read())"
   ]
  },
  {
   "cell_type": "code",
   "execution_count": 25,
   "metadata": {},
   "outputs": [],
   "source": [
    "# 부모 클래스의 모든 기능을 상속받는 서브클래스 , reset만 제외\n",
    "class NoResetClicker(CountingClicker):\n",
    "    \n",
    "    def reset(self):\n",
    "        pass"
   ]
  },
  {
   "cell_type": "code",
   "execution_count": 28,
   "metadata": {},
   "outputs": [
    {
     "ename": "AssertionError",
     "evalue": "reset impossible",
     "output_type": "error",
     "traceback": [
      "\u001b[0;31m---------------------------------------------------------------------------\u001b[0m",
      "\u001b[0;31mAssertionError\u001b[0m                            Traceback (most recent call last)",
      "\u001b[0;32m<ipython-input-28-4a23fd619979>\u001b[0m in \u001b[0;36m<module>\u001b[0;34m\u001b[0m\n\u001b[1;32m      4\u001b[0m \u001b[0;32massert\u001b[0m \u001b[0mclicker2\u001b[0m\u001b[0;34m.\u001b[0m\u001b[0mread\u001b[0m\u001b[0;34m(\u001b[0m\u001b[0;34m)\u001b[0m \u001b[0;34m==\u001b[0m \u001b[0;36m1\u001b[0m\u001b[0;34m,\u001b[0m \u001b[0;34m\"after one clicks, clicker should have count 1\"\u001b[0m\u001b[0;34m\u001b[0m\u001b[0;34m\u001b[0m\u001b[0m\n\u001b[1;32m      5\u001b[0m \u001b[0mclicker2\u001b[0m\u001b[0;34m.\u001b[0m\u001b[0mreset\u001b[0m\u001b[0;34m(\u001b[0m\u001b[0;34m)\u001b[0m\u001b[0;34m\u001b[0m\u001b[0;34m\u001b[0m\u001b[0m\n\u001b[0;32m----> 6\u001b[0;31m \u001b[0;32massert\u001b[0m \u001b[0mclicker2\u001b[0m\u001b[0;34m.\u001b[0m\u001b[0mread\u001b[0m\u001b[0;34m(\u001b[0m\u001b[0;34m)\u001b[0m \u001b[0;34m==\u001b[0m \u001b[0;36m0\u001b[0m\u001b[0;34m,\u001b[0m \u001b[0;34m\"reset impossible\"\u001b[0m\u001b[0;34m\u001b[0m\u001b[0;34m\u001b[0m\u001b[0m\n\u001b[0m",
      "\u001b[0;31mAssertionError\u001b[0m: reset impossible"
     ]
    }
   ],
   "source": [
    "clicker2 = NoResetClicker()\n",
    "assert clicker2.read() == 0, \"clicker should start with count 0\"\n",
    "clicker2.click()\n",
    "assert clicker2.read() == 1, \"after one clicks, clicker should have count 1\"\n",
    "clicker2.reset()\n",
    "assert clicker2.read() == 0, \"reset impossible\""
   ]
  },
  {
   "cell_type": "code",
   "execution_count": null,
   "metadata": {},
   "outputs": [],
   "source": []
  }
 ],
 "metadata": {
  "kernelspec": {
   "display_name": "Python 3",
   "language": "python",
   "name": "python3"
  },
  "language_info": {
   "codemirror_mode": {
    "name": "ipython",
    "version": 3
   },
   "file_extension": ".py",
   "mimetype": "text/x-python",
   "name": "python",
   "nbconvert_exporter": "python",
   "pygments_lexer": "ipython3",
   "version": "3.8.3"
  }
 },
 "nbformat": 4,
 "nbformat_minor": 4
}
