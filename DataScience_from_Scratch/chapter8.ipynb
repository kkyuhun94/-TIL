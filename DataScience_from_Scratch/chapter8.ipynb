{
 "cells": [
  {
   "cell_type": "markdown",
   "metadata": {},
   "source": [
    "## 학습정리\n",
    "### 8장. 경사 하강법 \n",
    "\n",
    "#### 8.1 경사 하강법에 숨은 의미\n",
    "* 가장 적합한 모델 찾기 : 최적화 문제에 대한 답\n",
    "    * 모델의 오류(error)를 최소화 \n",
    "    * 가능도(likelihood)를 최대화\n",
    "* 그래디언트 (gradient) : 편미분 벡터 \n",
    "    * 함수가 가장 빠르게 증가할 수 있는 방향을 나타낸다.\n",
    "    * 전역 최솟값이 하나만 존재할 때 유용\n",
    "    * 임의의 시작점을 잡은 후, 그래디언트를 계산, 그래디언트의 방향(함수의 출력 값이 가장 많이 증가하는 방향)으로 조금 이동하는 과정을 여러번 반복\n",
    "    \n",
    "#### 8.2 그래디언트 계산하기\n",
    "* f가 단변수 함수일때 : x에서의 미분값은 x가 아주 조금 변했을 때 f(x)의 변화량을 의미\n",
    "    * x의 변화량 = h \n",
    "    * h가 0에 점근하게 할때 미분값 : 함수변화율(diffrence quotient)의 극한값\n",
    "    * 도함수(derivative)를 구할 수 없는 경우 : 아주 작은 e값을 대입해 미분값을 어림잡음\n",
    "\n",
    "* f가 다변수 함수 : 입력 변수 중 하나에 작은 변화가 있을 때 f(x)의 변화량을 알려주는 편도함수가 여러개 존재\n",
    "    * i 번째 편도함수 : i 번째 변수를 제외한 다른 모든 입력 변수를 고정시켜서 계산할 수 있다\n",
    "    \n",
    "#### 8.3 그래디언트 적용하기\n",
    "* 임의의 시작점을 잡고, 그래디언트가 아주 작아질 때까지 경사의 반대 방향으로 조금씩 이동\n",
    "\n",
    "#### 8.4 적절한 이동 거리 정하기\n",
    "* 경사를 이동할때 이동거리(step size) 정하는 법\n",
    "    1. 이동거리를 고정\n",
    "        * 간편 \n",
    "    2. 시간에 따라 이동거리를 점차 줄임\n",
    "    3. 이동할 때마다 목적 함수를 최소화하는 이동 거리로 정함\n",
    "        * 계산 비용이 너무 큼\n",
    "* 이동거리가 너무 짧으면 경사 하강법을 수행하는데 오래 걸림\n",
    "* 이동거리가 너무 길면 최적화하려는 함수가 너무 커지거나 더이상 유효하지 않을 수 있음\n",
    "\n",
    "#### 8.5 경사 하강법으로 모델 학습\n",
    "\n",
    "#### 8.6 미니 배치와 SGD(Stochastic Gradient Descent)\n",
    "\n",
    "#### 8.7 더 공부해 보고 싶다면\n"
   ]
  },
  {
   "cell_type": "markdown",
   "metadata": {},
   "source": [
    "## code"
   ]
  },
  {
   "cell_type": "code",
   "execution_count": 3,
   "metadata": {},
   "outputs": [],
   "source": [
    "from typing import List\n",
    "\n",
    "Vector = List[float]"
   ]
  },
  {
   "cell_type": "code",
   "execution_count": 4,
   "metadata": {
    "scrolled": true
   },
   "outputs": [],
   "source": [
    "# 8.1 example 함수의 최대값 또는 최소값을 찾으려면? \n",
    "\n",
    "def dot(v: Vector, w: Vector) -> float:\n",
    "    \"\"\"Computes v_1 * w_1 + ... + v_n * w_n\"\"\"\n",
    "    assert len(v) == len(w), \"vectors must be same length\"\n",
    "    \n",
    "def sum_of_squares(v:Vector) -> float :\n",
    "    \"\"\"v에 속해 있는 항목들의 제곱합을 계산한다.\"\"\"\n",
    "    return dot(v,v)\n"
   ]
  },
  {
   "cell_type": "code",
   "execution_count": 5,
   "metadata": {},
   "outputs": [],
   "source": [
    "from typing import Callable\n",
    "# 함수의 변화율 \n",
    "def difference_quotient(f: Callable[[float],float],\n",
    "                       x : float,\n",
    "                       h : float) -> float :\n",
    "    return (f(x + h) - f(x)) / h"
   ]
  },
  {
   "cell_type": "code",
   "execution_count": 6,
   "metadata": {},
   "outputs": [],
   "source": [
    "# 도함수를 구할 수 있는 경우 \n",
    "# 제곱함수\n",
    "def square(x:float)->float :\n",
    "    return x*x\n",
    "\n",
    "# 제곱함수의 도함수\n",
    "def derivative(x:float)-> float :\n",
    "    return 2*x"
   ]
  },
  {
   "cell_type": "code",
   "execution_count": 7,
   "metadata": {},
   "outputs": [
    {
     "data": {
      "image/png": "[encoded data removed]",
      "text/plain": [
       "<Figure size 432x288 with 1 Axes>"
      ]
     },
     "metadata": {
      "needs_background": "light"
     },
     "output_type": "display_data"
    }
   ],
   "source": [
    "# 도함수(derivative)를 구할 수 없는 경우 : 아주 작은 e값을 대입해 미분값을 어림잡음\n",
    "\n",
    "xs = range(-10,11)\n",
    "actuals = [derivative(x) for x in xs]\n",
    "estimates = [difference_quotient(square, x, h = 0.001) for x in xs] # x(-10,10)에서 h =0.001일때 x에 대한 square함수의 변화율\n",
    "\n",
    "# 두 계산식의 결괏값이 거의 비슷함을 보여주기 위한 그래프\n",
    "import matplotlib.pyplot as plt\n",
    "plt.title(\"Actual Derivatives vs. Estimates\")\n",
    "plt.plot(xs, actuals, 'rx' , label = 'Actual')\n",
    "plt.plot(xs, estimates, 'b+' , label = 'Estimate')\n",
    "plt.legend(loc=9)\n",
    "plt.show()\n"
   ]
  },
  {
   "cell_type": "code",
   "execution_count": 8,
   "metadata": {},
   "outputs": [],
   "source": [
    "from typing import Callable\n",
    "\n",
    "def partial_difference_quotient(f: Callable[[Vector],float],\n",
    "                               v : Vector,\n",
    "                               i : int,\n",
    "                               h : float ) -> float :\n",
    "    \"\"\"함수 f의 i번째 편도함수가 v에서 가지는 값\"\"\"\n",
    "    w = [v_j + (h if j == i else 0) for j,v_j in enumerate(v)] # j번째가 아니면 0 \n",
    "    \n",
    "    return (f(w) - f(v)) / h"
   ]
  },
  {
   "cell_type": "code",
   "execution_count": 9,
   "metadata": {},
   "outputs": [],
   "source": [
    "# 도함수와 마찬가지로 그래디언트의 근사값을 구함\n",
    "def estimate_gradient(f: Callable[[Vector], float],\n",
    "                     v: Vector,\n",
    "                     h: float = 0.0001):\n",
    "    return [partial_difference_quotient(f,v,i,h)\n",
    "           for i in range(len(v))]\n"
   ]
  },
  {
   "cell_type": "code",
   "execution_count": 10,
   "metadata": {},
   "outputs": [],
   "source": [
    "# linear_algebra함수 \n",
    "import random\n",
    "\n",
    "def squared_distance(v: Vector, w: Vector) -> float :\n",
    "    \"\"\"(v_1 - w_1) ** 2 +...+ (v_n - w_n) ** 2 \"\"\"\n",
    "    return sum_of_squares(subtract(v,w))\n",
    "\n",
    "def distance(v: Vector, w: Vector) -> float :\n",
    "    \"\"\"벡터 v와 w간의 거리를 계산\"\"\"\n",
    "    return math.sqrt(squared_distance(v,w))\n",
    "\n",
    "def add(a,b) : return a + b\n",
    "\n",
    "def scalar_multiply(c:float, v: Vector)-> Vector :\n",
    "    \"\"\"모든 성분을 c로 곱하기\"\"\"\n",
    "    return [c*v_i for v_i in v]"
   ]
  },
  {
   "cell_type": "code",
   "execution_count": 11,
   "metadata": {},
   "outputs": [],
   "source": [
    "# sum_of_squares는 v가 0 벡터일 때 가장 작은 값을 가진다. 모른다고 가정하고 그래디언트 적용\n",
    "def gradient_step(v: Vector, gradient: Vector, step_size : float) -> Vector :\n",
    "    \"\"\"v에서 step_size만큼 이동하기\"\"\"\n",
    "    assert len(v) == len(gradient)\n",
    "    step = scalar_multiply(step_size, gradient)\n",
    "    return add(v, step)\n",
    "\n",
    "def sum_of_squares_gradient(v : Vector) -> Vector : \n",
    "    return [2*v_i for v_i in v]\n"
   ]
  },
  {
   "cell_type": "code",
   "execution_count": null,
   "metadata": {},
   "outputs": [
    {
     "name": "stderr",
     "output_type": "stream",
     "text": [
      "IOPub data rate exceeded.\n",
      "The notebook server will temporarily stop sending output\n",
      "to the client in order to avoid crashing it.\n",
      "To change this limit, set the config variable\n",
      "`--NotebookApp.iopub_data_rate_limit`.\n",
      "\n",
      "Current values:\n",
      "NotebookApp.iopub_data_rate_limit=1000000.0 (bytes/sec)\n",
      "NotebookApp.rate_limit_window=3.0 (secs)\n",
      "\n"
     ]
    },
    {
     "name": "stdout",
     "output_type": "stream",
     "text": [
      "\n",
      "19 "
     ]
    },
    {
     "name": "stderr",
     "output_type": "stream",
     "text": [
      "IOPub data rate exceeded.\n",
      "The notebook server will temporarily stop sending output\n",
      "to the client in order to avoid crashing it.\n",
      "To change this limit, set the config variable\n",
      "`--NotebookApp.iopub_data_rate_limit`.\n",
      "\n",
      "Current values:\n",
      "NotebookApp.iopub_data_rate_limit=1000000.0 (bytes/sec)\n",
      "NotebookApp.rate_limit_window=3.0 (secs)\n",
      "\n"
     ]
    }
   ],
   "source": [
    "# 임의의 시작점을 선택\n",
    "v = [random.uniform(-10,10) for i in range(3)] \n",
    "\n",
    "for epoch in range(100):\n",
    "    grad = sum_of_squares_gradient(v) # v의 그래디언트 계산\n",
    "    v = gradient_step(v, grad, -0.01) # 그래디언트의 -0.01만큼 이동\n",
    "    print(epoch, v)\n",
    "\n",
    "assert distance(v, [0,0,0]) < 0.001\n",
    "# [0,0,0]에 아주 가깝게 수렴"
   ]
  },
  {
   "cell_type": "code",
   "execution_count": null,
   "metadata": {},
   "outputs": [],
   "source": []
  }
 ],
 "metadata": {
  "kernelspec": {
   "display_name": "Python 3",
   "language": "python",
   "name": "python3"
  },
  "language_info": {
   "codemirror_mode": {
    "name": "ipython",
    "version": 3
   },
   "file_extension": ".py",
   "mimetype": "text/x-python",
   "name": "python",
   "nbconvert_exporter": "python",
   "pygments_lexer": "ipython3",
   "version": "3.8.3"
  }
 },
 "nbformat": 4,
 "nbformat_minor": 4
}
