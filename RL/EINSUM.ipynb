{
 "cells": [
  {
   "cell_type": "markdown",
   "id": "a2c46f87",
   "metadata": {},
   "source": [
    "### 아인슈타인 합\n",
    "* bellman equation의 $P^{\\pi}$를 연산할때 활용\n",
    "## $$P^{\\pi}_{ss'} = \\sum_{a \\in \\cal{A}} \\pi(a|s) P_{ss'}^a $$\n",
    "\n",
    "* `아인슈타인 합` 대부분의 텐서연산 라이브러리에서 __똑같은 문법으로__ 사용할수 있게 구현되어있음.\n",
    "* `numpy`에서 아인슈타인 합으로 표현한 수식은 `pytorch`에서도 동일하게 사용할 수 있다.\n",
    "* `아인슈타인 합`은 Tensorflow/Pytorch에서 모델을 개발할때 매우 최적화된 방법. \n",
    "\n",
    "참조 : [EINSUM IS ALL YOU NEED - 2018](https://rockt.github.io/2018/04/30/einsum)"
   ]
  },
  {
   "cell_type": "markdown",
   "id": "88b4bcfd",
   "metadata": {},
   "source": [
    "### 아인슈타인 합의 장점\n",
    "\n",
    "Einsum 표기법은 본질적으로 도메인 특정 언어를 사용하여 텐서에 대한 복잡한 작업은 물론 이러한 모든 것을 표현하는 우아한 방법입니다. \n",
    "이것은 특정 라이브러리 기능을 암기하거나 정기적으로 검색할 필요가 없다는 것 이상의 이점이 있습니다. \n",
    "einsum을 이해하고 활용하면 더 간결하고 효율적인 코드를 더 빨리 작성할 수 있습니다. \n",
    "einsum을 사용하지 않을 때 생략할 수 있는 중간 텐서뿐만 아니라 텐서의 불필요한 재구성 및 전치도 도입하기 쉽습니다. \n",
    "또한 einsum과 같은 도메인 특정 언어는 때때로 고성능 코드로 컴파일될 수 있으며 einsum과 같은 도메인 특정 언어는 실제로 GPU 코드를 자동으로 생성하고 특정 입력 크기에 대한 코드. 또한 opt einsum 및 tf einsum opt와 같은 프로젝트를 사용하여 einsum 식의 텐서 축소 순서를 최적화할 수 있습니다."
   ]
  },
  {
   "cell_type": "markdown",
   "id": "9af3da8b",
   "metadata": {},
   "source": [
    "### Matrix Transpose\n",
    "## $B_{ji} = A_{ij}$ "
   ]
  },
  {
   "cell_type": "code",
   "execution_count": 17,
   "id": "15cb276e",
   "metadata": {},
   "outputs": [
    {
     "name": "stdout",
     "output_type": "stream",
     "text": [
      "a_ij tensor([[0, 1, 2],\n",
      "        [3, 4, 5]])\n",
      "b_ji tensor([[0, 3],\n",
      "        [1, 4],\n",
      "        [2, 5]])\n"
     ]
    }
   ],
   "source": [
    "# Matrix Transpose\n",
    "import torch\n",
    "a_ij = torch.arange(6).reshape(2,3)\n",
    "print('a_ij',a_ij )\n",
    "b_ji = torch.einsum('ij->ji',[a])\n",
    "print('b_ji',b_ji)"
   ]
  },
  {
   "cell_type": "markdown",
   "id": "1d88d094",
   "metadata": {},
   "source": [
    "### Sum\n",
    "## $b = \\sum_{i}\\sum_{j}A_{ij}$"
   ]
  },
  {
   "cell_type": "code",
   "execution_count": 2,
   "id": "688041fb",
   "metadata": {},
   "outputs": [
    {
     "name": "stdout",
     "output_type": "stream",
     "text": [
      "a tensor([[0, 1, 2],\n",
      "        [3, 4, 5]])\n"
     ]
    },
    {
     "data": {
      "text/plain": [
       "tensor(15)"
      ]
     },
     "execution_count": 2,
     "metadata": {},
     "output_type": "execute_result"
    }
   ],
   "source": [
    "# Sum\n",
    "print('a',a )\n",
    "torch.einsum('ij->', [a]) # 2x3 -> 스칼라 (전체 합)"
   ]
  },
  {
   "cell_type": "markdown",
   "id": "59586c80",
   "metadata": {},
   "source": [
    "### COLUMN SUM\n",
    "## $b_j =\\sum_iA_{ij}$ "
   ]
  },
  {
   "cell_type": "code",
   "execution_count": 4,
   "id": "ce96c492",
   "metadata": {},
   "outputs": [
    {
     "name": "stdout",
     "output_type": "stream",
     "text": [
      "a tensor([[0, 1, 2],\n",
      "        [3, 4, 5]])\n"
     ]
    },
    {
     "data": {
      "text/plain": [
       "tensor([3, 5, 7])"
      ]
     },
     "execution_count": 4,
     "metadata": {},
     "output_type": "execute_result"
    }
   ],
   "source": [
    "# Column Sum\n",
    "print('a',a )\n",
    "torch.einsum('ij->j', [a]) # 2x3 행렬 -> (1x)3 벡터 "
   ]
  },
  {
   "cell_type": "markdown",
   "id": "f33f035d",
   "metadata": {},
   "source": [
    "### Row SUM\n",
    "## $b_i =\\sum_jA_{ij}$ "
   ]
  },
  {
   "cell_type": "code",
   "execution_count": 5,
   "id": "a3ebd3dd",
   "metadata": {},
   "outputs": [
    {
     "name": "stdout",
     "output_type": "stream",
     "text": [
      "a tensor([[0, 1, 2],\n",
      "        [3, 4, 5]])\n"
     ]
    },
    {
     "data": {
      "text/plain": [
       "tensor([ 3, 12])"
      ]
     },
     "execution_count": 5,
     "metadata": {},
     "output_type": "execute_result"
    }
   ],
   "source": [
    "# Row Sum\n",
    "print('a',a)\n",
    "torch.einsum('ij->i',[a]) # 2x3 -> 2 벡터"
   ]
  },
  {
   "cell_type": "markdown",
   "id": "a426a791",
   "metadata": {},
   "source": [
    "### Matrix-Vector Multiplication\n",
    "## $c_i = \\sum_kA_{ik}b_k $"
   ]
  },
  {
   "cell_type": "code",
   "execution_count": 15,
   "id": "5aa7d504",
   "metadata": {},
   "outputs": [
    {
     "name": "stdout",
     "output_type": "stream",
     "text": [
      "a tensor([[0, 1, 2],\n",
      "        [3, 4, 5]])\n",
      "b tensor([0, 1, 2])\n",
      "tensor([[ 0,  1,  4],\n",
      "        [ 0,  4, 10]])\n"
     ]
    }
   ],
   "source": [
    "# Matrix-vector multiplication\n",
    "a = torch.arange(6).reshape(2,3)\n",
    "b = torch.arange(3)\n",
    "print('a',a) # 2 x 3\n",
    "print('b',b) # 3 vector\n",
    "torch.einsum('ik,k->i', [a,b]) # (2,3)x(3,1) -> (2,1) "
   ]
  },
  {
   "cell_type": "markdown",
   "id": "d5619b7e",
   "metadata": {},
   "source": [
    "### Matrix-Matrix Multiplication\n",
    "## $c_{ij} = \\sum_kA_{ik}B_{kj} $"
   ]
  },
  {
   "cell_type": "code",
   "execution_count": 18,
   "id": "91634241",
   "metadata": {},
   "outputs": [
    {
     "name": "stdout",
     "output_type": "stream",
     "text": [
      "a tensor([[0, 1, 2],\n",
      "        [3, 4, 5]])\n",
      "b tensor([[ 0,  1,  2,  3,  4],\n",
      "        [ 5,  6,  7,  8,  9],\n",
      "        [10, 11, 12, 13, 14]])\n"
     ]
    },
    {
     "data": {
      "text/plain": [
       "tensor([[ 25,  28,  31,  34,  37],\n",
       "        [ 70,  82,  94, 106, 118]])"
      ]
     },
     "execution_count": 18,
     "metadata": {},
     "output_type": "execute_result"
    }
   ],
   "source": [
    "# Matrix-Matrix multiplication\n",
    "a = torch.arange(6).reshape(2,3)\n",
    "b = torch.arange(15).reshape(3,5)\n",
    "print('a',a) # 2 x 3\n",
    "print('b',b) # 3 x 5\n",
    "torch.einsum('ik,kj->ij', [a,b]) # (2,3)x(3,5) -> (2,5) "
   ]
  },
  {
   "cell_type": "markdown",
   "id": "273ab41c",
   "metadata": {},
   "source": [
    "### Dot Product\n",
    "## $c = \\sum_ia_ib_i$"
   ]
  },
  {
   "cell_type": "code",
   "execution_count": 21,
   "id": "cb39eaf8",
   "metadata": {},
   "outputs": [
    {
     "name": "stdout",
     "output_type": "stream",
     "text": [
      "a tensor([0, 1, 2])\n",
      "b tensor([3, 4, 5])\n"
     ]
    },
    {
     "data": {
      "text/plain": [
       "tensor(14)"
      ]
     },
     "execution_count": 21,
     "metadata": {},
     "output_type": "execute_result"
    }
   ],
   "source": [
    "a = torch.arange(3)\n",
    "b = torch.arange(3,6)\n",
    "print('a',a)\n",
    "print('b',b)\n",
    "torch.einsum('i,i->',[a,b])"
   ]
  },
  {
   "cell_type": "markdown",
   "id": "20b39d84",
   "metadata": {},
   "source": [
    "### Hadamard Product \n",
    "## $C_{ij}=A_{ij}B_{ij}$"
   ]
  },
  {
   "cell_type": "code",
   "execution_count": 22,
   "id": "e4635482",
   "metadata": {},
   "outputs": [
    {
     "name": "stdout",
     "output_type": "stream",
     "text": [
      "a tensor([[0, 1, 2],\n",
      "        [3, 4, 5]])\n",
      "b tensor([[ 6,  7,  8],\n",
      "        [ 9, 10, 11]])\n"
     ]
    },
    {
     "data": {
      "text/plain": [
       "tensor([[ 0,  7, 16],\n",
       "        [27, 40, 55]])"
      ]
     },
     "execution_count": 22,
     "metadata": {},
     "output_type": "execute_result"
    }
   ],
   "source": [
    "a = torch.arange(6).reshape(2,3)\n",
    "b = torch.arange(6,12).reshape(2,3)\n",
    "print('a',a)\n",
    "print('b',b)\n",
    "torch.einsum('ij,ij->ij',[a,b])"
   ]
  },
  {
   "cell_type": "markdown",
   "id": "f18fa14f",
   "metadata": {},
   "source": [
    "### Outer Product\n",
    "## $C_ij = a_ib_j$"
   ]
  },
  {
   "cell_type": "code",
   "execution_count": 23,
   "id": "8e7f69ca",
   "metadata": {},
   "outputs": [
    {
     "name": "stdout",
     "output_type": "stream",
     "text": [
      "a tensor([0, 1, 2, 3, 4, 5])\n",
      "b tensor([3, 4, 5])\n"
     ]
    },
    {
     "data": {
      "text/plain": [
       "tensor([[ 0,  0,  0],\n",
       "        [ 3,  4,  5],\n",
       "        [ 6,  8, 10],\n",
       "        [ 9, 12, 15],\n",
       "        [12, 16, 20],\n",
       "        [15, 20, 25]])"
      ]
     },
     "execution_count": 23,
     "metadata": {},
     "output_type": "execute_result"
    }
   ],
   "source": [
    "a = torch.arange(6)\n",
    "b = torch.arange(3,6)\n",
    "print('a',a)\n",
    "print('b',b)\n",
    "torch.einsum('i,j->ij',[a,b])"
   ]
  },
  {
   "cell_type": "markdown",
   "id": "6e97d8d6",
   "metadata": {},
   "source": [
    "### Batch Matrix Multiplication\n",
    "## $C_{ijl} = \\sum_kA_{ijk}B_{ikl}$"
   ]
  },
  {
   "cell_type": "code",
   "execution_count": 31,
   "id": "3fd2da84",
   "metadata": {},
   "outputs": [
    {
     "name": "stdout",
     "output_type": "stream",
     "text": [
      "a tensor([[[-1.1483,  0.5665, -2.6095,  1.1390,  0.6329],\n",
      "         [-1.5654,  0.0299, -1.3396, -1.7746,  0.0240]],\n",
      "\n",
      "        [[ 0.3892, -0.8946,  0.3252, -0.2125, -0.3353],\n",
      "         [ 1.2297, -1.0666,  0.0738, -0.0228,  0.2932]],\n",
      "\n",
      "        [[-0.3741,  0.3963, -0.2513, -1.1525,  0.2359],\n",
      "         [-0.0113, -0.5739, -0.4826,  0.8517, -0.0372]]])\n",
      "b tensor([[[ 1.3296, -0.2150, -0.2713],\n",
      "         [-1.2721, -0.3941, -0.9409],\n",
      "         [-0.1849,  0.6673, -0.5381],\n",
      "         [ 0.3546,  1.5982,  0.0145],\n",
      "         [ 0.6154,  0.5576,  0.8346]],\n",
      "\n",
      "        [[-0.8808,  0.1802,  0.5557],\n",
      "         [ 0.0053, -0.0421,  1.1783],\n",
      "         [ 0.9310,  0.5647, -2.0817],\n",
      "         [-0.4445, -0.2962,  0.4346],\n",
      "         [-0.0397,  0.6988, -0.5897]],\n",
      "\n",
      "        [[ 0.7605, -1.4042, -0.4048],\n",
      "         [ 0.4555, -1.0740,  1.2074],\n",
      "         [-1.1109, -0.8025, -1.1154],\n",
      "         [-0.9516, -0.9417, -0.7870],\n",
      "         [ 0.1363, -1.4885,  0.1499]]])\n"
     ]
    },
    {
     "data": {
      "text/plain": [
       "tensor([[[-0.9716,  0.4556,  1.7274],\n",
       "         [-2.4861, -3.3920,  1.1118]],\n",
       "\n",
       "        [[ 0.0629,  0.1200, -1.4093],\n",
       "         [-1.0216,  0.5197, -0.9099]],\n",
       "\n",
       "        [[ 1.3039,  1.0354,  1.8525],\n",
       "         [-0.5495,  0.2729, -0.8260]]])"
      ]
     },
     "execution_count": 31,
     "metadata": {},
     "output_type": "execute_result"
    }
   ],
   "source": [
    "a = torch.randn(3,2,5)\n",
    "b = torch.randn(3,5,3)\n",
    "print('a',a)\n",
    "print('b',b)\n",
    "torch.einsum('ijk,ikl->ijl', [a, b])"
   ]
  },
  {
   "cell_type": "markdown",
   "id": "8a043868",
   "metadata": {},
   "source": [
    "### Tensor contraction\n",
    "## $C_{pstuv} = \\sum_q\\sum_rA_{pqrs}B_{tuqvr}$\n",
    "\n"
   ]
  },
  {
   "cell_type": "code",
   "execution_count": 36,
   "id": "7e26df07",
   "metadata": {
    "scrolled": true
   },
   "outputs": [
    {
     "name": "stdout",
     "output_type": "stream",
     "text": [
      "a torch.Size([2, 3, 5, 7])\n",
      "b torch.Size([11, 13, 3, 17, 5])\n"
     ]
    },
    {
     "data": {
      "text/plain": [
       "torch.Size([2, 7, 11, 13, 17])"
      ]
     },
     "execution_count": 36,
     "metadata": {},
     "output_type": "execute_result"
    }
   ],
   "source": [
    "a = torch.randn(2,3,5,7)\n",
    "b = torch.randn(11,13,3,17,5)\n",
    "print('a',a.shape)\n",
    "print('b',b.shape)\n",
    "torch.einsum('pqrs,tuqvr->pstuv', [a, b]).shape"
   ]
  },
  {
   "cell_type": "markdown",
   "id": "7080d998",
   "metadata": {},
   "source": [
    "### Bilinear transformation\n",
    "## $D_{ij} = \\sum_k\\sum_lA_{ik}B_{jkl}C_{il}$"
   ]
  },
  {
   "cell_type": "code",
   "execution_count": null,
   "id": "fde11e84",
   "metadata": {},
   "outputs": [],
   "source": []
  }
 ],
 "metadata": {
  "kernelspec": {
   "display_name": "Python 3 (ipykernel)",
   "language": "python",
   "name": "python3"
  },
  "language_info": {
   "codemirror_mode": {
    "name": "ipython",
    "version": 3
   },
   "file_extension": ".py",
   "mimetype": "text/x-python",
   "name": "python",
   "nbconvert_exporter": "python",
   "pygments_lexer": "ipython3",
   "version": "3.8.11"
  }
 },
 "nbformat": 4,
 "nbformat_minor": 5
}
