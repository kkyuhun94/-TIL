{
 "cells": [
  {
   "cell_type": "markdown",
   "metadata": {},
   "source": [
    "# learning의 목표 : cost의 최소화 \n",
    "\n",
    "### Gradient descent algorithm\n",
    "* Minimize cost function\n",
    "* Gradient descent is used many minimization problems\n",
    "* For a given cost function, cost (W,b), it will find W, b to minimize cost\n",
    "* 변수가 많을 때도 사용 가능 ex. cost(W1, W2,....)\n",
    "\n",
    "### 작동원리 \n",
    "1. 한 점에서 시작 \n",
    "2. cost가 줄어들도록 W,b를 아주 조금씩 바꾼다.  \n",
    "3. 해당 점에서 기울기를 계산해서, cost를 최소화 하는 방향으로 업데이트(W = W - learning_rate*기울기)를 해나감\n",
    "    * 기울기 : cost를 W로 미분한 값 \n",
    "    * learning rate : 얼마 만큼 변화를 크게 / 작게 업데이트 할지 \n",
    "    * 기울기가 음수이거나 양수이거나 상관 없이 적용이 가능(음수인 경우에도 빼주면 더해지기 때문에 0에 수렴)\n",
    "4. 최소점에 도달 할때 까지 반복 : 기울기가 더 이상 줄어 들지 않는 점, 0에 가까워 질수록 cost가 최소값을 가짐\n",
    "\n",
    "### 특징\n",
    "* local minimum과 global minimum이 일치하는 경우에만 사용 가능 \n",
    "\n"
   ]
  },
  {
   "cell_type": "code",
   "execution_count": 2,
   "metadata": {},
   "outputs": [],
   "source": [
    "import numpy as np\n",
    "import tensorflow as tf"
   ]
  },
  {
   "cell_type": "code",
   "execution_count": 6,
   "metadata": {},
   "outputs": [
    {
     "name": "stdout",
     "output_type": "stream",
     "text": [
      "-3.000|  74.66667\n",
      "-2.429|  54.85714\n",
      "-1.857|  38.09524\n",
      "-1.286|  24.38095\n",
      "-0.714|  13.71429\n",
      "-0.143|   6.09524\n",
      " 0.429|   1.52381\n",
      " 1.000|   0.00000\n",
      " 1.571|   1.52381\n",
      " 2.143|   6.09524\n",
      " 2.714|  13.71429\n",
      " 3.286|  24.38095\n",
      " 3.857|  38.09524\n",
      " 4.429|  54.85714\n",
      " 5.000|  74.66667\n"
     ]
    }
   ],
   "source": [
    "# cost function을 python으로 구현 \n",
    "\n",
    "import numpy as np\n",
    "\n",
    "X = np.array([1,2,3])\n",
    "Y = np.array([1,2,3])\n",
    "\n",
    "# cost 계산 함수 : (WX -Y)^2 를 모두 합해서 평균을 낸 값 \n",
    "def cost_func(W, X, Y) : # python으로 계산 할 때는 각 array의 값을 꺼내서 계산해야함 \n",
    "    c = 0\n",
    "    for i in range(len(X)) :\n",
    "        c += (W * X[i] - Y[i]) ** 2\n",
    "    return c / len(X)\n",
    "\n",
    "for feed_W in np.linspace(-3, 5, num=15) :  # linspace : -3~5까지 15개 구간으로 나눈 배열 생성\n",
    "    curr_cost = cost_func(feed_W, X, Y)\n",
    "    print(\"{:6.3f}|{:10.5f}\".format(feed_W, curr_cost))\n"
   ]
  },
  {
   "cell_type": "code",
   "execution_count": 5,
   "metadata": {
    "scrolled": true
   },
   "outputs": [
    {
     "data": {
      "text/plain": [
       "array([-3.        , -2.42857143, -1.85714286, -1.28571429, -0.71428571,\n",
       "       -0.14285714,  0.42857143,  1.        ,  1.57142857,  2.14285714,\n",
       "        2.71428571,  3.28571429,  3.85714286,  4.42857143,  5.        ])"
      ]
     },
     "execution_count": 5,
     "metadata": {},
     "output_type": "execute_result"
    }
   ],
   "source": [
    "np.linspace(-3,5,15)"
   ]
  },
  {
   "cell_type": "code",
   "execution_count": 7,
   "metadata": {},
   "outputs": [
    {
     "name": "stdout",
     "output_type": "stream",
     "text": [
      "-3.000|  74.66667\n",
      "-2.429|  54.85714\n",
      "-1.857|  38.09524\n",
      "-1.286|  24.38095\n",
      "-0.714|  13.71429\n",
      "-0.143|   6.09524\n",
      " 0.429|   1.52381\n",
      " 1.000|   0.00000\n",
      " 1.571|   1.52381\n",
      " 2.143|   6.09524\n",
      " 2.714|  13.71429\n",
      " 3.286|  24.38095\n",
      " 3.857|  38.09524\n",
      " 4.429|  54.85714\n",
      " 5.000|  74.66667\n"
     ]
    }
   ],
   "source": [
    "# tensorflow 로 구현 \n",
    "\n",
    "X = np.array([1, 2, 3])\n",
    "Y = np.array([1, 2, 3])\n",
    "\n",
    "# tensorflow로는 배열간 연산을 한번에 쉽게 할 수 있다. \n",
    "\n",
    "def cost_func(W, X, Y) : \n",
    "    hypothesis = X * W\n",
    "    return tf.reduce_mean(tf.square(hypothesis - Y))\n",
    "\n",
    "W_values = np.linspace(-3,5, num=15)\n",
    "cost_values = []\n",
    "\n",
    "for feed_W in W_values :\n",
    "    curr_cost = cost_func(feed_W, X, Y)\n",
    "    cost_values.append(curr_cost)\n",
    "    print(\"{:6.3f}|{:10.5f}\".format(feed_W, curr_cost))"
   ]
  },
  {
   "cell_type": "code",
   "execution_count": 14,
   "metadata": {
    "scrolled": true
   },
   "outputs": [
    {
     "name": "stdout",
     "output_type": "stream",
     "text": [
      "    0|11716.3086| 48.767971\n",
      "   10| 4504.9126| 30.619968\n",
      "   20| 1732.1364| 19.366755\n",
      "   30|  666.0052| 12.388859\n",
      "   40|  256.0785|  8.062004\n",
      "   50|   98.4620|  5.379007\n",
      "   60|   37.8586|  3.715335\n",
      "   70|   14.5566|  2.683725\n",
      "   80|    5.5970|  2.044044\n",
      "   90|    2.1520|  1.647391\n",
      "  100|    0.8275|  1.401434\n",
      "  110|    0.3182|  1.248922\n",
      "  120|    0.1223|  1.154351\n",
      "  130|    0.0470|  1.095710\n",
      "  140|    0.0181|  1.059348\n",
      "  150|    0.0070|  1.036801\n",
      "  160|    0.0027|  1.022819\n",
      "  170|    0.0010|  1.014150\n",
      "  180|    0.0004|  1.008774\n",
      "  190|    0.0002|  1.005441\n",
      "  200|    0.0001|  1.003374\n",
      "  210|    0.0000|  1.002092\n",
      "  220|    0.0000|  1.001297\n",
      "  230|    0.0000|  1.000804\n",
      "  240|    0.0000|  1.000499\n",
      "  250|    0.0000|  1.000309\n",
      "  260|    0.0000|  1.000192\n",
      "  270|    0.0000|  1.000119\n",
      "  280|    0.0000|  1.000074\n",
      "  290|    0.0000|  1.000046\n"
     ]
    }
   ],
   "source": [
    "# Gradient descent with tensorflow\n",
    "tf.random.set_seed(0)  # random seed 초기화 \n",
    "\n",
    "x_data = [1., 2., 3., 4.]\n",
    "y_data = [1., 3., 5., 7.]\n",
    "\n",
    "W = tf.Variable(tf.random.normal([1], -100., 100.))\n",
    "\n",
    "for step in range(300) :\n",
    "    hypothesis = W * X\n",
    "    cost = tf.reduce_mean(tf.square(hypothesis - Y))\n",
    "\n",
    "    alpha = 0.01\n",
    "    gradient = tf.reduce_mean(tf.multiply(tf.multiply(W, X) - Y, X))\n",
    "    descent = W - tf.multiply(alpha, gradient)\n",
    "    W.assign(descent) # 새로운 값을 W에 할당 \n",
    "\n",
    "    if step % 10 == 0 :\n",
    "        print('{:5}|{:10.4f}|{:10.6f}'.format(step, cost.numpy(), W.numpy()[0])) \n",
    "    "
   ]
  },
  {
   "cell_type": "code",
   "execution_count": 30,
   "metadata": {
    "scrolled": true
   },
   "outputs": [
    {
     "data": {
      "text/plain": [
       "'1,368,500'"
      ]
     },
     "execution_count": 30,
     "metadata": {},
     "output_type": "execute_result"
    }
   ],
   "source": [
    "'{0:,}'.format(1368500)"
   ]
  },
  {
   "cell_type": "code",
   "execution_count": 31,
   "metadata": {},
   "outputs": [
    {
     "data": {
      "text/plain": [
       "' 1,368,500'"
      ]
     },
     "execution_count": 31,
     "metadata": {},
     "output_type": "execute_result"
    }
   ],
   "source": [
    "'%10s' % format(1368500, ',')"
   ]
  },
  {
   "cell_type": "code",
   "execution_count": 32,
   "metadata": {
    "scrolled": true
   },
   "outputs": [
    {
     "data": {
      "text/plain": [
       "'1,368,500 '"
      ]
     },
     "execution_count": 32,
     "metadata": {},
     "output_type": "execute_result"
    }
   ],
   "source": [
    "'%-10s' % format(1368500, ',')"
   ]
  },
  {
   "cell_type": "code",
   "execution_count": 33,
   "metadata": {},
   "outputs": [
    {
     "data": {
      "text/plain": [
       "'1,368,500 '"
      ]
     },
     "execution_count": 33,
     "metadata": {},
     "output_type": "execute_result"
    }
   ],
   "source": [
    "'{},{},{} '.format(1, 368, 500)"
   ]
  },
  {
   "cell_type": "code",
   "execution_count": 55,
   "metadata": {},
   "outputs": [
    {
     "name": "stdout",
     "output_type": "stream",
     "text": [
      "20\n",
      "18\n",
      "16\n",
      "14\n",
      "12\n",
      "10\n",
      "8\n",
      "6\n",
      "4\n",
      "2\n"
     ]
    }
   ],
   "source": [
    "a = 20\n",
    "while a<=20 :\n",
    "    if a % 2 == 0:\n",
    "        print(a)\n",
    "        a -= 1\n",
    "    else : \n",
    "        a -= 1\n",
    "    if a == 0 :\n",
    "        break"
   ]
  },
  {
   "cell_type": "code",
   "execution_count": null,
   "metadata": {},
   "outputs": [],
   "source": []
  }
 ],
 "metadata": {
  "kernelspec": {
   "display_name": "Python 3",
   "language": "python",
   "name": "python3"
  },
  "language_info": {
   "codemirror_mode": {
    "name": "ipython",
    "version": 3
   },
   "file_extension": ".py",
   "mimetype": "text/x-python",
   "name": "python",
   "nbconvert_exporter": "python",
   "pygments_lexer": "ipython3",
   "version": "3.8.3"
  }
 },
 "nbformat": 4,
 "nbformat_minor": 4
}
