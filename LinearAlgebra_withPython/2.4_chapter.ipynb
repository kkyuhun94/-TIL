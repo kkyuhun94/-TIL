{
 "cells": [
  {
   "cell_type": "markdown",
   "metadata": {},
   "source": [
    "### 학습 내용\n",
    "> 행렬 기본 조작(1)\n",
    "\n",
    "* np.copy \n",
    "    * 원본 데이터를 복사해서 독립적으로 활용하고 싶을때 \n",
    "    * 서로 다른 메모리(공간)사용\n",
    "\n",
    "* np.reshape(matrix, 숫자 혹은 shape(튜플))\n",
    "    * shape를 바꾸기 위해 사용\n",
    "    * 바꾸기 전 데이터와 같은 메모리 공간 사용\n",
    "    * 독립적으로 사용하기 위해서는 np.copy(np.reshape)\n",
    "\n",
    "* np.tril\n",
    "    * band_id 포함 lower부분만 copy,나머지 0\n",
    "    * 독립적 사용 가능\n",
    "\n",
    "* np.triu\n",
    "    * band_id 포함 upper부분만 copy,나머지 0\n",
    "    * 독립적 사용 가능\n",
    "    \n",
    "* np.diag \n",
    "    * band 뽑아 내어 1D array로 만듬\n",
    "    * 같은 메모리 공간 사용(종속적)\n",
    "        * diag는 수정 불가 : read-only\n",
    "    * 입력이 1D array(벡터)이면 square행렬 생성\n",
    "        * 해당 밴드에 1D벡터를 삽입, 나머지 0\n",
    "\n",
    "* np.diagflat(M,k=band_id)\n",
    "    * M을 1D로 만든뒤 band에 삽입해서 square matrix생성 \n",
    "\n",
    "* np.trace(matrix,offset=band_id)\n",
    "    * 해당 band entry들을 모두 더한 값을 출력\n",
    "    * diagonal의 합을 구할수 있다\n",
    "\n",
    "* flatten() / np.ravel\n",
    "    * 행렬을 1D화 \n",
    "    * flatten : 독립적으로 사용가능\n",
    "    * ravel : 종속적, 같은 메모리 공간 참조\n",
    "    "
   ]
  },
  {
   "cell_type": "markdown",
   "metadata": {},
   "source": [
    "### code"
   ]
  },
  {
   "cell_type": "code",
   "execution_count": 2,
   "metadata": {},
   "outputs": [],
   "source": [
    "import numpy as np"
   ]
  },
  {
   "cell_type": "code",
   "execution_count": 3,
   "metadata": {},
   "outputs": [
    {
     "data": {
      "text/plain": [
       "array([[1, 2, 3],\n",
       "       [4, 5, 6],\n",
       "       [7, 8, 9]])"
      ]
     },
     "execution_count": 3,
     "metadata": {},
     "output_type": "execute_result"
    }
   ],
   "source": [
    "a = np.array([[1,2,3],[4,5,6],[7,8,9]])\n",
    "a"
   ]
  },
  {
   "cell_type": "code",
   "execution_count": 5,
   "metadata": {},
   "outputs": [
    {
     "data": {
      "text/plain": [
       "array([[1, 0, 0],\n",
       "       [4, 5, 0],\n",
       "       [7, 8, 9]])"
      ]
     },
     "execution_count": 5,
     "metadata": {},
     "output_type": "execute_result"
    }
   ],
   "source": [
    "b = np.tril(a,0)\n",
    "b"
   ]
  },
  {
   "cell_type": "code",
   "execution_count": 6,
   "metadata": {},
   "outputs": [
    {
     "data": {
      "text/plain": [
       "array([[1, 2, 3],\n",
       "       [0, 5, 6],\n",
       "       [0, 0, 9]])"
      ]
     },
     "execution_count": 6,
     "metadata": {},
     "output_type": "execute_result"
    }
   ],
   "source": [
    "# upper triangle\n",
    "c = np.triu(a,0)\n",
    "c"
   ]
  },
  {
   "cell_type": "code",
   "execution_count": 9,
   "metadata": {},
   "outputs": [
    {
     "data": {
      "text/plain": [
       "array([[0, 0, 0],\n",
       "       [4, 0, 0],\n",
       "       [7, 8, 0]])"
      ]
     },
     "execution_count": 9,
     "metadata": {},
     "output_type": "execute_result"
    }
   ],
   "source": [
    "# lower triangle\n",
    "d = np.tril(a,-1)\n",
    "d"
   ]
  },
  {
   "cell_type": "code",
   "execution_count": 11,
   "metadata": {},
   "outputs": [
    {
     "data": {
      "text/plain": [
       "(array([[1, 2, 3],\n",
       "        [4, 5, 6],\n",
       "        [7, 8, 9]]),\n",
       " array([1, 5, 9]))"
      ]
     },
     "execution_count": 11,
     "metadata": {},
     "output_type": "execute_result"
    }
   ],
   "source": [
    "# diagonal 추출 \n",
    "diag = np.diag(a,0)\n",
    "a, diag"
   ]
  },
  {
   "cell_type": "code",
   "execution_count": 14,
   "metadata": {},
   "outputs": [
    {
     "data": {
      "text/plain": [
       "(array([1, 5, 9]),\n",
       " array([[1, 0, 0],\n",
       "        [0, 5, 0],\n",
       "        [0, 0, 9]]))"
      ]
     },
     "execution_count": 14,
     "metadata": {},
     "output_type": "execute_result"
    }
   ],
   "source": [
    "# diagonal을 갖는 행렬 생성\n",
    "diag_2 = np.diag(diag,0)\n",
    "diag,diag_2"
   ]
  },
  {
   "cell_type": "code",
   "execution_count": 15,
   "metadata": {},
   "outputs": [],
   "source": [
    "a = np.random.rand(2,3)"
   ]
  },
  {
   "cell_type": "code",
   "execution_count": 19,
   "metadata": {},
   "outputs": [
    {
     "data": {
      "text/plain": [
       "(array([[0.86733299, 0.62287377, 0.83787757],\n",
       "        [0.68327712, 0.4603379 , 0.26006842]]),\n",
       " array([[0.86733299, 0.        , 0.        , 0.        , 0.        ,\n",
       "         0.        ],\n",
       "        [0.        , 0.62287377, 0.        , 0.        , 0.        ,\n",
       "         0.        ],\n",
       "        [0.        , 0.        , 0.83787757, 0.        , 0.        ,\n",
       "         0.        ],\n",
       "        [0.        , 0.        , 0.        , 0.68327712, 0.        ,\n",
       "         0.        ],\n",
       "        [0.        , 0.        , 0.        , 0.        , 0.4603379 ,\n",
       "         0.        ],\n",
       "        [0.        , 0.        , 0.        , 0.        , 0.        ,\n",
       "         0.26006842]]),\n",
       " (2, 3),\n",
       " (6, 6))"
      ]
     },
     "execution_count": 19,
     "metadata": {},
     "output_type": "execute_result"
    }
   ],
   "source": [
    "# 행렬을 1D로 만든뒤 band에 삽입\n",
    "b = np.diagflat(a,0)\n",
    "a,b,a.shape,b.shape"
   ]
  },
  {
   "cell_type": "code",
   "execution_count": 23,
   "metadata": {},
   "outputs": [
    {
     "data": {
      "text/plain": [
       "(array([[1., 1., 1., 1.],\n",
       "        [1., 1., 1., 1.],\n",
       "        [1., 1., 1., 1.],\n",
       "        [1., 1., 1., 1.]]),\n",
       " 4.0)"
      ]
     },
     "execution_count": 23,
     "metadata": {},
     "output_type": "execute_result"
    }
   ],
   "source": [
    "# diagonal의 합\n",
    "a = np.ones((4,4))\n",
    "b = np.trace(a)\n",
    "a,b"
   ]
  },
  {
   "cell_type": "code",
   "execution_count": 25,
   "metadata": {},
   "outputs": [
    {
     "data": {
      "text/plain": [
       "(array([1., 1., 1., 1., 1., 1., 1., 1., 1., 1., 1., 1., 1., 1., 1., 1.]),\n",
       " array([1., 1., 1., 1., 1., 1., 1., 1., 1., 1., 1., 1., 1., 1., 1., 1.]))"
      ]
     },
     "execution_count": 25,
     "metadata": {},
     "output_type": "execute_result"
    }
   ],
   "source": [
    "# 행렬을 1D화 \n",
    "a.flatten() ,a.ravel()"
   ]
  },
  {
   "cell_type": "code",
   "execution_count": 28,
   "metadata": {},
   "outputs": [
    {
     "data": {
      "text/plain": [
       "(array([[ 1,  2,  3,  4,  5],\n",
       "        [ 6,  7,  8,  9, 10],\n",
       "        [11, 12, 13, 14, 15]]),\n",
       " array([[ 1,  2,  3],\n",
       "        [ 4,  5,  6],\n",
       "        [ 7,  8,  9],\n",
       "        [10, 11, 12],\n",
       "        [13, 14, 15]]),\n",
       " array([[1, 2, 3],\n",
       "        [0, 5, 6],\n",
       "        [0, 0, 9],\n",
       "        [0, 0, 0],\n",
       "        [0, 0, 0]]),\n",
       " array([[1, 0, 0, 0, 0, 0, 0, 0, 0, 0, 0, 0, 0, 0, 0],\n",
       "        [0, 2, 0, 0, 0, 0, 0, 0, 0, 0, 0, 0, 0, 0, 0],\n",
       "        [0, 0, 3, 0, 0, 0, 0, 0, 0, 0, 0, 0, 0, 0, 0],\n",
       "        [0, 0, 0, 0, 0, 0, 0, 0, 0, 0, 0, 0, 0, 0, 0],\n",
       "        [0, 0, 0, 0, 5, 0, 0, 0, 0, 0, 0, 0, 0, 0, 0],\n",
       "        [0, 0, 0, 0, 0, 6, 0, 0, 0, 0, 0, 0, 0, 0, 0],\n",
       "        [0, 0, 0, 0, 0, 0, 0, 0, 0, 0, 0, 0, 0, 0, 0],\n",
       "        [0, 0, 0, 0, 0, 0, 0, 0, 0, 0, 0, 0, 0, 0, 0],\n",
       "        [0, 0, 0, 0, 0, 0, 0, 0, 9, 0, 0, 0, 0, 0, 0],\n",
       "        [0, 0, 0, 0, 0, 0, 0, 0, 0, 0, 0, 0, 0, 0, 0],\n",
       "        [0, 0, 0, 0, 0, 0, 0, 0, 0, 0, 0, 0, 0, 0, 0],\n",
       "        [0, 0, 0, 0, 0, 0, 0, 0, 0, 0, 0, 0, 0, 0, 0],\n",
       "        [0, 0, 0, 0, 0, 0, 0, 0, 0, 0, 0, 0, 0, 0, 0],\n",
       "        [0, 0, 0, 0, 0, 0, 0, 0, 0, 0, 0, 0, 0, 0, 0],\n",
       "        [0, 0, 0, 0, 0, 0, 0, 0, 0, 0, 0, 0, 0, 0, 0]]),\n",
       " 26)"
      ]
     },
     "execution_count": 28,
     "metadata": {},
     "output_type": "execute_result"
    }
   ],
   "source": [
    "# 연습문제 \n",
    "a = np.array([[1,2,3,4,5],[6,7,8,9,10],[11,12,13,14,15]])\n",
    "b = a.reshape(5,3)\n",
    "bt = np.triu(b,0)\n",
    "d = np.diagflat(bt,0)\n",
    "t = np.trace(d,0)\n",
    "a,b,bt,d,t\n"
   ]
  }
 ],
 "metadata": {
  "kernelspec": {
   "display_name": "Python 3",
   "language": "python",
   "name": "python3"
  },
  "language_info": {
   "codemirror_mode": {
    "name": "ipython",
    "version": 3
   },
   "file_extension": ".py",
   "mimetype": "text/x-python",
   "name": "python",
   "nbconvert_exporter": "python",
   "pygments_lexer": "ipython3",
   "version": "3.8.3"
  }
 },
 "nbformat": 4,
 "nbformat_minor": 4
}
