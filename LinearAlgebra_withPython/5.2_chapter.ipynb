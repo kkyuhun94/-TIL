{
 "cells": [
  {
   "cell_type": "markdown",
   "metadata": {},
   "source": [
    "### 학습 내용\n",
    ">행렬 분해\n",
    "\n",
    ">Cholesky decomposition\n",
    "\n",
    "* Cholesky Decomposition : R = linalg.cholesky(A,lower = False)\n",
    "    * positive definite : (symmetric / Hermitian)일때\n",
    "        * $A = R^TR$ / $A=R^*R$ \n",
    "        * $A = LL^T$ / $A=LL^*$ \n",
    "    * lower = True일때는 L\n",
    "\n",
    "* Cholesky Decomposition Solver : x = linalg.cho_solve((R,False),b)\n",
    "    * Ax = b의 solution\n",
    "    * True일 때는 L\n",
    "    * Lapack : potrs\n",
    "    * A를 변화시켜야 하는 상황 혹은 단일 문제에서는 LU보다 빠르다.\n",
    "    \n",
    "* 밴드 행렬의 cholesky Decompostion : R_band = linalg.cholesky_banded(band_A_h, lower=False)\n",
    "    * 인자가 A의 밴드행렬.\n",
    "* 밴드 행렬의 cholesky Decompostion solver : x = linalg.cho_solve_banded((R_band,Fasle),b)\n",
    "\n",
    "* 행렬 분해와 Ax =b 전략\n",
    "    * 1. Real symmetric 또는 complex Hermitian\n",
    "        * Yes : 2. Positive definite?\n",
    "            * Yes : cholesky\n",
    "            * no : $LDL^T,LDL^*$, LU,solve(her)\n",
    "        * no : 3. complex symmetric?\n",
    "            * Yes : $LDL^T$, LU,solve(sym)    \n",
    "            * no : LU\n",
    "        * LDL은 linalg에서 지원하지 않음 : 추후 개발 기대 \n",
    "            * $\\to$ x = linalg.solve(a,b,assume_a=\"sym\"or\"her\")\n",
    "            \n"
   ]
  },
  {
   "cell_type": "markdown",
   "metadata": {},
   "source": [
    "### code"
   ]
  },
  {
   "cell_type": "code",
   "execution_count": 1,
   "metadata": {},
   "outputs": [],
   "source": [
    "import numpy as np\n",
    "from scipy import linalg"
   ]
  },
  {
   "cell_type": "code",
   "execution_count": 2,
   "metadata": {},
   "outputs": [
    {
     "data": {
      "text/plain": [
       "array([[ 1.        , -1.        ,  0.        ],\n",
       "       [ 0.        ,  1.        , -1.        ],\n",
       "       [ 0.        ,  0.        ,  1.41421356]])"
      ]
     },
     "execution_count": 2,
     "metadata": {},
     "output_type": "execute_result"
    }
   ],
   "source": [
    "# linalg.cholesky\n",
    "A = np.array([[1,-1,0],[-1,2,-1],[0,-1,3]])\n",
    "R = linalg.cholesky(A,lower=False)\n",
    "R"
   ]
  },
  {
   "cell_type": "code",
   "execution_count": 6,
   "metadata": {},
   "outputs": [
    {
     "data": {
      "text/plain": [
       "(array([4.5, 3.5, 1.5]), array([4.5, 3.5, 1.5]), array([4.5, 3.5, 1.5]))"
      ]
     },
     "execution_count": 6,
     "metadata": {},
     "output_type": "execute_result"
    }
   ],
   "source": [
    "# linalg.cho_solve\n",
    "A = np.array([[1,-1,0],[-1,2,-1],[0,-1,3]])\n",
    "b = np.ones((3,))\n",
    "R = linalg.cholesky(A,lower=False)\n",
    "x = linalg.cho_solve((R,False),b)\n",
    "# solve\n",
    "x1 = linalg.solve(A,b)\n",
    "# Lu decomposition\n",
    "lu,piv = linalg.lu_factor(A)\n",
    "x2 = linalg.lu_solve((lu,piv),b)\n",
    "x,x1,x2"
   ]
  },
  {
   "cell_type": "code",
   "execution_count": null,
   "metadata": {},
   "outputs": [],
   "source": []
  }
 ],
 "metadata": {
  "kernelspec": {
   "display_name": "Python 3",
   "language": "python",
   "name": "python3"
  },
  "language_info": {
   "codemirror_mode": {
    "name": "ipython",
    "version": 3
   },
   "file_extension": ".py",
   "mimetype": "text/x-python",
   "name": "python",
   "nbconvert_exporter": "python",
   "pygments_lexer": "ipython3",
   "version": "3.8.3"
  }
 },
 "nbformat": 4,
 "nbformat_minor": 4
}
