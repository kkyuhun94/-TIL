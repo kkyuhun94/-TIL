{
 "cells": [
  {
   "cell_type": "markdown",
   "metadata": {},
   "source": [
    "## 강의 내용\n",
    ">행렬 및 벡터 표현법 \n",
    ">기본 숫자 데이터 정확도\n",
    "\n",
    "* 컴퓨터로 숫자를 다룰 때는 오차가 발생 : 소수점 표현에 한계가 있음\n",
    "\n",
    "* double precision : float64. numpy에서 기본 값으로 사용\n",
    "    * 허수, 실수 각각 64이므로 complex 128이라고도 함\n",
    "    * normalized floating-point로 표현가능하다.\n",
    "        * $0.1453..x10^-{15}$\n",
    "        * $0.1453..E-15$\n",
    "        * 소수점 16자리까지 표현 가능\n",
    "        * $10^{-308}~10^308$\n",
    "\n",
    "* numpy.array : 2D array로 행렬, 1D array로 벡터 표현\n",
    "\n",
    "* 행렬 및 벡터의 사이즈 확인 : shape\n",
    "\n",
    "* complex 행렬 및 complex 벡터 표현 : 허수를 포함\n",
    "    * 허수를 표현할 때 무조건 숫자가 앞에 있어야함. 1이더라도\n",
    "\n",
    "* 행렬과 벡터 값 접근\n",
    "    * 인덱스 값이 0부터 시작한다.\n",
    "    * i행 j열의 엔트리\n",
    "        * a$[i,j]$\n",
    "        * a$[i][j]$\n",
    "    * 허수의 경우 \n",
    "        * 0으로 바꿀경우 0j로 만듬.\n",
    "        * a = np.array($[]$,dtype = np.float64)\n",
    "        * np.float64가 default 값 : 허수를 넣지 못함\n",
    "        * 처음부터 np.complex128 을 넣어주면 : 허수를 넣을 수 있다.\n",
    "        * 행렬에 하나라도 허수를 넣은채 생성하면 complex128로 생성됨\n",
    "    \n",
    "* 명시적 타입 변환\n",
    "    * .astype() : 엔트리들의 타입을 변환\n",
    "\n",
    "* 암묵적 타입 변환\n",
    "    * a가 float이고 b가 complex일때 a+b,a*c = complex로 자동 변환됨\n",
    "    * 정확한 타입의 변환을 알지 못한다면 사용하지 않는 것을 추천\n",
    "    \n"
   ]
  },
  {
   "cell_type": "markdown",
   "metadata": {},
   "source": [
    "### 코드"
   ]
  },
  {
   "cell_type": "code",
   "execution_count": 1,
   "metadata": {},
   "outputs": [],
   "source": [
    "import numpy as np"
   ]
  },
  {
   "cell_type": "code",
   "execution_count": 3,
   "metadata": {},
   "outputs": [],
   "source": [
    "a = np.array([[1,2.5,3],[-1,-2,-1.5],[4,5.5,6]])"
   ]
  },
  {
   "cell_type": "code",
   "execution_count": 4,
   "metadata": {},
   "outputs": [
    {
     "data": {
      "text/plain": [
       "array([[ 1. ,  2.5,  3. ],\n",
       "       [-1. , -2. , -1.5],\n",
       "       [ 4. ,  5.5,  6. ]])"
      ]
     },
     "execution_count": 4,
     "metadata": {},
     "output_type": "execute_result"
    }
   ],
   "source": [
    "# 2D array\n",
    "a"
   ]
  },
  {
   "cell_type": "code",
   "execution_count": 6,
   "metadata": {},
   "outputs": [
    {
     "data": {
      "text/plain": [
       "array([7., 5., 3.])"
      ]
     },
     "execution_count": 6,
     "metadata": {},
     "output_type": "execute_result"
    }
   ],
   "source": [
    "# 1D array\n",
    "b = np.array([7.0,5.0,3.0])\n",
    "b"
   ]
  },
  {
   "cell_type": "code",
   "execution_count": 7,
   "metadata": {},
   "outputs": [
    {
     "name": "stdout",
     "output_type": "stream",
     "text": [
      "(3, 3)\n",
      "(3,)\n"
     ]
    }
   ],
   "source": [
    "# shape , tuple 자료형으로 출력 (행,열)\n",
    "print(a.shape)\n",
    "print(b.shape)\n"
   ]
  },
  {
   "cell_type": "code",
   "execution_count": 20,
   "metadata": {
    "scrolled": true
   },
   "outputs": [
    {
     "data": {
      "text/plain": [
       "array([[1.-2.j, 3.+1.j, 1.+0.j],\n",
       "       [1.+2.j, 2.-1.j, 7.+0.j]])"
      ]
     },
     "execution_count": 20,
     "metadata": {},
     "output_type": "execute_result"
    }
   ],
   "source": [
    "# complex 행렬 및 벡터 표현\n",
    "a = np.array([[1-2j,3+1j,1],[1+2j,2-1j,7]])\n",
    "a"
   ]
  },
  {
   "cell_type": "code",
   "execution_count": 18,
   "metadata": {},
   "outputs": [
    {
     "data": {
      "text/plain": [
       "array([ 1.+8.j, -0.-2.j])"
      ]
     },
     "execution_count": 18,
     "metadata": {},
     "output_type": "execute_result"
    }
   ],
   "source": [
    "b = np.array([1+8j,-2j])\n",
    "b"
   ]
  },
  {
   "cell_type": "code",
   "execution_count": 19,
   "metadata": {
    "scrolled": true
   },
   "outputs": [
    {
     "data": {
      "text/plain": [
       "((2, 3), (2,))"
      ]
     },
     "execution_count": 19,
     "metadata": {},
     "output_type": "execute_result"
    }
   ],
   "source": [
    "a.shape,b.shape"
   ]
  },
  {
   "cell_type": "code",
   "execution_count": 23,
   "metadata": {},
   "outputs": [
    {
     "data": {
      "text/plain": [
       "array([ 1.+8.j, -0.-2.j])"
      ]
     },
     "execution_count": 23,
     "metadata": {},
     "output_type": "execute_result"
    }
   ],
   "source": [
    "b"
   ]
  },
  {
   "cell_type": "code",
   "execution_count": 22,
   "metadata": {},
   "outputs": [
    {
     "data": {
      "text/plain": [
       "array([[1.-2.j, 3.+1.j, 1.+0.j],\n",
       "       [1.+2.j, 2.-1.j, 7.+0.j]])"
      ]
     },
     "execution_count": 22,
     "metadata": {},
     "output_type": "execute_result"
    }
   ],
   "source": [
    "a"
   ]
  },
  {
   "cell_type": "code",
   "execution_count": 25,
   "metadata": {},
   "outputs": [],
   "source": [
    "a[1,1]=0\n",
    "a[0,2]=0\n",
    "b[0]=0"
   ]
  },
  {
   "cell_type": "code",
   "execution_count": 26,
   "metadata": {},
   "outputs": [
    {
     "data": {
      "text/plain": [
       "array([[1.-2.j, 3.+1.j, 0.+0.j],\n",
       "       [1.+2.j, 0.+0.j, 7.+0.j]])"
      ]
     },
     "execution_count": 26,
     "metadata": {},
     "output_type": "execute_result"
    }
   ],
   "source": [
    "# np.complex128\n",
    "a"
   ]
  },
  {
   "cell_type": "code",
   "execution_count": 28,
   "metadata": {},
   "outputs": [
    {
     "data": {
      "text/plain": [
       "numpy.complex128"
      ]
     },
     "execution_count": 28,
     "metadata": {},
     "output_type": "execute_result"
    }
   ],
   "source": [
    "type(a[0,0])"
   ]
  },
  {
   "cell_type": "code",
   "execution_count": 27,
   "metadata": {},
   "outputs": [
    {
     "data": {
      "text/plain": [
       "array([ 0.+0.j, -0.-2.j])"
      ]
     },
     "execution_count": 27,
     "metadata": {},
     "output_type": "execute_result"
    }
   ],
   "source": [
    "# np.complex128\n",
    "b"
   ]
  },
  {
   "cell_type": "code",
   "execution_count": 29,
   "metadata": {},
   "outputs": [
    {
     "name": "stderr",
     "output_type": "stream",
     "text": [
      "<ipython-input-29-dcae06f968d8>:2: ComplexWarning: Casting complex values to real discards the imaginary part\n",
      "  a= a.astype(dtype=np.float64)\n"
     ]
    },
    {
     "data": {
      "text/plain": [
       "array([[1., 3., 0.],\n",
       "       [1., 0., 7.]])"
      ]
     },
     "execution_count": 29,
     "metadata": {},
     "output_type": "execute_result"
    }
   ],
   "source": [
    "# 엔트리들의 타입을 변환할 수 있음 : 허수 -> 실수 : 허수부분날라감\n",
    "a= a.astype(dtype=np.float64)\n",
    "a"
   ]
  },
  {
   "cell_type": "markdown",
   "metadata": {},
   "source": [
    "### 연습문제1 "
   ]
  },
  {
   "cell_type": "code",
   "execution_count": 32,
   "metadata": {},
   "outputs": [],
   "source": [
    "a = np.array([[1,2,4,1],[2,1,3,1],[5,2,1,4]])"
   ]
  },
  {
   "cell_type": "code",
   "execution_count": 34,
   "metadata": {},
   "outputs": [
    {
     "data": {
      "text/plain": [
       "array([[1, 2, 4, 1],\n",
       "       [2, 1, 3, 1],\n",
       "       [5, 2, 1, 4]])"
      ]
     },
     "execution_count": 34,
     "metadata": {},
     "output_type": "execute_result"
    }
   ],
   "source": [
    "a"
   ]
  },
  {
   "cell_type": "code",
   "execution_count": 35,
   "metadata": {},
   "outputs": [
    {
     "data": {
      "text/plain": [
       "(3, 4)"
      ]
     },
     "execution_count": 35,
     "metadata": {},
     "output_type": "execute_result"
    }
   ],
   "source": [
    "a.shape"
   ]
  },
  {
   "cell_type": "code",
   "execution_count": 41,
   "metadata": {},
   "outputs": [],
   "source": [
    "a = a.astype(np.complex128)"
   ]
  },
  {
   "cell_type": "code",
   "execution_count": 42,
   "metadata": {},
   "outputs": [
    {
     "data": {
      "text/plain": [
       "array([[1.+0.j, 2.+0.j, 1.+2.j, 1.+0.j],\n",
       "       [2.+0.j, 1.+0.j, 3.+0.j, 1.+0.j],\n",
       "       [5.+0.j, 1.+2.j, 1.+0.j, 4.+0.j]])"
      ]
     },
     "execution_count": 42,
     "metadata": {},
     "output_type": "execute_result"
    }
   ],
   "source": [
    "a[0,2] = 1+2j\n",
    "a[2,1] = 1+2j\n",
    "a"
   ]
  },
  {
   "cell_type": "code",
   "execution_count": 44,
   "metadata": {},
   "outputs": [
    {
     "data": {
      "text/plain": [
       "array([[1.+0.j, 2.+0.j, 0.+0.j, 1.+0.j],\n",
       "       [2.+0.j, 1.+0.j, 3.+0.j, 1.+0.j],\n",
       "       [5.+0.j, 0.+0.j, 1.+0.j, 4.+0.j]])"
      ]
     },
     "execution_count": 44,
     "metadata": {},
     "output_type": "execute_result"
    }
   ],
   "source": [
    "a[0,2] = 0 \n",
    "a[2,1] = 0\n",
    "a"
   ]
  }
 ],
 "metadata": {
  "kernelspec": {
   "display_name": "Python 3",
   "language": "python",
   "name": "python3"
  },
  "language_info": {
   "codemirror_mode": {
    "name": "ipython",
    "version": 3
   },
   "file_extension": ".py",
   "mimetype": "text/x-python",
   "name": "python",
   "nbconvert_exporter": "python",
   "pygments_lexer": "ipython3",
   "version": "3.8.3"
  }
 },
 "nbformat": 4,
 "nbformat_minor": 4
}
