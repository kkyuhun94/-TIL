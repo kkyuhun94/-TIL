{
 "cells": [
  {
   "cell_type": "markdown",
   "metadata": {},
   "source": [
    "### 학습 내용\n",
    ">최소 자승법을 활용한 데이터 피팅 및 그래프 그리기\n",
    "\n",
    ">Least-Squares Method 활용\n",
    "\n",
    "* 2차 함수에 데이터 피팅 : beta, res, rank, s = linalg.lstsq(X,y)\n",
    "    * $y = \\beta_0+\\beta_1x+\\beta_2x^2$\n",
    "    * $X\\beta = y$\n",
    "    * x가 값이면 X$[:,0]$부터 X$[:,2]$까지 값을 입력해서 matrix생성\n",
    "\n",
    "* 간단히 그래프 그리기 : matplotlib \n",
    "    * np.linspace(0,10,101) :0부터 10까지 100구간으로 나눔\n",
    "\n",
    "* 일반 함수에 데이터 피팅 : $y = \\beta_0 + \\beta_1f_1(x) + ...+ \\beta_kf_k(x)$\n",
    "    * $X\\beta = y$\n",
    "    * x가 값이면 X$[:,0]$부터 X$[:,2]$까지 값을 입력해서 matrix생성\n",
    "    \n",
    "* 다양한 내부 함수와 상수\n",
    "    * $x^n \\to x**n$\n",
    "    * $e^x \\to np.exp(x)$\n",
    "    * lnx : np.log(x)\n",
    "    * np.log10(x)\n",
    "    * np.pi\n",
    "    * degree를 radian으로 변환 : np.deg2rad(x)\n",
    "    * radian을 degree로 변환 : np.rad2deg(x)\n",
    "    * 함수에 벡터(1D Array)가 입력일 때       \n",
    "        * 개별 entry에 함수값을 취한 뒤 벡터로 반환\n"
   ]
  },
  {
   "cell_type": "markdown",
   "metadata": {},
   "source": [
    "### Code"
   ]
  },
  {
   "cell_type": "code",
   "execution_count": 5,
   "metadata": {},
   "outputs": [],
   "source": [
    "import numpy as np\n",
    "from scipy import linalg\n",
    "import matplotlib.pyplot as plt"
   ]
  },
  {
   "cell_type": "code",
   "execution_count": 7,
   "metadata": {},
   "outputs": [
    {
     "data": {
      "text/plain": [
       "(array([[ 1.  ,  1.  ,  1.  ],\n",
       "        [ 1.  ,  2.5 ,  6.25],\n",
       "        [ 1.  ,  3.5 , 12.25],\n",
       "        [ 1.  ,  4.  , 16.  ],\n",
       "        [ 1.  ,  5.  , 25.  ],\n",
       "        [ 1.  ,  7.  , 49.  ],\n",
       "        [ 1.  ,  8.5 , 72.25]]),\n",
       " array([0.0578403 , 0.07701453, 0.11262261]),\n",
       " 3,\n",
       " array([94.14628205,  4.12516865,  0.63091939]))"
      ]
     },
     "execution_count": 7,
     "metadata": {},
     "output_type": "execute_result"
    }
   ],
   "source": [
    "X = np.array([1,2.5,3.5,4,5,7,8.5]) # x값\n",
    "y = np.array([0.3,1.1,1.5,2.0,3.2,6.6,8.6])\n",
    "n = X.shape[0]\n",
    "x = np.zeros((n,3)) \n",
    "x[:,0] = 1\n",
    "x[:,1] = X\n",
    "x[:,2] = X*X\n",
    "\n",
    "beta, res, rank, s = linalg.lstsq(x,y)\n",
    "x, beta, rank, s"
   ]
  },
  {
   "cell_type": "code",
   "execution_count": 9,
   "metadata": {},
   "outputs": [
    {
     "data": {
      "image/png": "[encoded data removed]",
      "text/plain": [
       "<Figure size 432x288 with 1 Axes>"
      ]
     },
     "metadata": {
      "needs_background": "light"
     },
     "output_type": "display_data"
    }
   ],
   "source": [
    "# 그래프 그리기\n",
    "import matplotlib.pyplot as plt\n",
    "plt.plot(X,y,'o')\n",
    "xp = np.linspace(0,10,101) #x축 그리드\n",
    "yp = beta[0]+beta[1]*xp + beta[2]*xp*xp #그래프 y\n",
    "plt.plot(xp,yp)\n",
    "plt.show()\n"
   ]
  },
  {
   "cell_type": "code",
   "execution_count": null,
   "metadata": {},
   "outputs": [],
   "source": []
  }
 ],
 "metadata": {
  "kernelspec": {
   "display_name": "Python 3",
   "language": "python",
   "name": "python3"
  },
  "language_info": {
   "codemirror_mode": {
    "name": "ipython",
    "version": 3
   },
   "file_extension": ".py",
   "mimetype": "text/x-python",
   "name": "python",
   "nbconvert_exporter": "python",
   "pygments_lexer": "ipython3",
   "version": "3.8.3"
  }
 },
 "nbformat": 4,
 "nbformat_minor": 4
}
