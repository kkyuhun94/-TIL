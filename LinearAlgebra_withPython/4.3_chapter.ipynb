{
 "cells": [
  {
   "cell_type": "markdown",
   "metadata": {},
   "source": [
    "### 학습 내용\n",
    ">고유치(eigenvalue) 계산\n",
    "\n",
    ">밴드 행렬\n",
    "\n",
    "* Symmetric / Hermitian 밴드 행렬의 고유치 고유벡터 : linalg.eig_banded(band_a_h, lower = False)\n",
    "    * 고유치,고유벡터 둘다 구하기 \n",
    "    * 고유치만 구하기 가능 : eigvals_only = True\n"
   ]
  }
 ],
 "metadata": {
  "kernelspec": {
   "display_name": "Python 3",
   "language": "python",
   "name": "python3"
  },
  "language_info": {
   "codemirror_mode": {
    "name": "ipython",
    "version": 3
   },
   "file_extension": ".py",
   "mimetype": "text/x-python",
   "name": "python",
   "nbconvert_exporter": "python",
   "pygments_lexer": "ipython3",
   "version": "3.8.3"
  }
 },
 "nbformat": 4,
 "nbformat_minor": 4
}
