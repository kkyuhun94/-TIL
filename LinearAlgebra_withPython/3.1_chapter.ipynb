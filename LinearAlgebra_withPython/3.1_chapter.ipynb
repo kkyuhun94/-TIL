{
 "cells": [
  {
   "cell_type": "markdown",
   "metadata": {},
   "source": [
    "### 학습 내용\n",
    ">행렬의 분류\n",
    ">Matrix 분류와 적합한 Inverse 알고리즘\n",
    "\n",
    "* Matrix의 성질로 분류\n",
    "    * Real matrix\n",
    "        * Symmetric : $A^T=A$\n",
    "            * Positive definite : 모두 0이상인거\n",
    "            * Negative definite : 모두 0이하인거 \n",
    "            * Indefinite : 둘다 갖고 있는것\n",
    "        * Non-symmetric\n",
    "        \n",
    "    * Complex matrix\n",
    "        * Hermitian : $A = A^*$, * = transpose conjugate\n",
    "            * Positive definite\n",
    "                * $x^*Ax>0$\n",
    "        * Non-Hermitian\n",
    "\n",
    "* 방법론\n",
    "    * Diagonal pivoting method\n",
    "        * $A=UDU^T=LDL^T$ : symmetric , Complex symmetric matrix\n",
    "        * $A=UDU^*=LDL^*$ : hermitian\n",
    "    \n",
    "    * Cholesky decomposition\n",
    "        * $A=R^TR=LL^T$ : real symmetric positive definite\n",
    "        * $A=R^*R=LL^*$ : complex hermitian positive definite\n",
    "    \n",
    "    * LDL decomposition : tridiagonal일때\n",
    "        * $A=UDU^T=LDL^T$\n",
    "        * $A=UDU^*=LDL^*$\n",
    "    \n",
    "    * LU decomposition\n",
    "        * 컴퓨터 측면에서 편함 \n",
    "    \n",
    "* Matrix 모양\n",
    "    * Full matrix\n",
    "    * Band matrix\n",
    "        * tridiagonal matrix : 밴드3개 \n",
    "    * 특별한 Matrix\n",
    "        * Toeplitz matrix\n",
    "        * Circulant matrix\n",
    "\n",
    "* Iterative Methods \n",
    "    * 기본적인 방법론\n",
    "        * Jacobi\n",
    "        * Guss-Seidel\n",
    "        * Successive over-relaxation(SOR)\n",
    "    * 기타\n",
    "        * Conjugate Gradient\n",
    "        * BiCG\n",
    "        * BiCG-Stab\n",
    "        * generalized minimal residual method(GMRES)"
   ]
  }
 ],
 "metadata": {
  "kernelspec": {
   "display_name": "Python 3",
   "language": "python",
   "name": "python3"
  },
  "language_info": {
   "codemirror_mode": {
    "name": "ipython",
    "version": 3
   },
   "file_extension": ".py",
   "mimetype": "text/x-python",
   "name": "python",
   "nbconvert_exporter": "python",
   "pygments_lexer": "ipython3",
   "version": "3.8.3"
  }
 },
 "nbformat": 4,
 "nbformat_minor": 4
}
