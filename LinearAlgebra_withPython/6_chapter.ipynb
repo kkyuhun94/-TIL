{
 "cells": [
  {
   "cell_type": "markdown",
   "metadata": {},
   "source": [
    "### 학습 내용\n",
    ">SVD 함수 사용법\n",
    "\n",
    ">최소자승법(Least-Squares Solution) 함수 사용법\n",
    "\n",
    "* SVD : U,s,VT = linalg.svd(A,compute_uv=True)\n",
    "    * U,V : orthogonal, unitary(conjugate transpose($A^*$)와 동일한 행렬) / $\\Sigma$ : singular values로 이루어진 행렬 \n",
    "    * $A = U\\Sigma V^T$\n",
    "        * A = U@linalg.diagsvd(s,A.shape$[0]$,A.shape$[1]$)@VT\n",
    "    * $A = U\\Sigma V^*$\n",
    "    * s : singular values 큰것부터 (0도 포함한) 1D array \n",
    "    * VT : V.T\n",
    "    * compute_uv : s만 뽑을 지, uv도 뽑을지 결정\n",
    "\n",
    "* Reduced SVD\n",
    "    * SVD를 block matrix를 사용해서 계산(근사)\n",
    "    * $A = U_rDV_r^T$ \n",
    "        * D : diagonal값이 nonzero singular values로 이루어진 대각 행렬\n",
    "        * r : rank A # r = s.shape$[0]$ - sum(lx<1.e-10 for lx in s)\n",
    "    * U$[:,:r]$@np.diag(s$[:r]$)@VT$[:r,:]$\n",
    "        *  = U$[:,:r]$*s$[:r]$@VT$[:r,:]$\n",
    "    \n",
    "* Truncated SVD\n",
    "    * reduced SVD에서의 D를 더욱 근사 (작은값들을 제외하고 줄임)\n",
    "    * $A = U_rDV_r^T$ , $A^* = U_tD_tV_t^T$\n",
    "    * U$[:,:t]$*s$[:t]$@VT$[:t,:]$\n",
    "    * t = sum(lx > 1.e-3*s$[0]$ for lx in s) # e-3 : singular value가 1000이하면 무시\n",
    "    \n",
    "* Column Space와 Null Space를 구하는 법\n",
    "    * ColA = linalg.orth(A, rcond = None) : A의 Column space의 basis를 매트릭스로 변환 \n",
    "    * NullA = linalg.null_space(A, rcond = None) : Null space의 basis를 매트릭스로 변환 \n",
    "        * rcond : 기본값 (var=2.22e-16)*가장 큰 singular value 이하는 무시 \n",
    "    \n",
    "* Pseudoinverse (Moore-Penrose inverse) : pinv_A = linalg.pinv(A)\n",
    "    * $A^+=V_rD^{-1}U_r^T$\n",
    "    * $A^+b$ : least-squares solution \n",
    "    * pinv_A = $A^+$\n",
    "    * $V_r$ = VT$[:r,:]$.T\n",
    "    * $D^{-1}$ = linalg.inv(D) \n",
    "        * D : np.diag(s$[:r]$)\n",
    "    * $U_r^T$ = $U_r$.T \n",
    "        * $U_r$ : $U[:,:r]$\n",
    "\n",
    "* 상대적으로 작은 Singular Value들을 무시하고 싶을때 \n",
    "    * truncated SVD와 유사하게 근사\n",
    "    * pinv_A = linalg.pinv(A,rcond=val) : 수두인버스 근사\n",
    "        * rcond : 기본값 (var=2.22e-16)*가장 큰 singular value 이하는 무시\n",
    "\n",
    "* Least-Squares Solution : x_hat, res, rank, s = linalg.lstsq(A,b,cond = None)\n",
    "    * A는 m x n, Ax = b 일때 $\\lVert b-A\\hat x \\rVert$를 최소로 하는 solution\n",
    "    * pseudoinverse $A^+V_rD^{-1}U_r^T\\to A^+b$ : least-squares solution\n",
    "        * x_hat : solution\n",
    "        * res : 오차 $\\lVert b-A\\hat x \\rVert$\n",
    "        * "
   ]
  },
  {
   "cell_type": "markdown",
   "metadata": {},
   "source": [
    "### code"
   ]
  },
  {
   "cell_type": "code",
   "execution_count": 2,
   "metadata": {},
   "outputs": [],
   "source": [
    "import numpy as np\n",
    "from scipy import linalg"
   ]
  },
  {
   "cell_type": "code",
   "execution_count": 8,
   "metadata": {},
   "outputs": [
    {
     "name": "stdout",
     "output_type": "stream",
     "text": [
      "[[-0.33333333  0.66666667 -0.66666667]\n",
      " [ 0.66666667  0.66666667  0.33333333]\n",
      " [-0.66666667  0.33333333  0.66666667]] [4.24264069 0.        ] [[-0.70710678  0.70710678]\n",
      " [ 0.70710678  0.70710678]]\n",
      "[[4.24264069 0.        ]\n",
      " [0.         0.        ]\n",
      " [0.         0.        ]]\n"
     ]
    },
    {
     "data": {
      "text/plain": [
       "array([[ 1., -1.],\n",
       "       [-2.,  2.],\n",
       "       [ 2., -2.]])"
      ]
     },
     "execution_count": 8,
     "metadata": {},
     "output_type": "execute_result"
    }
   ],
   "source": [
    "# svd\n",
    "A = np.array([[1,-1],[-2,2],[2,-2]])\n",
    "U,s,VT = linalg.svd(A,compute_uv =True)\n",
    "print(U,s,VT)\n",
    "Sigma = linalg.diagsvd(s,A.shape[0],A.shape[1]) # s를 시그마 행렬로 표현\n",
    "print(Sigma)\n",
    "r = s.shape[0] - sum(np.allclose(lx,0) for lx in s)\n",
    "reduced = U[:,:r]*s[:r]@VT[:r,:]\n",
    "reduced"
   ]
  },
  {
   "cell_type": "code",
   "execution_count": 13,
   "metadata": {},
   "outputs": [
    {
     "name": "stdout",
     "output_type": "stream",
     "text": [
      "[[-0.33333333]\n",
      " [ 0.66666667]\n",
      " [-0.66666667]]\n",
      "[[0.70710678]\n",
      " [0.70710678]]\n"
     ]
    }
   ],
   "source": [
    "ColA = linalg.orth(A, rcond = None)\n",
    "NullA = linalg.null_space(A, rcond = None)\n",
    "print(ColA) # U의 정보\n",
    "print(NullA) # VT의 정보를 담고있음"
   ]
  },
  {
   "cell_type": "code",
   "execution_count": null,
   "metadata": {},
   "outputs": [],
   "source": []
  }
 ],
 "metadata": {
  "kernelspec": {
   "display_name": "Python 3",
   "language": "python",
   "name": "python3"
  },
  "language_info": {
   "codemirror_mode": {
    "name": "ipython",
    "version": 3
   },
   "file_extension": ".py",
   "mimetype": "text/x-python",
   "name": "python",
   "nbconvert_exporter": "python",
   "pygments_lexer": "ipython3",
   "version": "3.8.3"
  }
 },
 "nbformat": 4,
 "nbformat_minor": 4
}
