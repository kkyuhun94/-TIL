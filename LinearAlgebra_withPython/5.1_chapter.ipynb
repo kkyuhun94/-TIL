{
 "cells": [
  {
   "cell_type": "markdown",
   "metadata": {},
   "source": [
    "### 학습 내용\n",
    ">행렬 분해\n",
    "\n",
    ">LU decomposition\n",
    "\n",
    "* LU Decomposition : P,L,U = linalg.lu(A)\n",
    "    * A = LU , A=PLU\n",
    "    * L : lower triangular, U : upper trianglular\n",
    "    * P : pivoting한 결과를 담은 permutation 행렬\n",
    "        * Pivoting : 때에 따라 decomposition 중에 필요시 row interchange 진행\n",
    "    * P,L,U를 구해보고 싶을때\n",
    "    \n",
    "* LU Decomposition for Solver : lu,piv = linalg.lu_factor(A)\n",
    "    * Ax = b를 풀기 위한 방법\n",
    "    * lu : L,U를 한 행렬에 저장\n",
    "        * L의 diagonal entry=1인것을 알기 때문에 U와 L을 한 행렬에 저장 가능\n",
    "    * piv : permutation(row interchange)정보를 담고 있는 1D array\n",
    "        * permutation vector (perm)을 구할 수 있다.\n",
    "        * P = np.identity(4)$[perm,:]$\n",
    "        * A = P@L@U = (L@U)$[perm,:]$\n",
    "        \n",
    "* LU Decomposition Solver : linalg.lu_solve((lu,piv),b)\n",
    "    * linalg.lu_factor를 통해 구한 lu,piv를 인자로 사용\n",
    "        * piv를 perm으로 바꿀 필요 없음\n",
    "    * Ax=b의 형태에서 b를 바꿔가면서 해를 구해야 할때 유용\n",
    "    * Lapack\n",
    "        * gettrf $\\to$ gettrs\n",
    "\n",
    "* LU Decomposition Solver 활용 vs 안한 경우 계산속도 비교 \n",
    "    *  LU Decomposition Solver가 b를 바꿀때는 더 유리, A를 바꿀때는 큰 차이 없음\n",
    "\n",
    "* Diagonal Pivoting Method : L,D,perm = linalg.ldl(A,lower=True,hermitian =True)\n",
    "    * symmetric & complex symmetric 일때, Hermitian일때 사용가능, solver 없음\n",
    "\n",
    "\n"
   ]
  },
  {
   "cell_type": "markdown",
   "metadata": {},
   "source": [
    "### code"
   ]
  },
  {
   "cell_type": "code",
   "execution_count": 2,
   "metadata": {},
   "outputs": [],
   "source": [
    "import numpy as np\n",
    "from scipy import linalg"
   ]
  },
  {
   "cell_type": "code",
   "execution_count": 7,
   "metadata": {},
   "outputs": [
    {
     "name": "stdout",
     "output_type": "stream",
     "text": [
      "[[1. 0. 0. 0.]\n",
      " [0. 1. 0. 0.]\n",
      " [0. 0. 1. 0.]\n",
      " [0. 0. 0. 1.]]\n",
      "[3 1 2 3]\n",
      "[3, 1, 2, 0]\n",
      "L [[1.         0.         0.         0.        ]\n",
      " [0.11111111 1.         0.         0.        ]\n",
      " [0.55555556 0.84615385 1.         0.        ]\n",
      " [0.77777778 0.76923077 0.77777778 1.        ]]\n",
      "U [[ 9.          5.          8.          7.        ]\n",
      " [ 0.          1.44444444  1.11111111  7.22222222]\n",
      " [ 0.          0.         -1.38461538 -2.        ]\n",
      " [ 0.          0.          0.         -3.44444444]]\n"
     ]
    },
    {
     "data": {
      "text/plain": [
       "True"
      ]
     },
     "execution_count": 7,
     "metadata": {},
     "output_type": "execute_result"
    }
   ],
   "source": [
    "# LU decomposition\n",
    "A = np.array([[7,5,6,6],[1,2,2,8],[5,4,4,8],[9,5,8,7]])\n",
    "lu,piv = linalg.lu_factor(A)\n",
    "print(np.eye(lu.shape[0],lu.shape[1])) #diagonal = 1 \n",
    "L = np.tril(lu,k=-1) + np.eye(lu.shape[0],lu.shape[1])\n",
    "U = np.triu(lu)\n",
    "print(piv) # [0123][3123] perm = [3120]\n",
    "perm = [3,1,2,0]\n",
    "print(perm)\n",
    "print(\"L\",L)\n",
    "print(\"U\",U)\n",
    "np.allclose(A,(L@U)[perm,:])"
   ]
  },
  {
   "cell_type": "code",
   "execution_count": 8,
   "metadata": {},
   "outputs": [
    {
     "data": {
      "text/plain": [
       "True"
      ]
     },
     "execution_count": 8,
     "metadata": {},
     "output_type": "execute_result"
    }
   ],
   "source": [
    "# LU Decomposition Solver\n",
    "A = np.array([[7,5,6,6],[1,2,2,8],[5,4,4,8],[9,5,8,7]])\n",
    "b = np.ones((4,))\n",
    "lu,piv = linalg.lu_factor(A)\n",
    "x = linalg.lu_solve((lu,piv),b)\n",
    "np.allclose(A@x,b)"
   ]
  },
  {
   "cell_type": "code",
   "execution_count": null,
   "metadata": {},
   "outputs": [],
   "source": []
  }
 ],
 "metadata": {
  "kernelspec": {
   "display_name": "Python 3",
   "language": "python",
   "name": "python3"
  },
  "language_info": {
   "codemirror_mode": {
    "name": "ipython",
    "version": 3
   },
   "file_extension": ".py",
   "mimetype": "text/x-python",
   "name": "python",
   "nbconvert_exporter": "python",
   "pygments_lexer": "ipython3",
   "version": "3.8.3"
  }
 },
 "nbformat": 4,
 "nbformat_minor": 4
}
