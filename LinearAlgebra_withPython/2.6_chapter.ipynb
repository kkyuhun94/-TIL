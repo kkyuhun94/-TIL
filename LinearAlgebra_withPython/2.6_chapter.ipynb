{
 "cells": [
  {
   "cell_type": "markdown",
   "metadata": {},
   "source": [
    "### 학습 내용\n",
    "> 행렬 기본 조작(3)\n",
    "\n",
    "* 같은 사이즈의 행렬 / 벡터 덧셈 뺄셈\n",
    "    * 같은 사이즈의 경우에만 가능  \n",
    "        * 덧셈 : $A + B$\n",
    "        * 뺄셈 : $A - B$\n",
    "\n",
    "* 스칼라(r)와 행렬의 덧셈\n",
    "    * $r + A = A + r$ : 모든 엔트리에 스칼라를 더해줌\n",
    "\n",
    "* matrix multiplication : A@B, np.matmul(A,B)\n",
    "\n",
    "* A * B : 같은 위치의 엔트리 끼리 곱해서 결과를 반환.\n",
    "    * matrix multiplication과 다름 \n",
    "\n",
    "* A / B : 같은 위치의 엔트리 끼리 나눔\n",
    "\n",
    "* 행렬의 행,열을 내 마음대로 뽑아서 행렬로 만들기\n",
    "    * idx = $[2,1]$\n",
    "    * what_i_want = $A[idx,:]$\n",
    "    * what_i_want = $A[:,idx]$\n",
    "    * what_i_want =$A[idx_r,:][:,idx_c]$"
   ]
  },
  {
   "cell_type": "markdown",
   "metadata": {},
   "source": [
    "### code"
   ]
  },
  {
   "cell_type": "code",
   "execution_count": 1,
   "metadata": {},
   "outputs": [],
   "source": [
    "import numpy as np"
   ]
  },
  {
   "cell_type": "code",
   "execution_count": 5,
   "metadata": {},
   "outputs": [
    {
     "data": {
      "text/plain": [
       "array([[ 1,  2,  3,  4,  5],\n",
       "       [ 6,  7,  8,  9, 10],\n",
       "       [11, 12, 13, 14, 15],\n",
       "       [-1, -2, -3, -4, -5]])"
      ]
     },
     "execution_count": 5,
     "metadata": {},
     "output_type": "execute_result"
    }
   ],
   "source": [
    "# ex\n",
    "A = np.array([[1,2,3,4,5],[6,7,8,9,10],[11,12,13,14,15],[-1,-2,-3,-4,-5]])\n",
    "A"
   ]
  },
  {
   "cell_type": "code",
   "execution_count": 6,
   "metadata": {},
   "outputs": [
    {
     "data": {
      "text/plain": [
       "array([[ 2,  3],\n",
       "       [ 7,  8],\n",
       "       [12, 13],\n",
       "       [-2, -3]])"
      ]
     },
     "execution_count": 6,
     "metadata": {},
     "output_type": "execute_result"
    }
   ],
   "source": [
    "idx = [1,2]\n",
    "A[:,idx]"
   ]
  },
  {
   "cell_type": "code",
   "execution_count": 7,
   "metadata": {},
   "outputs": [
    {
     "data": {
      "text/plain": [
       "array([[ 6,  7,  8,  9, 10],\n",
       "       [11, 12, 13, 14, 15]])"
      ]
     },
     "execution_count": 7,
     "metadata": {},
     "output_type": "execute_result"
    }
   ],
   "source": [
    "idx = [1,2]\n",
    "A[idx,:]"
   ]
  },
  {
   "cell_type": "code",
   "execution_count": 8,
   "metadata": {},
   "outputs": [
    {
     "data": {
      "text/plain": [
       "array([[ 7,  8],\n",
       "       [12, 13]])"
      ]
     },
     "execution_count": 8,
     "metadata": {},
     "output_type": "execute_result"
    }
   ],
   "source": [
    "idx_r = [1,2]\n",
    "idx_c = [1,2]\n",
    "A[idx,:][:,idx]"
   ]
  }
 ],
 "metadata": {
  "kernelspec": {
   "display_name": "Python 3",
   "language": "python",
   "name": "python3"
  },
  "language_info": {
   "codemirror_mode": {
    "name": "ipython",
    "version": 3
   },
   "file_extension": ".py",
   "mimetype": "text/x-python",
   "name": "python",
   "nbconvert_exporter": "python",
   "pygments_lexer": "ipython3",
   "version": "3.8.3"
  }
 },
 "nbformat": 4,
 "nbformat_minor": 4
}
