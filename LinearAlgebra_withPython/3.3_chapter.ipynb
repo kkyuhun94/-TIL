{
 "cells": [
  {
   "cell_type": "markdown",
   "metadata": {},
   "source": [
    "### 학습 내용\n",
    ">행렬 방정식\n",
    "\n",
    ">일반행렬\n",
    "\n",
    "* Scipy linalg 사용\n",
    "    * 호출 : from scipy import linalg\n",
    "\n",
    "* determinant 구하기 : linalg.det(A)\n",
    "    * 기본 알고리즘 : LU decomposition\n",
    "        * $A = LU$\n",
    "        * $det(A) = det(L*U)= det(L)*det(U) = det(U)$\n",
    "    * Lapack 함수(subroutine)\n",
    "        * zgetrf : complex128\n",
    "        * dgetrf : float64\n",
    "\n",
    "* 역행렬 구하기(명시적) : linalg.inv(A)\n",
    "    * 기본 알고리즘 : LU decomposition\n",
    "        * solve $LUA^{-1} = I$\n",
    "    * Lapack 함수\n",
    "        * getrf : LU decomposition\n",
    "        * getri : inverse from triangular matrix\n",
    "\n",
    "* Ax = b 풀기 : linalg.solve(A,b,assume_a=\"gen\")\n",
    "    * assume_a : 행렬의 특성\n",
    "        * gen : general , default\n",
    "            * 기본 알고리즘 : LU decomposition\n",
    "            * Lapack : gesv\n",
    "        * sym : symmetric ($A=A^T$)\n",
    "            * 기본 알고리즘 : diagonal pivoting\n",
    "            * Lapack : sysv\n",
    "        * her : hermitian ($A=A^*$)\n",
    "            * 기본 알고리즘 : diagonal pivoting\n",
    "            * Lapack : hesv\n",
    "        * pos : positive definite (Quadratic form : $x^TAx > 0$)\n",
    "            * 기본 알고리즘 : Cholesky decomposition\n",
    "            * Lapack : posv\n",
    "        * 설정을 잘못넣어도 별다른 에러가 나오지 않을 수 있으니 주의해야함\n",
    "        * 잘 모르는 경우 \"gen\"을 사용할 것\n",
    "    * A@x - b 가 0에 가까울수록 정확\n",
    "\n",
    "* Triangular matrix solver : linalg.solve_triangular(A,b,lower = False)\n",
    "    * triangular matrix 일때 더 효율적으로 해를 찾음\n",
    "        * lower = False : upper triangular matrix가 default\n",
    "    * Lapack \n",
    "        * trtrs\n",
    "\n",
    "* 구한 해의 정확성 체크 : np.allclose(A@x,b)\n",
    "    * 수치적 계산으로 근사된 값의 정확성 체크\n",
    "        * True(정확) / False 로 반환\n",
    "    * np.allclose(A@x,b)\n",
    "        * A@x ,b 비교\n",
    "    * np.allclose(A@x,np.zeros((b.shape[$0$],)))\n",
    "        * A@x - b , 0 비교\n",
    "\n",
    "\n",
    "    "
   ]
  },
  {
   "cell_type": "markdown",
   "metadata": {},
   "source": [
    "### code"
   ]
  },
  {
   "cell_type": "code",
   "execution_count": 1,
   "metadata": {},
   "outputs": [],
   "source": [
    "from scipy import linalg\n",
    "import numpy as np "
   ]
  },
  {
   "cell_type": "code",
   "execution_count": 3,
   "metadata": {},
   "outputs": [
    {
     "name": "stdout",
     "output_type": "stream",
     "text": [
      "-2.0 15.0\n"
     ]
    }
   ],
   "source": [
    "# linalg.det\n",
    "a = np.array([[1,5,0],[2,4,-1],[0,-2,0]])\n",
    "b = np.array([[1,-4,2],[-2,8,-9],[-1,7,0]])\n",
    "print(linalg.det(a), linalg.det(b))"
   ]
  },
  {
   "cell_type": "code",
   "execution_count": 10,
   "metadata": {},
   "outputs": [
    {
     "name": "stdout",
     "output_type": "stream",
     "text": [
      "[[ 8. -1. -5.]\n",
      " [-1.  0.  1.]\n",
      " [-5.  1.  3.]]\n"
     ]
    }
   ],
   "source": [
    "# linalg.inv\n",
    "A = np.array([[1,2,1],[2,1,3],[1,3,1]])\n",
    "print(linalg.inv(A))"
   ]
  },
  {
   "cell_type": "code",
   "execution_count": 16,
   "metadata": {},
   "outputs": [],
   "source": [
    "# linalg.solve(A,b,assume_a=\"gen\")\n",
    "b = np.ones((3,1))\n",
    "gen_A = np.array([[0,1,2],[1,0,3],[4,-3,8]])\n",
    "sym_A = np.array([[1,2,1],[2,1,3],[1,3,1]])\n",
    "cpxsym_A = np.array([[1,2-1j,1+2j],[2-1j,1,3],[1+2j,3,1]])\n",
    "her_A = np.array([[1,2+1j,1-2j],[2-1j,1,3],[1+2j,3,1]])\n",
    "pos_A = np.array([[2,-1,0],[-1,2,-1],[0,-1,2]])\n",
    "singular_A = np.array([[1,3,4],[-4,2,-6],[-3,-2,-7]])"
   ]
  },
  {
   "cell_type": "code",
   "execution_count": 18,
   "metadata": {},
   "outputs": [
    {
     "name": "stdout",
     "output_type": "stream",
     "text": [
      "[[ 1.]\n",
      " [ 1.]\n",
      " [-0.]] [[ 2.]\n",
      " [ 0.]\n",
      " [-1.]] [[0.00689655+0.11724138j]\n",
      " [0.35172414-0.02068966j]\n",
      " [0.17241379-0.06896552j]] [[0.11111111+1.11111111e-01j]\n",
      " [0.33333333-1.11111111e-01j]\n",
      " [0.11111111+1.11022302e-16j]] [[1.5]\n",
      " [2. ]\n",
      " [1.5]]\n"
     ]
    }
   ],
   "source": [
    "print(\n",
    "    linalg.solve(gen_A,b,assume_a=\"gen\")\n",
    "    ,linalg.solve(sym_A,b,assume_a=\"sym\")\n",
    "    ,linalg.solve(cpxsym_A,b,assume_a=\"sym\")\n",
    "    ,linalg.solve(her_A,b,assume_a=\"her\")\n",
    "    ,linalg.solve(pos_A,b,assume_a=\"pos\")\n",
    ")"
   ]
  },
  {
   "cell_type": "code",
   "execution_count": 20,
   "metadata": {},
   "outputs": [
    {
     "data": {
      "text/plain": [
       "(array([[ 1,  0,  0,  0],\n",
       "        [ 1,  4,  0,  0],\n",
       "        [ 5,  0,  1,  0],\n",
       "        [ 8,  1, -2,  2]]),\n",
       " array([1, 2, 3, 4]),\n",
       " array([ 1.   ,  0.25 , -2.   , -4.125]))"
      ]
     },
     "execution_count": 20,
     "metadata": {},
     "output_type": "execute_result"
    }
   ],
   "source": [
    "# linalg.solve_triangular(A,b,lower=True)\n",
    "A = np.array([[1,0,0,0],[1,4,0,0],[5,0,1,0],[8,1,-2,2]])\n",
    "b = np.array([1,2,3,4])\n",
    "x = linalg.solve_triangular(A,b,lower=True)\n",
    "A,b,x"
   ]
  },
  {
   "cell_type": "code",
   "execution_count": 26,
   "metadata": {},
   "outputs": [],
   "source": [
    "# np.allclose(A@x,b)\n",
    "b = np.ones((3,1))\n",
    "x = linalg.solve(pos_A,b,assume_a=\"pos\")\n",
    "bool_close = np.allclose(pos_A@x,b)"
   ]
  },
  {
   "cell_type": "code",
   "execution_count": 29,
   "metadata": {},
   "outputs": [
    {
     "data": {
      "text/plain": [
       "(array([[1.],\n",
       "        [1.],\n",
       "        [1.]]),\n",
       " array([[1.],\n",
       "        [1.],\n",
       "        [1.]]),\n",
       " True)"
      ]
     },
     "execution_count": 29,
     "metadata": {},
     "output_type": "execute_result"
    }
   ],
   "source": [
    "pos_A@x,b,bool_close"
   ]
  },
  {
   "cell_type": "code",
   "execution_count": 30,
   "metadata": {},
   "outputs": [],
   "source": [
    "# 연습문제 "
   ]
  }
 ],
 "metadata": {
  "kernelspec": {
   "display_name": "Python 3",
   "language": "python",
   "name": "python3"
  },
  "language_info": {
   "codemirror_mode": {
    "name": "ipython",
    "version": 3
   },
   "file_extension": ".py",
   "mimetype": "text/x-python",
   "name": "python",
   "nbconvert_exporter": "python",
   "pygments_lexer": "ipython3",
   "version": "3.8.3"
  }
 },
 "nbformat": 4,
 "nbformat_minor": 4
}
