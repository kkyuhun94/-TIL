{
 "cells": [
  {
   "cell_type": "markdown",
   "metadata": {},
   "source": [
    "### 학습 내용\n",
    ">행렬 분해 후\n",
    "\n",
    ">동시에 여러식 풀기 & 행렬 방정식 푸는 방법\n",
    "\n",
    "* 행렬 분해를 활용하여 행렬 방정식을 푸는 함수의 경우에도 Ax=b의 형태가 아닌 Ax=B의 형태의 문제도 풀 수 있다. \n",
    "\n",
    "* LU\n",
    "    * lu, piv = linalg.lu_factor(A)\n",
    "    * X = linalg.lu_solve((lu,piv),B)\n",
    "\n",
    "* Cholesky\n",
    "    * R = linalg.cholesky(A, lower = False)\n",
    "    * X = linalg.cho_solve((R,False),B)\n",
    "\n",
    "* Cholesky band\n",
    "    * R_band = linalg.cholesky_banded(band_A_h, lower = False)\n",
    "    * X = linalg.cho_solve_banded((R_band, False),B)\n",
    "\n",
    "* LU band\n",
    "    * LU_band, piv, info = gbtrf(A_band_LU,lbw,ubw)\n",
    "    * X, info = gbtrs(LU_band, lbw, ubw, B, piv)\n",
    "\n",
    "* 기존 행렬 방정식 Solver\n",
    "    * 일반 행렬\n",
    "        * X = linalg.solve(A,B,assume_a = \"gen\")\n",
    "        * X = lijnalg.solve_triangular(A,B,lower = False) \n",
    "    * 밴드 행렬 \n",
    "        * X = linalg.solve_banded((lbw,ubw), band_a,B) # LU\n",
    "        * X = linalg.solveh_banded(band_a_h, B, lower = False) # Cholesky\n",
    "\n",
    "* 우리가 배운 Solver : 일반 행렬\n",
    "    * Positive definite\n",
    "        * linalg.solve(assume_a = \"pos\") # B가 주어졌을 때는 적합\n",
    "        * linalg.cholesky # 행렬분해(비가 주어지지 않았을때) \n",
    "            * linalg.cho_solve \n",
    "    * symmetric / Hermitian\n",
    "        * linalg.solve(assume_a = \"sym\")\n",
    "        * linalg.solve(assume_a = \"her\")\n",
    "    * 일반 행렬(일반적 상황,잘모를 때) \n",
    "        * linalg.solve(assume_a = \"gen\") # B 고정\n",
    "        * linalg.lu_factor # B 유동적, 실용적\n",
    "        * linalg.lu_solve\n",
    "\n",
    "* 밴드 행렬 \n",
    "    * linalg.solveh_banded\n",
    "    * linalg.cholesky_banded\n",
    "        * linalg.cho_solve_banded\n",
    "    * linalg.solve_banded\n",
    "    * low level lapack : gbtrf,gbtrs\n",
    "\n"
   ]
  },
  {
   "cell_type": "markdown",
   "metadata": {},
   "source": [
    "### code"
   ]
  },
  {
   "cell_type": "code",
   "execution_count": 1,
   "metadata": {},
   "outputs": [],
   "source": [
    "import numpy as np\n",
    "from scipy import linalg"
   ]
  }
 ],
 "metadata": {
  "kernelspec": {
   "display_name": "Python 3",
   "language": "python",
   "name": "python3"
  },
  "language_info": {
   "codemirror_mode": {
    "name": "ipython",
    "version": 3
   },
   "file_extension": ".py",
   "mimetype": "text/x-python",
   "name": "python",
   "nbconvert_exporter": "python",
   "pygments_lexer": "ipython3",
   "version": "3.8.3"
  }
 },
 "nbformat": 4,
 "nbformat_minor": 4
}
