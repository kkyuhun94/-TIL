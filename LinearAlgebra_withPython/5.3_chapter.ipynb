{
 "cells": [
  {
   "cell_type": "markdown",
   "metadata": {},
   "source": [
    "### 학습 내용\n",
    ">행렬 분해 고급과정\n",
    "\n",
    ">Low-Level Lapck 함수의 활용\n",
    "\n",
    "* lapack함수 호출해서 사용 : linalg.get_lapack_funcs\n",
    "    * 밴드 행렬의 LU decomposition : gbtrf\n",
    "        * 호출 : gbtrf = linalg.get_lapack_funcs(\"gbtrf\",dtype=np.float64)\n",
    "        * 사용 : LU_band,piv,info = gbtrf(A_band_LU,lbw,ubw)\n",
    "        * LU_band : L과 U를 band형태로 저장\n",
    "        * piv : 1D array (row interchange) 정보 저장\n",
    "        * A_band_LU : np.vstack((dummy_array,A_band))\n",
    "            * dummy_array = np.zeros((lbw,A_band.shape$[1]$)) \n",
    "            * A_band : A의 밴드행렬\n",
    "\n",
    "    * 밴드 행렬 LU Decomposition Solver : gbtrs\n",
    "        * 호출 : gbtrs = linalg.get_lapack_funcs(\"gbtrs\",dtype=np.float64)\n",
    "        * 사용 : x, info = gbtrs(LU_band,lbw,ubw,b,piv)\n",
    "            * LU_band,piv : gbtrf의 결과\n",
    "            * info : 0일 때 정상, -이면 잘못된 입력\n",
    "        "
   ]
  },
  {
   "cell_type": "markdown",
   "metadata": {},
   "source": [
    "### code"
   ]
  },
  {
   "cell_type": "code",
   "execution_count": 1,
   "metadata": {},
   "outputs": [],
   "source": [
    "import numpy as np\n",
    "from scipy import linalg"
   ]
  }
 ],
 "metadata": {
  "kernelspec": {
   "display_name": "Python 3",
   "language": "python",
   "name": "python3"
  },
  "language_info": {
   "codemirror_mode": {
    "name": "ipython",
    "version": 3
   },
   "file_extension": ".py",
   "mimetype": "text/x-python",
   "name": "python",
   "nbconvert_exporter": "python",
   "pygments_lexer": "ipython3",
   "version": "3.8.3"
  }
 },
 "nbformat": 4,
 "nbformat_minor": 4
}
