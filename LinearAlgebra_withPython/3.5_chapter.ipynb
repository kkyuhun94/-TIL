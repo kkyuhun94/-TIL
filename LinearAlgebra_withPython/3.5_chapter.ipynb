{
 "cells": [
  {
   "cell_type": "markdown",
   "metadata": {},
   "source": [
    "### 학습 내용\n",
    ">행렬 방정식\n",
    ">특수행렬\n",
    "\n",
    "* Toeplitz matrix solver : linalg.solve_toeplitz\n",
    "\n",
    "* Circulant matrix solver : linalg.solve_circulant\n",
    "\n",
    "* 재구축 : linalg.toeplitz\n",
    "\n",
    "* 재구축 : linalg.circulant\n"
   ]
  }
 ],
 "metadata": {
  "kernelspec": {
   "display_name": "Python 3",
   "language": "python",
   "name": "python3"
  },
  "language_info": {
   "codemirror_mode": {
    "name": "ipython",
    "version": 3
   },
   "file_extension": ".py",
   "mimetype": "text/x-python",
   "name": "python",
   "nbconvert_exporter": "python",
   "pygments_lexer": "ipython3",
   "version": "3.8.3"
  }
 },
 "nbformat": 4,
 "nbformat_minor": 4
}
