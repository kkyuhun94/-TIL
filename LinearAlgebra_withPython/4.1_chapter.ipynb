{
 "cells": [
  {
   "cell_type": "markdown",
   "metadata": {},
   "source": [
    "### 학습 내용\n",
    ">고유치 (eigenvalue) 계산 \n",
    "\n",
    ">알고리즘 개론\n",
    "\n",
    "* 보통 사용하는 알고리즘 : QR Algorithm\n",
    "    * A = QR , A is similar to RQ\n",
    "    * $Q^{-1}=Q^T$ \n",
    "    * R = upper triangluar\n",
    "\n",
    "* QR Decomposition 방법\n",
    "    * Gram-Schmidt Process : 손으로 풀 때만\n",
    "    * Givens reduction\n",
    "    * Householder method : 컴퓨터로 사용\n",
    "\n",
    "* QR Decomposition by Householder Method\n",
    "    * $P_1,P_2,P_3$를 계속 A에 곱해서 $P_3P_2P_1A$가 upper triangular R로 만듬\n",
    "    * Q = $P_1P_2P_3$\n",
    "    \n",
    "* Householder Reflector\n",
    "    * $P = I - 2uu^T$ , $u$=unit vector\n",
    "        * $Px = x - 2uu^Tx = x -2(x\\centerdot u)u$\n",
    "    * $P$의 성질 : $P^{-1}=P^T=P$ , $P^2=I$\n",
    "\n",
    "* QR Algorithm 구분\n",
    "    * One-step approach : 기본 알고리즘 사용\n",
    "        * 한번의 QR decomposition : ~$n^3$\n",
    "    * Two-Step approach : QR decomposition의 계산량을 줄임\n",
    "        * a. symmetric(Hermitian) matrix : all eigenvlaues are real \n",
    "            1. Reduction to tridiagonal matrix : Householder  ~$n^3$\n",
    "            2. QR Algorithm : QR decomposition per iteration  ~$n$\n",
    "        * b. non-symmetric\n",
    "            1. Balancing : reduces matrix Euclidean norm $~n^2$\n",
    "            2. Reduction to upper Hessenberg matrix : Householder ~$n^3$\n",
    "            3. QR algorithm : QR decomposition per iteration ~$n^2$\n",
    "\n",
    "* QR Algorithm을 하기전에\n",
    "    * Symmetric하거나 Hermitian한가?\n",
    "        * Yes\n",
    "        * No\n",
    "\n"
   ]
  }
 ],
 "metadata": {
  "kernelspec": {
   "display_name": "Python 3",
   "language": "python",
   "name": "python3"
  },
  "language_info": {
   "codemirror_mode": {
    "name": "ipython",
    "version": 3
   },
   "file_extension": ".py",
   "mimetype": "text/x-python",
   "name": "python",
   "nbconvert_exporter": "python",
   "pygments_lexer": "ipython3",
   "version": "3.8.3"
  }
 },
 "nbformat": 4,
 "nbformat_minor": 4
}
