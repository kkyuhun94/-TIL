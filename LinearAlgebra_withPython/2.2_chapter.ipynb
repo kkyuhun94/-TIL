{
 "cells": [
  {
   "cell_type": "markdown",
   "metadata": {},
   "source": [
    "### 학습 내용\n",
    ">간단한 행렬 입출력 방법 \n",
    "\n",
    "* 텍스트 파일로 부터 행렬 혹은 벡터 읽기\n",
    "    * np.genfromtxt\n",
    "    * Complex 행렬 혹은 벡터 \n",
    "        * dtype = np.complex128\n",
    "\n",
    "* 실수 출력 포맷\n",
    "    * floating 포맷(소수점 4자리) : \"%0.4f\"\n",
    "    * scientific 포맷(소수점 2자리) : \"%0.2e\"\n",
    "    * 소수점 15자리 이상 출력은 무의미\n",
    "\n",
    "* 행렬 혹은 벡터 텍스트 파일로 출력\n",
    "    * np.savetxt(\"output.txt\",a,fmt=\"%0.4f\", delimiter=\",\")\n",
    "    \n",
    "* 커스텀 출력함수\n",
    "    * from print_lecture import print_custom as prt"
   ]
  },
  {
   "cell_type": "markdown",
   "metadata": {},
   "source": [
    "### code"
   ]
  },
  {
   "cell_type": "code",
   "execution_count": 2,
   "metadata": {},
   "outputs": [],
   "source": [
    "import numpy as np"
   ]
  },
  {
   "cell_type": "code",
   "execution_count": 3,
   "metadata": {},
   "outputs": [],
   "source": [
    "# np.genfromtxt(\"a.txt\",delimiter=' ',dtype=np.float64)\n",
    "a = np.array([[1,2.5,3],[-1,-2,-1.5],[4,5.5,6]])"
   ]
  },
  {
   "cell_type": "code",
   "execution_count": null,
   "metadata": {},
   "outputs": [],
   "source": [
    "# txt파일에 있는 matrix를 빈칸을 기준으로 저장. dtype = float64\n",
    "a = np.genfromtxt(\"input1.txt\",delimiter=' ',dtype=np.float64)"
   ]
  },
  {
   "cell_type": "code",
   "execution_count": 4,
   "metadata": {},
   "outputs": [
    {
     "data": {
      "text/plain": [
       "array([[ 1. ,  2.5,  3. ],\n",
       "       [-1. , -2. , -1.5],\n",
       "       [ 4. ,  5.5,  6. ]])"
      ]
     },
     "execution_count": 4,
     "metadata": {},
     "output_type": "execute_result"
    }
   ],
   "source": [
    "a"
   ]
  },
  {
   "cell_type": "code",
   "execution_count": 5,
   "metadata": {},
   "outputs": [],
   "source": [
    "# a를 txt파일로 저장\n",
    "np.savetxt(\"output.txt\",a,fmt=\"%0.4f\", delimiter=\",\")"
   ]
  },
  {
   "cell_type": "code",
   "execution_count": 10,
   "metadata": {},
   "outputs": [],
   "source": [
    "# txt파일에서 행렬을 읽어 b에 저장\n",
    "b = np.genfromtxt(\"output.txt\",delimiter=',',dtype=np.float64)"
   ]
  },
  {
   "cell_type": "code",
   "execution_count": 11,
   "metadata": {},
   "outputs": [
    {
     "data": {
      "text/plain": [
       "array([[ 1. ,  2.5,  3. ],\n",
       "       [-1. , -2. , -1.5],\n",
       "       [ 4. ,  5.5,  6. ]])"
      ]
     },
     "execution_count": 11,
     "metadata": {},
     "output_type": "execute_result"
    }
   ],
   "source": [
    "b"
   ]
  },
  {
   "cell_type": "code",
   "execution_count": null,
   "metadata": {},
   "outputs": [],
   "source": []
  }
 ],
 "metadata": {
  "kernelspec": {
   "display_name": "Python 3",
   "language": "python",
   "name": "python3"
  },
  "language_info": {
   "codemirror_mode": {
    "name": "ipython",
    "version": 3
   },
   "file_extension": ".py",
   "mimetype": "text/x-python",
   "name": "python",
   "nbconvert_exporter": "python",
   "pygments_lexer": "ipython3",
   "version": "3.8.3"
  }
 },
 "nbformat": 4,
 "nbformat_minor": 4
}
