{
 "cells": [
  {
   "cell_type": "markdown",
   "metadata": {},
   "source": [
    "### 학습 내용\n",
    ">고유치(eigenvalue) 계산\n",
    "\n",
    ">일반행렬\n",
    "\n",
    "* 일반 행렬의 고유치(eigenvalue)와 고유벡터(eigenvector) : linalg.eig(A,M=옵션,right=True)\n",
    "    * eigvals,eigenvecs = linalg.eig(A,M=옵션) 두개 동시에 반환\n",
    "    * eigvals : 1D array\n",
    "    * eigenvecs : 2D array(matrix)\n",
    "    * 기본 알고리즘 , Lapack\n",
    "        1. balancing : norm 줄이기 , geval\n",
    "        2. upper Hessenberg 형태로 , gehrd\n",
    "        3. real orthogonal matrix from Hessenberg , orghr\n",
    "        3. complex unitary matrix from Hessenberg , unghr\n",
    "        4. Schur factorization & QRalgorithm , hseqr\n",
    "            * A = U^THU\n",
    "    * eigvals만 뽑으려면 right=False\n",
    "    * M은 generalized eigenvalue problem : $Ax =\\lambda M x$\n",
    "\n",
    "* Symmetric ,Hermitian 행렬의 고유치(eigenvalue)와 고유벡터(eigenvector) : linalg.eigh(A,M)\n",
    "    * 기본 알고리즘, Lapack\n",
    "        1. reduction to tridiagonal form, Householder , sytrd & hetrd\n",
    "        2. dqds algorithm / Relatively Robust Representations , stemr & ormtr,unmtr\n",
    "    * eigvals_only = True : vector 없이 value만 반환 \n",
    "    \n",
    "* 연산속도 비교 : timeit\n",
    "    * import timeit\n",
    "        * start = timeit.default_timer()\n",
    "        * end = timeit.default_timer()\n",
    "        * computing_time = end-start\n",
    "        \n"
   ]
  },
  {
   "cell_type": "markdown",
   "metadata": {},
   "source": [
    "### code"
   ]
  },
  {
   "cell_type": "code",
   "execution_count": 6,
   "metadata": {},
   "outputs": [],
   "source": [
    "import numpy as np\n",
    "from scipy import linalg\n",
    "import timeit"
   ]
  },
  {
   "cell_type": "code",
   "execution_count": 4,
   "metadata": {},
   "outputs": [
    {
     "name": "stdout",
     "output_type": "stream",
     "text": [
      "[[ 0 -1]\n",
      " [ 1  0]]\n",
      "[0.+1.j 0.-1.j]\n",
      "[[0.70710678+0.j         0.70710678-0.j        ]\n",
      " [0.        -0.70710678j 0.        +0.70710678j]]\n",
      "[[0.        +0.70710678j 0.        -0.70710678j]\n",
      " [0.70710678+0.j         0.70710678+0.j        ]]\n",
      "[[0.        +0.70710678j 0.        -0.70710678j]\n",
      " [0.70710678+0.j         0.70710678+0.j        ]]\n"
     ]
    }
   ],
   "source": [
    "# 고유치 구하기 \n",
    "A = np.array([[0,-1],[1,0]])\n",
    "eigvals,eigenvecs = linalg.eig(A)\n",
    "print(A)\n",
    "print(eigvals)\n",
    "print(eigenvecs)\n",
    "print(eigenvecs@np.diag(eigvals))\n",
    "print(eigenvecs*eigvals)"
   ]
  },
  {
   "cell_type": "code",
   "execution_count": 10,
   "metadata": {},
   "outputs": [
    {
     "name": "stdout",
     "output_type": "stream",
     "text": [
      "0.00018517200010137458\n",
      "True\n"
     ]
    }
   ],
   "source": [
    "# symmetirc\n",
    "A = np.array([[6,3,1,5],[3,0,5,1],[1,5,6,2],[5,1,2,2]])\n",
    "start = timeit.default_timer()\n",
    "eigvals,eigvecs = linalg.eigh(A)\n",
    "end = timeit.default_timer()\n",
    "print(end-start)\n",
    "comp1 = A@eigvecs\n",
    "comp2 = eigvecs*eigvals\n",
    "print(np.allclose(comp1,comp2))"
   ]
  },
  {
   "cell_type": "code",
   "execution_count": 11,
   "metadata": {},
   "outputs": [
    {
     "name": "stdout",
     "output_type": "stream",
     "text": [
      "0.00023508300000685267\n"
     ]
    }
   ],
   "source": [
    "# eig가 더 느리다\n",
    "start = timeit.default_timer()\n",
    "eigvals,eigvecs = linalg.eig(A)\n",
    "end = timeit.default_timer()\n",
    "print(end-start)"
   ]
  }
 ],
 "metadata": {
  "kernelspec": {
   "display_name": "Python 3",
   "language": "python",
   "name": "python3"
  },
  "language_info": {
   "codemirror_mode": {
    "name": "ipython",
    "version": 3
   },
   "file_extension": ".py",
   "mimetype": "text/x-python",
   "name": "python",
   "nbconvert_exporter": "python",
   "pygments_lexer": "ipython3",
   "version": "3.8.3"
  }
 },
 "nbformat": 4,
 "nbformat_minor": 4
}
