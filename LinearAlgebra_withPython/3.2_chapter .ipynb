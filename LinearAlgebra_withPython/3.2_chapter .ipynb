{
 "cells": [
  {
   "cell_type": "markdown",
   "metadata": {},
   "source": [
    "### 학습 내용\n",
    ">왜 역행렬을 구하는 것보다 $Ax=b$를 푸는게 좋을까?\n",
    "\n",
    "* $A^{-1}$을 구해 해를 찾는 경우\n",
    "    1. $A^{-1}$을 구하는 노력 : $~n^3$\n",
    "    2. $A^{-1}b$의 계산 노력 : $~n^2$\n",
    "\n",
    "* $Ax = b$를 풀어 해를 찾는 경우\n",
    "    * Gauss elimination\n",
    "        * $Ax=b$를 푸는 노력 : $~n^3$\n",
    "    * LU decomposition\n",
    "        * $A=LU$를 찾는 노력 : $~n^3$\n",
    "        * LUx =b를 푸는 노력 : $~n^2$\n",
    "\n",
    "* 수치적 정확도\n",
    "    * 컴퓨터에서는 수를 제한된 소수점으로 표현 : 항상 오차 발생\n",
    "\n",
    "* 희소 행렬(Sparse Matrix)의 역행렬과 LU Decomposition비교\n",
    "    * 행렬의 대부분이 0일 경우 그 행렬의 역행렬은 dense matrix일 확률이 크다.\n",
    "    * 반면 $L$과 $U$는 여전히 sparse한 경우가 많다.\n",
    "\n",
    "* 특별히 $A^{-1}$이 필요한 경우가 아니면, $Ax=b$를 풀 때 역행렬을 구하지 말자."
   ]
  }
 ],
 "metadata": {
  "kernelspec": {
   "display_name": "Python 3",
   "language": "python",
   "name": "python3"
  },
  "language_info": {
   "codemirror_mode": {
    "name": "ipython",
    "version": 3
   },
   "file_extension": ".py",
   "mimetype": "text/x-python",
   "name": "python",
   "nbconvert_exporter": "python",
   "pygments_lexer": "ipython3",
   "version": "3.8.3"
  }
 },
 "nbformat": 4,
 "nbformat_minor": 4
}
