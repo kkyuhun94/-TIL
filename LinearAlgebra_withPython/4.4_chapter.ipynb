{
 "cells": [
  {
   "cell_type": "markdown",
   "metadata": {},
   "source": [
    "### 학습 내용\n",
    ">고유치(eigenvalue) 계산\n",
    "\n",
    ">Power Method 개론\n",
    "\n",
    "* Power Method : 제일 큰 eigenvalue와 그에 해당하는 eigenvector를 구하는 방법\n",
    "    * $Av = \\lambda v$이고 n x n, A is diagonalizable 이고\n",
    "    * |$\\lambda_1$| > |$\\lambda_2$| >... > |$\\lambda_n$| 일때     \n",
    "        * $x_0 = c_1v_1+...+c_nv_n$ 에 $A$를 곱합\n",
    "        * $x_k=Ax_{k-1}=A^kx_0=c_1(\\lambda_1)^kv_1+...+c_n(\\lambda_n)^kv_n$\n",
    "            * $k \\to \\infty$ 로 가면 한 값에 수렴\n",
    "    * $\\frac{1}{(\\lambda_1)^k}x_k=c_1v_1$ \n",
    "    * $x_k$는 가장 큰 eigenvalue에 해당하는 eigenvector\n",
    "    * 가장 큰 eigenvector $ \\lambda_1=\\frac{{x_k}^TAx_k}{{x_k}^Tx_k}=\\frac{x_k\\centerdot (Ax_k)}{x_k\\centerdot x_k}$\n",
    "\n",
    "* Normalization \n",
    "    * 계산할때 마다 Nomalizaition을 해줌으로써 발산하게 될때 값을 줄여줌\n",
    "    * $x_k=\\frac{Ax_{k-1}}{\\lVert Ax_{k-1}\\rVert}$\n",
    "\n",
    "* 알고리즘 구현\n",
    "    1. 초기벡터 $x_0$ 선택(norm = 1)\n",
    "    2. 반복계산 k=1,2,...:\n",
    "        * a. $x_k = Ax_{k-1}/\\lVert Ax_{k-1}\\rVert$\n",
    "        * b. $\\mu_k = x_k \\centerdot (Ax_k) / x_k \\centerdot x_k$\n",
    "        * 에러가 충분히 작으면 종료\n",
    "    * $\\mu_k$는 가장 큰 eigenvalue\n",
    "    * $x_k$는 eigenvector\n",
    "\n",
    "* Inverse Power Method : 제일 작은 eigen value구하기\n",
    "    * $A^{-1}v=\\frac{1}{\\lambda}v$\n",
    "    * |$\\lambda_n^{-1}$|이 가장 큼 : $\\lambda_n$이 가장 작음\n",
    "    * $x_k=\\frac{A^{-1}x_{k-1}}{\\lVert A^{-1}x_{k-1}}$\n",
    "    * $\\mu_k = \\frac{x_k \\centerdot (A^{-1}x_k)}{x_k \\centerdot x_k} \\approx \\frac{1}{\\lambda_n}$\n",
    "    * solve $Ax_{k+1}=x_k$ : LU decomposition"
   ]
  },
  {
   "cell_type": "markdown",
   "metadata": {},
   "source": [
    "### code"
   ]
  },
  {
   "cell_type": "code",
   "execution_count": 1,
   "metadata": {},
   "outputs": [],
   "source": [
    "import numpy as np\n",
    "from scipy import linalg"
   ]
  },
  {
   "cell_type": "code",
   "execution_count": 15,
   "metadata": {},
   "outputs": [
    {
     "name": "stdout",
     "output_type": "stream",
     "text": [
      "1 6.864864864864865\n",
      "2 6.9810888252149015\n",
      "3 6.997307307895821\n",
      "4 6.99961551402125\n",
      "5 6.999945077200893\n",
      "6 6.999992153962788\n",
      "7 6.999998879139112\n",
      "8 6.999999839877049\n",
      "9 6.999999977125293\n",
      "10 6.9999999967321855\n",
      "11 6.999999999533171\n",
      "12 6.99999999993331\n",
      "13 6.999999999990473\n",
      "14 6.999999999998639\n",
      "15 6.999999999999805\n",
      "16 6.9999999999999725\n",
      "17 6.999999999999996\n",
      "18 7.0\n",
      "19 7.0\n"
     ]
    }
   ],
   "source": [
    "# power method 알고리즘 사용\n",
    "A = np.array([[6,5],[1,2]])\n",
    "x_old = np.array([[1],[0]])\n",
    "for k in range(1,20) :\n",
    "    x_new = A@x_old\n",
    "    x_new = x_new/linalg.norm(x_new) # normalization\n",
    "    mu_new = np.vdot(x_new,A@x_new) / np.vdot(x_new,x_new)\n",
    "    vector_error = linalg.norm(x_new-x_old)\n",
    "    x_old = x_new\n",
    "    print(k,mu_new)\n",
    "\n",
    "\n",
    "\n",
    "\n",
    "\n"
   ]
  }
 ],
 "metadata": {
  "kernelspec": {
   "display_name": "Python 3",
   "language": "python",
   "name": "python3"
  },
  "language_info": {
   "codemirror_mode": {
    "name": "ipython",
    "version": 3
   },
   "file_extension": ".py",
   "mimetype": "text/x-python",
   "name": "python",
   "nbconvert_exporter": "python",
   "pygments_lexer": "ipython3",
   "version": "3.8.3"
  }
 },
 "nbformat": 4,
 "nbformat_minor": 4
}
