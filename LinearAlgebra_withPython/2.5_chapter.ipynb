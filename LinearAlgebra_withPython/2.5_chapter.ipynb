{
 "cells": [
  {
   "cell_type": "markdown",
   "metadata": {},
   "source": [
    "### 학습 내용\n",
    "> 행렬 기본 조작(2)\n",
    "\n",
    "* np.hstack /np.vstack\n",
    "    * 2D array (행렬을 인자로 받을 때)\n",
    "        * hstack : 가로로 쌓음\n",
    "        * vstack : 세로로 쌓음\n",
    "    * 1D array (벡터를 인자로 받을 때)\n",
    "        * hstack : 더 길어진 1D array(벡터)\n",
    "        * vstack : 수직으로 쌓아 2D array(행렬)생성 \n",
    "\n",
    "* transpose\n",
    "    * a.transpose\n",
    "    * a.T\n",
    "    * 같은 메모리 공간 참조 : copy사용해서 독립적으로 사용가능\n",
    "    * **1D array에 적용하면 transpose되지 않음.사용 x** \n",
    "\n",
    "* real property / img property / conjugate method\n",
    "    * .real :실수\n",
    "    * .imag :허수의 계수\n",
    "    * .conjugate() : 켤레 복소수\n",
    "\n",
    "* scalar multiplication\n",
    "    * r(sclar) * A\n",
    "        \n",
    "* matrix multiplication\n",
    "    * np.matmul(A,B) \n",
    "    * A@B \n",
    "    * matrix - vector 연산도 가능\n",
    "\n",
    "* inner product \n",
    "    * np.vdot(u,v)\n",
    "        * 실수 :$u \\centerdot v =u_1v_1+u_2v_2+...+u_nv_n$\n",
    "        * complex의 경우 : conjugate를 앞에 먹임\n",
    "            * 인자의 순서를 반대로 해야 정상적인 결과를 얻을 수 있다.\n",
    "    * np.dot(u,v)\n",
    "        * 실수 : vdot과 동일\n",
    "        * complex : conjugate이 빠진 채로 계산. inner product가 아님\n",
    "\n",
    "* Norm\n",
    "    * from scipy import linalg\n",
    "    * norm = linalg.norm(a,n)\n",
    "        * $l_1-vector norm$ : 절대값 , n=1\n",
    "        * $l_2-vector norm$ : 제곱의 루트 , n=2\n",
    "        * $l_\\infty-vector norm$ : 최대값의 절대값 , n=inf\n",
    "        * $l_1-matrix norm$ : 절대값의 최대값 , n=1\n",
    "        * $l_2-matrix norm$ : 절대값의 제곱의 루트 , n=2\n",
    "        * $l_\\infty-matrix norm$ : 최대값의 절대값 , n=inf\n",
    "    \n",
    "* 행렬 슬라이싱\n",
    "    * 행렬에서 원하는 부분만 뽑아내기 : 인덱스 사용\n",
    "    * 0부터 시작\n",
    "    \n",
    "    \n"
   ]
  },
  {
   "cell_type": "markdown",
   "metadata": {},
   "source": [
    "### code"
   ]
  },
  {
   "cell_type": "code",
   "execution_count": 1,
   "metadata": {},
   "outputs": [],
   "source": [
    "import numpy as np"
   ]
  },
  {
   "cell_type": "code",
   "execution_count": 4,
   "metadata": {
    "scrolled": true
   },
   "outputs": [
    {
     "name": "stdout",
     "output_type": "stream",
     "text": [
      "[[1 2 3 4 5 6]\n",
      " [3 4 5 7 8 9]]\n",
      "[[1 2 3]\n",
      " [3 4 5]\n",
      " [4 5 6]\n",
      " [7 8 9]]\n"
     ]
    }
   ],
   "source": [
    "# 인자가 2D array일때 hstack,vstack\n",
    "a = np.array([[1,2,3],[3,4,5]])\n",
    "b = np.array([[4,5,6],[7,8,9]])\n",
    "new_mat = np.hstack((a,b))\n",
    "print(new_mat)\n",
    "new_mat = np.vstack((a,b))\n",
    "print(new_mat)"
   ]
  },
  {
   "cell_type": "code",
   "execution_count": 5,
   "metadata": {},
   "outputs": [
    {
     "name": "stdout",
     "output_type": "stream",
     "text": [
      "[1 2 3 4 5 6 7 8 9]\n",
      "[[1 2 3]\n",
      " [4 5 6]\n",
      " [7 8 9]]\n"
     ]
    }
   ],
   "source": [
    "# 인자가 1D array일때 hstack,vstack\n",
    "a = np.array([1,2,3])\n",
    "b = np.array([4,5,6])\n",
    "c = np.array([7,8,9])\n",
    "new_mat = np.hstack((a,b,c))\n",
    "print(new_mat)\n",
    "new_mat = np.vstack((a,b,c))\n",
    "print(new_mat)"
   ]
  },
  {
   "cell_type": "code",
   "execution_count": 11,
   "metadata": {},
   "outputs": [
    {
     "name": "stdout",
     "output_type": "stream",
     "text": [
      "[[0 0 1 0 0]\n",
      " [0 0 0 2 0]\n",
      " [0 0 0 0 3]\n",
      " [0 0 0 0 0]\n",
      " [0 0 0 0 0]]\n",
      "[[0 0 0 0 0]\n",
      " [0 0 0 0 0]\n",
      " [1 0 0 0 0]\n",
      " [0 2 0 0 0]\n",
      " [0 0 3 0 0]]\n",
      "[[0 0 0 0 0]\n",
      " [0 0 0 0 0]\n",
      " [1 0 0 0 0]\n",
      " [0 2 0 0 0]\n",
      " [0 0 3 0 0]]\n"
     ]
    }
   ],
   "source": [
    "# transpose,T\n",
    "a = np.array([[1,2,3]])\n",
    "a = np.diagflat(a,2)\n",
    "print(a)\n",
    "print(a.T)\n",
    "print(a.transpose())"
   ]
  },
  {
   "cell_type": "code",
   "execution_count": 17,
   "metadata": {},
   "outputs": [
    {
     "name": "stdout",
     "output_type": "stream",
     "text": [
      "[[1.-1.j 2.+0.j 3.+1.j]\n",
      " [1.+2.j 0.+0.j 7.+2.j]]\n",
      "실수 [[1. 2. 3.]\n",
      " [1. 0. 7.]]\n",
      "허수 [[-1.  0.  1.]\n",
      " [ 2.  0.  2.]]\n",
      "복소수 [[1.+1.j 2.-0.j 3.-1.j]\n",
      " [1.-2.j 0.-0.j 7.-2.j]]\n"
     ]
    }
   ],
   "source": [
    "# real,imag,conjugate\n",
    "a = np.array([[1-1j,2,3+1j],[1+2j,0,7+2j]],dtype = np.complex128)\n",
    "print(a)\n",
    "print(\"실수\",a.real)\n",
    "print(\"허수\",a.imag)\n",
    "print(\"복소수\",a.conjugate())"
   ]
  },
  {
   "cell_type": "code",
   "execution_count": 20,
   "metadata": {},
   "outputs": [
    {
     "data": {
      "text/plain": [
       "(array([[1.-1.j, 2.+0.j, 3.+1.j],\n",
       "        [1.+2.j, 0.+0.j, 7.+2.j]]),\n",
       " array([[ 6. -6.j, 12. +0.j, 18. +6.j],\n",
       "        [ 6.+12.j,  0. +0.j, 42.+12.j]]),\n",
       " array([[ 6. -6.j, 12. +0.j, 18. +6.j],\n",
       "        [ 6.+12.j,  0. +0.j, 42.+12.j]]))"
      ]
     },
     "execution_count": 20,
     "metadata": {},
     "output_type": "execute_result"
    }
   ],
   "source": [
    "# scalar multiplication\n",
    "a, a * 6 ,6*a"
   ]
  },
  {
   "cell_type": "code",
   "execution_count": 23,
   "metadata": {},
   "outputs": [
    {
     "data": {
      "text/plain": [
       "(array([[1, 2, 3],\n",
       "        [4, 5, 6]]),\n",
       " array([[1, 0],\n",
       "        [2, 1],\n",
       "        [3, 2]]),\n",
       " array([[14,  8],\n",
       "        [32, 17]]),\n",
       " array([[14,  8],\n",
       "        [32, 17]]))"
      ]
     },
     "execution_count": 23,
     "metadata": {},
     "output_type": "execute_result"
    }
   ],
   "source": [
    "# matrix multiplicaiton\n",
    "a = np.array([[1,2,3],[4,5,6]])\n",
    "b = np.array([[1,0],[2,1],[3,2]])\n",
    "a,b,a @ b,np.matmul(a,b)"
   ]
  },
  {
   "cell_type": "code",
   "execution_count": 24,
   "metadata": {},
   "outputs": [],
   "source": [
    "# norm\n",
    "from scipy import linalg"
   ]
  },
  {
   "cell_type": "code",
   "execution_count": 28,
   "metadata": {},
   "outputs": [
    {
     "data": {
      "text/plain": [
       "(array([[1, 2, 3],\n",
       "        [4, 5, 6]]),\n",
       " 9.0,\n",
       " 9.508032000695723)"
      ]
     },
     "execution_count": 28,
     "metadata": {},
     "output_type": "execute_result"
    }
   ],
   "source": [
    "# L1,L2\n",
    "a,linalg.norm(a,1),linalg.norm(a,2)"
   ]
  },
  {
   "cell_type": "code",
   "execution_count": 29,
   "metadata": {},
   "outputs": [
    {
     "data": {
      "text/plain": [
       "(array([[ 1,  2,  3,  4,  5],\n",
       "        [ 6,  7,  8,  9, 10],\n",
       "        [11, 12, 13, 14, 15],\n",
       "        [-1, -2, -3, -4, -5]]),\n",
       " array([[ 7,  8,  9],\n",
       "        [12, 13, 14]]),\n",
       " array([[ 1,  2],\n",
       "        [ 6,  7],\n",
       "        [11, 12],\n",
       "        [-1, -2]]))"
      ]
     },
     "execution_count": 29,
     "metadata": {},
     "output_type": "execute_result"
    }
   ],
   "source": [
    "# 행렬 슬라이싱\n",
    "A = np.array([[1,2,3,4,5],[6,7,8,9,10],[11,12,13,14,15],[-1,-2,-3,-4,-5]])\n",
    "b = A[1:3,1:4]\n",
    "c = A[:,:2]\n",
    "A,b,c"
   ]
  },
  {
   "cell_type": "code",
   "execution_count": 31,
   "metadata": {},
   "outputs": [
    {
     "data": {
      "text/plain": [
       "(array([[ 1,  2,  3,  4,  5],\n",
       "        [ 6,  7,  8,  9, 10],\n",
       "        [11, 12, 13, 14, 15],\n",
       "        [-1, -2, -3, -4, -5]]),\n",
       " array([ 2,  7, 12, -2]),\n",
       " array([ 3,  8, 13, -3]),\n",
       " array([ 4,  9, 14, -4]),\n",
       " array([[ 2,  7, 12, -2],\n",
       "        [ 3,  8, 13, -3],\n",
       "        [ 4,  9, 14, -4]]))"
      ]
     },
     "execution_count": 31,
     "metadata": {},
     "output_type": "execute_result"
    }
   ],
   "source": [
    "# 연습\n",
    "A = np.array([[1,2,3,4,5],[6,7,8,9,10],[11,12,13,14,15],[-1,-2,-3,-4,-5]])\n",
    "v1 = A[:,1]\n",
    "v2 = A[:,2]\n",
    "v3 = A[:,3]\n",
    "B = np.vstack((v1,v2,v3))\n",
    "A,v1,v2,v3,B"
   ]
  },
  {
   "cell_type": "code",
   "execution_count": 32,
   "metadata": {},
   "outputs": [
    {
     "data": {
      "text/plain": [
       "array([201, 224, 247])"
      ]
     },
     "execution_count": 32,
     "metadata": {},
     "output_type": "execute_result"
    }
   ],
   "source": [
    "B @ v1"
   ]
  },
  {
   "cell_type": "code",
   "execution_count": 50,
   "metadata": {},
   "outputs": [
    {
     "data": {
      "text/plain": [
       "(array([[1, 2],\n",
       "        [3, 4]]),\n",
       " array([[5],\n",
       "        [6]]),\n",
       " array([[319]]))"
      ]
     },
     "execution_count": 50,
     "metadata": {},
     "output_type": "execute_result"
    }
   ],
   "source": [
    "A = np.array([[1,2],[3,4]])\n",
    "x = np.array([[5],[6]])\n",
    "A,x, x.T@A@x"
   ]
  },
  {
   "cell_type": "code",
   "execution_count": 49,
   "metadata": {},
   "outputs": [
    {
     "data": {
      "text/plain": [
       "array([[5, 6]])"
      ]
     },
     "execution_count": 49,
     "metadata": {},
     "output_type": "execute_result"
    }
   ],
   "source": [
    "np.reshape(x,(1,2))"
   ]
  }
 ],
 "metadata": {
  "kernelspec": {
   "display_name": "Python 3",
   "language": "python",
   "name": "python3"
  },
  "language_info": {
   "codemirror_mode": {
    "name": "ipython",
    "version": 3
   },
   "file_extension": ".py",
   "mimetype": "text/x-python",
   "name": "python",
   "nbconvert_exporter": "python",
   "pygments_lexer": "ipython3",
   "version": "3.8.3"
  }
 },
 "nbformat": 4,
 "nbformat_minor": 4
}
