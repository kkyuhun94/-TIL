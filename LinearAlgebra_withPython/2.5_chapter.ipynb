{
 "cells": [
  {
   "cell_type": "markdown",
   "metadata": {},
   "source": [
    "### 학습 내용\n",
    "> 행렬 기본 조작(2)\n",
    "\n",
    "* np.hstack /np.vstack\n",
    "    * 2D array (행렬을 인자로 받을 때)\n",
    "        * hstack : 가로로 쌓음\n",
    "        * vstack : 세로로 쌓음\n",
    "    * 1D array (벡터를 인자로 받을 때)\n",
    "        * hstack : 더 길어진 1D array(벡터)\n",
    "        * vstack : 수직으로 쌓아 2D array(행렬)생성 \n",
    "\n",
    "* transpose\n",
    "\n",
    "\n",
    "* real property / img property / conjugate\n",
    "\n",
    "* matrix multiplication : np.matmul / @ \n",
    "\n",
    "* inner product : np.vdot,np.dot(real vector)\n",
    "\n",
    "* 행렬 슬라이싱 \n",
    "\n"
   ]
  }
 ],
 "metadata": {
  "kernelspec": {
   "display_name": "Python 3",
   "language": "python",
   "name": "python3"
  },
  "language_info": {
   "codemirror_mode": {
    "name": "ipython",
    "version": 3
   },
   "file_extension": ".py",
   "mimetype": "text/x-python",
   "name": "python",
   "nbconvert_exporter": "python",
   "pygments_lexer": "ipython3",
   "version": "3.8.3"
  }
 },
 "nbformat": 4,
 "nbformat_minor": 4
}
