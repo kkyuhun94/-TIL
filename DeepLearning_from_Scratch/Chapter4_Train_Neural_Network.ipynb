{
 "cells": [
  {
   "cell_type": "markdown",
   "metadata": {},
   "source": [
    "## Chapter 4. 신경망 학습\n",
    "\n",
    "* 학습 : 훈련 데이터로부터 가중치 매개변수의 최적값을 자동으로 획득 \n",
    "    * 손실함수의 결괏값을 가장 작게 만드는 가중치 매개변수를 찾는 것이 학습의 목표 \n",
    "        * 손실함수 : 신경망이 학습할 수 있도록 해주는 지표\n",
    "        * 경사법 : 함수의 기울기를 활용해 손실함수를 작게 만드는 기법 \n",
    "    \n",
    "#### 4.1 데이터에서 학습한다!\n",
    "* 데이터 주도 학습\n",
    "    * 신경망의 특징 : 데이터를 보고 학습할 수 있음\n",
    "        * 가중치 매개 변수의 값을 데이터를 보고 자동으로 결정\n",
    "    * 직선으로 분리할 수 있는 문제라면 데이터로 부터 자동으로 학습 할 수 있음    \n",
    "        * 퍼셉트론 수렴 정리 : 선형 분리 가능 문제는 유한 번의 학습을 통해 풀수 있음 \n",
    "\n",
    "* 기계 학습 : 데이터에서 답을 찾고, 패턴을 발견하고, 데이터로 이야기를 만듬 \n",
    "    * 딥러닝 : 기존 기계학습에서 사용하던 방법보다 사람의 개입을 더욱 배제할 수 있게 해주는 중요한 특성을 지님 \n",
    "\n",
    "* ex. 손글씨 5를 제대로 분류하는 프로그램\n",
    "    * 이미지에서 특징(feature)을 추출, 그 특징의 패턴을 기계학습 기술로 학습하는 방법\n",
    "        * feature(특징) : 입력 데이터(입력 이미지)에서 본질적인 데이터(중요한 데이터)를 정확하게 추출할 수 있도록 변환기\n",
    "        * 이미지의 특징은 주로 벡터로 기술한다.\n",
    "        * 컴퓨터 비전 분야에서는 SIFT, SURF, HOG등의 특징을 많이 사용함(사람이 생각한 특징)\n",
    "            * 이런 특징을 이용해 데이터를 벡터로 변환\n",
    "        * 변환된 벡터를 가지고 지도학습 방식의 대표 분류 기법 SVM,KNN등으로 학습(기계 학습)\n",
    "            * 이와 같은 기계학습 : 모아진 데이터로부터 규칙을 찾아내는 역할을 '기계'가 담당\n",
    "            * 이미지를 벡터로 변환할 때 사용하는 특징은 여전히 '사람'이 설계하는 것\n",
    "                * 문제에 적합한 특징을 쓰지 않으면 (혹은 특징을 설계하지 않으면) 좋은 결과를 얻기 힘듬\n",
    "    * 신경망 : 이미지를 있는 그대로 학습\n",
    "        * 이미지에 포함된 중요한 특징까지도 '기계'가 학습\n",
    "        * 딥러닝을 종단간 기계학습(end-to-end machine learning)이라고 함\n",
    "            * 처음부터 끝까지 데이터(입력)에서 목표한 결과(출력)를 사람의 개입 없이 얻음\n",
    "    \n",
    "* 훈련 데이터와 시험 데이터\n",
    "    * 훈련데이터 : 학습을 통해 최적의 매개변수를 찾음\n",
    "    * 시험데이터 : 앞서 훈련한 모델의 실력을 평가\n",
    "    * 훈련 데이터와 시험 데이터를 나눠야 하는 이유 : 범용적으로 사용할 수 있는 모델이어야 하기 때문\n",
    "        * 범용 능력을 제대로 평가하기 위해 훈련 데이터, 시험 데이터를 분리\n",
    "            * 범용 능력 : 아직보지 못한 데이터로도 문제를 올바르게 풀어내는 능력 -> 기계학습의 최종 목표 \n",
    "        * 데이터셋 하나로만 매개변수의 학습과 평가를 수행하면 올바른 평가가 될 수 없음 \n",
    "            * 수중의 데이터셋은 제대로 맞히더라도 다른 데이터셋에 엉망인 경우 : overfitting(오버피팅)\n",
    "\n",
    "#### 4.2 손실 함수\n",
    "* 하나의 '지표'를 기준으로 최적의 매개변수 값을 탐색함 \n",
    "    * 신경망에서는 손실함수(loss function)를 지표로 사용 \n",
    "        * 임의의 함수를 사용가능 \n",
    "            * 오차 제곱합\n",
    "            * 교차 엔트로피 오차\n",
    "\n",
    "* 오차제곱합(sum of squares for error, SSE)\n",
    "    * $E = \\frac{1}{2} \\Sigma (y_k-t_k)^2$\n",
    "    * $y_k$:신경망의 출력(신경망이 추정한 값) ,  $t_k$:정답 레이블 ,   $k$: 데이터 차원 수\n",
    "    \n",
    "* 교차 엔트로피 오차(cross entropy error, CEE)\n",
    "    * $E = -\\Sigma t_k \\log y_k$\n",
    "    * $\\log$ : 밑이 e인 자연로그 ,$y_k$: 신경망의 출력 ,$t_k$ : 정답레이블(정답에 해당하는 인덱스의 원소만 1, 나머지 0)\n",
    "    * 정답에 해당하는 출력이 커질수록 0에 다가가다가, 그 출력이 1일 때 0이 됨\n",
    "    \n",
    "* 기계학습 문제 : 훈련 데이터에 대한 손실 함수의 값을 구하고, 그 값을 최대한 줄여주는 매개변수를 찾아냄\n",
    "    * 모든 훈련 데이터를 대상으로 손실 함수 값을 구해야함, 총 합을 지표로 삼아야함\n",
    "    * $E=-\\frac{1}{N} \\Sigma \\Sigma t_{nk}\\log y_{mk}$\n",
    "    * $N$: 데이터 개수 , $t_{nk}$ : 정답레이블 n번째 데이터 k번째 값 , $y_{nk}$ :신경망의 출력 n번째 데이터 k번째 값\n",
    "    * N개의 손실함수를 모두 더하고 N으로 나누어서 평균 손실 함수를 구함\n",
    "        * 훈련 데이터 개수와 관계없이 항상 통일된 지표를 얻을 수 있음 \n",
    "            \n",
    "* 데이터가 너무 많은 경우 일일이 손실함수를 계산하는데 시간이 걸림\n",
    "    * 미니 배치(mini) : 데이터의 일부 \n",
    "    * 미니 배치 학습 : 무작위로 일부만 뽑아서 학습\n",
    "    \n",
    "* (배치용) 교차 엔트로피 오차 구현하기\n",
    "    * 원-핫 인코딩 일때\n",
    "    * 원-핫 인코딩이 아닐 때\n",
    "    \n",
    "* 왜 손실 함수를 설정하는가?\n",
    "    * 왜 '정확도'라는 지표를 두고 '손실 함수의 값'이라는 우회적인 방법을 택할까?\n",
    "        * 신경망 학습에서의 '미분'의 역할에 주목 : 손실함수의 값을 가능한 작게 만드는 최적의 매개변수(가중치와 편향)을 탐색\n",
    "            * 미분 값의 음,양으로 매개변수 값을 갱신 -> 미분값이 0이 되면 더이상 손실함수가 줄어들지 않는다\n",
    "        * 정확도를 지표로 삼으면 미분 값이 대부분의 장소에서 0이 되어 매개변수를 갱신할 수 없음\n",
    "            * 대부분의 장소에서 0이 되는 이유 : 매개 변수를 약간만 조정해서는 정확도가 크게 바뀌지않고 유지되어서 변화율이 0 또는 불연속적으로 변함\n",
    "        * 손실 함수를 지표로 삼는 다면 : 연속적인 수치로 나타남 (계단 함수를 활성화 함수로 사용하지 않는 이유와 유사)\n",
    "            \n",
    "#### 4.3 수치 미분(numeriacl differentiaion)\n",
    "* 미분 : 한 순간의 변화량\n",
    "    * $\\frac{df(x)}{dx} = \\lim(h\\to0) \\frac{f(x+h)-f(x)}{h}$\n",
    "    * 수치 미분을 코드로 구현할 때는 반올림 오차(rounding error)를 포함함 \n",
    "    * 중심 차분(중앙 차분) : 오차를 줄이기 위해 (x+h)와 (x-h)일 때의 함수 f의 차분을 계산 \n",
    "        * h는 아주 작은값으로 설정\n",
    "        * 수치 미분 : 아주 작은 차분으로 미분(근사치) $\\leftrightarrow$ 해석적 미분(analytic) : 오차를 포함하지 않는 진정한 미분\n",
    "        \n",
    "* 편미분 : 변수가 2개이상일 때\n",
    "    * $f(x_0,x_1)=x_0^2+x_1^2$\n",
    "    * 변수가 하나인 미분과 마찬가지로 특정 장소의 기울기를 구함\n",
    "        * 단, 여러 변수 중 목표 변수 하나에 초점을 맞추고 다른 변수는 값을 고정해야함 \n",
    "  \n",
    "#### 4.4 기울기\n",
    "* 편미분 : 변수별로 따로 계산\n",
    "    * 양쪽의 편미분을 묶어서 계산한다면 : 기울기(gradient)\n",
    "    * 기울기가 가리키는 쪽은 각 장소에서 함수의 출력 값을 가장 크게 줄이는 방향 \n",
    "    \n",
    "* 경사법(경사 하강법)\n",
    "    * 신경망 : 최적의 매개 변수(가중치와 편향)를 학습 시에 찾아야 함\n",
    "        * 손실 함수가 최솟값이 될때 매개변수가 최적\n",
    "        * 일반적인 손실 함수는 매우 복잡해서 파악하기 어려움 \n",
    "            * 기울기를 이용해서 최솟값(또는 가능한 한 작은 값)을 찾음\n",
    "            * 함수의 값을 낮추는 방안을 제시하는 지표 = '기울기'\n",
    "                * 정말 함수의 최솟값이 항상 있는 것은 보장할 수 없음\n",
    "                    * 함수가 극소, 최소, 안장점, 고원 등에서 기울기가 0이므로 \n",
    "    * $x_0=x_0 - \\eta \\frac{\\partial f}{\\partial x_0}$\n",
    "    * $x_1=x_1 - \\eta \\frac{\\partial f}{\\partial x_1}$\n",
    "        * $\\eta \\to$  학습률(learning rate) : 한 번의 학습으로 얼마만큼 학습해야 할지, 매개변수 값을 얼마나 갱신할지 결정\n",
    "        * 학습률은 0.01,0.001 등 특정 값으로 미리 정해두어야 함(너무 크거나 작으면 좋은 장소를 찾아갈 수 없음)\n",
    "            * 학습률이 너무 크면 큰 값으로 발산\n",
    "            * 너무 작으면 거의 갱신 되지 않고 끝남\n",
    "    * 하이퍼파라미터(hyper parameter, 초매개변수) : 가중치, 편향 같은 신경망의 매개변수와는 성질이 다른 매개변수\n",
    "        * 사람이 직접 설정해야하는 매개 변수 $\\to$ 여러 후보 값 중에서 시험을 통해 가장 잘 학습하는 값을 찾아야 함\n",
    "\n",
    "* 신경망에서의 기울기\n",
    "    * 가중치 매개변수에 대한 손실 함수의 기울기\n",
    "    * 가중치가 $W$, 손싫함수가 $L$인 신경망의 경사 : $\\frac{\\partial L}{\\partial W}$\n",
    "    * 가중치 $W$가 2x3, 손실함수가 L 인 경우 기울기 $\\frac{\\partial L}{\\partial W}$도 2x3의 형상\n",
    "    * 신경망의 기울기를 구한 다음 경사법에 따라 가중치 매개변수를 갱신해야함\n",
    "\n",
    "#### 4.5 학습 알고리즘 구현하기\n",
    "* 신경망 학습 순서 - 확률적 경사하강법(SGD : stochastic gradient descent)\n",
    "    * 전제 : 신경망에는 적응 가능한 가중치와 편향이 있고, 이 가중치와 편향을 훈련데이터에 적응하도록 조정하는 과정을 학습이라고 한다.\n",
    "    1. 미니배치 : 훈련 데이터 중 일부를 무작위로 가져옴 \n",
    "    2. 기울기 산출 : 미니배치의 손실 합수 값을 줄이기 위해 각 가중치 매개변수의 기울기를 구합니\n",
    "    3. 매개변수 갱신 : 가중치 매개변수를 기울기 방향으로 아주 조금 갱신합니다. \n",
    "    4. 반복 : 1~3 단계를 반복\n",
    "\n",
    "* 미니배치 학습 : 훈련 데이터 중 일부를 무작위로 꺼내고(미니배치), 그 미니배치에 대해서 경사법으로 매개변수를 갱신\n",
    "    \n",
    "\n",
    "\n",
    "* 시험 데이터로 평가하기\n",
    "\n",
    "#### 4.6 정리 \n",
    "\n"
   ]
  },
  {
   "cell_type": "markdown",
   "metadata": {},
   "source": [
    "## code"
   ]
  },
  {
   "cell_type": "code",
   "execution_count": 2,
   "metadata": {},
   "outputs": [],
   "source": [
    "# 오차 제곱합(SSE)\n",
    "def sum_squares_error(y, t) :\n",
    "    return 0.5*np.sum((y-t)**2)"
   ]
  },
  {
   "cell_type": "code",
   "execution_count": 3,
   "metadata": {},
   "outputs": [],
   "source": [
    "# 교차 엔트로피 오차(CEE)\n",
    "def cross_entorpy_error(y,t) :\n",
    "    delta = 1e-7        # np.log()함수에 0을 입력하면 마이너스 무한대(-inf)가 되어서 아주작은 값을 더해주어서 계산을 가능하게함 \n",
    "    return -np.sum(t*np.log(y+delta))"
   ]
  },
  {
   "cell_type": "code",
   "execution_count": 5,
   "metadata": {},
   "outputs": [
    {
     "name": "stdout",
     "output_type": "stream",
     "text": [
      "(60000, 784)\n",
      "(60000, 10)\n"
     ]
    }
   ],
   "source": [
    "# mini batch\n",
    "# data load\n",
    "\n",
    "import sys, os\n",
    "sys.path.append(os.pardir)\n",
    "import numpy as np\n",
    "from data.mnist import load_mnist\n",
    "\n",
    "(x_train, t_train), (x_test, t_test) =  load_mnist(normalize=True, one_hot_label=True) \n",
    "\n",
    "# onehot인코딩: 정답 위치의 원소만 1 나머지 0\n",
    "\n",
    "print(x_train.shape)\n",
    "print(t_train.shape)"
   ]
  },
  {
   "cell_type": "code",
   "execution_count": 6,
   "metadata": {},
   "outputs": [
    {
     "name": "stdout",
     "output_type": "stream",
     "text": [
      "[ 7363 24267 37270 23718 42960 47724 57842 47425 24398  4356]\n"
     ]
    }
   ],
   "source": [
    "# 무작위로 10장만 빼내기\n",
    "train_size = x_train.shape[0] #60000\n",
    "batch_size = 10  \n",
    "batch_mask = np.random.choice(train_size, batch_size) #60000중에 10개 뽑기 \n",
    "print(batch_mask)\n",
    "x_batch = x_train[batch_mask]\n",
    "t_batch = t_train[batch_mask]"
   ]
  },
  {
   "cell_type": "code",
   "execution_count": 7,
   "metadata": {},
   "outputs": [],
   "source": [
    "# 배치용 교차 엔트로피 오차 구현\n",
    "# 정답 레이블이 원핫 인코딩일 때\n",
    "\n",
    "def cross_entropy_error(y,t) :\n",
    "    if y.ndim == 1 :\n",
    "        t = t.reshape(1,t.size)\n",
    "        y = y.reshape(1,y.size)\n",
    "    \n",
    "    batch_size = y.shape[0]\n",
    "    delta = 1e-7\n",
    "    return -np.sum(t*np.log(y+delta)) / batch_size"
   ]
  },
  {
   "cell_type": "code",
   "execution_count": 10,
   "metadata": {},
   "outputs": [],
   "source": [
    "# 정답레이블이 원-핫 인코딩이 아닐때 : t가 0인 원소는 교차 엔트로피 오차도 0이므로 계산을 무시\n",
    "def cross_entropy_error(y,t) :\n",
    "    if y.ndim == 1 :\n",
    "        t = t.reshape(1, t.size)\n",
    "        y = y.reshape(1, y.size)\n",
    "    \n",
    "    batch_size = y.shape[0]\n",
    "    return -np.sum(np.log(y[np.arange(batch_size), t] + 1e-7))/ batch_size "
   ]
  },
  {
   "cell_type": "code",
   "execution_count": 11,
   "metadata": {},
   "outputs": [],
   "source": [
    "# 수치 미분\n",
    "# 중앙 차분 : (x+h),(x-h)사이 차분 이용\n",
    "def numerical_diff(f,x) :\n",
    "    h = 1e-4 # 0.0001\n",
    "    return (f(x+h)-f(x-h)) / (2*h)"
   ]
  },
  {
   "cell_type": "code",
   "execution_count": 12,
   "metadata": {},
   "outputs": [],
   "source": [
    "# 수치 미분 예시 \n",
    "# y = 0.01x^2+0.1x\n",
    "\n",
    "def function_1(x) :\n",
    "    return 0.01*x**2 + 0.1*x"
   ]
  },
  {
   "cell_type": "code",
   "execution_count": 13,
   "metadata": {},
   "outputs": [
    {
     "data": {
      "image/png": "[encoded data removed]",
      "text/plain": [
       "<Figure size 432x288 with 1 Axes>"
      ]
     },
     "metadata": {
      "needs_background": "light"
     },
     "output_type": "display_data"
    }
   ],
   "source": [
    "# 함수 시각화\n",
    "import numpy as np\n",
    "import matplotlib.pyplot as plt\n",
    "\n",
    "x = np.arange(0.0, 20.0, 0.1) # 0~20 까지 0.1간격\n",
    "y = function_1(x)\n",
    "plt.xlabel(\"x\")\n",
    "plt.ylabel(\"f(x)\")\n",
    "plt.plot(x,y)\n",
    "plt.show()"
   ]
  },
  {
   "cell_type": "code",
   "execution_count": 15,
   "metadata": {},
   "outputs": [
    {
     "name": "stdout",
     "output_type": "stream",
     "text": [
      "0.1999999999990898\n",
      "0.2\n",
      "0.2999999999986347\n",
      "0.30000000000000004\n"
     ]
    }
   ],
   "source": [
    "# f(x)의 미분 (x=5,10일떄)\n",
    "print(numerical_diff(function_1,5))\n",
    "print(2*0.01*5+0.1)\n",
    "print(numerical_diff(function_1,10))\n",
    "print(2*0.01*10+0.1)"
   ]
  },
  {
   "cell_type": "code",
   "execution_count": 16,
   "metadata": {},
   "outputs": [],
   "source": [
    "# 변수가 2개인 함수\n",
    "def function_2(x) :\n",
    "    return x[0]**2 + x[1]**2\n",
    "    # x가 numpy배열 : return np.sum(x**2)\n",
    "\n"
   ]
  },
  {
   "cell_type": "code",
   "execution_count": 17,
   "metadata": {},
   "outputs": [
    {
     "data": {
      "text/plain": [
       "6.00000000000378"
      ]
     },
     "execution_count": 17,
     "metadata": {},
     "output_type": "execute_result"
    }
   ],
   "source": [
    "# 편미분 : x0 =3, x1=4 x0에 대한 편미분 \n",
    "def function_tmp1(x0):\n",
    "    return x0*x0 + 4.0**2.0\n",
    "\n",
    "numerical_diff(function_tmp1, 3.0)"
   ]
  },
  {
   "cell_type": "code",
   "execution_count": 18,
   "metadata": {},
   "outputs": [
    {
     "data": {
      "text/plain": [
       "7.999999999999119"
      ]
     },
     "execution_count": 18,
     "metadata": {},
     "output_type": "execute_result"
    }
   ],
   "source": [
    "# 편미분 : x0=3, x1=4, x1에 대한 편미분 \n",
    "def function_tmp2(x1) :\n",
    "    return 3*3+ x1**2\n",
    "\n",
    "numerical_diff(function_tmp2, 4.0)"
   ]
  },
  {
   "cell_type": "code",
   "execution_count": 54,
   "metadata": {},
   "outputs": [
    {
     "name": "stdout",
     "output_type": "stream",
     "text": [
      "[6. 8.]\n",
      "[0. 4.]\n",
      "[6. 0.]\n"
     ]
    }
   ],
   "source": [
    "# 기울기\n",
    "def numerical_gradient(f, x) :\n",
    "    h = 1e-4 # 0.0001\n",
    "    grad = np.zeros_like(x) # x와 형상이 같은 배열을 생성\n",
    "    \n",
    "    for idx in range(x.size) :\n",
    "        tmp_val = x[idx]\n",
    "        # f(x+h) 계산 \n",
    "        \n",
    "        x[idx] = tmp_val + h\n",
    "        fxh1 = f(x)\n",
    "        \n",
    "        # f(x-h) 계산\n",
    "        x[idx] = tmp_val - h\n",
    "        fxh2 = f(x)\n",
    "        \n",
    "        grad[idx] = (fxh1 - fxh2) / (2*h)\n",
    "        x[idx] = tmp_val # 값 복원\n",
    "    \n",
    "    return grad \n",
    "\n",
    "print(numerical_gradient(function_2, np.array([3.0, 4.0])))\n",
    "print(numerical_gradient(function_2, np.array([0.0, 2.0])))\n",
    "print(numerical_gradient(function_2, np.array([3.0, 0.0])))\n"
   ]
  },
  {
   "cell_type": "code",
   "execution_count": 27,
   "metadata": {},
   "outputs": [],
   "source": [
    "# 경사 하강법\n",
    "def gradient_descent(f, init_x, lr=0.01, step_num= 100) :\n",
    "    x = init_x\n",
    "    \n",
    "    for i in range(step_num) :           \n",
    "        grad = numerical_gradient(f,x)     \n",
    "        x -= lr*grad\n",
    "        print(x)\n",
    "    return x"
   ]
  },
  {
   "cell_type": "code",
   "execution_count": 28,
   "metadata": {
    "scrolled": true
   },
   "outputs": [
    {
     "name": "stdout",
     "output_type": "stream",
     "text": [
      "[-2.4  3.2]\n",
      "[-1.92  2.56]\n",
      "[-1.536  2.048]\n",
      "[-1.2288  1.6384]\n",
      "[-0.98304  1.31072]\n",
      "[-0.786432  1.048576]\n",
      "[-0.6291456  0.8388608]\n",
      "[-0.50331648  0.67108864]\n",
      "[-0.40265318  0.53687091]\n",
      "[-0.32212255  0.42949673]\n",
      "[-0.25769804  0.34359738]\n",
      "[-0.20615843  0.27487791]\n",
      "[-0.16492674  0.21990233]\n",
      "[-0.1319414   0.17592186]\n",
      "[-0.10555312  0.14073749]\n",
      "[-0.08444249  0.11258999]\n",
      "[-0.06755399  0.09007199]\n",
      "[-0.0540432   0.07205759]\n",
      "[-0.04323456  0.05764608]\n",
      "[-0.03458765  0.04611686]\n",
      "[-0.02767012  0.03689349]\n",
      "[-0.02213609  0.02951479]\n",
      "[-0.01770887  0.02361183]\n",
      "[-0.0141671   0.01888947]\n",
      "[-0.01133368  0.01511157]\n",
      "[-0.00906694  0.01208926]\n",
      "[-0.00725355  0.00967141]\n",
      "[-0.00580284  0.00773713]\n",
      "[-0.00464228  0.0061897 ]\n",
      "[-0.00371382  0.00495176]\n",
      "[-0.00297106  0.00396141]\n",
      "[-0.00237684  0.00316913]\n",
      "[-0.00190148  0.0025353 ]\n",
      "[-0.00152118  0.00202824]\n",
      "[-0.00121694  0.00162259]\n",
      "[-0.00097356  0.00129807]\n",
      "[-0.00077884  0.00103846]\n",
      "[-0.00062308  0.00083077]\n",
      "[-0.00049846  0.00066461]\n",
      "[-0.00039877  0.00053169]\n",
      "[-0.00031901  0.00042535]\n",
      "[-0.00025521  0.00034028]\n",
      "[-0.00020417  0.00027223]\n",
      "[-0.00016334  0.00021778]\n",
      "[-0.00013067  0.00017422]\n",
      "[-0.00010453  0.00013938]\n",
      "[-8.36277945e-05  1.11503726e-04]\n",
      "[-6.69022356e-05  8.92029808e-05]\n",
      "[-5.35217885e-05  7.13623846e-05]\n",
      "[-4.28174308e-05  5.70899077e-05]\n",
      "[-3.42539446e-05  4.56719262e-05]\n",
      "[-2.74031557e-05  3.65375409e-05]\n",
      "[-2.19225246e-05  2.92300327e-05]\n",
      "[-1.75380196e-05  2.33840262e-05]\n",
      "[-1.40304157e-05  1.87072210e-05]\n",
      "[-1.12243326e-05  1.49657768e-05]\n",
      "[-8.97946606e-06  1.19726214e-05]\n",
      "[-7.18357285e-06  9.57809713e-06]\n",
      "[-5.74685828e-06  7.66247770e-06]\n",
      "[-4.59748662e-06  6.12998216e-06]\n",
      "[-3.67798930e-06  4.90398573e-06]\n",
      "[-2.94239144e-06  3.92318858e-06]\n",
      "[-2.35391315e-06  3.13855087e-06]\n",
      "[-1.88313052e-06  2.51084069e-06]\n",
      "[-1.50650442e-06  2.00867256e-06]\n",
      "[-1.20520353e-06  1.60693804e-06]\n",
      "[-9.64162827e-07  1.28555044e-06]\n",
      "[-7.71330261e-07  1.02844035e-06]\n",
      "[-6.17064209e-07  8.22752279e-07]\n",
      "[-4.93651367e-07  6.58201823e-07]\n",
      "[-3.94921094e-07  5.26561458e-07]\n",
      "[-3.15936875e-07  4.21249167e-07]\n",
      "[-2.52749500e-07  3.36999333e-07]\n",
      "[-2.02199600e-07  2.69599467e-07]\n",
      "[-1.61759680e-07  2.15679573e-07]\n",
      "[-1.29407744e-07  1.72543659e-07]\n",
      "[-1.03526195e-07  1.38034927e-07]\n",
      "[-8.28209562e-08  1.10427942e-07]\n",
      "[-6.62567649e-08  8.83423532e-08]\n",
      "[-5.30054119e-08  7.06738826e-08]\n",
      "[-4.24043296e-08  5.65391061e-08]\n",
      "[-3.39234636e-08  4.52312849e-08]\n",
      "[-2.71387709e-08  3.61850279e-08]\n",
      "[-2.17110167e-08  2.89480223e-08]\n",
      "[-1.73688134e-08  2.31584178e-08]\n",
      "[-1.38950507e-08  1.85267343e-08]\n",
      "[-1.11160406e-08  1.48213874e-08]\n",
      "[-8.89283245e-09  1.18571099e-08]\n",
      "[-7.11426596e-09  9.48568795e-09]\n",
      "[-5.69141277e-09  7.58855036e-09]\n",
      "[-4.55313022e-09  6.07084029e-09]\n",
      "[-3.64250417e-09  4.85667223e-09]\n",
      "[-2.91400334e-09  3.88533778e-09]\n",
      "[-2.33120267e-09  3.10827023e-09]\n",
      "[-1.86496214e-09  2.48661618e-09]\n",
      "[-1.49196971e-09  1.98929295e-09]\n",
      "[-1.19357577e-09  1.59143436e-09]\n",
      "[-9.54860614e-10  1.27314749e-09]\n",
      "[-7.63888491e-10  1.01851799e-09]\n",
      "[-6.11110793e-10  8.14814391e-10]\n"
     ]
    },
    {
     "data": {
      "text/plain": [
       "array([-6.11110793e-10,  8.14814391e-10])"
      ]
     },
     "execution_count": 28,
     "metadata": {},
     "output_type": "execute_result"
    }
   ],
   "source": [
    "# f(x_0,x_1)=x_0^2+x_1^2\n",
    "def function_2(x) :\n",
    "    return x[0]**2 + x[1]**2\n",
    "\n",
    "\n",
    "init_x = np.array([-3.0,4.0])\n",
    "gradient_descent(function_2, init_x = init_x, lr=0.1, step_num=100)\n"
   ]
  },
  {
   "cell_type": "code",
   "execution_count": 29,
   "metadata": {
    "scrolled": true
   },
   "outputs": [
    {
     "name": "stdout",
     "output_type": "stream",
     "text": [
      "[ 57. -76.]\n",
      "[-1083.00000003  1444.00000007]\n",
      "[ 20576.99999267 -27436.00002124]\n",
      "[-390963.00759858  521284.00215314]\n",
      "[ 7428296.63595611 -9904396.53983905]\n",
      "[-1.41137328e+08  1.88183103e+08]\n",
      "[ 2.68126267e+09 -3.57501690e+09]\n",
      "[-5.09763373e+10  6.79001831e+10]\n",
      "[ 9.45170863e+11 -1.29524862e+12]\n",
      "[-2.58983747e+13 -1.29524862e+12]\n",
      "[-2.58983747e+13 -1.29524862e+12]\n",
      "[-2.58983747e+13 -1.29524862e+12]\n",
      "[-2.58983747e+13 -1.29524862e+12]\n",
      "[-2.58983747e+13 -1.29524862e+12]\n",
      "[-2.58983747e+13 -1.29524862e+12]\n",
      "[-2.58983747e+13 -1.29524862e+12]\n",
      "[-2.58983747e+13 -1.29524862e+12]\n",
      "[-2.58983747e+13 -1.29524862e+12]\n",
      "[-2.58983747e+13 -1.29524862e+12]\n",
      "[-2.58983747e+13 -1.29524862e+12]\n",
      "[-2.58983747e+13 -1.29524862e+12]\n",
      "[-2.58983747e+13 -1.29524862e+12]\n",
      "[-2.58983747e+13 -1.29524862e+12]\n",
      "[-2.58983747e+13 -1.29524862e+12]\n",
      "[-2.58983747e+13 -1.29524862e+12]\n",
      "[-2.58983747e+13 -1.29524862e+12]\n",
      "[-2.58983747e+13 -1.29524862e+12]\n",
      "[-2.58983747e+13 -1.29524862e+12]\n",
      "[-2.58983747e+13 -1.29524862e+12]\n",
      "[-2.58983747e+13 -1.29524862e+12]\n",
      "[-2.58983747e+13 -1.29524862e+12]\n",
      "[-2.58983747e+13 -1.29524862e+12]\n",
      "[-2.58983747e+13 -1.29524862e+12]\n",
      "[-2.58983747e+13 -1.29524862e+12]\n",
      "[-2.58983747e+13 -1.29524862e+12]\n",
      "[-2.58983747e+13 -1.29524862e+12]\n",
      "[-2.58983747e+13 -1.29524862e+12]\n",
      "[-2.58983747e+13 -1.29524862e+12]\n",
      "[-2.58983747e+13 -1.29524862e+12]\n",
      "[-2.58983747e+13 -1.29524862e+12]\n",
      "[-2.58983747e+13 -1.29524862e+12]\n",
      "[-2.58983747e+13 -1.29524862e+12]\n",
      "[-2.58983747e+13 -1.29524862e+12]\n",
      "[-2.58983747e+13 -1.29524862e+12]\n",
      "[-2.58983747e+13 -1.29524862e+12]\n",
      "[-2.58983747e+13 -1.29524862e+12]\n",
      "[-2.58983747e+13 -1.29524862e+12]\n",
      "[-2.58983747e+13 -1.29524862e+12]\n",
      "[-2.58983747e+13 -1.29524862e+12]\n",
      "[-2.58983747e+13 -1.29524862e+12]\n",
      "[-2.58983747e+13 -1.29524862e+12]\n",
      "[-2.58983747e+13 -1.29524862e+12]\n",
      "[-2.58983747e+13 -1.29524862e+12]\n",
      "[-2.58983747e+13 -1.29524862e+12]\n",
      "[-2.58983747e+13 -1.29524862e+12]\n",
      "[-2.58983747e+13 -1.29524862e+12]\n",
      "[-2.58983747e+13 -1.29524862e+12]\n",
      "[-2.58983747e+13 -1.29524862e+12]\n",
      "[-2.58983747e+13 -1.29524862e+12]\n",
      "[-2.58983747e+13 -1.29524862e+12]\n",
      "[-2.58983747e+13 -1.29524862e+12]\n",
      "[-2.58983747e+13 -1.29524862e+12]\n",
      "[-2.58983747e+13 -1.29524862e+12]\n",
      "[-2.58983747e+13 -1.29524862e+12]\n",
      "[-2.58983747e+13 -1.29524862e+12]\n",
      "[-2.58983747e+13 -1.29524862e+12]\n",
      "[-2.58983747e+13 -1.29524862e+12]\n",
      "[-2.58983747e+13 -1.29524862e+12]\n",
      "[-2.58983747e+13 -1.29524862e+12]\n",
      "[-2.58983747e+13 -1.29524862e+12]\n",
      "[-2.58983747e+13 -1.29524862e+12]\n",
      "[-2.58983747e+13 -1.29524862e+12]\n",
      "[-2.58983747e+13 -1.29524862e+12]\n",
      "[-2.58983747e+13 -1.29524862e+12]\n",
      "[-2.58983747e+13 -1.29524862e+12]\n",
      "[-2.58983747e+13 -1.29524862e+12]\n",
      "[-2.58983747e+13 -1.29524862e+12]\n",
      "[-2.58983747e+13 -1.29524862e+12]\n",
      "[-2.58983747e+13 -1.29524862e+12]\n",
      "[-2.58983747e+13 -1.29524862e+12]\n",
      "[-2.58983747e+13 -1.29524862e+12]\n",
      "[-2.58983747e+13 -1.29524862e+12]\n",
      "[-2.58983747e+13 -1.29524862e+12]\n",
      "[-2.58983747e+13 -1.29524862e+12]\n",
      "[-2.58983747e+13 -1.29524862e+12]\n",
      "[-2.58983747e+13 -1.29524862e+12]\n",
      "[-2.58983747e+13 -1.29524862e+12]\n",
      "[-2.58983747e+13 -1.29524862e+12]\n",
      "[-2.58983747e+13 -1.29524862e+12]\n",
      "[-2.58983747e+13 -1.29524862e+12]\n",
      "[-2.58983747e+13 -1.29524862e+12]\n",
      "[-2.58983747e+13 -1.29524862e+12]\n",
      "[-2.58983747e+13 -1.29524862e+12]\n",
      "[-2.58983747e+13 -1.29524862e+12]\n",
      "[-2.58983747e+13 -1.29524862e+12]\n",
      "[-2.58983747e+13 -1.29524862e+12]\n",
      "[-2.58983747e+13 -1.29524862e+12]\n",
      "[-2.58983747e+13 -1.29524862e+12]\n",
      "[-2.58983747e+13 -1.29524862e+12]\n",
      "[-2.58983747e+13 -1.29524862e+12]\n"
     ]
    },
    {
     "data": {
      "text/plain": [
       "array([-2.58983747e+13, -1.29524862e+12])"
      ]
     },
     "execution_count": 29,
     "metadata": {},
     "output_type": "execute_result"
    }
   ],
   "source": [
    "# 학습률이 너무 큰 예시 \n",
    "init_x = np.array([-3.0,4.0])\n",
    "gradient_descent(function_2, init_x=init_x, lr=10.0, step_num=100)"
   ]
  },
  {
   "cell_type": "code",
   "execution_count": 30,
   "metadata": {
    "scrolled": true
   },
   "outputs": [
    {
     "name": "stdout",
     "output_type": "stream",
     "text": [
      "[-3.  4.]\n",
      "[-3.  4.]\n",
      "[-3.  4.]\n",
      "[-3.  4.]\n",
      "[-3.  4.]\n",
      "[-3.  4.]\n",
      "[-3.          3.99999999]\n",
      "[-3.          3.99999999]\n",
      "[-2.99999999  3.99999999]\n",
      "[-2.99999999  3.99999999]\n",
      "[-2.99999999  3.99999999]\n",
      "[-2.99999999  3.99999999]\n",
      "[-2.99999999  3.99999999]\n",
      "[-2.99999999  3.99999999]\n",
      "[-2.99999999  3.99999999]\n",
      "[-2.99999999  3.99999999]\n",
      "[-2.99999999  3.99999999]\n",
      "[-2.99999999  3.99999999]\n",
      "[-2.99999999  3.99999998]\n",
      "[-2.99999999  3.99999998]\n",
      "[-2.99999999  3.99999998]\n",
      "[-2.99999999  3.99999998]\n",
      "[-2.99999999  3.99999998]\n",
      "[-2.99999999  3.99999998]\n",
      "[-2.99999998  3.99999998]\n",
      "[-2.99999998  3.99999998]\n",
      "[-2.99999998  3.99999998]\n",
      "[-2.99999998  3.99999998]\n",
      "[-2.99999998  3.99999998]\n",
      "[-2.99999998  3.99999998]\n",
      "[-2.99999998  3.99999998]\n",
      "[-2.99999998  3.99999997]\n",
      "[-2.99999998  3.99999997]\n",
      "[-2.99999998  3.99999997]\n",
      "[-2.99999998  3.99999997]\n",
      "[-2.99999998  3.99999997]\n",
      "[-2.99999998  3.99999997]\n",
      "[-2.99999998  3.99999997]\n",
      "[-2.99999998  3.99999997]\n",
      "[-2.99999998  3.99999997]\n",
      "[-2.99999998  3.99999997]\n",
      "[-2.99999997  3.99999997]\n",
      "[-2.99999997  3.99999997]\n",
      "[-2.99999997  3.99999996]\n",
      "[-2.99999997  3.99999996]\n",
      "[-2.99999997  3.99999996]\n",
      "[-2.99999997  3.99999996]\n",
      "[-2.99999997  3.99999996]\n",
      "[-2.99999997  3.99999996]\n",
      "[-2.99999997  3.99999996]\n",
      "[-2.99999997  3.99999996]\n",
      "[-2.99999997  3.99999996]\n",
      "[-2.99999997  3.99999996]\n",
      "[-2.99999997  3.99999996]\n",
      "[-2.99999997  3.99999996]\n",
      "[-2.99999997  3.99999996]\n",
      "[-2.99999997  3.99999995]\n",
      "[-2.99999997  3.99999995]\n",
      "[-2.99999996  3.99999995]\n",
      "[-2.99999996  3.99999995]\n",
      "[-2.99999996  3.99999995]\n",
      "[-2.99999996  3.99999995]\n",
      "[-2.99999996  3.99999995]\n",
      "[-2.99999996  3.99999995]\n",
      "[-2.99999996  3.99999995]\n",
      "[-2.99999996  3.99999995]\n",
      "[-2.99999996  3.99999995]\n",
      "[-2.99999996  3.99999995]\n",
      "[-2.99999996  3.99999994]\n",
      "[-2.99999996  3.99999994]\n",
      "[-2.99999996  3.99999994]\n",
      "[-2.99999996  3.99999994]\n",
      "[-2.99999996  3.99999994]\n",
      "[-2.99999996  3.99999994]\n",
      "[-2.99999995  3.99999994]\n",
      "[-2.99999995  3.99999994]\n",
      "[-2.99999995  3.99999994]\n",
      "[-2.99999995  3.99999994]\n",
      "[-2.99999995  3.99999994]\n",
      "[-2.99999995  3.99999994]\n",
      "[-2.99999995  3.99999994]\n",
      "[-2.99999995  3.99999993]\n",
      "[-2.99999995  3.99999993]\n",
      "[-2.99999995  3.99999993]\n",
      "[-2.99999995  3.99999993]\n",
      "[-2.99999995  3.99999993]\n",
      "[-2.99999995  3.99999993]\n",
      "[-2.99999995  3.99999993]\n",
      "[-2.99999995  3.99999993]\n",
      "[-2.99999995  3.99999993]\n",
      "[-2.99999995  3.99999993]\n",
      "[-2.99999994  3.99999993]\n",
      "[-2.99999994  3.99999993]\n",
      "[-2.99999994  3.99999992]\n",
      "[-2.99999994  3.99999992]\n",
      "[-2.99999994  3.99999992]\n",
      "[-2.99999994  3.99999992]\n",
      "[-2.99999994  3.99999992]\n",
      "[-2.99999994  3.99999992]\n",
      "[-2.99999994  3.99999992]\n"
     ]
    },
    {
     "data": {
      "text/plain": [
       "array([-2.99999994,  3.99999992])"
      ]
     },
     "execution_count": 30,
     "metadata": {},
     "output_type": "execute_result"
    }
   ],
   "source": [
    "# 학습률이 너무 작은 예 : lr =1e-10\n",
    "init_x = np.array([-3.0, 4.0])\n",
    "gradient_descent(function_2, init_x=init_x, lr=1e-10, step_num=100)"
   ]
  },
  {
   "cell_type": "code",
   "execution_count": 66,
   "metadata": {},
   "outputs": [],
   "source": [
    "## 이전에 만들어 놓은 함수 \n",
    "\n",
    "# softmax \n",
    "def softmax(a) :\n",
    "    c = np.max(a)\n",
    "    exp_a = np.exp(a-c)\n",
    "    sum_exp_a = np.sum(exp_a)\n",
    "    y = exp_a / sum_exp_a\n",
    "    \n",
    "    return y\n",
    "\n",
    "def sigmoid(x) :\n",
    "    return 1 / (1+np.exp(-x))"
   ]
  },
  {
   "cell_type": "code",
   "execution_count": 55,
   "metadata": {},
   "outputs": [],
   "source": [
    " # 간단한 신경망 예시 \n",
    "import sys, os\n",
    "sys.path.append(os.pardir)\n",
    "import numpy as np\n",
    "from common.gradient import numerical_gradient # 책의 내용과 함수가 다름\n",
    "\n",
    "\n",
    "class simpleNet :\n",
    "    def __init__(self) :\n",
    "        self.W = np.random.randn(2,3) # 정규분포로 초기화 (랜덤 행렬 2,3)\n",
    "    \n",
    "    def predict(self, x) :\n",
    "        return np.dot(x, self.W)\n",
    "    \n",
    "    def loss(self, x, t) :\n",
    "        z = self.predict(x)\n",
    "        y = softmax(z)\n",
    "        loss = cross_entropy_error(y,t)\n",
    "        \n",
    "        return loss"
   ]
  },
  {
   "cell_type": "code",
   "execution_count": 56,
   "metadata": {},
   "outputs": [
    {
     "name": "stdout",
     "output_type": "stream",
     "text": [
      "[[ 0.84847938  2.54405656 -0.74207406]\n",
      " [ 0.84579444 -1.20502867  1.2649686 ]]\n",
      "[1.27030262 0.44190813 0.6932273 ]\n",
      "0\n"
     ]
    },
    {
     "data": {
      "text/plain": [
       "2.9052664025473756"
      ]
     },
     "execution_count": 56,
     "metadata": {},
     "output_type": "execute_result"
    }
   ],
   "source": [
    "net = simpleNet()\n",
    "print(net.W)\n",
    "\n",
    "x = np.array([0.6,0.9])\n",
    "p = net.predict(x) \n",
    "\n",
    "print(p)\n",
    "\n",
    "print(np.argmax(p)) # 최대값의 인덱스 \n",
    "\n",
    "t = np.array([0, 0, 1])\n",
    "net.loss(x,t)"
   ]
  },
  {
   "cell_type": "code",
   "execution_count": 60,
   "metadata": {},
   "outputs": [
    {
     "name": "stdout",
     "output_type": "stream",
     "text": [
      "[[-0.29922906 -0.20658818  0.50581724]\n",
      " [-0.44884359 -0.30988227  0.75872586]]\n"
     ]
    }
   ],
   "source": [
    "# 손실함수\n",
    "def f(W) :\n",
    "    return net.loss(x, t)\n",
    "\n",
    "# 기울기\n",
    "dW = numerical_gradient(f, net.W)\n",
    "print(dW)"
   ]
  },
  {
   "cell_type": "code",
   "execution_count": 61,
   "metadata": {},
   "outputs": [
    {
     "name": "stdout",
     "output_type": "stream",
     "text": [
      "[[-0.29922906 -0.20658818  0.50581724]\n",
      " [-0.44884359 -0.30988227  0.75872586]]\n"
     ]
    }
   ],
   "source": [
    "f = lambda w: net.loss(x, t)\n",
    "dW = numerical_gradient(f, net.W)\n",
    "print(dW)"
   ]
  },
  {
   "cell_type": "code",
   "execution_count": 62,
   "metadata": {},
   "outputs": [],
   "source": [
    "# 2층 신경망 클래스 구현하기 \n",
    "import sys, os\n",
    "sys.path.append(os.pardir)\n",
    "from common.gradient import numerical_gradient\n",
    "\n",
    "class TwoLayerNet :\n",
    "    def __init__(self, input_size, hidden_size, output_size, weight_init_std = 0.01) :\n",
    "        # 가중치 초기화\n",
    "        self.params = {}  # 매개 변수를 보관하는 딕셔너리 \n",
    "        self.params['W1'] = weight_init_std * \\              # 1번째 층의 가중치\n",
    "                            np.random.randn(input_size, hidden_size)\n",
    "        self.params['b1'] = np.zeros(hidden_size)           # 1번째 층의 편향\n",
    "        self.params['W2'] = weight_init_std * \\              \n",
    "                            np.random.randn(hidden_size, output_size)\n",
    "        self.params['b2'] = np.zeros(output_size)\n",
    "    \n",
    "    def predict(self, x) : # 예측  y = wx + b\n",
    "        W1,W2 = self.params['W1'], self.params['W2']\n",
    "        b1, b2 = self.params['b1'], self.params['b2']\n",
    "        \n",
    "        a1 = np.dot(x, W1) + b1\n",
    "        z1 = sigmoid(a1)\n",
    "        a2 = np.dot(z1, W2) + b2\n",
    "        y = softmax(a2)\n",
    "        \n",
    "        return y\n",
    "    \n",
    "    # x : 입력 데이터, t : 정답 레이블\n",
    "    def loss(self, x, t) : # 손실함수의 값 y,t의 cross_entropy_error\n",
    "        y = self.predict(x)\n",
    "        return cross_entorpy_error(y,t)\n",
    "    \n",
    "    def accuracy(self, x, t) : # 정확도 \n",
    "        y = self.predict(x)\n",
    "        y = np.argmax(y, axis = 1)\n",
    "        t = np.argmax(t, axis = 1)\n",
    "        \n",
    "        accuracy = np.sum(y==t) / float(x.shape[0])\n",
    "        return accuracy\n",
    "    \n",
    "    # x : 입력 데이터, t : 정답 레이블           \n",
    "    def numerical_gradient(self, x, t) :   # 가중치 매개변수의 기울기를 구함 \n",
    "        loss_W = lambda W : self.loss(x, t)\n",
    "        \n",
    "        grads = {}\n",
    "        grads['W1'] = numerical_gradient(loss_W, self.params['W1'])\n",
    "        grads['b1'] = numerical_gradient(loss_W, self.params['b1'])\n",
    "        grads['W2'] = numerical_gradient(loss_W, self.params['W2'])\n",
    "        grads['b2'] = numerical_gradient(loss_W, self.params['b2'])\n",
    "        \n",
    "        return grads"
   ]
  },
  {
   "cell_type": "code",
   "execution_count": 64,
   "metadata": {},
   "outputs": [
    {
     "name": "stdout",
     "output_type": "stream",
     "text": [
      "(784, 100)\n",
      "(100,)\n",
      "(100, 10)\n",
      "(10,)\n"
     ]
    }
   ],
   "source": [
    "# example\n",
    "net = TwoLayerNet(input_size = 784, hidden_size = 100, output_size = 10)\n",
    "print(net.params['W1'].shape)\n",
    "print(net.params['b1'].shape)\n",
    "print(net.params['W2'].shape)\n",
    "print(net.params['b2'].shape)\n"
   ]
  },
  {
   "cell_type": "code",
   "execution_count": 69,
   "metadata": {
    "scrolled": true
   },
   "outputs": [
    {
     "data": {
      "text/plain": [
       "(100, 10)"
      ]
     },
     "execution_count": 69,
     "metadata": {},
     "output_type": "execute_result"
    }
   ],
   "source": [
    "# 예측 처리 예시 \n",
    "x = np.random.rand(100,784) # 더미 입력 데이터\n",
    "y = net.predict(x)\n",
    "print(y.shape)\n",
    "\n",
    "t = np.random.rand(100,10) # 더미 정답 레이블\n",
    "\n",
    "grads = net.numerical_gradient(x, t) # 기울기 계산\n",
    "\n",
    "print(grads['W1'].shape)\n",
    "print(grads['b1'].shape)\n",
    "print(grads['W2'].shape)\n",
    "print(grads['b2'].shape)\n"
   ]
  },
  {
   "cell_type": "code",
   "execution_count": null,
   "metadata": {},
   "outputs": [],
   "source": [
    "# 미니 배치 학습 구현 \n",
    "import numpy as np\n",
    "from data.mnist import load_mnist\n",
    "\n",
    "(x_train, t_train), (x_test, t_test) = load_mnist(normalize=True, one_hot_label=True)\n",
    "\n",
    "train_loss_list = []\n",
    "\n",
    "# 하이퍼파라미터 \n",
    "iters_num = 10000 # 반복 횟수\n",
    "train_size = x_train.shape[0]\n",
    "batch_size = 100 # 미니배치 크기\n",
    "learning_rate = 0.1 \n",
    "network = TwoLayerNet(input_size =784, hidden_size=50, output_size=10)"
   ]
  }
 ],
 "metadata": {
  "kernelspec": {
   "display_name": "Python 3",
   "language": "python",
   "name": "python3"
  },
  "language_info": {
   "codemirror_mode": {
    "name": "ipython",
    "version": 3
   },
   "file_extension": ".py",
   "mimetype": "text/x-python",
   "name": "python",
   "nbconvert_exporter": "python",
   "pygments_lexer": "ipython3",
   "version": "3.8.3"
  }
 },
 "nbformat": 4,
 "nbformat_minor": 4
}
