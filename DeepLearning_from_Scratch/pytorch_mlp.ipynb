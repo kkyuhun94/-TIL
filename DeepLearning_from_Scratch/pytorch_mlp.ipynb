{
 "cells": [
  {
   "cell_type": "code",
   "execution_count": 1,
   "metadata": {},
   "outputs": [],
   "source": [
    "import torch\n",
    "import torchvision\n",
    "import torchvision.datasets as datasets\n",
    "import torchvision.transforms as transforms\n",
    "import torch.nn as nn\n",
    "import torch.nn.functional as F\n",
    "import torch.optim as optim\n",
    "import matplotlib \n",
    "import matplotlib.pyplot as plt\n",
    "import numpy as np\n",
    "import pandas as pd\n",
    "import random\n",
    "import math\n",
    "from torch.utils.data.sampler import SubsetRandomSampler\n",
    "\n",
    "import warnings\n",
    "warnings.filterwarnings('ignore')"
   ]
  },
  {
   "cell_type": "code",
   "execution_count": 2,
   "metadata": {},
   "outputs": [
    {
     "name": "stdout",
     "output_type": "stream",
     "text": [
      "1.7.0\n"
     ]
    }
   ],
   "source": [
    "print(torch.__version__)"
   ]
  },
  {
   "cell_type": "code",
   "execution_count": 3,
   "metadata": {},
   "outputs": [],
   "source": [
    "#Multi-Layer Perceptron Model\n",
    "class MLP(nn.Module):\n",
    "    def __init__(self):\n",
    "        super(MLP, self).__init__()\n",
    "        self.fc1 = nn.Linear(28*28, 500) \n",
    "        self.fc2 = nn.Linear(500, 256)\n",
    "        self.fc3 = nn.Linear(256, 10)\n",
    "        \n",
    "\n",
    "    def forward(self, x):\n",
    "        x = x.view(-1, 28*28)\n",
    "        x = F.relu(self.fc1(x))   \n",
    "        x = F.relu(self.fc2(x))\n",
    "        x = self.fc3(x)\n",
    "        return x\n",
    "\n",
    "\n",
    "MLP_network = MLP()"
   ]
  },
  {
   "cell_type": "code",
   "execution_count": 4,
   "metadata": {},
   "outputs": [],
   "source": [
    "criterion = nn.CrossEntropyLoss() \n",
    "optimizer = optim.Adam(MLP_network.parameters(), lr=0.001, betas=(0.9,0.99), eps=1e-08, weight_decay=0.001)"
   ]
  },
  {
   "cell_type": "code",
   "execution_count": 5,
   "metadata": {},
   "outputs": [],
   "source": [
    "# transforms to apply to the Fashion mnist data\n",
    "normalize = transforms.Normalize(mean=[x/255.0 for x in [125.3, 123.0, 113.9]],\n",
    "                                     std=[x/255.0 for x in [63.0, 62.1, 66.7]])\n",
    "\n",
    "transform = transforms.Compose([transforms.ToTensor(),\n",
    "                                transforms.Normalize((0.1307,), (0.3081,))])\n",
    "\n",
    "# Fashion MNIST dataset\n",
    "fashion_trainset = datasets.FashionMNIST(root='./fmnist/', train=True, download=True, transform=transform)"
   ]
  },
  {
   "cell_type": "code",
   "execution_count": 6,
   "metadata": {},
   "outputs": [
    {
     "data": {
      "image/png": "[encoded data removed]",
      "text/plain": [
       "<Figure size 720x720 with 9 Axes>"
      ]
     },
     "metadata": {
      "needs_background": "light"
     },
     "output_type": "display_data"
    }
   ],
   "source": [
    "labels_map = ('T-Shirt', 'Trouser', 'Pullover', 'Dress', 'Coat', 'Sandal', 'Shirt','Sneaker', 'Bag', 'Ankle Boot')\n",
    "fig = plt.figure(figsize=(10,10));\n",
    "columns = 4;\n",
    "rows = 5;\n",
    "for i in range(1, 10):\n",
    "    fig.add_subplot(rows, columns, i)\n",
    "    fig.tight_layout()\n",
    "    plt.imshow(fashion_trainset.train_data[i].numpy(), cmap='gray')\n",
    "    plt.title('Training Label : %s' % labels_map[fashion_trainset.train_labels[i]])\n",
    "plt.show()"
   ]
  },
  {
   "cell_type": "code",
   "execution_count": 7,
   "metadata": {},
   "outputs": [],
   "source": [
    "num_train = len(fashion_trainset)\n",
    "indices = list(range(num_train))\n",
    "# Splitting the Dataset into 10% Training set and 90% Validation Set\n",
    "split = 54000\n",
    "\n",
    "# Random, non-contiguous split\n",
    "validation_idx = np.random.choice(indices, size=split, replace=False)\n",
    "train_idx = list(set(indices) - set(validation_idx))"
   ]
  },
  {
   "cell_type": "code",
   "execution_count": 8,
   "metadata": {},
   "outputs": [],
   "source": [
    "# Contiguous split\n",
    "# train_idx, validation_idx = indices[split:], indices[:split]\n",
    "\n",
    "## define our samplers -- we use a SubsetRandomSampler because it will return\n",
    "## a random subset of the split defined by the given indices without replaf\n",
    "train_sampler = SubsetRandomSampler(train_idx)\n",
    "validation_sampler = SubsetRandomSampler(validation_idx)\n",
    "\n",
    "train_loader1 = torch.utils.data.DataLoader(fashion_trainset, batch_size=10, sampler=train_sampler)\n",
    "\n",
    "validation_loader1 = torch.utils.data.DataLoader(fashion_trainset, batch_size=10, sampler=validation_sampler)"
   ]
  },
  {
   "cell_type": "code",
   "execution_count": 9,
   "metadata": {},
   "outputs": [
    {
     "name": "stdout",
     "output_type": "stream",
     "text": [
      "----------------------------------------------------\n",
      "Epoch 1  | Loss : 0.7139\n",
      "----------------------------------------------------\n",
      "Epoch 2  | Loss : 0.5188\n",
      "----------------------------------------------------\n",
      "Epoch 3  | Loss : 0.4556\n",
      "----------------------------------------------------\n",
      "Epoch 4  | Loss : 0.4179\n",
      "----------------------------------------------------\n",
      "Epoch 5  | Loss : 0.3959\n",
      "----------------------------------------------------\n",
      "Epoch 6  | Loss : 0.3714\n",
      "----------------------------------------------------\n",
      "Epoch 7  | Loss : 0.3562\n",
      "----------------------------------------------------\n",
      "Epoch 8  | Loss : 0.3400\n",
      "----------------------------------------------------\n",
      "Epoch 9  | Loss : 0.3269\n",
      "----------------------------------------------------\n",
      "Epoch 10  | Loss : 0.3165\n",
      "----------------------------------------------------\n",
      "Epoch 11  | Loss : 0.3101\n",
      "----------------------------------------------------\n",
      "Epoch 12  | Loss : 0.2929\n",
      "----------------------------------------------------\n",
      "Epoch 13  | Loss : 0.2768\n",
      "----------------------------------------------------\n",
      "Epoch 14  | Loss : 0.2752\n",
      "----------------------------------------------------\n",
      "Epoch 15  | Loss : 0.2683\n",
      "----------------------------------------------------\n",
      "Epoch 16  | Loss : 0.2591\n",
      "----------------------------------------------------\n",
      "Epoch 17  | Loss : 0.2550\n",
      "----------------------------------------------------\n",
      "Epoch 18  | Loss : 0.2539\n",
      "----------------------------------------------------\n",
      "Epoch 19  | Loss : 0.2512\n",
      "----------------------------------------------------\n",
      "Epoch 20  | Loss : 0.2397\n",
      "----------------------------------------------------\n",
      "Finished Training\n"
     ]
    }
   ],
   "source": [
    "#MLP on 10% of the Training Dataset\n",
    "num_epochs = 20\n",
    "total_step = len(train_loader1)\n",
    "Loss_f1 = []\n",
    "print('----------------------------------------------------')\n",
    "for epoch in range(num_epochs):  # loop over the dataset multiple times\n",
    "\n",
    "    running_loss = 0.0\n",
    "    for i, data in enumerate(train_loader1, 0):\n",
    "        # get the inputs\n",
    "        inputs, labels = data\n",
    "\n",
    "        # zero the parameter gradients\n",
    "        optimizer.zero_grad()\n",
    "\n",
    "        # forward + backward + optimize\n",
    "        outputs = MLP_network(inputs)\n",
    "        loss = criterion(outputs, labels)\n",
    "        loss.backward()\n",
    "        optimizer.step()\n",
    "\n",
    "        # print statistics\n",
    "        running_loss += loss.item()\n",
    "        \n",
    "    print('Epoch {}  | Loss : {:.4f}'.format(epoch+1, running_loss / total_step))        \n",
    "    print('----------------------------------------------------')\n",
    "    Loss_f1.append(running_loss / total_step)\n",
    "print('Finished Training')"
   ]
  },
  {
   "cell_type": "code",
   "execution_count": 10,
   "metadata": {},
   "outputs": [
    {
     "name": "stdout",
     "output_type": "stream",
     "text": [
      "Accuracy of the network on the 54000 test images: 83 %\n"
     ]
    }
   ],
   "source": [
    "#Accuracy of 90% of the Validation Test Dataset\n",
    "correct = 0\n",
    "total = 0\n",
    "with torch.no_grad():\n",
    "    for data in validation_loader1:\n",
    "        images, labels = data\n",
    "        outputs = MLP_network(images)\n",
    "        _, predicted = torch.max(outputs.data, 1)\n",
    "        total += labels.size(0)\n",
    "        correct += (predicted == labels).sum().item()\n",
    "\n",
    "print('Accuracy of the network on the 54000 test images: %d %%' % (100 * correct / total))\n"
   ]
  },
  {
   "cell_type": "code",
   "execution_count": 11,
   "metadata": {},
   "outputs": [
    {
     "data": {
      "text/plain": [
       "MLP(\n",
       "  (fc1): Linear(in_features=784, out_features=500, bias=True)\n",
       "  (fc2): Linear(in_features=500, out_features=256, bias=True)\n",
       "  (fc3): Linear(in_features=256, out_features=10, bias=True)\n",
       ")"
      ]
     },
     "execution_count": 11,
     "metadata": {},
     "output_type": "execute_result"
    }
   ],
   "source": [
    "MLP_network.eval()"
   ]
  },
  {
   "cell_type": "code",
   "execution_count": 12,
   "metadata": {},
   "outputs": [
    {
     "name": "stdout",
     "output_type": "stream",
     "text": [
      "Accuracy of class T-Shirt : 68 %\n",
      "Accuracy of class Trouser : 97 %\n",
      "Accuracy of class Pullover : 68 %\n",
      "Accuracy of class Dress : 67 %\n",
      "Accuracy of class  Coat : 88 %\n",
      "Accuracy of class Sandal : 94 %\n",
      "Accuracy of class Shirt : 67 %\n",
      "Accuracy of class Sneaker : 90 %\n",
      "Accuracy of class   Bag : 92 %\n",
      "Accuracy of class Ankle Boot : 93 %\n"
     ]
    }
   ],
   "source": [
    "class_correct = list(0. for i in range(10))\n",
    "class_total = list(0. for i in range(10))\n",
    "with torch.no_grad():\n",
    "    for data in validation_loader1:\n",
    "        images, labels = data\n",
    "        outputs = MLP_network(images)\n",
    "        _, predicted = torch.max(outputs, 1)\n",
    "        c = (predicted == labels).squeeze()\n",
    "        for i in range(10):\n",
    "            label = labels[i]\n",
    "            class_correct[label] += c[i].item()\n",
    "            class_total[label] += 1\n",
    "\n",
    "\n",
    "for i in range(10):\n",
    "    print('Accuracy of class %5s : %2d %%' % (\n",
    "        labels_map[i], 100 * class_correct[i] / class_total[i]))"
   ]
  },
  {
   "cell_type": "code",
   "execution_count": 13,
   "metadata": {},
   "outputs": [],
   "source": [
    "# 20 : 80\n",
    "num_train = len(fashion_trainset)\n",
    "indices = list(range(num_train))\n",
    "#Splitting the Dataset into 20% Training set and 80% Validation Set\n",
    "split = 48000\n",
    "\n",
    "# Random, non-contiguous split\n",
    "validation_idx = np.random.choice(indices, size=split, replace=False)\n",
    "train_idx = list(set(indices) - set(validation_idx))\n",
    "\n",
    "## define our samplers -- we use a SubsetRandomSampler because it will return\n",
    "## a random subset of the split defined by the given indices without replaf\n",
    "train_sampler = SubsetRandomSampler(train_idx)\n",
    "validation_sampler = SubsetRandomSampler(validation_idx)\n",
    "\n",
    "train_loader2 = torch.utils.data.DataLoader(fashion_trainset, batch_size=10, sampler=train_sampler)\n",
    "\n",
    "validation_loader2 = torch.utils.data.DataLoader(fashion_trainset, batch_size=10, sampler=validation_sampler)"
   ]
  },
  {
   "cell_type": "code",
   "execution_count": 14,
   "metadata": {},
   "outputs": [
    {
     "name": "stdout",
     "output_type": "stream",
     "text": [
      "----------------------------------------------------\n",
      "Epoch 1  | Loss : 0.4169\n",
      "----------------------------------------------------\n",
      "Epoch 2  | Loss : 0.3711\n",
      "----------------------------------------------------\n",
      "Epoch 3  | Loss : 0.3515\n",
      "----------------------------------------------------\n",
      "Epoch 4  | Loss : 0.3419\n",
      "----------------------------------------------------\n",
      "Epoch 5  | Loss : 0.3272\n",
      "----------------------------------------------------\n",
      "Epoch 6  | Loss : 0.3172\n",
      "----------------------------------------------------\n",
      "Epoch 7  | Loss : 0.3074\n",
      "----------------------------------------------------\n",
      "Epoch 8  | Loss : 0.2968\n",
      "----------------------------------------------------\n",
      "Epoch 9  | Loss : 0.2969\n",
      "----------------------------------------------------\n",
      "Epoch 10  | Loss : 0.2898\n",
      "----------------------------------------------------\n",
      "Epoch 11  | Loss : 0.2848\n",
      "----------------------------------------------------\n",
      "Epoch 12  | Loss : 0.2842\n",
      "----------------------------------------------------\n",
      "Epoch 13  | Loss : 0.2799\n",
      "----------------------------------------------------\n",
      "Epoch 14  | Loss : 0.2721\n",
      "----------------------------------------------------\n",
      "Epoch 15  | Loss : 0.2731\n",
      "----------------------------------------------------\n",
      "Epoch 16  | Loss : 0.2694\n",
      "----------------------------------------------------\n",
      "Epoch 17  | Loss : 0.2574\n",
      "----------------------------------------------------\n",
      "Epoch 18  | Loss : 0.2635\n",
      "----------------------------------------------------\n",
      "Epoch 19  | Loss : 0.2550\n",
      "----------------------------------------------------\n",
      "Epoch 20  | Loss : 0.2627\n",
      "----------------------------------------------------\n",
      "Finished Training\n"
     ]
    }
   ],
   "source": [
    "#MLP on 20% of the Training Dataset\n",
    "num_epochs = 20\n",
    "total_step = len(train_loader2)\n",
    "Loss_f2 = []\n",
    "print('----------------------------------------------------')\n",
    "for epoch in range(num_epochs):  # loop over the dataset multiple times\n",
    "\n",
    "    running_loss = 0.0\n",
    "    for i, data in enumerate(train_loader2, 0):\n",
    "        # get the inputs\n",
    "        inputs, labels = data\n",
    "\n",
    "        # zero the parameter gradients\n",
    "        optimizer.zero_grad()\n",
    "\n",
    "        # forward + backward + optimize\n",
    "        outputs = MLP_network(inputs)\n",
    "        loss = criterion(outputs, labels)\n",
    "        loss.backward()\n",
    "        optimizer.step()\n",
    "\n",
    "        # print statistics\n",
    "        running_loss += loss.item()\n",
    "        \n",
    "    print('Epoch {}  | Loss : {:.4f}'.format(epoch+1, running_loss / total_step))        \n",
    "    print('----------------------------------------------------')\n",
    "    Loss_f2.append(running_loss / total_step)\n",
    "print('Finished Training')"
   ]
  },
  {
   "cell_type": "code",
   "execution_count": 15,
   "metadata": {},
   "outputs": [
    {
     "name": "stdout",
     "output_type": "stream",
     "text": [
      "Accuracy of the network on the 48000 test images: 85 %\n"
     ]
    }
   ],
   "source": [
    "#Accuracy of 80% of the Validation Test Dataset\n",
    "correct = 0\n",
    "total = 0\n",
    "with torch.no_grad():\n",
    "    for data in validation_loader2:\n",
    "        images, labels = data\n",
    "        outputs = MLP_network(images)\n",
    "        _, predicted = torch.max(outputs.data, 1)\n",
    "        total += labels.size(0)\n",
    "        correct += (predicted == labels).sum().item()\n",
    "\n",
    "print('Accuracy of the network on the 48000 test images: %d %%' % (100 * correct / total))"
   ]
  },
  {
   "cell_type": "code",
   "execution_count": 17,
   "metadata": {},
   "outputs": [
    {
     "name": "stdout",
     "output_type": "stream",
     "text": [
      "Accuracy of class T-Shirt : 83 %\n",
      "Accuracy of class Trouser : 96 %\n",
      "Accuracy of class Pullover : 76 %\n",
      "Accuracy of class Dress : 88 %\n",
      "Accuracy of class  Coat : 83 %\n",
      "Accuracy of class Sandal : 91 %\n",
      "Accuracy of class Shirt : 65 %\n",
      "Accuracy of class Sneaker : 85 %\n",
      "Accuracy of class   Bag : 94 %\n",
      "Accuracy of class Ankle Boot : 97 %\n"
     ]
    }
   ],
   "source": [
    "class_correct = list(0. for i in range(10))\n",
    "class_total = list(0. for i in range(10))\n",
    "with torch.no_grad():\n",
    "    for data in validation_loader2:\n",
    "        images, labels = data\n",
    "        outputs = MLP_network(images)\n",
    "        _, predicted = torch.max(outputs, 1)\n",
    "        c = (predicted == labels).squeeze()\n",
    "        for i in range(10):\n",
    "            label = labels[i]\n",
    "            class_correct[label] += c[i].item()\n",
    "            class_total[label] += 1\n",
    "\n",
    "\n",
    "for i in range(10):\n",
    "    print('Accuracy of class %5s : %2d %%' % (\n",
    "        labels_map[i], 100 * class_correct[i] / class_total[i]))"
   ]
  },
  {
   "cell_type": "code",
   "execution_count": 19,
   "metadata": {},
   "outputs": [],
   "source": [
    "num_train = len(fashion_trainset)\n",
    "indices = list(range(num_train))\n",
    "#Splitting the Dataset into 30% Training set and 70% Validation Set\n",
    "split = 42000\n",
    "\n",
    "# Random, non-contiguous split\n",
    "validation_idx = np.random.choice(indices, size=split, replace=False)\n",
    "train_idx = list(set(indices) - set(validation_idx))\n",
    "\n",
    "# Contiguous split\n",
    "# train_idx, validation_idx = indices[split:], indices[:split]\n",
    "\n",
    "## define our samplers -- we use a SubsetRandomSampler because it will return\n",
    "## a random subset of the split defined by the given indices without replaf\n",
    "train_sampler = SubsetRandomSampler(train_idx)\n",
    "validation_sampler = SubsetRandomSampler(validation_idx)\n",
    "\n",
    "train_loader3 = torch.utils.data.DataLoader(fashion_trainset, batch_size=10, sampler=train_sampler)\n",
    "\n",
    "validation_loader3 = torch.utils.data.DataLoader(fashion_trainset, batch_size=10, sampler=validation_sampler)"
   ]
  },
  {
   "cell_type": "code",
   "execution_count": 20,
   "metadata": {},
   "outputs": [
    {
     "name": "stdout",
     "output_type": "stream",
     "text": [
      "----------------------------------------------------\n",
      "Epoch 1  | Loss : 0.3860\n",
      "----------------------------------------------------\n",
      "Epoch 2  | Loss : 0.3564\n",
      "----------------------------------------------------\n",
      "Epoch 3  | Loss : 0.3354\n",
      "----------------------------------------------------\n",
      "Epoch 4  | Loss : 0.3309\n",
      "----------------------------------------------------\n",
      "Epoch 5  | Loss : 0.3213\n",
      "----------------------------------------------------\n",
      "Epoch 6  | Loss : 0.3196\n",
      "----------------------------------------------------\n",
      "Epoch 7  | Loss : 0.3153\n",
      "----------------------------------------------------\n",
      "Epoch 8  | Loss : 0.3092\n",
      "----------------------------------------------------\n",
      "Epoch 9  | Loss : 0.3069\n",
      "----------------------------------------------------\n",
      "Epoch 10  | Loss : 0.2973\n",
      "----------------------------------------------------\n",
      "Epoch 11  | Loss : 0.3000\n",
      "----------------------------------------------------\n",
      "Epoch 12  | Loss : 0.2978\n",
      "----------------------------------------------------\n",
      "Epoch 13  | Loss : 0.2975\n",
      "----------------------------------------------------\n",
      "Epoch 14  | Loss : 0.2953\n",
      "----------------------------------------------------\n",
      "Epoch 15  | Loss : 0.2909\n",
      "----------------------------------------------------\n",
      "Epoch 16  | Loss : 0.2877\n",
      "----------------------------------------------------\n",
      "Epoch 17  | Loss : 0.2889\n",
      "----------------------------------------------------\n",
      "Epoch 18  | Loss : 0.2895\n",
      "----------------------------------------------------\n",
      "Epoch 19  | Loss : 0.2880\n",
      "----------------------------------------------------\n",
      "Epoch 20  | Loss : 0.2882\n",
      "----------------------------------------------------\n",
      "Finished Training\n"
     ]
    }
   ],
   "source": [
    "#MLP on 30% of the Training Dataset\n",
    "num_epochs = 20\n",
    "total_step = len(train_loader3)\n",
    "Loss_f3 = []\n",
    "print('----------------------------------------------------')\n",
    "for epoch in range(num_epochs):  # loop over the dataset multiple times\n",
    "\n",
    "    running_loss = 0.0\n",
    "    for i, data in enumerate(train_loader3, 0):\n",
    "        # get the inputs\n",
    "        inputs, labels = data\n",
    "\n",
    "        # zero the parameter gradients\n",
    "        optimizer.zero_grad()\n",
    "\n",
    "        # forward + backward + optimize\n",
    "        outputs = MLP_network(inputs)\n",
    "        loss = criterion(outputs, labels)\n",
    "        loss.backward()\n",
    "        optimizer.step()\n",
    "\n",
    "        # print statistics\n",
    "        running_loss += loss.item()\n",
    "        \n",
    "    print('Epoch {}  | Loss : {:.4f}'.format(epoch+1, running_loss / total_step))        \n",
    "    print('----------------------------------------------------')\n",
    "    Loss_f3.append(running_loss / total_step)\n",
    "print('Finished Training')"
   ]
  },
  {
   "cell_type": "code",
   "execution_count": 21,
   "metadata": {},
   "outputs": [
    {
     "name": "stdout",
     "output_type": "stream",
     "text": [
      "Accuracy of the network on the 42000 test images: 86 %\n"
     ]
    }
   ],
   "source": [
    "#Accuracy of 70% of the Validation Test Dataset\n",
    "correct = 0\n",
    "total = 0\n",
    "with torch.no_grad():\n",
    "    for data in validation_loader3:\n",
    "        images, labels = data\n",
    "        outputs = MLP_network(images)\n",
    "        _, predicted = torch.max(outputs.data, 1)\n",
    "        total += labels.size(0)\n",
    "        correct += (predicted == labels).sum().item()\n",
    "\n",
    "print('Accuracy of the network on the 42000 test images: %d %%' % (100 * correct / total))\n"
   ]
  },
  {
   "cell_type": "code",
   "execution_count": 22,
   "metadata": {},
   "outputs": [
    {
     "name": "stdout",
     "output_type": "stream",
     "text": [
      "Accuracy of class T-Shirt : 81 %\n",
      "Accuracy of class Trouser : 97 %\n",
      "Accuracy of class Pullover : 72 %\n",
      "Accuracy of class Dress : 90 %\n",
      "Accuracy of class  Coat : 85 %\n",
      "Accuracy of class Sandal : 94 %\n",
      "Accuracy of class Shirt : 62 %\n",
      "Accuracy of class Sneaker : 92 %\n",
      "Accuracy of class   Bag : 96 %\n",
      "Accuracy of class Ankle Boot : 93 %\n"
     ]
    }
   ],
   "source": [
    "class_correct = list(0. for i in range(10))\n",
    "class_total = list(0. for i in range(10))\n",
    "with torch.no_grad():\n",
    "    for data in validation_loader3:\n",
    "        images, labels = data\n",
    "        outputs = MLP_network(images)\n",
    "        _, predicted = torch.max(outputs, 1)\n",
    "        c = (predicted == labels).squeeze()\n",
    "        for i in range(10):\n",
    "            label = labels[i]\n",
    "            class_correct[label] += c[i].item()\n",
    "            class_total[label] += 1\n",
    "\n",
    "\n",
    "for i in range(10):\n",
    "    print('Accuracy of class %5s : %2d %%' % (\n",
    "        labels_map[i], 100 * class_correct[i] / class_total[i]))"
   ]
  },
  {
   "cell_type": "code",
   "execution_count": 23,
   "metadata": {},
   "outputs": [],
   "source": [
    "num_train = len(fashion_trainset)\n",
    "indices = list(range(num_train))\n",
    "#Splitting the Dataset into 40% Training set and 60% Validation Set\n",
    "split = 36000\n",
    "\n",
    "# Random, non-contiguous split\n",
    "validation_idx = np.random.choice(indices, size=split, replace=False)\n",
    "train_idx = list(set(indices) - set(validation_idx))\n",
    "\n",
    "# Contiguous split\n",
    "# train_idx, validation_idx = indices[split:], indices[:split]\n",
    "\n",
    "## define our samplers -- we use a SubsetRandomSampler because it will return\n",
    "## a random subset of the split defined by the given indices without replaf\n",
    "train_sampler = SubsetRandomSampler(train_idx)\n",
    "validation_sampler = SubsetRandomSampler(validation_idx)\n",
    "\n",
    "train_loader4 = torch.utils.data.DataLoader(fashion_trainset, batch_size=10, sampler=train_sampler)\n",
    "\n",
    "validation_loader4 = torch.utils.data.DataLoader(fashion_trainset, batch_size=10, sampler=validation_sampler)"
   ]
  },
  {
   "cell_type": "code",
   "execution_count": 24,
   "metadata": {},
   "outputs": [
    {
     "name": "stdout",
     "output_type": "stream",
     "text": [
      "----------------------------------------------------\n",
      "Epoch 1  | Loss : 0.3709\n",
      "----------------------------------------------------\n",
      "Epoch 2  | Loss : 0.3405\n",
      "----------------------------------------------------\n",
      "Epoch 3  | Loss : 0.3313\n",
      "----------------------------------------------------\n",
      "Epoch 4  | Loss : 0.3242\n",
      "----------------------------------------------------\n",
      "Epoch 5  | Loss : 0.3189\n",
      "----------------------------------------------------\n",
      "Epoch 6  | Loss : 0.3170\n",
      "----------------------------------------------------\n",
      "Epoch 7  | Loss : 0.3127\n",
      "----------------------------------------------------\n",
      "Epoch 8  | Loss : 0.3098\n",
      "----------------------------------------------------\n",
      "Epoch 9  | Loss : 0.3106\n",
      "----------------------------------------------------\n",
      "Epoch 10  | Loss : 0.3085\n",
      "----------------------------------------------------\n",
      "Epoch 11  | Loss : 0.3090\n",
      "----------------------------------------------------\n",
      "Epoch 12  | Loss : 0.3078\n",
      "----------------------------------------------------\n",
      "Epoch 13  | Loss : 0.2993\n",
      "----------------------------------------------------\n",
      "Epoch 14  | Loss : 0.2966\n",
      "----------------------------------------------------\n",
      "Epoch 15  | Loss : 0.2992\n",
      "----------------------------------------------------\n",
      "Epoch 16  | Loss : 0.2995\n",
      "----------------------------------------------------\n",
      "Epoch 17  | Loss : 0.2986\n",
      "----------------------------------------------------\n",
      "Epoch 18  | Loss : 0.2973\n",
      "----------------------------------------------------\n",
      "Epoch 19  | Loss : 0.2968\n",
      "----------------------------------------------------\n",
      "Epoch 20  | Loss : 0.2949\n",
      "----------------------------------------------------\n",
      "Finished Training\n"
     ]
    }
   ],
   "source": [
    "#MLP on 40% of the Training Dataset\n",
    "num_epochs = 20\n",
    "total_step = len(train_loader4)\n",
    "Loss_f4 = []\n",
    "print('----------------------------------------------------')\n",
    "for epoch in range(num_epochs):  # loop over the dataset multiple times\n",
    "\n",
    "    running_loss = 0.0\n",
    "    for i, data in enumerate(train_loader4, 0):\n",
    "        # get the inputs\n",
    "        inputs, labels = data\n",
    "\n",
    "        # zero the parameter gradients\n",
    "        optimizer.zero_grad()\n",
    "\n",
    "        # forward + backward + optimize\n",
    "        outputs = MLP_network(inputs)\n",
    "        loss = criterion(outputs, labels)\n",
    "        loss.backward()\n",
    "        optimizer.step()\n",
    "\n",
    "        # print statistics\n",
    "        running_loss += loss.item()\n",
    "        \n",
    "    print('Epoch {}  | Loss : {:.4f}'.format(epoch+1, running_loss / total_step))        \n",
    "    print('----------------------------------------------------')\n",
    "    Loss_f4.append(running_loss / total_step)\n",
    "print('Finished Training')"
   ]
  },
  {
   "cell_type": "code",
   "execution_count": 25,
   "metadata": {},
   "outputs": [
    {
     "name": "stdout",
     "output_type": "stream",
     "text": [
      "Accuracy of the network on the 36000 test images: 85 %\n"
     ]
    }
   ],
   "source": [
    "#Accuracy of 60% of the Validation Test Dataset\n",
    "correct = 0\n",
    "total = 0\n",
    "with torch.no_grad():\n",
    "    for data in validation_loader4:\n",
    "        images, labels = data\n",
    "        outputs = MLP_network(images)\n",
    "        _, predicted = torch.max(outputs.data, 1)\n",
    "        total += labels.size(0)\n",
    "        correct += (predicted == labels).sum().item()\n",
    "\n",
    "print('Accuracy of the network on the 36000 test images: %d %%' % (100 * correct / total))"
   ]
  },
  {
   "cell_type": "code",
   "execution_count": 26,
   "metadata": {},
   "outputs": [
    {
     "name": "stdout",
     "output_type": "stream",
     "text": [
      "Accuracy of class T-Shirt : 82 %\n",
      "Accuracy of class Trouser : 95 %\n",
      "Accuracy of class Pullover : 74 %\n",
      "Accuracy of class Dress : 79 %\n",
      "Accuracy of class  Coat : 66 %\n",
      "Accuracy of class Sandal : 93 %\n",
      "Accuracy of class Shirt : 73 %\n",
      "Accuracy of class Sneaker : 90 %\n",
      "Accuracy of class   Bag : 96 %\n",
      "Accuracy of class Ankle Boot : 96 %\n"
     ]
    }
   ],
   "source": [
    "class_correct = list(0. for i in range(10))\n",
    "class_total = list(0. for i in range(10))\n",
    "with torch.no_grad():\n",
    "    for data in validation_loader4:\n",
    "        images, labels = data\n",
    "        outputs = MLP_network(images)\n",
    "        _, predicted = torch.max(outputs, 1)\n",
    "        c = (predicted == labels).squeeze()\n",
    "        for i in range(10):\n",
    "            label = labels[i]\n",
    "            class_correct[label] += c[i].item()\n",
    "            class_total[label] += 1\n",
    "\n",
    "\n",
    "for i in range(10):\n",
    "    print('Accuracy of class %5s : %2d %%' % (\n",
    "        labels_map[i], 100 * class_correct[i] / class_total[i]))"
   ]
  },
  {
   "cell_type": "code",
   "execution_count": 27,
   "metadata": {},
   "outputs": [],
   "source": [
    "num_train = len(fashion_trainset)\n",
    "indices = list(range(num_train))\n",
    "#Splitting the Dataset into 50% Training set and 50% Validation Set\n",
    "split = 30000\n",
    "\n",
    "# Random, non-contiguous split\n",
    "validation_idx = np.random.choice(indices, size=split, replace=False)\n",
    "train_idx = list(set(indices) - set(validation_idx))\n",
    "\n",
    "# Contiguous split\n",
    "# train_idx, validation_idx = indices[split:], indices[:split]\n",
    "\n",
    "## define our samplers -- we use a SubsetRandomSampler because it will return\n",
    "## a random subset of the split defined by the given indices without replaf\n",
    "train_sampler = SubsetRandomSampler(train_idx)\n",
    "validation_sampler = SubsetRandomSampler(validation_idx)\n",
    "\n",
    "train_loader5 = torch.utils.data.DataLoader(fashion_trainset, batch_size=10, sampler=train_sampler)\n",
    "\n",
    "validation_loader5 = torch.utils.data.DataLoader(fashion_trainset, batch_size=10, sampler=validation_sampler)\n"
   ]
  },
  {
   "cell_type": "code",
   "execution_count": 28,
   "metadata": {},
   "outputs": [
    {
     "name": "stdout",
     "output_type": "stream",
     "text": [
      "----------------------------------------------------\n",
      "Epoch 1  | Loss : 0.3525\n",
      "----------------------------------------------------\n",
      "Epoch 2  | Loss : 0.3377\n",
      "----------------------------------------------------\n",
      "Epoch 3  | Loss : 0.3346\n",
      "----------------------------------------------------\n",
      "Epoch 4  | Loss : 0.3293\n",
      "----------------------------------------------------\n",
      "Epoch 5  | Loss : 0.3248\n",
      "----------------------------------------------------\n",
      "Epoch 6  | Loss : 0.3212\n",
      "----------------------------------------------------\n",
      "Epoch 7  | Loss : 0.3199\n",
      "----------------------------------------------------\n",
      "Epoch 8  | Loss : 0.3200\n",
      "----------------------------------------------------\n",
      "Epoch 9  | Loss : 0.3171\n",
      "----------------------------------------------------\n",
      "Epoch 10  | Loss : 0.3189\n",
      "----------------------------------------------------\n",
      "Epoch 11  | Loss : 0.3190\n",
      "----------------------------------------------------\n",
      "Epoch 12  | Loss : 0.3141\n",
      "----------------------------------------------------\n",
      "Epoch 13  | Loss : 0.3127\n",
      "----------------------------------------------------\n",
      "Epoch 14  | Loss : 0.3154\n",
      "----------------------------------------------------\n",
      "Epoch 15  | Loss : 0.3157\n",
      "----------------------------------------------------\n",
      "Epoch 16  | Loss : 0.3153\n",
      "----------------------------------------------------\n",
      "Epoch 17  | Loss : 0.3123\n",
      "----------------------------------------------------\n",
      "Epoch 18  | Loss : 0.3096\n",
      "----------------------------------------------------\n",
      "Epoch 19  | Loss : 0.3116\n",
      "----------------------------------------------------\n",
      "Epoch 20  | Loss : 0.3120\n",
      "----------------------------------------------------\n",
      "Finished Training\n"
     ]
    }
   ],
   "source": [
    "#MLP on 50% of the Training Dataset\n",
    "num_epochs = 20\n",
    "total_step = len(train_loader5)\n",
    "Loss_f5 = []\n",
    "print('----------------------------------------------------')\n",
    "for epoch in range(num_epochs):  # loop over the dataset multiple times\n",
    "\n",
    "    running_loss = 0.0\n",
    "    for i, data in enumerate(train_loader5, 0):\n",
    "        # get the inputs\n",
    "        inputs, labels = data\n",
    "\n",
    "        # zero the parameter gradients\n",
    "        optimizer.zero_grad()\n",
    "\n",
    "        # forward + backward + optimize\n",
    "        outputs = MLP_network(inputs)\n",
    "        loss = criterion(outputs, labels)\n",
    "        loss.backward()\n",
    "        optimizer.step()\n",
    "\n",
    "        # print statistics\n",
    "        running_loss += loss.item()\n",
    "        \n",
    "    print('Epoch {}  | Loss : {:.4f}'.format(epoch+1, running_loss / total_step))        \n",
    "    print('----------------------------------------------------')\n",
    "    Loss_f5.append(running_loss / total_step)\n",
    "print('Finished Training')"
   ]
  },
  {
   "cell_type": "code",
   "execution_count": 29,
   "metadata": {},
   "outputs": [
    {
     "name": "stdout",
     "output_type": "stream",
     "text": [
      "Accuracy of the network on the 30000 test images: 86 %\n"
     ]
    }
   ],
   "source": [
    "#Accuracy of 50% of the Validation Test Dataset\n",
    "correct = 0\n",
    "total = 0\n",
    "with torch.no_grad():\n",
    "    for data in validation_loader5:\n",
    "        images, labels = data\n",
    "        outputs = MLP_network(images)\n",
    "        _, predicted = torch.max(outputs.data, 1)\n",
    "        total += labels.size(0)\n",
    "        correct += (predicted == labels).sum().item()\n",
    "\n",
    "print('Accuracy of the network on the 30000 test images: %d %%' % (100 * correct / total))"
   ]
  },
  {
   "cell_type": "code",
   "execution_count": 30,
   "metadata": {},
   "outputs": [
    {
     "name": "stdout",
     "output_type": "stream",
     "text": [
      "Accuracy of class T-Shirt : 80 %\n",
      "Accuracy of class Trouser : 96 %\n",
      "Accuracy of class Pullover : 84 %\n",
      "Accuracy of class Dress : 91 %\n",
      "Accuracy of class  Coat : 79 %\n",
      "Accuracy of class Sandal : 95 %\n",
      "Accuracy of class Shirt : 58 %\n",
      "Accuracy of class Sneaker : 91 %\n",
      "Accuracy of class   Bag : 93 %\n",
      "Accuracy of class Ankle Boot : 95 %\n"
     ]
    }
   ],
   "source": [
    "class_correct = list(0. for i in range(10))\n",
    "class_total = list(0. for i in range(10))\n",
    "with torch.no_grad():\n",
    "    for data in validation_loader5:\n",
    "        images, labels = data\n",
    "        outputs = MLP_network(images)\n",
    "        _, predicted = torch.max(outputs, 1)\n",
    "        c = (predicted == labels).squeeze()\n",
    "        for i in range(10):\n",
    "            label = labels[i]\n",
    "            class_correct[label] += c[i].item()\n",
    "            class_total[label] += 1\n",
    "\n",
    "\n",
    "for i in range(10):\n",
    "    print('Accuracy of class %5s : %2d %%' % (\n",
    "        labels_map[i], 100 * class_correct[i] / class_total[i]))"
   ]
  },
  {
   "cell_type": "code",
   "execution_count": 31,
   "metadata": {},
   "outputs": [
    {
     "data": {
      "image/png": "[encoded data removed]",
      "text/plain": [
       "<Figure size 432x288 with 1 Axes>"
      ]
     },
     "metadata": {
      "needs_background": "light"
     },
     "output_type": "display_data"
    }
   ],
   "source": [
    "plt.plot(Loss_f1, 'r--', label = \"10% Training Data\")\n",
    "plt.plot(Loss_f2, 'b--', label = \"20% Training Data\")\n",
    "plt.plot(Loss_f3, 'y--', label = \"30% Training Data\")\n",
    "plt.plot(Loss_f4, 'g--', label = \"40% Training Data\")\n",
    "plt.plot(Loss_f5, 'k--', label = \"50% Training Data\")\n",
    "plt.title(\"Loss vs Epoch for Fashion MNIST Dataset (using MLP)\")\n",
    "plt.xlim([0, num_epochs])\n",
    "plt.xlabel(\"Epoch\")\n",
    "plt.ylabel(\"Loss\")\n",
    "plt.legend(bbox_to_anchor=(1.05, 1), loc=2, borderaxespad=0.)\n",
    "plt.show()"
   ]
  },
  {
   "cell_type": "code",
   "execution_count": null,
   "metadata": {},
   "outputs": [],
   "source": []
  }
 ],
 "metadata": {
  "kernelspec": {
   "display_name": "Python 3",
   "language": "python",
   "name": "python3"
  },
  "language_info": {
   "codemirror_mode": {
    "name": "ipython",
    "version": 3
   },
   "file_extension": ".py",
   "mimetype": "text/x-python",
   "name": "python",
   "nbconvert_exporter": "python",
   "pygments_lexer": "ipython3",
   "version": "3.8.3"
  }
 },
 "nbformat": 4,
 "nbformat_minor": 4
}
