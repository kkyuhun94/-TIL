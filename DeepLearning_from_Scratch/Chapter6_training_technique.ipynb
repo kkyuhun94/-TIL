{
 "cells": [
  {
   "cell_type": "markdown",
   "metadata": {},
   "source": [
    "## Chapter 6. 학습 관련 기술들\n",
    "\n",
    "#### 6.1 매개변수 갱신\n",
    "* 모험가 이야기\n",
    "* 확률적 경사 하강법(SGD)\n",
    "* SGD의 단점\n",
    "* 모멘텀\n",
    "* AdaGrad\n",
    "* Adam\n",
    "* 어느 갱신 방법을 이용할 것인가?\n",
    "* MNIST 데이터셋으로 본 갱신 방법 비교\n",
    "\n",
    "#### 6.2 가중치의 초깃값\n",
    "* 초깃값을 0으로 하면\n",
    "* 은닉층의 활성화 값 분포\n",
    "* ReLU를 사용할 때의 가중치 초깃값\n",
    "* MNIST 데이터셋으로 본 가중치 초깃값 비교\n",
    "\n",
    "#### 6.3 배치 정규화\n",
    "* 배치 정규화 알고리즘\n",
    "* 배치 정규화의 효과\n",
    "\n",
    "#### 6.4 바른 학습을 위해\n",
    "* 오버피팅\n",
    "* 가중치 감소\n",
    "* 드롭아웃\n",
    "\n",
    "#### 6.5 적절한 하이퍼 파라미터 값 찾기\n",
    "* 검증 데이터\n",
    "* 하이퍼파라미터 최적화\n",
    "* 하이퍼파라미터 최적화 구현하기\n",
    "\n",
    "#### 6.6 정리"
   ]
  },
  {
   "cell_type": "code",
   "execution_count": null,
   "metadata": {},
   "outputs": [],
   "source": [
    " "
   ]
  }
 ],
 "metadata": {
  "kernelspec": {
   "display_name": "Python 3",
   "language": "python",
   "name": "python3"
  },
  "language_info": {
   "codemirror_mode": {
    "name": "ipython",
    "version": 3
   },
   "file_extension": ".py",
   "mimetype": "text/x-python",
   "name": "python",
   "nbconvert_exporter": "python",
   "pygments_lexer": "ipython3",
   "version": "3.8.3"
  }
 },
 "nbformat": 4,
 "nbformat_minor": 4
}
