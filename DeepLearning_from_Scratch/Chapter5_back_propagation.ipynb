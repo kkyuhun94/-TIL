{
 "cells": [
  {
   "cell_type": "markdown",
   "metadata": {},
   "source": [
    "## Chapter 5. 오차역전파법\n",
    "\n",
    "#### 5.1 계산 그래프\n",
    "* 계산 그래프로 풀다\n",
    "* 국소적 계산\n",
    "* 왜 계산 그래프로 푸는가? \n",
    "\n",
    "#### 5.2 연쇄 법칙\n",
    "* 계산 그래프의 역전파\n",
    "* 연쇄법칙이란 ?\n",
    "* 연쇄 법칙과 계산 그래프\n",
    "\n",
    "#### 5.3 역전파\n",
    "* 덧셈 노드의 역전파\n",
    "* 곱셈 노드의 역전파\n",
    "* 사과 쇼핑의 예\n",
    "\n",
    "#### 5.4 단순한 계층 구현하기\n",
    "* 곱셈 계층\n",
    "* 덧셈 계층 \n",
    "\n",
    "#### 5.5 활성화 함수 계층 구현하기\n",
    "* ReLU 계층\n",
    "* Sigmoid 계층\n",
    "\n",
    "#### 5.6 Affine/Softmax 계층 구현하기\n",
    "* Affine 계층\n",
    "* 배치용 Affine 계층\n",
    "* Softmax-with-Loss 계층\n",
    "\n",
    "#### 5.7 오차역전파법 구현하기\n",
    "* 신경망 학습의 전체 그림\n",
    "* 오차역전파법을 적용한 신경망 구현\n",
    "* 오차역전파법으로 구한 기울기 검증\n",
    "* 오차역전파법을 사용한 학습 구현 \n",
    "\n",
    "#### 5.8 정리"
   ]
  },
  {
   "cell_type": "code",
   "execution_count": null,
   "metadata": {},
   "outputs": [],
   "source": []
  }
 ],
 "metadata": {
  "kernelspec": {
   "display_name": "Python 3",
   "language": "python",
   "name": "python3"
  },
  "language_info": {
   "codemirror_mode": {
    "name": "ipython",
    "version": 3
   },
   "file_extension": ".py",
   "mimetype": "text/x-python",
   "name": "python",
   "nbconvert_exporter": "python",
   "pygments_lexer": "ipython3",
   "version": "3.8.3"
  }
 },
 "nbformat": 4,
 "nbformat_minor": 4
}
