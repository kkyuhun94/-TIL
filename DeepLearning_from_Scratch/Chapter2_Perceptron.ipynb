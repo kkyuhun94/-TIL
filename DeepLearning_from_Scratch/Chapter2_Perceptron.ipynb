{
 "cells": [
  {
   "cell_type": "markdown",
   "metadata": {},
   "source": [
    "## Chapter 2. 퍼셉트론\n",
    "\n",
    "#### 2.1 퍼셉트론이란?\n",
    "* 퍼셉트론 알고리즘 : 신경망(딥러닝)의 기원이 되는 알고리즘\n",
    "    * 퍼셉트론 : 다수의 신호를 입력으로 받아 하나의 신호를 출력\n",
    "    * 퍼셉트론 신호 : 흐름을 만들고 정보를 전달 \n",
    "        * 흐른다(1) / 흐르지 않는다(0) 두가지 값\n",
    "    * 입력 신호에 각각의 고유한 가중치가 곱해지고, 신호의 총합이 한계(임계값)를 넘어서면 1을 출력(뉴런이 활성화)\n",
    "        * 가중치 : 클수록 해당 신호가 그만큼 더 중요\n",
    "            * 전류에서의 저항과 유사(가중치가 클수록 강한 신호를 흘려 보냄)\n",
    "    \n",
    "#### 2.2 단순한 논리회로\n",
    "* AND 게이트 : 입력이 둘, 출력이 하나인 게이트\n",
    "    1. 진리표 작성\n",
    "        * x_1  | x_2 |  y \n",
    "            *  0   |  0  |  0 \n",
    "            *  1   |  0  |  0 \n",
    "            *  0   |  1  |  0 \n",
    "            *  1   |  1  |  1 \n",
    "    2. 진리표 대로 작동하도록 하는 $w_1,w_2,\\theta$의 값을 정함\n",
    "\n",
    "* NAND,OR 게이트\n",
    "    * NAND 게이트\n",
    "         * x_1  | x_2 |  y \n",
    "            *  0   |  0  |  1 \n",
    "            *  1   |  0  |  1 \n",
    "            *  0   |  1  |  1 \n",
    "            *  1   |  1  |  0 \n",
    "    * OR 게이트 : \n",
    "         * x_1  | x_2 |  y \n",
    "            *  0   |  0  |  0 \n",
    "            *  1   |  0  |  1 \n",
    "            *  0   |  1  |  1 \n",
    "            *  1   |  1  |  1\n",
    "            \n",
    "* AND, NAND, OR 게이트 : 퍼셉트론의 구조는 같음, weight(가중치)와 $\\theta$(임계값)만 다를 뿐 \n",
    "\n",
    "#### 2.3 퍼셉트론 구현하기 \n",
    "* 간단한 구현\n",
    "* 가중치와 편향 도입\n",
    "    * x = np.array([x1,x2])\n",
    "    * w = np.array([w1,w2])\n",
    "    * tmp = np.sum(w*x) + b\n",
    "* 가중치와 편향 구현\n",
    "\n",
    "#### 2.4 퍼셉트론의 한계\n",
    "* XOR 게이트\n",
    "    * 배타적 논리합\n",
    "    * x_1  | x_2 |  y \n",
    "        *  0   |  0  |  0 \n",
    "        *  1   |  0  |  1 \n",
    "        *  0   |  1  |  1 \n",
    "        *  1   |  1  |  0 \n",
    "    * 퍼셉트론으로는 구현이 불가능\n",
    "        * 퍼셉트론은 직선을 표현, 한쪽은 0을 출력, 다른 한쪽은 1을 출력\n",
    "        \n",
    "* 선형과 비선형\n",
    "    * 선형 : 직선으로 영역을 나눔 \n",
    "    * 비선형 : 곡선으로 영역을 나눔\n",
    "    \n",
    "    \n",
    "#### 2.5 다층 퍼셉트론이 출동한다면\n",
    "* 단층 퍼셉트론으로는 비선형 영역을 분리할 수 없다\n",
    "* 기존 게이트 조합하기\n",
    "    * 퍼셉트론으로 층을 쌓아 다층 퍼셉트론을 구현\n",
    "* XOR 게이트 구현하기\n",
    "    * 2층 퍼셉트론 : OR NAND AND를 조합 \n",
    "        * 단층 퍼셉트론으로는 표현하지 못한 것을 층을 늘려서 구현 가능\n",
    "    \n",
    "#### 2.6 NAND에서 컴퓨터 까지 \n",
    "* NAND게이트의 조합만으로 컴퓨터가 수행하는 일을 재현 가능 \n",
    "    * The Elements of Computing Systems : Building a Modern Computer from First Principles\n",
    "    * 이론상 2층 퍼셉트론이면 컴퓨터를 만들수 있다\n",
    "        * 비선형인 시그모이드 함수를 활성화 함수로 이용하면 임의의 함수를 표현할 수 있다는 사실이 증명됨\n",
    "* 저수준 소자에서 시작하여 필요한 모듈을 단계적으로 여러층을 쌓아 만들어 가야함\n",
    "    * AND,OR게이트 -> 반가산기,전가산기 -> 산술 논리 연산 장치(ALU) -> CPU\n",
    "\n",
    "#### 추천 자료\n",
    "* 퍼셉트론은 입출력을 갖춘 알고리즘. 입력을 주면 정해진 규칙에 따른 값을 출력\n",
    "* 퍼셉트론에서는 '가중치'와 '편향'을 매개변수로 설정\n",
    "* 퍼셉트론으로 AND,OR 게이트 등의 논리 회로를 표현할 수 없다.\n",
    "* 2층 퍼셉트론을 이용하면 XOR 게이트를 표현할 수 있다.\n",
    "* 단층 퍼셉트론은 직선형 영역만 표현할 수 있고, 다층 퍼셉트론은 비선형 영역도 표현 가능\n",
    "* 다층 퍼셉트론은 이론상 컴퓨터를 표현 가능 \n",
    "\n"
   ]
  },
  {
   "cell_type": "markdown",
   "metadata": {},
   "source": [
    "## Code"
   ]
  },
  {
   "cell_type": "code",
   "execution_count": 1,
   "metadata": {},
   "outputs": [],
   "source": [
    "# AND\n",
    "def AND(x1, x2) :\n",
    "    w1, w2, theta = 0.5, 0.5, 0.7\n",
    "    tmp = x1*w1 + x2*w2\n",
    "    if tmp <= theta :\n",
    "        return 0\n",
    "    elif tmp > theta :\n",
    "        return 1 "
   ]
  },
  {
   "cell_type": "code",
   "execution_count": 2,
   "metadata": {},
   "outputs": [
    {
     "name": "stdout",
     "output_type": "stream",
     "text": [
      "0\n",
      "0\n",
      "0\n",
      "1\n"
     ]
    }
   ],
   "source": [
    "print(AND(0,0))\n",
    "print(AND(1,0))\n",
    "print(AND(0,1))\n",
    "print(AND(1,1))"
   ]
  },
  {
   "cell_type": "code",
   "execution_count": 3,
   "metadata": {},
   "outputs": [
    {
     "data": {
      "text/plain": [
       "array([0. , 0.5])"
      ]
     },
     "execution_count": 3,
     "metadata": {},
     "output_type": "execute_result"
    }
   ],
   "source": [
    "import numpy as np\n",
    "x = np.array([0, 1])\n",
    "w = np.array([0.5, 0.5])\n",
    "b = -0.7\n",
    "w*x"
   ]
  },
  {
   "cell_type": "code",
   "execution_count": 4,
   "metadata": {},
   "outputs": [
    {
     "data": {
      "text/plain": [
       "0.5"
      ]
     },
     "execution_count": 4,
     "metadata": {},
     "output_type": "execute_result"
    }
   ],
   "source": [
    "np.sum(w*x)"
   ]
  },
  {
   "cell_type": "code",
   "execution_count": 5,
   "metadata": {},
   "outputs": [
    {
     "data": {
      "text/plain": [
       "-0.19999999999999996"
      ]
     },
     "execution_count": 5,
     "metadata": {},
     "output_type": "execute_result"
    }
   ],
   "source": [
    "np.sum(w*x) + b"
   ]
  },
  {
   "cell_type": "code",
   "execution_count": 6,
   "metadata": {},
   "outputs": [],
   "source": [
    "def AND(x1, x2) :\n",
    "    x = np.array([x1, x2])\n",
    "    w = np.array([0.5, 0.5])\n",
    "    b = -0.7\n",
    "    tmp = np.sum(w*x) + b\n",
    "    if tmp <= 0 :\n",
    "        return 0\n",
    "    else :\n",
    "        return 1     "
   ]
  },
  {
   "cell_type": "code",
   "execution_count": 7,
   "metadata": {},
   "outputs": [
    {
     "name": "stdout",
     "output_type": "stream",
     "text": [
      "0\n",
      "0\n",
      "0\n",
      "1\n"
     ]
    }
   ],
   "source": [
    "print(AND(0,0))\n",
    "print(AND(1,0))\n",
    "print(AND(0,1))\n",
    "print(AND(1,1))"
   ]
  },
  {
   "cell_type": "code",
   "execution_count": 8,
   "metadata": {},
   "outputs": [],
   "source": [
    "def NAND(x1, x2) :\n",
    "    x = np.array([x1, x2])\n",
    "    w = np.array([-0.5, -0.5])\n",
    "    b = 0.7\n",
    "    tmp = np.sum(w*x) + b\n",
    "    if tmp <= 0 :\n",
    "        return 0\n",
    "    else :\n",
    "        return 1 \n",
    "\n",
    "def OR(x1, x2) :\n",
    "    x = np.array([x1, x2])\n",
    "    w = np.array([0.5, 0.5])\n",
    "    b = -0.2\n",
    "    tmp = np.sum(w*x) + b\n",
    "    if tmp <= 0 :\n",
    "        return 0 \n",
    "    else :\n",
    "        return 1 "
   ]
  },
  {
   "cell_type": "code",
   "execution_count": 9,
   "metadata": {},
   "outputs": [
    {
     "name": "stdout",
     "output_type": "stream",
     "text": [
      "1\n",
      "1\n",
      "1\n",
      "0\n",
      "0\n",
      "1\n",
      "1\n",
      "1\n"
     ]
    }
   ],
   "source": [
    "print(NAND(0,0))\n",
    "print(NAND(1,0))\n",
    "print(NAND(0,1))\n",
    "print(NAND(1,1))\n",
    "\n",
    "print(OR(0,0))\n",
    "print(OR(1,0))\n",
    "print(OR(0,1))\n",
    "print(OR(1,1))"
   ]
  },
  {
   "cell_type": "code",
   "execution_count": 10,
   "metadata": {},
   "outputs": [],
   "source": [
    "def XOR(x1,x2) :\n",
    "    s1 = NAND(x1,x2)\n",
    "    s2 = OR(x1,x2)\n",
    "    y = AND(s1,s2)\n",
    "    return y"
   ]
  },
  {
   "cell_type": "code",
   "execution_count": 11,
   "metadata": {},
   "outputs": [
    {
     "name": "stdout",
     "output_type": "stream",
     "text": [
      "0\n",
      "1\n",
      "1\n",
      "0\n"
     ]
    }
   ],
   "source": [
    "print(XOR(0,0))\n",
    "print(XOR(1,0))\n",
    "print(XOR(0,1))\n",
    "print(XOR(1,1))"
   ]
  },
  {
   "cell_type": "code",
   "execution_count": null,
   "metadata": {},
   "outputs": [],
   "source": []
  }
 ],
 "metadata": {
  "kernelspec": {
   "display_name": "Python 3",
   "language": "python",
   "name": "python3"
  },
  "language_info": {
   "codemirror_mode": {
    "name": "ipython",
    "version": 3
   },
   "file_extension": ".py",
   "mimetype": "text/x-python",
   "name": "python",
   "nbconvert_exporter": "python",
   "pygments_lexer": "ipython3",
   "version": "3.8.3"
  }
 },
 "nbformat": 4,
 "nbformat_minor": 4
}
