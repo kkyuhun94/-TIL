{
 "cells": [
  {
   "cell_type": "markdown",
   "metadata": {},
   "source": [
    "> ### Introduction to Linear Algebra\n",
    "> ### 📌선형대수학개론\n",
    "> 강좌를 들은 후 복습, 요약하면서 TIL에 기록\n",
    "    \n",
    "* [1. Linear Equations in Linear Algebra](https://github.com/kkyuhun94/TIL/blob/master/LinearAlgebra/1.LinearEquations_in_LinearAlgebra.md)\n",
    "* [2. Matrix Algebra]()\n",
    "* [3. Determinants]()\n",
    "* [4. Eigenvalues and Eigenvector]()\n",
    "* [5. Orthogonality and Least Squares]()\n",
    "* [6. Symmetric Matrices and Quadratic Forms]()\n",
    "* [7. Extra Algorithms]()"
   ]
  },
  {
   "cell_type": "markdown",
   "metadata": {},
   "source": [
    "---------------------------------------\n",
    " \n",
    "### 4.Eigenvalues and Eigenvector"
   ]
  },
  {
   "cell_type": "markdown",
   "metadata": {},
   "source": [
    ">4.1 Eigenvectors and Eigenvalues\n",
    "\n",
    "* Eigenvector\n",
    "* Eigenvalue\n",
    "* Eigenspace\n",
    "\n",
    ">4.2 The Characteristic Equation\n",
    "\n",
    "* Characteristic equation\n",
    "* Characteristic polynomial\n",
    "* Similarity\n",
    "\n",
    ">4.3 Diagonalization\n",
    "\n",
    "* Diagonalization\n",
    "\n",
    ">4.4 Eigenvalues and Linear Transformation\n",
    "\n",
    "* Linear transformation\n",
    "\n",
    ">4.5 Complex Eigenvalues\n",
    "\n",
    "* Complex eigenvalues and eigenvector\n",
    "\n",
    "* Geometric interpretation"
   ]
  }
 ],
 "metadata": {
  "kernelspec": {
   "display_name": "Python 3",
   "language": "python",
   "name": "python3"
  },
  "language_info": {
   "codemirror_mode": {
    "name": "ipython",
    "version": 3
   },
   "file_extension": ".py",
   "mimetype": "text/x-python",
   "name": "python",
   "nbconvert_exporter": "python",
   "pygments_lexer": "ipython3",
   "version": "3.8.3"
  }
 },
 "nbformat": 4,
 "nbformat_minor": 4
}
