{
 "cells": [
  {
   "cell_type": "markdown",
   "metadata": {},
   "source": [
    "> ### Introduction to Linear Algebra\n",
    "> ### 📌선형대수학개론\n",
    "> 강좌를 들은 후 복습, 요약하면서 TIL에 기록\n",
    "    \n",
    "* [1. Linear Equations in Linear Algebra](https://github.com/kkyuhun94/TIL/blob/master/LinearAlgebra/1.LinearEquations_in_LinearAlgebra.md)\n",
    "* [2. Matrix Algebra]()\n",
    "* [3. Determinants]()\n",
    "* [4. Eigenvalues and Eigenvector]()\n",
    "* [5. Orthogonality and Least Squares]()\n",
    "* [6. Symmetric Matrices and Quadratic Forms]()\n",
    "* [7. Extra Algorithms]()"
   ]
  },
  {
   "cell_type": "markdown",
   "metadata": {},
   "source": [
    "---------------------------------------\n",
    " \n",
    "### 6.Symmetric Matrices and Quardratic Form"
   ]
  },
  {
   "cell_type": "markdown",
   "metadata": {},
   "source": [
    ">6.1 Diagonalization of Symmetric Matrices\n",
    "* A symmetric matrix\n",
    "\n",
    "* Orthogonally diagonalizable\n",
    "\n",
    "* Spectral decomposition\n",
    "\n",
    ">6.2 Quardratic Forms\n",
    "* Quadratic Form\n",
    "\n",
    "* Change of variable\n",
    "\n",
    "* Principal axes\n",
    "\n",
    "* Classifying quadratic forms\n",
    "\n",
    ">6.3 Constrained Optimization\n",
    "* Constrained optimization\n",
    "\n",
    ">6.4 The Singular Value Decomposition\n",
    "* SVD \n",
    "\n",
    "* Reduced SVD\n",
    "\n",
    "* Pseudoinverse"
   ]
  }
 ],
 "metadata": {
  "kernelspec": {
   "display_name": "Python 3",
   "language": "python",
   "name": "python3"
  },
  "language_info": {
   "codemirror_mode": {
    "name": "ipython",
    "version": 3
   },
   "file_extension": ".py",
   "mimetype": "text/x-python",
   "name": "python",
   "nbconvert_exporter": "python",
   "pygments_lexer": "ipython3",
   "version": "3.8.3"
  }
 },
 "nbformat": 4,
 "nbformat_minor": 4
}
